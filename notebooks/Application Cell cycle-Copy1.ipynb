{
 "cells": [
  {
   "cell_type": "code",
   "execution_count": 1,
   "metadata": {},
   "outputs": [],
   "source": [
    "import numpy as np\n",
    "import PyDSTool as dst\n",
    "from PyDSTool.Toolbox import phaseplane as pp"
   ]
  },
  {
   "cell_type": "code",
   "execution_count": 2,
   "metadata": {},
   "outputs": [],
   "source": [
    "import matplotlib as mpl\n",
    "from matplotlib import pyplot as plt\n",
    "from IPython.display import display, Math"
   ]
  },
  {
   "cell_type": "code",
   "execution_count": 3,
   "metadata": {},
   "outputs": [],
   "source": [
    "mpl.rcParams['figure.figsize'] = [6, 4]\n",
    "mpl.rcParams['font.size'] = 16\n",
    "mpl.rcParams['lines.linewidth'] = 3\n",
    "mpl.rcParams['lines.markersize'] = 8"
   ]
  },
  {
   "cell_type": "code",
   "execution_count": 4,
   "metadata": {},
   "outputs": [],
   "source": [
    "figdir = './figures/'\n",
    "plt.rc('text', usetex=True)"
   ]
  },
  {
   "cell_type": "markdown",
   "metadata": {},
   "source": [
    "# Carryover of a saddle-node bifurcation\n",
    "# Application: cell cycle"
   ]
  },
  {
   "cell_type": "markdown",
   "metadata": {},
   "source": [
    "## 1. Original system: bifurcation diagrams"
   ]
  },
  {
   "cell_type": "markdown",
   "metadata": {},
   "source": [
    "The cell cycle model is\n",
    "$$\n",
    "\\begin{aligned}\n",
    "    \\frac{dY}{dt} &= k_{1} - (k_{2p} + k_{2pp}P)Y, \\\\\n",
    "    \\frac{dP}{dt} &= \\frac{(k_{3p}+k_{3pp}A)(1-P)}{J_{3}+(1-P)} - k_{4}m\\frac{YP}{J_{4}+P}, \\\\\n",
    "    \\frac{dA}{dt} &= k_{5p} + k_{5pp}\\frac{(mY/J_{5})^{n}}{1+(mY/J_{5})^{n}} - k_{6}A,\n",
    "\\end{aligned}\n",
    "$$\n",
    "where $k_1, k_{2p}, k_{pp},k_{3p}, k_{3pp}, k_{4}, k_{5p}, k_{5pp}, k_{6}, J_{3}, J_{4}0$ are non-negative rate (add references here in markdown syntax: Segel2013, TysonNovak2011).\n"
   ]
  },
  {
   "cell_type": "markdown",
   "metadata": {},
   "source": [
    "We can construct the bifurcation diagram using continuation and the `PyDSTool` library of python."
   ]
  },
  {
   "cell_type": "code",
   "execution_count": 5,
   "metadata": {},
   "outputs": [],
   "source": [
    "# dynamical system\n",
    "Ystr = 'k1 - (k2p + k2pp*P)*Y'\n",
    "Pstr = '(k3p + k3pp*A)*(1 - P)/(J3 + 1 - P) - k4*m*Y*P/(J4 + P)'\n",
    "Astr = 'k5p + k5pp*(m*Y/J5)**n/(1 + (m*Y/J5)**n) - k6*A'\n",
    "params = {'k1': 0.04,\n",
    "          'k2p':  0.04,\n",
    "          'k2pp':  1.0,\n",
    "          'k3p':  1.0,\n",
    "          'k3pp':  10.0,\n",
    "          'k4':  35.0,\n",
    "          'k5p':  0.005,\n",
    "          'k5pp':  0.2,\n",
    "          'k6':  0.1,\n",
    "          'J3':  0.04,\n",
    "          'J4':  0.04,\n",
    "          'J5':  0.3,\n",
    "          'm': 1.0,\n",
    "          'n': 4}\n",
    "ics = {'A':  0.5589948209351,\n",
    "       'P':  0.9899006517009776,\n",
    "       'Y':  0.03951157409159911}\n",
    "DSargs = dst.args(name='CellCycle')\n",
    "DSargs.pars = params\n",
    "DSargs.tdata = [0, 100]\n",
    "DSargs.pdomain = {'m': [0, 4.0], \n",
    "                  'k1': [0, 1.0], \n",
    "                  'k2p': [0, 10.0], \n",
    "                  'k3p': [0, 10.0], \n",
    "                  'k4': [0, 200.0], \n",
    "                  'k5p': [0, 1.0], \n",
    "                  'k5pp': [0, 10.0],\n",
    "                  'k6': [0, 10.0]}\n",
    "DSargs.xdomain = {'Y': [0, 5.0], 'P': [0, 10.0], 'A': [0, 10.0]}\n",
    "DSargs.varspecs = {'Y': Ystr, 'P': Pstr, 'A': Astr}\n",
    "DSargs.ics = ics\n",
    "DS = dst.Generator.Vode_ODEsystem(DSargs)"
   ]
  },
  {
   "cell_type": "code",
   "execution_count": 6,
   "metadata": {},
   "outputs": [
    {
     "data": {
      "image/png": "[encoded data removed]",
      "text/plain": [
       "<Figure size 432x288 with 1 Axes>"
      ]
     },
     "metadata": {
      "needs_background": "light"
     },
     "output_type": "display_data"
    }
   ],
   "source": [
    "traj = DS.compute('cycle')\n",
    "cycle = traj.sample(dt=0.0001, tlo=0, thi=56.45, precise=True)\n",
    "cycle.indepvararray = cycle.indepvararray.flatten()\n",
    "plt.plot(cycle['A'], cycle['Y'])\n",
    "plt.xlabel('$A$')\n",
    "plt.ylabel('$Y$')\n",
    "plt.show()"
   ]
  },
  {
   "cell_type": "code",
   "execution_count": 7,
   "metadata": {},
   "outputs": [
    {
     "name": "stdout",
     "output_type": "stream",
     "text": [
      "running build\n",
      "running config_cc\n",
      "unifing config_cc, config, build_clib, build_ext, build commands --compiler options\n",
      "running config_fc\n",
      "unifing config_fc, config, build_clib, build_ext, build commands --fcompiler options\n",
      "running build_src\n",
      "build_src\n",
      "building extension \"_auto_CellCycle_vf\" sources\n",
      "swig: /home/shigoto/Documents/Work/Projects/2020-05 Saddle-node Bifurcation Carryover/codes/notebooks/auto_temp/auto_CellCycle_vf.i\n",
      "swig -python -I/home/shigoto/.local/lib/python3.8/site-packages/numpy/core/include -I/home/shigoto/Documents/Work/Projects/2020-05 Saddle-node Bifurcation Carryover/codes/notebooks -I/home/shigoto/.local/lib/python3.8/site-packages/PyDSTool/PyCont/auto/module/include -I/home/shigoto/Documents/Work/Projects/2020-05 Saddle-node Bifurcation Carryover/codes/notebooks/auto_temp -I/home/shigoto/.local/lib/python3.8/site-packages/PyDSTool/PyCont/auto/src/include -o auto_temp/src.linux-x86_64-3.8/auto_temp/auto_CellCycle_vf_wrap.c -outdir auto_temp/src.linux-x86_64-3.8/auto_temp /home/shigoto/Documents/Work/Projects/2020-05 Saddle-node Bifurcation Carryover/codes/notebooks/auto_temp/auto_CellCycle_vf.i\n",
      "build_src: building npy-pkg config files\n",
      "running build_ext\n",
      "new_compiler returns <class 'distutils.unixccompiler.UnixCCompiler'>\n",
      "customize UnixCCompiler\n",
      "customize UnixCCompiler using build_ext\n",
      "********************************************************************************\n",
      "<class 'distutils.unixccompiler.UnixCCompiler'>\n",
      "preprocessor  = ['x86_64-linux-gnu-gcc', '-pthread', '-E', '-Wdate-time', '-D_FORTIFY_SOURCE=2']\n",
      "compiler      = ['x86_64-linux-gnu-gcc', '-pthread', '-Wno-unused-result', '-Wsign-compare', '-DNDEBUG', '-g', '-fwrapv', '-O2', '-Wall', '-g', '-fstack-protector-strong', '-Wformat', '-Werror=format-security', '-g', '-fwrapv', '-O2', '-g', '-fstack-protector-strong', '-Wformat', '-Werror=format-security', '-Wdate-time', '-D_FORTIFY_SOURCE=2']\n",
      "compiler_so   = ['x86_64-linux-gnu-gcc', '-pthread', '-Wno-unused-result', '-Wsign-compare', '-DNDEBUG', '-g', '-fwrapv', '-O2', '-Wall', '-g', '-fstack-protector-strong', '-Wformat', '-Werror=format-security', '-g', '-fwrapv', '-O2', '-g', '-fstack-protector-strong', '-Wformat', '-Werror=format-security', '-Wdate-time', '-D_FORTIFY_SOURCE=2', '-fPIC']\n",
      "compiler_cxx  = ['x86_64-linux-gnu-g++', '-pthread']\n",
      "linker_so     = ['x86_64-linux-gnu-gcc', '-pthread', '-shared', '-Wl,-O1', '-Wl,-Bsymbolic-functions', '-Wl,-Bsymbolic-functions', '-Wl,-z,relro', '-g', '-fwrapv', '-O2', '-Wl,-Bsymbolic-functions', '-Wl,-z,relro', '-g', '-fwrapv', '-O2', '-g', '-fstack-protector-strong', '-Wformat', '-Werror=format-security', '-Wdate-time', '-D_FORTIFY_SOURCE=2']\n",
      "linker_exe    = ['x86_64-linux-gnu-gcc', '-pthread']\n",
      "archiver      = ['x86_64-linux-gnu-gcc-ar', 'rcs']\n",
      "ranlib        = None\n",
      "libraries     = []\n",
      "library_dirs  = []\n",
      "include_dirs  = ['/usr/include/python3.8']\n",
      "********************************************************************************\n",
      "building '_auto_CellCycle_vf' extension\n",
      "compiling C sources\n",
      "C compiler: x86_64-linux-gnu-gcc -pthread -Wno-unused-result -Wsign-compare -DNDEBUG -g -fwrapv -O2 -Wall -g -fstack-protector-strong -Wformat -Werror=format-security -g -fwrapv -O2 -g -fstack-protector-strong -Wformat -Werror=format-security -Wdate-time -D_FORTIFY_SOURCE=2 -fPIC\n",
      "\n",
      "compile options: '-I/home/shigoto/.local/lib/python3.8/site-packages/numpy/core/include -I/home/shigoto/Documents/Work/Projects/2020-05 Saddle-node Bifurcation Carryover/codes/notebooks -I/home/shigoto/.local/lib/python3.8/site-packages/PyDSTool/PyCont/auto/module/include -I/home/shigoto/Documents/Work/Projects/2020-05 Saddle-node Bifurcation Carryover/codes/notebooks/auto_temp -I/home/shigoto/.local/lib/python3.8/site-packages/PyDSTool/PyCont/auto/src/include -I/home/shigoto/.local/lib/python3.8/site-packages/numpy/core/include -I/usr/include/python3.8 -c'\n",
      "extra options: '-w -D__PYTHON__ -std=c99'\n",
      "x86_64-linux-gnu-gcc: auto_temp/src.linux-x86_64-3.8/auto_temp/auto_CellCycle_vf_wrap.c\n",
      "x86_64-linux-gnu-gcc: /home/shigoto/Documents/Work/Projects/2020-05 Saddle-node Bifurcation Carryover/codes/notebooks/auto_temp/CellCycle_vf.c\n",
      "x86_64-linux-gnu-gcc -pthread -shared -Wl,-O1 -Wl,-Bsymbolic-functions -Wl,-Bsymbolic-functions -Wl,-z,relro -g -fwrapv -O2 -Wl,-Bsymbolic-functions -Wl,-z,relro -g -fwrapv -O2 -g -fstack-protector-strong -Wformat -Werror=format-security -Wdate-time -D_FORTIFY_SOURCE=2 auto_temp/auto_temp/src.linux-x86_64-3.8/auto_temp/auto_CellCycle_vf_wrap.o auto_temp/home/shigoto/.local/lib/python3.8/site-packages/PyDSTool/PyCont/auto/src/auto.o auto_temp/home/shigoto/.local/lib/python3.8/site-packages/PyDSTool/PyCont/auto/src/autlib1.o auto_temp/home/shigoto/.local/lib/python3.8/site-packages/PyDSTool/PyCont/auto/src/autlib2.o auto_temp/home/shigoto/.local/lib/python3.8/site-packages/PyDSTool/PyCont/auto/src/autlib3.o auto_temp/home/shigoto/.local/lib/python3.8/site-packages/PyDSTool/PyCont/auto/src/autlib4.o auto_temp/home/shigoto/.local/lib/python3.8/site-packages/PyDSTool/PyCont/auto/src/autlib5.o auto_temp/home/shigoto/.local/lib/python3.8/site-packages/PyDSTool/PyCont/auto/src/eispack.o auto_temp/home/shigoto/.local/lib/python3.8/site-packages/PyDSTool/PyCont/auto/src/conpar.o auto_temp/home/shigoto/.local/lib/python3.8/site-packages/PyDSTool/PyCont/auto/src/setubv.o auto_temp/home/shigoto/.local/lib/python3.8/site-packages/PyDSTool/PyCont/auto/src/reduce.o auto_temp/home/shigoto/.local/lib/python3.8/site-packages/PyDSTool/PyCont/auto/src/dmatrix.o auto_temp/home/shigoto/.local/lib/python3.8/site-packages/PyDSTool/PyCont/auto/src/fcon.o auto_temp/home/shigoto/.local/lib/python3.8/site-packages/PyDSTool/PyCont/auto/src/libf2c/cabs.o auto_temp/home/shigoto/.local/lib/python3.8/site-packages/PyDSTool/PyCont/auto/src/libf2c/d_lg10.o auto_temp/home/shigoto/.local/lib/python3.8/site-packages/PyDSTool/PyCont/auto/src/libf2c/i_nint.o auto_temp/home/shigoto/.local/lib/python3.8/site-packages/PyDSTool/PyCont/auto/src/libf2c/pow_di.o auto_temp/home/shigoto/.local/lib/python3.8/site-packages/PyDSTool/PyCont/auto/src/libf2c/r_lg10.o auto_temp/home/shigoto/.local/lib/python3.8/site-packages/PyDSTool/PyCont/auto/src/libf2c/z_exp.o auto_temp/home/shigoto/.local/lib/python3.8/site-packages/PyDSTool/PyCont/auto/src/libf2c/d_imag.o auto_temp/home/shigoto/.local/lib/python3.8/site-packages/PyDSTool/PyCont/auto/src/libf2c/d_sign.o auto_temp/home/shigoto/.local/lib/python3.8/site-packages/PyDSTool/PyCont/auto/src/libf2c/i_dnnt.o auto_temp/home/shigoto/.local/lib/python3.8/site-packages/PyDSTool/PyCont/auto/src/libf2c/pow_dd.o auto_temp/home/shigoto/.local/lib/python3.8/site-packages/PyDSTool/PyCont/auto/src/libf2c/pow_ii.o auto_temp/home/shigoto/.local/lib/python3.8/site-packages/PyDSTool/PyCont/auto/src/libf2c/z_abs.o auto_temp/home/shigoto/.local/lib/python3.8/site-packages/PyDSTool/PyCont/auto/src/libf2c/z_log.o auto_temp/home/shigoto/.local/lib/python3.8/site-packages/PyDSTool/PyCont/auto/module/automod.o auto_temp/home/shigoto/.local/lib/python3.8/site-packages/PyDSTool/PyCont/auto/module/interface.o auto_temp/home/shigoto/Documents/Work/Projects/2020-05 Saddle-node Bifurcation Carryover/codes/notebooks/auto_temp/CellCycle_vf.o -L./ -o ./_auto_CellCycle_vf.cpython-38-x86_64-linux-gnu.so -w\n"
     ]
    }
   ],
   "source": [
    "PC = dst.ContClass(DS)\n",
    "name3 = 'LC2'\n",
    "PCargs = dst.args(name=name3)\n",
    "PCargs.type = 'LC-C'\n",
    "PCargs.initcycle = cycle\n",
    "PCargs.freepars = ['m']\n",
    "PCargs.StepSize = 1e-2\n",
    "PCargs.MaxNumPoints = 5000\n",
    "PCargs.MaxStepSize = 5e-2\n",
    "PCargs.MinStepSize = 1e-6\n",
    "PCargs.MaxTestIters = 200\n",
    "PCargs.SolutionMeasures = 'min'\n",
    "PCargs.NumSPOut = 10\n",
    "PCargs.SaveEigen = True\n",
    "PCargs.verbosity = 2\n",
    "\n",
    "PC.newCurve(PCargs)\n",
    "PC.curves[name3].backward()\n",
    "PC.curves[name3].forward()"
   ]
  },
  {
   "cell_type": "code",
   "execution_count": 8,
   "metadata": {},
   "outputs": [
    {
     "data": {
      "text/plain": [
       "({'A': 0.5420835741849908, 'P': 0.1364100558653051, 'Y': 0.22674444381187284},)"
      ]
     },
     "execution_count": 8,
     "metadata": {},
     "output_type": "execute_result"
    }
   ],
   "source": [
    "fps = pp.find_fixedpoints(DS, n=4, eps=1e-8)\n",
    "fps"
   ]
  },
  {
   "cell_type": "code",
   "execution_count": 9,
   "metadata": {
    "scrolled": false
   },
   "outputs": [
    {
     "name": "stdout",
     "output_type": "stream",
     "text": [
      "Checking...\n",
      "  |q| = 1.000000\n",
      "  |<p,q> - 1| =  6.281596336837891e-18\n",
      "  |Aq - iwq| = 0.000000\n",
      "  |A*p + iwp| = 0.000000\n",
      "\n",
      "H Point found \n",
      "========================== \n",
      "0 : \n",
      "A  =  0.3736425904190226\n",
      "P  =  0.07504313751886524\n",
      "Y  =  0.3476956632327647\n",
      "m  =  0.5719350910171611\n",
      "\n",
      "Eigenvalues = \n",
      "\n",
      "     (-21.454000,0.000000)\n",
      "     (-0.000000,0.196742)\n",
      "     (-0.000000,-0.196742)\n",
      "\n",
      "\n",
      "w = 0.19674244192844673\n",
      "l1 = -19.039875789281282\n",
      "\n",
      "\n",
      "Checking...\n",
      "  |q| = 1.000000\n",
      "  <p,q> = 1.000000\n",
      "  |Aq| = 0.000000\n",
      "  |transpose(A)p| = 0.000000\n",
      "\n",
      "LP Point found \n",
      "========================== \n",
      "0 : \n",
      "A  =  0.05877906321265507\n",
      "P  =  0.05155301918877256\n",
      "Y  =  0.4369053074866299\n",
      "m  =  0.1769359636582976\n",
      "\n",
      "Eigenvalues = \n",
      "\n",
      "     (-13.094156,0.000000)\n",
      "     (-0.074183,0.000000)\n",
      "     (0.000000,0.000000)\n",
      "\n",
      "\n",
      "a = 0.38496960526134666\n",
      "\n",
      "Neutral saddle found!\n",
      "\n",
      "Neutral saddle found!\n",
      "\n",
      "\n",
      "Checking...\n",
      "  |q| = 1.000000\n",
      "  <p,q> = 1.000000\n",
      "  |Aq| = 0.000000\n",
      "  |transpose(A)p| = 0.000001\n",
      "\n",
      "LP Point found \n",
      "========================== \n",
      "0 : \n",
      "A  =  0.05044322270606352\n",
      "P  =  0.8268816067922453\n",
      "Y  =  0.046142402476404484\n",
      "m  =  0.7933103435606996\n",
      "\n",
      "Eigenvalues = \n",
      "\n",
      "     (-2.266645,0.000000)\n",
      "     (-0.093355,0.000000)\n",
      "     (-0.000000,0.000000)\n",
      "\n",
      "\n",
      "a = 3.1172391012705343\n",
      "\n",
      "B Point found \n",
      "========================== \n",
      "0 : \n",
      "A  =  0.049999999999999996\n",
      "P  =  0.999999999840604\n",
      "Y  =  0.03846153846743328\n",
      "m  =  4.617931200326161e-09\n",
      "\n",
      "B Point found \n",
      "========================== \n",
      "0 : \n",
      "A  =  0.8723680535447277\n",
      "P  =  0.5434243695218901\n",
      "Y  =  0.06856072884439085\n",
      "m  =  4.000000006701334\n",
      "\n"
     ]
    }
   ],
   "source": [
    "name1 = 'EQ1'\n",
    "PCargs = dst.args(name=name1)\n",
    "PCargs.type = 'EP-C'\n",
    "PCargs.initpoint = fps[0]\n",
    "PCargs.freepars = ['m']\n",
    "PCargs.StepSize = 1e-3\n",
    "PCargs.MaxNumPoints = 5000\n",
    "PCargs.MaxStepSize = 5e-3\n",
    "PCargs.MinStepSize = 1e-6\n",
    "PCargs.MaxTestIters = 20\n",
    "PCargs.LocBifPoints = 'all'\n",
    "PCargs.SaveEigen = True\n",
    "PCargs.StopAtPoints = ['B']\n",
    "PCargs.verbosity = 2\n",
    "\n",
    "PC.newCurve(PCargs)\n",
    "PC.curves[name1].backward()\n",
    "PC.curves[name1].forward()"
   ]
  },
  {
   "cell_type": "markdown",
   "metadata": {},
   "source": [
    "Indeed there is a bifurcation point (`LP1`) at which a critical transition drives gen activation."
   ]
  },
  {
   "cell_type": "code",
   "execution_count": 10,
   "metadata": {},
   "outputs": [],
   "source": [
    "name2 = 'LC1'\n",
    "PCargs = dst.args(name=name2)\n",
    "PCargs.type = 'LC-C'\n",
    "PCargs.initpoint = 'EQ1:H1'\n",
    "PCargs.freepars = ['m']\n",
    "PCargs.StepSize = 1e-1\n",
    "PCargs.NumSPOut = 30\n",
    "PCargs.MaxNumPoints = 5000\n",
    "PCargs.MaxStepSize = 5e-1\n",
    "PCargs.MinStepSize = 1e-6\n",
    "PCargs.MaxTestIters = 200\n",
    "PCargs.SolutionMeasures = 'all'\n",
    "PCargs.SaveEigen = True\n",
    "PCargs.StopAtPoints = ['B']\n",
    "PCargs.verbosity = 2\n",
    "\n",
    "PC.newCurve(PCargs)\n",
    "PC.curves[name2].backward()\n",
    "PC.curves[name2].forward()"
   ]
  },
  {
   "cell_type": "code",
   "execution_count": 12,
   "metadata": {},
   "outputs": [
    {
     "data": {
      "image/png": "[encoded data removed]",
      "text/plain": [
       "<Figure size 432x288 with 1 Axes>"
      ]
     },
     "metadata": {
      "needs_background": "light"
     },
     "output_type": "display_data"
    }
   ],
   "source": [
    "PC[name1].display(('m', 'Y'), stability=True, linewidth=3)\n",
    "PC[name2].display(('m', 'Y_min'), stability=True, linewidth=3)\n",
    "PC[name2].display(('m', 'Y_max'), stability=True, linewidth=3)\n",
    "PC[name3].display(('m', 'Y_min'), stability=True, linewidth=3)\n",
    "PC[name3].display(('m', 'Y_max'), stability=True, linewidth=3)\n",
    "PC.plot.fig1.toggleAll('off', bytype=['P','B','MX','RG'])\n",
    "PC.plot.fig1.axes1.axes.set_xlabel('$m$', fontsize=16)\n",
    "PC.plot.fig1.axes1.axes.set_xlim((0.0, 2.0))\n",
    "PC.plot.fig1.axes1.axes.set_ylabel('$Y$', fontsize=16)\n",
    "PC.plot.fig1.axes1.axes.set_ylim((0.0, 0.6))\n",
    "PC.plot.fig1.axes1.axes.set_title('')\n",
    "plt.savefig(figdir + 'ApplicationCellCycleOriginalBifurcation.pdf', bbox_inches='tight')\n",
    "plt.show()"
   ]
  },
  {
   "cell_type": "code",
   "execution_count": null,
   "metadata": {},
   "outputs": [],
   "source": []
  },
  {
   "cell_type": "code",
   "execution_count": 13,
   "metadata": {
    "scrolled": false
   },
   "outputs": [
    {
     "name": "stdout",
     "output_type": "stream",
     "text": [
      "\n",
      "Checking...\n",
      "  <b,c> = 0.000000\n",
      "\n",
      "\n",
      "BT Point found \n",
      "========================== \n",
      "0 : \n",
      "A  =  0.2325538067983005\n",
      "P  =  0.8146179273051095\n",
      "Y  =  0.04680454121309286\n",
      "m  =  1.7517506493854882\n",
      "k5p  =  0.02214577185530257\n",
      "\n",
      "Eigenvalues = \n",
      "\n",
      "     (-3.730463,0.000000)\n",
      "     (-0.000002,0.000000)\n",
      "     (0.000002,0.000000)\n",
      "\n",
      "\n",
      "\n",
      "Checking...\n",
      "  |a| = 0.967630\n",
      "\n",
      "\n",
      "CP Point found \n",
      "========================== \n",
      "0 : \n",
      "A  =  0.4181984064856582\n",
      "P  =  0.714837501914246\n",
      "Y  =  0.05299153777940439\n",
      "m  =  2.5873763585296468\n",
      "k5p  =  0.03345874534059574\n",
      "\n",
      "Eigenvalues = \n",
      "\n",
      "     (-3.809747,0.000000)\n",
      "     (0.000000,0.000000)\n",
      "     (0.657573,0.000000)\n",
      "\n",
      "\n",
      "\n",
      "Checking...\n",
      "  <b,c> = -0.000000\n",
      "\n",
      "\n",
      "BT Point found \n",
      "========================== \n",
      "0 : \n",
      "A  =  0.15113583140066184\n",
      "P  =  0.07567555881691088\n",
      "Y  =  0.3457947418547703\n",
      "m  =  0.3040251307108616\n",
      "k5p  =  0.012142219473309696\n",
      "\n",
      "Eigenvalues = \n",
      "\n",
      "     (-11.323194,0.000000)\n",
      "     (-0.000000,0.000000)\n",
      "     (0.000000,0.000000)\n",
      "\n",
      "\n",
      "B Point found \n",
      "========================== \n",
      "0 : \n",
      "A  =  -2.5413032603827313e-08\n",
      "P  =  0.04344890734519148\n",
      "Y  =  0.47933521567319715\n",
      "m  =  0.10988613700162965\n",
      "k5p  =  -0.00018987477113614282\n",
      "\n",
      "B Point found \n",
      "========================== \n",
      "0 : \n",
      "A  =  -4.577061290932576e-10\n",
      "P  =  0.8276437655984281\n",
      "Y  =  0.046101869898657485\n",
      "m  =  0.5273189722247534\n",
      "k5p  =  -8.623752943968796e-06\n",
      "\n"
     ]
    }
   ],
   "source": [
    "# Two-parameter bifurcation\n",
    "namefold = 'FO1'\n",
    "PCargs = dst.args(name=namefold)\n",
    "PCargs.type = 'LP-C'\n",
    "PCargs.initpoint = 'EQ1:LP1'\n",
    "PCargs.freepars = ['m', 'k5p']\n",
    "PCargs.StepSize = 1e-2\n",
    "PCargs.MaxNumPoints = 2000\n",
    "PCargs.MaxStepSize = 5e-2\n",
    "PCargs.MinStepSize = 1e-4\n",
    "PCargs.SaveEigen = True\n",
    "PCargs.SaveJacobian = True\n",
    "PCargs.LocBifPoints = 'all'\n",
    "PCargs.StopAtPoints = ['B']\n",
    "PCargs.verbosity = 2\n",
    "PC.newCurve(PCargs)\n",
    "PC.curves[namefold].forward()\n",
    "PC.curves[namefold].backward()"
   ]
  },
  {
   "cell_type": "code",
   "execution_count": 16,
   "metadata": {},
   "outputs": [
    {
     "name": "stdout",
     "output_type": "stream",
     "text": [
      "Warning: Variable dimension must be larger than 3 to detect Double Hopf points.\n",
      "B Point found \n",
      "========================== \n",
      "0 : \n",
      "A  =  0.40848774650586706\n",
      "P  =  0.07499996346529587\n",
      "Y  =  0.34782619745849747\n",
      "m  =  0.6139050828465947\n",
      "k5p  =  -5.084126731069489e-10\n",
      "\n",
      "Checking...\n",
      "  |q| = 1.000000\n",
      "  |<p,q> - 1| =  2.5204620255275203e-16\n",
      "  |Aq - iwq| = 0.000000\n",
      "  |A*p + iwp| = 0.000000\n",
      "\n",
      "GH Point found \n",
      "========================== \n",
      "0 : \n",
      "A  =  0.19170834705166698\n",
      "P  =  0.07552374926381952\n",
      "Y  =  0.3462491501089764\n",
      "m  =  0.35292632209352337\n",
      "k5p  =  0.013812355666645036\n",
      "\n",
      "Eigenvalues = \n",
      "\n",
      "     (-13.160082,0.000000)\n",
      "     (-0.000000,0.072867)\n",
      "     (-0.000000,-0.072867)\n",
      "\n",
      "\n",
      "w = 0.07286736431797072\n",
      "l1 = -1.3962439965986562e-05\n",
      "\n",
      "\n",
      "Checking...\n",
      "  <b,c> = 203.760023\n",
      "\n",
      "\n",
      "BT Point found \n",
      "========================== \n",
      "0 : \n",
      "A  =  0.15113584007791087\n",
      "P  =  0.07567556134532777\n",
      "Y  =  0.34579473429644725\n",
      "m  =  0.3040251443138396\n",
      "k5p  =  0.012142220073075739\n",
      "\n",
      "Eigenvalues = \n",
      "\n",
      "     (-11.323193,0.000000)\n",
      "     (0.000000,0.000013)\n",
      "     (0.000000,-0.000013)\n",
      "\n",
      "\n",
      "B Point found \n",
      "========================== \n",
      "0 : \n",
      "A  =  -3.4769136152025445e-09\n",
      "P  =  0.0767049345741394\n",
      "Y  =  0.3427447189440744\n",
      "m  =  0.12156491849520848\n",
      "k5p  =  -7.438777807574354e-05\n",
      "\n"
     ]
    }
   ],
   "source": [
    "# Two-parameter bifurcation\n",
    "namefold2 = 'FO3'\n",
    "PCargs = dst.args(name=namefold2)\n",
    "PCargs.type = 'H-C1'\n",
    "PCargs.initpoint = 'EQ1:H1'\n",
    "PCargs.freepars = ['m', 'k5p']\n",
    "PCargs.StepSize = 1e-2\n",
    "PCargs.MaxNumPoints = 2000\n",
    "PCargs.MaxStepSize = 5e-2\n",
    "PCargs.MinStepSize = 1e-4\n",
    "PCargs.SaveEigen = True\n",
    "PCargs.SaveJacobian = True\n",
    "PCargs.LocBifPoints = 'all'\n",
    "PCargs.StopAtPoints = ['B']\n",
    "PCargs.verbosity = 2\n",
    "PC.newCurve(PCargs)\n",
    "PC.curves[namefold2].forward()\n",
    "PC.curves[namefold2].backward()"
   ]
  },
  {
   "cell_type": "code",
   "execution_count": null,
   "metadata": {},
   "outputs": [],
   "source": []
  },
  {
   "cell_type": "code",
   "execution_count": 22,
   "metadata": {},
   "outputs": [
    {
     "data": {
      "image/png": "[encoded data removed]",
      "text/plain": [
       "<Figure size 432x288 with 1 Axes>"
      ]
     },
     "metadata": {
      "needs_background": "light"
     },
     "output_type": "display_data"
    }
   ],
   "source": [
    "PC[namefold].display(('m', 'k5p'), stability=True, linewidth=3)\n",
    "PC[namefold2].display(('m', 'k5p'), stability=True, linewidth=3)\n",
    "PC.plot.fig1.toggleAll('off', bytype=['B', 'P'])\n",
    "PC.plot.fig1.axes1.axes.set_xlim((0.0, 3.5))\n",
    "PC.plot.fig1.axes1.axes.set_xlabel('$m$', fontsize=16)\n",
    "# PC.plot.fig1.axes1.axes.set_ylim((0.0, 0.03))\n",
    "PC.plot.fig1.axes1.axes.set_ylabel('$k_{5p}$', fontsize=16)\n",
    "plt.axvline(x=2.0, lw=3, color='b')\n",
    "plt.axvline(x=3.0, lw=3, color='b')\n",
    "PC.plot.fig1.axes1.axes.set_title('')\n",
    "plt.savefig(figdir + 'ApplicationCellCycleTwoParBifurcation.pdf', bbox_inches='tight')\n",
    "plt.show()"
   ]
  },
  {
   "cell_type": "markdown",
   "metadata": {},
   "source": [
    "## 2. Extended system: bifurcation diagram\n",
    "\n",
    "**In order to run the following lines, we nee to restart the notebook, otherwise, the continuation of the limit cycle would not work. Supposedly, building AUTO for two system will collide.**"
   ]
  },
  {
   "cell_type": "markdown",
   "metadata": {},
   "source": [
    "The cell cycle model is\n",
    "$$\n",
    "\\begin{aligned}\n",
    "    \\frac{dY}{dt} &= k_{1} - (k_{2p} + k_{2pp}P)Y, \\\\\n",
    "    \\frac{dP}{dt} &= \\frac{(k_{3p}+k_{3pp}A)(1-P)}{J_{3}+(1-P)} - k_{4}m\\frac{YP}{J_{4}+P}, \\\\\n",
    "    \\frac{dA}{dt} &= k_{5p} + k_{5pp}\\frac{(mY/J_{5})^{n}}{1+(mY/J_{5})^{n}} - k_{6}A, \\\\\n",
    "    \\frac{dm}{dt} &= \\mu m \\left( 1 - \\frac{m}{K}\\right),\n",
    "\\end{aligned}\n",
    "$$\n",
    "where $k_1, k_{2p}, k_{pp},k_{3p}, k_{3pp}, k_{4}, k_{5p}, k_{5pp}, k_{6}, J_{3}, J_{4}0$ are non-negative rate.\n"
   ]
  },
  {
   "cell_type": "markdown",
   "metadata": {},
   "source": [
    "We can construct the bifurcation diagram using continuation and the `PyDSTool` library of python."
   ]
  },
  {
   "cell_type": "code",
   "execution_count": 5,
   "metadata": {},
   "outputs": [],
   "source": [
    "# dynamical system\n",
    "Ystr = 'k1 - (k2p + k2pp*P)*Y'\n",
    "Pstr = '(k3p + k3pp*A)*(1 - P)/(J3 + 1 - P) - k4*m*Y*P/(J4 + P)'\n",
    "Astr = 'k5p + k5pp*(m*Y/J5)**n/(1 + (m*Y/J5)**n) - k6*A'\n",
    "mstr = 'mu*m*(1 - m/K)'\n",
    "params = {'k1': 0.04,\n",
    "          'k2p':  0.04,\n",
    "          'k2pp':  1.0,\n",
    "          'k3p':  1.0,\n",
    "          'k3pp':  10.0,\n",
    "          'k4':  35.0,\n",
    "          'k5p':  0.005,\n",
    "          'k5pp':  0.2,\n",
    "          'k6':  0.1,\n",
    "          'J3':  0.04,\n",
    "          'J4':  0.04,\n",
    "          'J5':  0.3,\n",
    "          'mu': 0.1,\n",
    "          'K': 2.0,\n",
    "          'n': 4}\n",
    "ics = {'A':  0.8850704900359198,\n",
    "'P':  0.9854966451671725,\n",
    "'Y':  0.03899139282479138,\n",
    "'m':  2.0}\n",
    "DSargs = dst.args(name='CellCycle')\n",
    "DSargs.pars = params\n",
    "DSargs.tdata = [0, 100]\n",
    "DSargs.pdomain = {'mu': [0, 1.0],\n",
    "                  'K': [1.0, 5.0],\n",
    "                  'k1': [0, 1.0], \n",
    "                  'k2p': [0, 10.0], \n",
    "                  'k3p': [0, 10.0], \n",
    "                  'k4': [0, 200.0], \n",
    "                  'k5p': [0, 0.04], \n",
    "                  'k5pp': [0, 10.0],\n",
    "                  'k6': [0, 10.0]}\n",
    "DSargs.xdomain = {'Y': [0, 5.0], 'P': [0, 10.0], 'A': [0, 10.0], 'm': [0, 2.0]}\n",
    "DSargs.varspecs = {'Y': Ystr, 'P': Pstr, 'A': Astr, 'm': mstr}\n",
    "DSargs.ics = ics\n",
    "DS = dst.Generator.Vode_ODEsystem(DSargs)"
   ]
  },
  {
   "cell_type": "code",
   "execution_count": 6,
   "metadata": {},
   "outputs": [
    {
     "data": {
      "image/png": "[encoded data removed]",
      "text/plain": [
       "<Figure size 432x288 with 1 Axes>"
      ]
     },
     "metadata": {
      "needs_background": "light"
     },
     "output_type": "display_data"
    }
   ],
   "source": [
    "traj = DS.compute('cycle')\n",
    "cycle = traj.sample(dt=0.0001, tlo=0, thi=53.32, precise=True)\n",
    "cycle.indepvararray = cycle.indepvararray.flatten()\n",
    "plt.plot(cycle['A'], cycle['Y'])\n",
    "plt.xlabel('$A$')\n",
    "plt.ylabel('$Y$')\n",
    "plt.show()"
   ]
  },
  {
   "cell_type": "code",
   "execution_count": 13,
   "metadata": {},
   "outputs": [
    {
     "name": "stdout",
     "output_type": "stream",
     "text": [
      "running build\n",
      "running config_cc\n",
      "unifing config_cc, config, build_clib, build_ext, build commands --compiler options\n",
      "running config_fc\n",
      "unifing config_fc, config, build_clib, build_ext, build commands --fcompiler options\n",
      "running build_src\n",
      "build_src\n",
      "building extension \"_auto_CellCycle_vf\" sources\n",
      "swig: /home/shigoto/Documents/Work/Projects/2020-05 Saddle-node Bifurcation Carryover/codes/notebooks/auto_temp/auto_CellCycle_vf.i\n",
      "swig -python -I/home/shigoto/.local/lib/python3.8/site-packages/numpy/core/include -I/home/shigoto/Documents/Work/Projects/2020-05 Saddle-node Bifurcation Carryover/codes/notebooks -I/home/shigoto/.local/lib/python3.8/site-packages/PyDSTool/PyCont/auto/module/include -I/home/shigoto/Documents/Work/Projects/2020-05 Saddle-node Bifurcation Carryover/codes/notebooks/auto_temp -I/home/shigoto/.local/lib/python3.8/site-packages/PyDSTool/PyCont/auto/src/include -o auto_temp/src.linux-x86_64-3.8/auto_temp/auto_CellCycle_vf_wrap.c -outdir auto_temp/src.linux-x86_64-3.8/auto_temp /home/shigoto/Documents/Work/Projects/2020-05 Saddle-node Bifurcation Carryover/codes/notebooks/auto_temp/auto_CellCycle_vf.i\n",
      "build_src: building npy-pkg config files\n",
      "running build_ext\n",
      "new_compiler returns <class 'distutils.unixccompiler.UnixCCompiler'>\n",
      "customize UnixCCompiler\n",
      "customize UnixCCompiler using build_ext\n",
      "********************************************************************************\n",
      "<class 'distutils.unixccompiler.UnixCCompiler'>\n",
      "preprocessor  = ['x86_64-linux-gnu-gcc', '-pthread', '-E', '-Wdate-time', '-D_FORTIFY_SOURCE=2']\n",
      "compiler      = ['x86_64-linux-gnu-gcc', '-pthread', '-Wno-unused-result', '-Wsign-compare', '-DNDEBUG', '-g', '-fwrapv', '-O2', '-Wall', '-g', '-fstack-protector-strong', '-Wformat', '-Werror=format-security', '-g', '-fwrapv', '-O2', '-g', '-fstack-protector-strong', '-Wformat', '-Werror=format-security', '-Wdate-time', '-D_FORTIFY_SOURCE=2']\n",
      "compiler_so   = ['x86_64-linux-gnu-gcc', '-pthread', '-Wno-unused-result', '-Wsign-compare', '-DNDEBUG', '-g', '-fwrapv', '-O2', '-Wall', '-g', '-fstack-protector-strong', '-Wformat', '-Werror=format-security', '-g', '-fwrapv', '-O2', '-g', '-fstack-protector-strong', '-Wformat', '-Werror=format-security', '-Wdate-time', '-D_FORTIFY_SOURCE=2', '-fPIC']\n",
      "compiler_cxx  = ['x86_64-linux-gnu-g++', '-pthread']\n",
      "linker_so     = ['x86_64-linux-gnu-gcc', '-pthread', '-shared', '-Wl,-O1', '-Wl,-Bsymbolic-functions', '-Wl,-Bsymbolic-functions', '-Wl,-z,relro', '-g', '-fwrapv', '-O2', '-Wl,-Bsymbolic-functions', '-Wl,-z,relro', '-g', '-fwrapv', '-O2', '-g', '-fstack-protector-strong', '-Wformat', '-Werror=format-security', '-Wdate-time', '-D_FORTIFY_SOURCE=2']\n",
      "linker_exe    = ['x86_64-linux-gnu-gcc', '-pthread']\n",
      "archiver      = ['x86_64-linux-gnu-gcc-ar', 'rcs']\n",
      "ranlib        = None\n",
      "libraries     = []\n",
      "library_dirs  = []\n",
      "include_dirs  = ['/usr/include/python3.8']\n",
      "********************************************************************************\n",
      "building '_auto_CellCycle_vf' extension\n",
      "compiling C sources\n",
      "C compiler: x86_64-linux-gnu-gcc -pthread -Wno-unused-result -Wsign-compare -DNDEBUG -g -fwrapv -O2 -Wall -g -fstack-protector-strong -Wformat -Werror=format-security -g -fwrapv -O2 -g -fstack-protector-strong -Wformat -Werror=format-security -Wdate-time -D_FORTIFY_SOURCE=2 -fPIC\n",
      "\n",
      "compile options: '-I/home/shigoto/.local/lib/python3.8/site-packages/numpy/core/include -I/home/shigoto/Documents/Work/Projects/2020-05 Saddle-node Bifurcation Carryover/codes/notebooks -I/home/shigoto/.local/lib/python3.8/site-packages/PyDSTool/PyCont/auto/module/include -I/home/shigoto/Documents/Work/Projects/2020-05 Saddle-node Bifurcation Carryover/codes/notebooks/auto_temp -I/home/shigoto/.local/lib/python3.8/site-packages/PyDSTool/PyCont/auto/src/include -I/home/shigoto/.local/lib/python3.8/site-packages/numpy/core/include -I/usr/include/python3.8 -c'\n",
      "extra options: '-w -D__PYTHON__ -std=c99'\n",
      "x86_64-linux-gnu-gcc: auto_temp/src.linux-x86_64-3.8/auto_temp/auto_CellCycle_vf_wrap.c\n",
      "x86_64-linux-gnu-gcc: /home/shigoto/Documents/Work/Projects/2020-05 Saddle-node Bifurcation Carryover/codes/notebooks/auto_temp/CellCycle_vf.c\n",
      "x86_64-linux-gnu-gcc -pthread -shared -Wl,-O1 -Wl,-Bsymbolic-functions -Wl,-Bsymbolic-functions -Wl,-z,relro -g -fwrapv -O2 -Wl,-Bsymbolic-functions -Wl,-z,relro -g -fwrapv -O2 -g -fstack-protector-strong -Wformat -Werror=format-security -Wdate-time -D_FORTIFY_SOURCE=2 auto_temp/auto_temp/src.linux-x86_64-3.8/auto_temp/auto_CellCycle_vf_wrap.o auto_temp/home/shigoto/.local/lib/python3.8/site-packages/PyDSTool/PyCont/auto/src/auto.o auto_temp/home/shigoto/.local/lib/python3.8/site-packages/PyDSTool/PyCont/auto/src/autlib1.o auto_temp/home/shigoto/.local/lib/python3.8/site-packages/PyDSTool/PyCont/auto/src/autlib2.o auto_temp/home/shigoto/.local/lib/python3.8/site-packages/PyDSTool/PyCont/auto/src/autlib3.o auto_temp/home/shigoto/.local/lib/python3.8/site-packages/PyDSTool/PyCont/auto/src/autlib4.o auto_temp/home/shigoto/.local/lib/python3.8/site-packages/PyDSTool/PyCont/auto/src/autlib5.o auto_temp/home/shigoto/.local/lib/python3.8/site-packages/PyDSTool/PyCont/auto/src/eispack.o auto_temp/home/shigoto/.local/lib/python3.8/site-packages/PyDSTool/PyCont/auto/src/conpar.o auto_temp/home/shigoto/.local/lib/python3.8/site-packages/PyDSTool/PyCont/auto/src/setubv.o auto_temp/home/shigoto/.local/lib/python3.8/site-packages/PyDSTool/PyCont/auto/src/reduce.o auto_temp/home/shigoto/.local/lib/python3.8/site-packages/PyDSTool/PyCont/auto/src/dmatrix.o auto_temp/home/shigoto/.local/lib/python3.8/site-packages/PyDSTool/PyCont/auto/src/fcon.o auto_temp/home/shigoto/.local/lib/python3.8/site-packages/PyDSTool/PyCont/auto/src/libf2c/cabs.o auto_temp/home/shigoto/.local/lib/python3.8/site-packages/PyDSTool/PyCont/auto/src/libf2c/d_lg10.o auto_temp/home/shigoto/.local/lib/python3.8/site-packages/PyDSTool/PyCont/auto/src/libf2c/i_nint.o auto_temp/home/shigoto/.local/lib/python3.8/site-packages/PyDSTool/PyCont/auto/src/libf2c/pow_di.o auto_temp/home/shigoto/.local/lib/python3.8/site-packages/PyDSTool/PyCont/auto/src/libf2c/r_lg10.o auto_temp/home/shigoto/.local/lib/python3.8/site-packages/PyDSTool/PyCont/auto/src/libf2c/z_exp.o auto_temp/home/shigoto/.local/lib/python3.8/site-packages/PyDSTool/PyCont/auto/src/libf2c/d_imag.o auto_temp/home/shigoto/.local/lib/python3.8/site-packages/PyDSTool/PyCont/auto/src/libf2c/d_sign.o auto_temp/home/shigoto/.local/lib/python3.8/site-packages/PyDSTool/PyCont/auto/src/libf2c/i_dnnt.o auto_temp/home/shigoto/.local/lib/python3.8/site-packages/PyDSTool/PyCont/auto/src/libf2c/pow_dd.o auto_temp/home/shigoto/.local/lib/python3.8/site-packages/PyDSTool/PyCont/auto/src/libf2c/pow_ii.o auto_temp/home/shigoto/.local/lib/python3.8/site-packages/PyDSTool/PyCont/auto/src/libf2c/z_abs.o auto_temp/home/shigoto/.local/lib/python3.8/site-packages/PyDSTool/PyCont/auto/src/libf2c/z_log.o auto_temp/home/shigoto/.local/lib/python3.8/site-packages/PyDSTool/PyCont/auto/module/automod.o auto_temp/home/shigoto/.local/lib/python3.8/site-packages/PyDSTool/PyCont/auto/module/interface.o auto_temp/home/shigoto/Documents/Work/Projects/2020-05 Saddle-node Bifurcation Carryover/codes/notebooks/auto_temp/CellCycle_vf.o -L./ -o ./_auto_CellCycle_vf.cpython-38-x86_64-linux-gnu.so -w\n"
     ]
    }
   ],
   "source": [
    "PC = dst.ContClass(DS)\n",
    "name3 = 'LC2'\n",
    "PCargs = dst.args(name=name3)\n",
    "PCargs.type = 'LC-C'\n",
    "PCargs.initcycle = cycle\n",
    "PCargs.freepars = ['k5p']\n",
    "PCargs.StepSize = 2e-2\n",
    "PCargs.MaxNumPoints = 50000\n",
    "PCargs.MaxStepSize = 5e-2\n",
    "PCargs.MinStepSize = 1e-4\n",
    "PCargs.MaxTestIters = 1000\n",
    "PCargs.SolutionMeasures = 'min'\n",
    "PCargs.NumSPOut = 40\n",
    "PCargs.SaveEigen = True\n",
    "PCargs.verbosity = 2\n",
    "\n",
    "PC.newCurve(PCargs)\n",
    "PC.curves[name3].backward()\n",
    "PC.curves[name3].forward()"
   ]
  },
  {
   "cell_type": "code",
   "execution_count": 14,
   "metadata": {},
   "outputs": [
    {
     "data": {
      "text/plain": [
       "({'A': 0.051215411878439525,\n",
       "  'P': 1.6581629493592063,\n",
       "  'Y': 0.02355486557700103,\n",
       "  'm': 2.0},\n",
       " {'A': 0.05000000000000002,\n",
       "  'P': 0.9999999999999956,\n",
       "  'Y': 0.03846153846154625,\n",
       "  'm': -1.583327336586685e-19},\n",
       " {'A': 0.7127848739479983,\n",
       "  'P': 0.277816108256646,\n",
       "  'Y': 0.12585894471937878,\n",
       "  'm': 2.0},\n",
       " {'A': 0.055562950271203844,\n",
       "  'P': 1.120372749494177,\n",
       "  'Y': 0.034471681636286694,\n",
       "  'm': 2.0})"
      ]
     },
     "execution_count": 14,
     "metadata": {},
     "output_type": "execute_result"
    }
   ],
   "source": [
    "fps = pp.find_fixedpoints(DS, n=4, eps=1e-8)\n",
    "fps"
   ]
  },
  {
   "cell_type": "code",
   "execution_count": 15,
   "metadata": {
    "scrolled": false
   },
   "outputs": [
    {
     "name": "stdout",
     "output_type": "stream",
     "text": [
      "Neutral saddle found!\n",
      "\n",
      "Test function going crazy:  class Hopf_Bor(BorderMethod, BiAltMethod) \n",
      "\n",
      "\n",
      "Checking...\n",
      "  |q| = 1.000000\n",
      "  <p,q> = 1.000000\n",
      "  |Aq| = 0.000000\n",
      "  |transpose(A)p| = 0.000000\n",
      "\n",
      "LP Point found \n",
      "========================== \n",
      "0 : \n",
      "A  =  0.42325685315315825\n",
      "P  =  0.49418945769437567\n",
      "Y  =  0.07487980046001787\n",
      "m  =  2.0\n",
      "k5p  =  0.030631818510688053\n",
      "\n",
      "Eigenvalues = \n",
      "\n",
      "     (-3.262166,0.000000)\n",
      "     (-0.000000,0.000000)\n",
      "     (1.190667,0.000000)\n",
      "     (-0.100000,0.000000)\n",
      "\n",
      "\n",
      "a = 0.1897815445176204\n",
      "\n",
      "\n",
      "Checking...\n",
      "  |q| = 1.000000\n",
      "  <p,q> = 1.000000\n",
      "  |Aq| = 0.000000\n",
      "  |transpose(A)p| = 0.000001\n",
      "\n",
      "LP Point found \n",
      "========================== \n",
      "0 : \n",
      "A  =  0.2803176459936144\n",
      "P  =  0.8061908131345967\n",
      "Y  =  0.04727066210022481\n",
      "m  =  2.0\n",
      "k5p  =  0.02607846297252048\n",
      "\n",
      "Eigenvalues = \n",
      "\n",
      "     (-3.979172,0.000000)\n",
      "     (0.000000,0.000000)\n",
      "     (0.065326,0.000000)\n",
      "     (-0.100000,0.000000)\n",
      "\n",
      "\n",
      "a = 4.20609782177662\n",
      "\n",
      "Checking...\n",
      "  |q| = 1.000000\n",
      "  |<p,q> - 1| =  2.2301825219878386e-16\n",
      "  |Aq - iwq| = 0.000001\n",
      "  |A*p + iwp| = 0.000012\n",
      "\n",
      "H Point found \n",
      "========================== \n",
      "0 : \n",
      "A  =  0.27964969107211046\n",
      "P  =  0.8151707956438167\n",
      "Y  =  0.046774282054248516\n",
      "m  =  2.0\n",
      "k5p  =  0.026091672708011358\n",
      "\n",
      "Eigenvalues = \n",
      "\n",
      "     (-4.138518,0.000000)\n",
      "     (0.000001,0.071486)\n",
      "     (0.000001,-0.071486)\n",
      "     (-0.100000,0.000000)\n",
      "\n",
      "\n",
      "w = 0.07148594356503625\n",
      "l1 = 147.3929810518437\n",
      "\n",
      "Checking...\n",
      "  |q| = 1.000000\n",
      "  |<p,q> - 1| =  1.944128986425528e-16\n",
      "  |Aq - iwq| = 0.000001\n",
      "  |A*p + iwp| = 0.000009\n",
      "\n",
      "H Point found \n",
      "========================== \n",
      "0 : \n",
      "A  =  0.27964968856184697\n",
      "P  =  0.8151708399019534\n",
      "Y  =  0.04677427963351283\n",
      "m  =  2.0\n",
      "k5p  =  0.026091672841151704\n",
      "\n",
      "Eigenvalues = \n",
      "\n",
      "     (-4.138519,0.000000)\n",
      "     (0.000001,0.071486)\n",
      "     (0.000001,-0.071486)\n",
      "     (-0.100000,0.000000)\n",
      "\n",
      "\n",
      "w = 0.07148612473095164\n",
      "l1 = 147.3924412654347\n",
      "\n",
      "B Point found \n",
      "========================== \n",
      "0 : \n",
      "A  =  0.41026471089886174\n",
      "P  =  0.9550179112411906\n",
      "Y  =  0.04020028136991402\n",
      "m  =  2.0\n",
      "k5p  =  0.04000000019909254\n",
      "\n",
      "B Point found \n",
      "========================== \n",
      "0 : \n",
      "A  =  0.7430643214299477\n",
      "P  =  0.264116786251532\n",
      "Y  =  0.13152841871384371\n",
      "m  =  2.0\n",
      "k5p  =  -4.711793687355904e-10\n",
      "\n"
     ]
    }
   ],
   "source": [
    "name1 = 'EQ1'\n",
    "PCargs = dst.args(name=name1)\n",
    "PCargs.type = 'EP-C'\n",
    "PCargs.initpoint = fps[2]\n",
    "PCargs.freepars = ['k5p']\n",
    "PCargs.StepSize = 1e-3\n",
    "PCargs.MaxNumPoints = 5000\n",
    "PCargs.MaxStepSize = 5e-3\n",
    "PCargs.MinStepSize = 1e-6\n",
    "PCargs.MaxTestIters = 20\n",
    "PCargs.LocBifPoints = 'all'\n",
    "PCargs.SaveEigen = True\n",
    "PCargs.StopAtPoints = ['B']\n",
    "PCargs.verbosity = 2\n",
    "\n",
    "PC.newCurve(PCargs)\n",
    "PC.curves[name1].backward()\n",
    "PC.curves[name1].forward()"
   ]
  },
  {
   "cell_type": "code",
   "execution_count": 16,
   "metadata": {
    "scrolled": false
   },
   "outputs": [
    {
     "name": "stdout",
     "output_type": "stream",
     "text": [
      "B Point found \n",
      "========================== \n",
      "0 : \n",
      "A  =  0.00019426821331178064\n",
      "P  =  2.6460568996415366\n",
      "Y  =  0.014891717299562098\n",
      "m  =  2.0\n",
      "k5p  =  -7.1106153670900636e-12\n",
      "\n",
      "Maximum test function iterations reached.\n",
      "\n",
      "Neutral saddle found!\n",
      "\n",
      "Neutral saddle found!\n",
      "\n",
      "\n",
      "Checking...\n",
      "  |q| = 1.000000\n",
      "  <p,q> = 1.000000\n",
      "  |Aq| = 0.000000\n",
      "  |transpose(A)p| = 0.000004\n",
      "\n",
      "LP Point found \n",
      "========================== \n",
      "0 : \n",
      "A  =  0.07661331695998193\n",
      "P  =  1.2629326875349751\n",
      "Y  =  0.030699974283150574\n",
      "m  =  2.0\n",
      "k5p  =  0.0073110191871714044\n",
      "\n",
      "Eigenvalues = \n",
      "\n",
      "     (-2.835345,0.000000)\n",
      "     (-0.039687,0.000000)\n",
      "     (-0.000000,0.000000)\n",
      "     (-0.100000,0.000000)\n",
      "\n",
      "\n",
      "a = 6.43066659482632\n",
      "\n",
      "Test function going crazy:  class Hopf_Bor(BorderMethod, BiAltMethod) \n",
      "\n",
      "B Point found \n",
      "========================== \n",
      "0 : \n",
      "A  =  0.006609306830907341\n",
      "P  =  1.0712910661422828\n",
      "Y  =  0.03599417040114912\n",
      "m  =  2.0\n",
      "k5p  =  -2.265097847256428e-10\n",
      "\n"
     ]
    }
   ],
   "source": [
    "name2 = 'EQ2'\n",
    "PCargs = dst.args(name=name2)\n",
    "PCargs.type = 'EP-C'\n",
    "PCargs.initpoint = fps[0]\n",
    "PCargs.freepars = ['k5p']\n",
    "PCargs.StepSize = 1e-3\n",
    "PCargs.MaxNumPoints = 5000\n",
    "PCargs.MaxStepSize = 5e-3\n",
    "PCargs.MinStepSize = 1e-6\n",
    "PCargs.MaxTestIters = 20\n",
    "PCargs.LocBifPoints = 'all'\n",
    "PCargs.SaveEigen = True\n",
    "PCargs.StopAtPoints = ['B']\n",
    "PCargs.verbosity = 2\n",
    "\n",
    "PC.newCurve(PCargs)\n",
    "PC.curves[name2].backward()\n",
    "PC.curves[name2].forward()"
   ]
  },
  {
   "cell_type": "markdown",
   "metadata": {},
   "source": [
    "Indeed there is a bifurcation point (`LP1`) at which a critical transition drives gen activation."
   ]
  },
  {
   "cell_type": "code",
   "execution_count": 18,
   "metadata": {},
   "outputs": [
    {
     "data": {
      "image/png": "[encoded data removed]",
      "text/plain": [
       "<Figure size 432x288 with 1 Axes>"
      ]
     },
     "metadata": {
      "needs_background": "light"
     },
     "output_type": "display_data"
    }
   ],
   "source": [
    "PC[name1].display(('k5p', 'Y'), stability=True, linewidth=3)\n",
    "PC[name2].display(('k5p', 'Y'), stability=True, linewidth=3)\n",
    "PC[name3].display(('k5p', 'Y_min'), stability=True, linewidth=3)\n",
    "PC[name3].display(('k5p', 'Y_max'), stability=True, linewidth=3)\n",
    "PC.plot.fig1.toggleAll('off', bytype=['P', 'B', 'MX', 'RG'])\n",
    "PC.plot.fig1.axes1.axes.set_xlabel('$k_{5p}$', fontsize=16)\n",
    "PC.plot.fig1.axes1.axes.set_xlim((0.0, 0.04))\n",
    "PC.plot.fig1.axes1.axes.set_ylabel('$Y$', fontsize=16)\n",
    "PC.plot.fig1.axes1.axes.set_ylim((0.0, 0.5))\n",
    "PC.plot.fig1.axes1.axes.set_title('')\n",
    "plt.savefig(figdir + 'ApplicationCellCycleExtendedlBifurcation.pdf', bbox_inches='tight')\n",
    "plt.show()"
   ]
  },
  {
   "cell_type": "markdown",
   "metadata": {},
   "source": [
    "Same diagram as before."
   ]
  },
  {
   "cell_type": "code",
   "execution_count": null,
   "metadata": {},
   "outputs": [],
   "source": []
  },
  {
   "cell_type": "code",
   "execution_count": null,
   "metadata": {},
   "outputs": [],
   "source": []
  },
  {
   "cell_type": "code",
   "execution_count": null,
   "metadata": {},
   "outputs": [],
   "source": []
  },
  {
   "cell_type": "code",
   "execution_count": null,
   "metadata": {},
   "outputs": [],
   "source": []
  },
  {
   "cell_type": "code",
   "execution_count": null,
   "metadata": {},
   "outputs": [],
   "source": []
  },
  {
   "cell_type": "code",
   "execution_count": null,
   "metadata": {},
   "outputs": [],
   "source": []
  },
  {
   "cell_type": "markdown",
   "metadata": {},
   "source": [
    "## 3. Carryover when $g$ depends on the other variables\n",
    "\n",
    "Use the first step as an example:\n",
    "$$\n",
    "\\begin{aligned}\n",
    "    \\frac{dY}{dt} &= k_{1} - (k_{2p} + k_{2pp}P)Y, \\\\\n",
    "    \\frac{dP}{dt} &= \\frac{(k_{3p}+k_{3pp}A)(1-P)}{J_{3}+(1-P)} - k_{4}m\\frac{YP}{J_{4}+P},\n",
    "\\end{aligned}\n",
    "$$\n",
    "where $A=0$ is constant, then transform\n",
    "$$\n",
    "    \\frac{dA}{dt} = k_{5p} + k_{5pp}\\frac{(mY/J_{5})^{n}}{1+(mY/J_{5})^{n}} - k_{6}A.\n",
    "$$\n",
    "Does this guarantee the existance of the SN bifurcation?"
   ]
  },
  {
   "cell_type": "code",
   "execution_count": 11,
   "metadata": {},
   "outputs": [],
   "source": [
    "# dynamical system\n",
    "Ystr = 'k1 - (k2p + k2pp*P)*Y'\n",
    "Pstr = '(k3p + k3pp*A)*(1 - P)/(J3 + 1 - P) - k4*m*Y*P/(J4 + P)'\n",
    "params = {'A': 0.0,\n",
    "          'k1': 0.04,\n",
    "          'k2p':  0.04,\n",
    "          'k2pp':  1.0,\n",
    "          'k3p':  1.0,\n",
    "          'k3pp':  10.0,\n",
    "          'k4':  35.0,\n",
    "          'J3':  0.04,\n",
    "          'J4':  0.04,\n",
    "          'm': 1.0}\n",
    "ics = {'Y': 1.0, 'P': 0.5}\n",
    "DSargs = dst.args(name='CellCycle')\n",
    "DSargs.pars = params\n",
    "DSargs.tdata = [0, 2]\n",
    "DSargs.pdomain = {'m': [0, 10.0], 'A': [0, 1.1],}\n",
    "DSargs.xdomain = {'Y': [0, 5.0], 'P': [0, 10.0]}\n",
    "DSargs.varspecs = {'Y': Ystr, 'P': Pstr}\n",
    "DSargs.ics = ics\n",
    "DS = dst.Generator.Vode_ODEsystem(DSargs)"
   ]
  },
  {
   "cell_type": "code",
   "execution_count": 12,
   "metadata": {},
   "outputs": [
    {
     "data": {
      "text/plain": [
       "({'P': 0.0011637197075304387, 'Y': 0.971729481305414},)"
      ]
     },
     "execution_count": 12,
     "metadata": {},
     "output_type": "execute_result"
    }
   ],
   "source": [
    "fps = pp.find_fixedpoints(DS, n=4, eps=1e-8)\n",
    "fps"
   ]
  },
  {
   "cell_type": "code",
   "execution_count": 13,
   "metadata": {},
   "outputs": [
    {
     "name": "stdout",
     "output_type": "stream",
     "text": [
      "B Point found \n",
      "========================== \n",
      "0 : \n",
      "P  =  0.00011049760840167589\n",
      "Y  =  0.997245169843554\n",
      "m  =  10.000000011595674\n",
      "\n",
      "\n",
      "Checking...\n",
      "  |q| = 1.000000\n",
      "  <p,q> = 1.000000\n",
      "  |Aq| = 0.000000\n",
      "  |transpose(A)p| = 0.000000\n",
      "\n",
      "LP Point found \n",
      "========================== \n",
      "0 : \n",
      "P  =  0.040134021344593686\n",
      "Y  =  0.49916376750882524\n",
      "m  =  0.10971397984842488\n",
      "\n",
      "Eigenvalues = \n",
      "\n",
      "     (-12.060003,0.000000)\n",
      "     (-0.000000,0.000000)\n",
      "\n",
      "\n",
      "a = 0.15638418577543914\n",
      "\n",
      "\n",
      "Checking...\n",
      "  |q| = 1.000000\n",
      "  <p,q> = 1.000000\n",
      "  |Aq| = 0.000000\n",
      "  |transpose(A)p| = 0.000002\n",
      "\n",
      "LP Point found \n",
      "========================== \n",
      "0 : \n",
      "P  =  0.827956452753923\n",
      "Y  =  0.04608526138965237\n",
      "m  =  0.5273193026839457\n",
      "\n",
      "Eigenvalues = \n",
      "\n",
      "     (-1.802749,0.000000)\n",
      "     (0.000000,0.000000)\n",
      "\n",
      "\n",
      "a = 2.484916156044039\n",
      "\n",
      "B Point found \n",
      "========================== \n",
      "0 : \n",
      "P  =  1.000000000285675\n",
      "Y  =  0.038461538450973554\n",
      "m  =  -5.517609444459165e-09\n",
      "\n"
     ]
    }
   ],
   "source": [
    "# bifurcation diagram for s\n",
    "# first branch\n",
    "PC = dst.ContClass(DS)\n",
    "name1 = 'EQ1'\n",
    "PCargs = dst.args(name=name1)\n",
    "PCargs.type = 'EP-C'\n",
    "PCargs.initpoint = fps[0]\n",
    "PCargs.freepars = ['m']\n",
    "PCargs.StepSize = 1e-3\n",
    "PCargs.MaxNumPoints = 5000\n",
    "PCargs.MaxStepSize = 5e-2\n",
    "PCargs.MinStepSize = 1e-6\n",
    "PCargs.MaxTestIters = 20\n",
    "PCargs.LocBifPoints = 'all'\n",
    "PCargs.SaveEigen = True\n",
    "PCargs.StopAtPoints = ['B']\n",
    "PCargs.verbosity = 2\n",
    "\n",
    "PC.newCurve(PCargs)\n",
    "PC.curves[name1].backward()\n",
    "PC.curves[name1].forward()"
   ]
  },
  {
   "cell_type": "markdown",
   "metadata": {},
   "source": [
    "Indeed there is a bifurcation point (`LP1`) at which a critical transition drives gen activation."
   ]
  },
  {
   "cell_type": "code",
   "execution_count": 36,
   "metadata": {},
   "outputs": [
    {
     "data": {
      "image/png": "[encoded data removed]",
      "text/plain": [
       "<Figure size 432x288 with 1 Axes>"
      ]
     },
     "metadata": {
      "needs_background": "light"
     },
     "output_type": "display_data"
    }
   ],
   "source": [
    "PC[name1].display(('m', 'Y'), stability=True, linewidth=3)\n",
    "PC.plot.fig1.toggleAll('off', bytype=['P','B'])\n",
    "PC.plot.fig1.axes1.axes.set_xlabel('$m$', fontsize=16)\n",
    "PC.plot.fig1.axes1.axes.set_xlim((0.0, 1.2))\n",
    "PC.plot.fig1.axes1.axes.set_ylabel('$Y$', fontsize=16)\n",
    "# PC.plot.fig1.axes1.axes.set_ylim((0.0, 2.6))\n",
    "PC.plot.fig1.axes1.axes.set_title('')\n",
    "plt.savefig(figdir + 'ApplicationCellCycleExtendedBifurcation.pdf', bbox_inches='tight')\n",
    "plt.show()"
   ]
  },
  {
   "cell_type": "code",
   "execution_count": null,
   "metadata": {},
   "outputs": [],
   "source": []
  },
  {
   "cell_type": "code",
   "execution_count": 37,
   "metadata": {
    "scrolled": false
   },
   "outputs": [
    {
     "name": "stdout",
     "output_type": "stream",
     "text": [
      "B Point found \n",
      "========================== \n",
      "0 : \n",
      "P  =  0.040134040974082665\n",
      "Y  =  0.49916364523457635\n",
      "m  =  1.3165677906776032\n",
      "A  =  1.1000000296193644\n",
      "\n"
     ]
    }
   ],
   "source": [
    "# Two-parameter bifurcation\n",
    "namefold1 = 'F01'\n",
    "PCargs = dst.args(name=namefold1)\n",
    "PCargs.type = 'LP-C'\n",
    "PCargs.initpoint = 'EQ1:LP1'\n",
    "PCargs.freepars = ['m', 'A']\n",
    "PCargs.StepSize = 1e-2\n",
    "PCargs.MaxNumPoints = 2000\n",
    "PCargs.MaxStepSize = 5e-2\n",
    "PCargs.MinStepSize = 1e-4\n",
    "PCargs.SaveEigen = True\n",
    "PCargs.SaveJacobian = True\n",
    "PCargs.LocBifPoints = 'all'\n",
    "PCargs.StopAtPoints = ['B']\n",
    "PCargs.verbosity = 2\n",
    "PC.newCurve(PCargs)\n",
    "PC.curves[namefold1].forward()\n",
    "# PC.curves[namefold1].backward()"
   ]
  },
  {
   "cell_type": "code",
   "execution_count": null,
   "metadata": {},
   "outputs": [],
   "source": []
  },
  {
   "cell_type": "code",
   "execution_count": 38,
   "metadata": {},
   "outputs": [
    {
     "data": {
      "image/png": "[encoded data removed]",
      "text/plain": [
       "<Figure size 432x288 with 1 Axes>"
      ]
     },
     "metadata": {
      "needs_background": "light"
     },
     "output_type": "display_data"
    }
   ],
   "source": [
    "PC[namefold1].display(('m', 'A'), stability=True, linewidth=3)\n",
    "# PC.plot.toggleLabels('off')\n",
    "# PC.plot.fig1.toggleAll('off', bytype=['P', 'BT', 'CP'])\n",
    "PC.plot.fig1.axes1.axes.set_xlim((0.0, 2.0))\n",
    "PC.plot.fig1.axes1.axes.set_xlabel('$m$', fontsize=16)\n",
    "# PC.plot.fig1.axes1.axes.set_ylim((0.0, 0.15))\n",
    "PC.plot.fig1.axes1.axes.set_ylabel('$k_{*}$', fontsize=16)\n",
    "PC.plot.fig1.axes1.axes.set_title('')\n",
    "# plt.savefig(dir + 'ApplicationCellCyleTwoParBifurcation.pdf', bbox_inches='tight')\n",
    "plt.show()"
   ]
  },
  {
   "cell_type": "code",
   "execution_count": 40,
   "metadata": {},
   "outputs": [
    {
     "data": {
      "image/png": "[encoded data removed]",
      "text/plain": [
       "<Figure size 432x288 with 1 Axes>"
      ]
     },
     "metadata": {
      "needs_background": "light"
     },
     "output_type": "display_data"
    }
   ],
   "source": [
    "PC[namefold1].display(('m', 'Y'), stability=True, linewidth=3)"
   ]
  },
  {
   "cell_type": "code",
   "execution_count": 39,
   "metadata": {},
   "outputs": [
    {
     "data": {
      "image/png": "[encoded data removed]",
      "text/plain": [
       "<Figure size 432x288 with 1 Axes>"
      ]
     },
     "metadata": {
      "needs_background": "light"
     },
     "output_type": "display_data"
    }
   ],
   "source": [
    "PC[namefold1].display(('A', 'Y'), stability=True, linewidth=3)"
   ]
  },
  {
   "cell_type": "code",
   "execution_count": 58,
   "metadata": {},
   "outputs": [
    {
     "data": {
      "text/plain": [
       "array([0.        , 0.00673631, 0.01481989, 0.02452018, 0.03616053,\n",
       "       0.05012894, 0.06689104, 0.08700556, 0.11114299, 0.1401079 ,\n",
       "       0.17378946, 0.20747102, 0.24115259, 0.27483415, 0.30851571,\n",
       "       0.34219727, 0.37587883, 0.40956039, 0.44324195, 0.47692352,\n",
       "       0.51060508, 0.54428664, 0.5779682 , 0.61164976, 0.64533132,\n",
       "       0.67901289, 0.71269445, 0.74637601, 0.78005757, 0.81373913,\n",
       "       0.84742069, 0.88110225, 0.91478382, 0.94846538, 0.98214694,\n",
       "       1.0158285 , 1.04951006, 1.08319162, 1.10000003])"
      ]
     },
     "execution_count": 58,
     "metadata": {},
     "output_type": "execute_result"
    }
   ],
   "source": [
    "PC[namefold1].sol['A']"
   ]
  },
  {
   "cell_type": "code",
   "execution_count": 59,
   "metadata": {},
   "outputs": [
    {
     "data": {
      "text/plain": [
       "{'curvetype': 'LP-C',\n",
       " '_ptlabel': 'LP',\n",
       " 'model': Non-Hybrid Model CellCycle,\n",
       " 'gensys': Generator CellCycle,\n",
       " '_autoMod': None,\n",
       " 'UseAuto': False,\n",
       " 'description': 'None',\n",
       " 'parsdict': {'A': 1.0999990296193645,\n",
       "  'k1': 0.04,\n",
       "  'k2p': 0.04,\n",
       "  'k2pp': 1.0,\n",
       "  'k3p': 1.0,\n",
       "  'k3pp': 10.0,\n",
       "  'k4': 35.0,\n",
       "  'J3': 0.04,\n",
       "  'J4': 0.04,\n",
       "  'm': 1.3165677906776032},\n",
       " 'freepars': ['m', 'A'],\n",
       " 'auxpars': [],\n",
       " 'varslist': ['P', 'Y'],\n",
       " 'varsindices': array([0, 1]),\n",
       " 'parsindices': array([9, 0]),\n",
       " 'varsdim': 2,\n",
       " 'freeparsdim': 2,\n",
       " 'auxparsdim': 0,\n",
       " 'dim': 4,\n",
       " 'sysfunc': <PyDSTool.PyCont.TestFunc.Function at 0x7f4e86d10fd0>,\n",
       " 'coords': [0, 1],\n",
       " 'params': [2, 3],\n",
       " 'allvars': [0, 1, 2, 3],\n",
       " 'initpoint': array([0.04013402, 0.49916377, 0.10971398, 0.        ]),\n",
       " 'initdirec': None,\n",
       " 'initcycle': None,\n",
       " 'SPOut': None,\n",
       " 'NumSPOut': 300,\n",
       " 'preTF': None,\n",
       " 'MaxNumPoints': 2000,\n",
       " 'MaxCorrIters': 5,\n",
       " 'MaxTestIters': 10,\n",
       " 'MaxStepSize': 0.05,\n",
       " 'MinStepSize': 0.0001,\n",
       " 'StepSize': 0.05,\n",
       " 'VarTol': 1e-06,\n",
       " 'FuncTol': 1e-06,\n",
       " 'TestTol': 0.0001,\n",
       " 'ClosedCurve': 50,\n",
       " 'verbosity': 2,\n",
       " 'sol': Pointset F01 (non-parameterized)\n",
       " Coordinates:\n",
       " A:  [0.         0.00673631, ..., 1.08319162 1.10000003]\n",
       " P:  [0.04013402 0.04013404, ..., 0.04013404 0.04013404]\n",
       " Y:  [0.49916377 0.49916365, ..., 0.49916365 0.49916365]\n",
       " m:  [0.10971398 0.11710466, ..., 1.29812662 1.31656779]\n",
       " Labels by index:  0: {LP: {keys=data,domain,stab}}, {P: {keys=data,plot,name}},\n",
       "                   1: {LP: {keys=data,domain,stab}},\n",
       "                   2: {LP: {keys=data,domain,stab}},\n",
       "                   .\n",
       "                   .\n",
       "                   .\n",
       "                   36: {LP: {keys=data,domain,stab}},\n",
       "                   37: {LP: {keys=data,domain,stab}},\n",
       "                   38: {LP: {keys=data,domain,stab}}, {B: {keys=data,plot,name}}, {P: {keys=data,startx,plot,name}},\n",
       " 'new_sol_segment': Pointset <no name> (non-parameterized)\n",
       " Coordinates:\n",
       " A:  [0.         0.00673631, ..., 1.08319162 1.10000003]\n",
       " P:  [0.04013402 0.04013404, ..., 0.04013404 0.04013404]\n",
       " Y:  [0.49916377 0.49916365, ..., 0.49916365 0.49916365]\n",
       " m:  [0.10971398 0.11710466, ..., 1.29812662 1.31656779]\n",
       " Labels by index:  0: {LP: {keys=data,domain,stab}}, {P: {keys=data,plot,name}},\n",
       "                   1: {LP: {keys=data,domain,stab}},\n",
       "                   2: {LP: {keys=data,domain,stab}},\n",
       "                   .\n",
       "                   .\n",
       "                   .\n",
       "                   36: {LP: {keys=data,domain,stab}},\n",
       "                   37: {LP: {keys=data,domain,stab}},\n",
       "                   38: {LP: {keys=data,domain,stab}}, {B: {keys=data,plot,name}}, {P: {keys=data,startx,plot,name}},\n",
       " 'LocBifPoints': ['B', 'SP', 'BT', 'ZH', 'CP'],\n",
       " 'StopAtPoints': ['B'],\n",
       " 'TestFuncs': [<PyDSTool.PyCont.TestFunc.B_Check at 0x7f4e86fdafd0>,\n",
       "  <PyDSTool.PyCont.TestFunc.BT_Fold at 0x7f4e86fc3100>,\n",
       "  <PyDSTool.PyCont.TestFunc.Hopf_Bor at 0x7f4e86fc3c70>,\n",
       "  <PyDSTool.PyCont.TestFunc.BT_Fold at 0x7f4eb23fea60>,\n",
       "  <PyDSTool.PyCont.TestFunc.Hopf_Bor at 0x7f4e9bfcd8e0>,\n",
       "  <PyDSTool.PyCont.TestFunc.CP_Fold at 0x7f4e9c4f6430>],\n",
       " 'BifPoints': {'B': <PyDSTool.PyCont.BifPoint.BPoint at 0x7f4e86fda550>,\n",
       "  'BT': <PyDSTool.PyCont.BifPoint.BTPoint at 0x7f4e86db6e50>,\n",
       "  'ZH': <PyDSTool.PyCont.BifPoint.ZHPoint at 0x7f4e87082f70>,\n",
       "  'CP': <PyDSTool.PyCont.BifPoint.CPPoint at 0x7f4e9c4f65e0>},\n",
       " 'CurveInfo':  0: {LP: {keys=data,domain,stab}}, {P: {keys=data,plot,name}},\n",
       "  1: {LP: {keys=data,domain,stab}},\n",
       "  2: {LP: {keys=data,domain,stab}},\n",
       "  .\n",
       "  .\n",
       "  .\n",
       "  36: {LP: {keys=data,domain,stab}},\n",
       "  37: {LP: {keys=data,domain,stab}},\n",
       "  38: {LP: {keys=data,domain,stab}}, {B: {keys=data,plot,name}}, {P: {keys=data,startx,plot,name}},\n",
       " 'SaveJacobian': True,\n",
       " 'SaveEigen': True,\n",
       " 'Corrector': <bound method Continuation._MoorePenrose of PyCont curve F01 (type LP-C)>,\n",
       " 'name': 'F01',\n",
       " 'fig': None,\n",
       " 'text_handles': [],\n",
       " 'plot': fig1:\n",
       "     axes1:\n",
       "         F01:\n",
       "             Type: LP\n",
       "             B1:\n",
       "                 Label: B1\n",
       "             P1:\n",
       "                 Label: P1\n",
       "             P2:\n",
       "                 Label: P2,\n",
       " '_statuscodes': {0: 'Unrecognized error encountered (check stderr output).  Stopping continuation...',\n",
       "  -1: 'Do over.'},\n",
       " 'CorrFunc': <PyDSTool.PyCont.TestFunc.AddTestFunction at 0x7f4e86d10d30>,\n",
       " 'V': array([[ 4.21885321e-05, -2.62797077e-04,  7.39067606e-01,\n",
       "          6.73631207e-01],\n",
       "        [ 3.95226747e-05, -2.46191033e-04,  7.39067609e-01,\n",
       "          6.73631210e-01],\n",
       "        [ 3.67401721e-05, -2.28858522e-04,  7.39067613e-01,\n",
       "          6.73631212e-01],\n",
       "        ...,\n",
       "        [ 0.00000000e+00,  0.00000000e+00,  0.00000000e+00,\n",
       "          0.00000000e+00],\n",
       "        [ 0.00000000e+00,  0.00000000e+00,  0.00000000e+00,\n",
       "          0.00000000e+00],\n",
       "        [ 0.00000000e+00,  0.00000000e+00,  0.00000000e+00,\n",
       "          0.00000000e+00]]),\n",
       " 'curve': array([[0.04013402, 0.49916377, 0.10971398, 0.        ],\n",
       "        [0.04013404, 0.49916365, 0.11710466, 0.00673631],\n",
       "        [0.04013404, 0.49916365, 0.12597347, 0.01481989],\n",
       "        ...,\n",
       "        [0.        , 0.        , 0.        , 0.        ],\n",
       "        [0.        , 0.        , 0.        , 0.        ],\n",
       "        [0.        , 0.        , 0.        , 0.        ]]),\n",
       " 'loc': 38}"
      ]
     },
     "execution_count": 59,
     "metadata": {},
     "output_type": "execute_result"
    }
   ],
   "source": [
    "vars(PC[namefold1])"
   ]
  },
  {
   "cell_type": "markdown",
   "metadata": {},
   "source": [
    "What is the solution to \n",
    "$$\n",
    "    \\frac{dA}{dt} = 0 = k_{5p} + k_{5pp}\\frac{(mY/J_{5})^{n}}{1+(mY/J_{5})^{n}} - k_{6}A,\n",
    "$$\n",
    "in the $mAY$-space? "
   ]
  },
  {
   "cell_type": "code",
   "execution_count": null,
   "metadata": {},
   "outputs": [],
   "source": []
  },
  {
   "cell_type": "code",
   "execution_count": null,
   "metadata": {},
   "outputs": [],
   "source": []
  },
  {
   "cell_type": "code",
   "execution_count": 60,
   "metadata": {},
   "outputs": [
    {
     "data": {
      "image/png": "[encoded data removed]",
      "text/plain": [
       "<Figure size 432x288 with 1 Axes>"
      ]
     },
     "metadata": {
      "needs_background": "light"
     },
     "output_type": "display_data"
    }
   ],
   "source": [
    "fig = plt.figure()\n",
    "ax = fig.gca(projection='3d')\n",
    "\n",
    "# Prepare arrays x, y, z\n",
    "x = PC[namefold1].sol['m']\n",
    "y = PC[namefold1].sol['A']\n",
    "z = PC[namefold1].sol['Y']\n",
    "\n",
    "ax.plot(x, y, z)\n",
    "\n",
    "plt.show()"
   ]
  },
  {
   "cell_type": "code",
   "execution_count": 62,
   "metadata": {},
   "outputs": [
    {
     "data": {
      "text/plain": [
       "-1.3877787807814457e-17"
      ]
     },
     "execution_count": 62,
     "metadata": {},
     "output_type": "execute_result"
    }
   ],
   "source": [
    "Y=0.22674444381187284\n",
    "A = 0.5420835741849908\n",
    "k5p = 0.005\n",
    "k5pp = 0.2\n",
    "k6 = 0.1\n",
    "J5 = 0.3\n",
    "m = 1.0\n",
    "n = 4\n",
    "k5p + k5pp*(m*Y/J5)**n/(1 + (m*Y/J5)**n) - k6*A"
   ]
  },
  {
   "cell_type": "code",
   "execution_count": null,
   "metadata": {},
   "outputs": [],
   "source": []
  },
  {
   "cell_type": "code",
   "execution_count": null,
   "metadata": {},
   "outputs": [],
   "source": []
  },
  {
   "cell_type": "code",
   "execution_count": null,
   "metadata": {},
   "outputs": [],
   "source": []
  },
  {
   "cell_type": "code",
   "execution_count": null,
   "metadata": {},
   "outputs": [],
   "source": []
  },
  {
   "cell_type": "code",
   "execution_count": null,
   "metadata": {},
   "outputs": [],
   "source": []
  },
  {
   "cell_type": "code",
   "execution_count": 76,
   "metadata": {},
   "outputs": [
    {
     "ename": "NameError",
     "evalue": "name 'clock' is not defined",
     "output_type": "error",
     "traceback": [
      "\u001b[0;31m---------------------------------------------------------------------------\u001b[0m",
      "\u001b[0;31mNameError\u001b[0m                                 Traceback (most recent call last)",
      "\u001b[0;32m<ipython-input-76-fcb2e721baf0>\u001b[0m in \u001b[0;36m<module>\u001b[0;34m\u001b[0m\n\u001b[1;32m      1\u001b[0m \u001b[0;32mimport\u001b[0m \u001b[0mtime\u001b[0m\u001b[0;34m\u001b[0m\u001b[0;34m\u001b[0m\u001b[0m\n\u001b[0;32m----> 2\u001b[0;31m \u001b[0mclock\u001b[0m\u001b[0;34m(\u001b[0m\u001b[0;34m)\u001b[0m\u001b[0;34m\u001b[0m\u001b[0;34m\u001b[0m\u001b[0m\n\u001b[0m",
      "\u001b[0;31mNameError\u001b[0m: name 'clock' is not defined"
     ]
    }
   ],
   "source": [
    "import time\n",
    "clock()"
   ]
  },
  {
   "cell_type": "code",
   "execution_count": null,
   "metadata": {},
   "outputs": [],
   "source": []
  }
 ],
 "metadata": {
  "@webio": {
   "lastCommId": null,
   "lastKernelId": null
  },
  "kernelspec": {
   "display_name": "Python 3",
   "language": "python",
   "name": "python3"
  },
  "language_info": {
   "codemirror_mode": {
    "name": "ipython",
    "version": 3
   },
   "file_extension": ".py",
   "mimetype": "text/x-python",
   "name": "python",
   "nbconvert_exporter": "python",
   "pygments_lexer": "ipython3",
   "version": "3.8.5"
  }
 },
 "nbformat": 4,
 "nbformat_minor": 2
}
