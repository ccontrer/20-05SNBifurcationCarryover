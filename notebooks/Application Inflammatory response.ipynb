{
 "cells": [
  {
   "cell_type": "code",
   "execution_count": 1,
   "metadata": {},
   "outputs": [],
   "source": [
    "import numpy as np\n",
    "import PyDSTool as dst\n",
    "from PyDSTool.Toolbox import phaseplane as pp"
   ]
  },
  {
   "cell_type": "code",
   "execution_count": 2,
   "metadata": {},
   "outputs": [],
   "source": [
    "import matplotlib as mpl\n",
    "from matplotlib import pyplot as plt\n",
    "from IPython.display import display, Math"
   ]
  },
  {
   "cell_type": "code",
   "execution_count": 3,
   "metadata": {},
   "outputs": [],
   "source": [
    "mpl.rcParams['figure.figsize'] = [12, 8]\n",
    "mpl.rcParams['font.size'] = 16\n",
    "mpl.rcParams['lines.linewidth'] = 3\n",
    "mpl.rcParams['lines.markersize'] = 8"
   ]
  },
  {
   "cell_type": "code",
   "execution_count": 4,
   "metadata": {},
   "outputs": [],
   "source": [
    "figdir = './figures/'\n",
    "plt.rc('text', usetex=True)"
   ]
  },
  {
   "cell_type": "markdown",
   "metadata": {},
   "source": [
    "# Carryover of a saddle-node bifurcation\n",
    "# Application: inflammatory response"
   ]
  },
  {
   "cell_type": "markdown",
   "metadata": {},
   "source": [
    "## 1. Original system: bifurcation diagrams"
   ]
  },
  {
   "cell_type": "markdown",
   "metadata": {},
   "source": [
    "The three-variable subsystem is\n",
    "$$\n",
    "\\begin{aligned}\n",
    "    \\frac{dP}{dt} &= k_{pg}P\\left(1 - \\frac{P}{p_{\\infty}}\\right) - (k_{2p} + k_{2pp}P)Y, \\\\\n",
    "    \\frac{dP}{dt} &= \\frac{(k_{3p}+k_{3pp}A)(1-P)}{J_{3}+(1-P)} - k_{4}m\\frac{YP}{J_{4}+P}, \\\\\n",
    "    \\frac{dA}{dt} &= k_{5p} + k_{5pp}\\frac{(mY/J_{5})^{n}}{1+(mY/J_{5})^{n}} - k_{6}A,\n",
    "\\end{aligned}\n",
    "$$\n",
    "where $k_1, k_{2p}, k_{pp},k_{3p}, k_{3pp}, k_{4}, k_{5p}, k_{5pp}, k_{6}, J_{3}, J_{4}0$ are non-negative rate (add references here in markdown syntax: Segel2013, TysonNovak2011).\n"
   ]
  },
  {
   "cell_type": "markdown",
   "metadata": {},
   "source": [
    "We can construct the bifurcation diagram using continuation and the `PyDSTool` library of python."
   ]
  },
  {
   "cell_type": "code",
   "execution_count": 11,
   "metadata": {},
   "outputs": [],
   "source": [
    "# dynamical system\n",
    "Pstr = 'k_pg*P*(1 - P/p_inf) - k_pm*s_m*P/(mu_m + k_mp*P) - k_pn*f(N)*P'\n",
    "Nstr = 's_nr*R(N, P, D)/(mu_nr + R(N, P, D)) - mu_n*N'\n",
    "Dstr = 'k_dn*f(f_s(N)) - mu_d*D'\n",
    "fnspecs = {'f': (['V'], 'V/(1 + (C_A/c_inf)**2)'),\n",
    "          'f_s': (['V'], 'V**6/(x_dn**6 + V**6)'),\n",
    "          'R': (['N', 'P', 'D'], 'f(k_nn*N + k_np*P + k_nd*D)')}\n",
    "params = {'k_pg': 2.3,\n",
    "          'p_inf': 20,\n",
    "          'k_pm': 0.6,\n",
    "          's_m': 0.005,\n",
    "          'mu_m': 0.002,\n",
    "          'k_mp': 0.01,\n",
    "          'k_pn': 1.8,\n",
    "          'C_A': 0.3,\n",
    "          'c_inf': 0.28,\n",
    "          's_nr': 0.08,\n",
    "          'k_nn': 0.01,\n",
    "          'k_np': 0.1,\n",
    "          'k_nd': 0.02,\n",
    "          'mu_nr': 0.12,\n",
    "          'mu_n': 0.05,\n",
    "          'k_dn': 0.35,\n",
    "          'x_dn': 0.06,\n",
    "          'mu_d': 0.02,\n",
    "          's_c': 0.0125,\n",
    "          'k_cn': 0.04,\n",
    "          'k_cnd': 48.0,\n",
    "          'mu_c': 0.1}\n",
    "ics = {'P':  1,\n",
    "       'N':  0,\n",
    "       'D':  0}\n",
    "DSargs = dst.args(name='Inflammatory')\n",
    "DSargs.pars = params\n",
    "DSargs.tdata = [0, 100]\n",
    "DSargs.pdomain = {'k_pg': [0, 4], \n",
    "                  'C_A': [0, 2]}\n",
    "DSargs.xdomain = {'P': [-1e-4, 100], 'N': [0, 10.0], 'D': [0, 10.0]}\n",
    "DSargs.varspecs = {'P': Pstr, 'N': Nstr, 'D': Dstr}\n",
    "DSargs.fnspecs = fnspecs\n",
    "DSargs.ics = ics\n",
    "DS = dst.Generator.Vode_ODEsystem(DSargs)"
   ]
  },
  {
   "cell_type": "code",
   "execution_count": 12,
   "metadata": {},
   "outputs": [
    {
     "data": {
      "text/plain": [
       "({'D': 8.14726257046564, 'N': 0.6342702988016385, 'P': 1.7903814247378394e-10},\n",
       " {'D': 8.147268334275687, 'N': 1.3155833920827735, 'P': 10.161580486861771})"
      ]
     },
     "execution_count": 12,
     "metadata": {},
     "output_type": "execute_result"
    }
   ],
   "source": [
    "fps = pp.find_fixedpoints(DS, n=5, eps=1e-5)\n",
    "fps"
   ]
  },
  {
   "cell_type": "code",
   "execution_count": 13,
   "metadata": {
    "scrolled": false
   },
   "outputs": [
    {
     "name": "stdout",
     "output_type": "stream",
     "text": [
      "Test function going crazy:  class Hopf_Bor(BorderMethod, BiAltMethod) \n",
      "\n",
      "Maximum test function iterations reached.\n",
      "\n",
      "Neutral saddle found!\n",
      "\n",
      "BP Point found \n",
      "========================== \n",
      "0 : \n",
      "D  =  8.147262570431774\n",
      "N  =  0.6342702988660516\n",
      "P  =  -8.915027454005459e-104\n",
      "k_pg  =  2.031521523647816\n",
      "\n",
      "Eigenvalues = \n",
      "\n",
      "     (-0.020000,0.000000)\n",
      "     (-0.048869,0.000000)\n",
      "     (1.000000,0.000000)\n",
      "     (-0.000000,0.000000)\n",
      "\n",
      "\n",
      "branch angle = 0.9900032868338632\n",
      "Test function #1: 4.1393786959222225e-19\n",
      "\n"
     ]
    },
    {
     "name": "stderr",
     "output_type": "stream",
     "text": [
      "/home/shigoto/.local/lib/python3.8/site-packages/PyDSTool/PyCont/BifPoint.py:201: LinAlgWarning: Ill-conditioned matrix (rcond=8.72089e-104): result may not be accurate.\n",
      "  v0 = linalg.solve(r_[c_[J_coords, J_params],\n"
     ]
    },
    {
     "name": "stdout",
     "output_type": "stream",
     "text": [
      "B Point found \n",
      "========================== \n",
      "0 : \n",
      "D  =  8.147262570431774\n",
      "N  =  0.6342702988660516\n",
      "P  =  0.0\n",
      "k_pg  =  4.137040909350424e-09\n",
      "\n",
      "B Point found \n",
      "========================== \n",
      "0 : \n",
      "D  =  8.147262570431774\n",
      "N  =  0.6342702988660516\n",
      "P  =  5e-324\n",
      "k_pg  =  4.000000123286419\n",
      "\n"
     ]
    }
   ],
   "source": [
    "PC = dst.ContClass(DS)\n",
    "name1 = 'EQ1'\n",
    "PCargs = dst.args(name=name1)\n",
    "PCargs.type = 'EP-C'\n",
    "PCargs.initpoint = fps[0]\n",
    "PCargs.freepars = ['k_pg']\n",
    "PCargs.StepSize = 1e-3\n",
    "PCargs.MaxNumPoints = 5000\n",
    "PCargs.MaxStepSize = 5e-3\n",
    "PCargs.MinStepSize = 1e-6\n",
    "PCargs.MaxTestIters = 20\n",
    "PCargs.LocBifPoints = 'all'\n",
    "PCargs.SaveEigen = True\n",
    "PCargs.StopAtPoints = ['B']\n",
    "PCargs.verbosity = 2\n",
    "\n",
    "PC.newCurve(PCargs)\n",
    "PC.curves[name1].backward()\n",
    "PC.curves[name1].forward()"
   ]
  },
  {
   "cell_type": "code",
   "execution_count": 14,
   "metadata": {
    "scrolled": false
   },
   "outputs": [
    {
     "name": "stdout",
     "output_type": "stream",
     "text": [
      "Checking...\n",
      "  |q| = 1.000000\n",
      "  |<p,q> - 1| =  1.0192684116820305e-17\n",
      "  |Aq - iwq| = 0.000000\n",
      "  |A*p + iwp| = 0.000000\n",
      "\n",
      "H Point found \n",
      "========================== \n",
      "0 : \n",
      "D  =  8.147267774627428\n",
      "N  =  0.9182912035395542\n",
      "P  =  1.7507899178934898\n",
      "k_pg  =  1.011897221834188\n",
      "\n",
      "Eigenvalues = \n",
      "\n",
      "     (-0.020000,0.000000)\n",
      "     (0.000000,0.076305)\n",
      "     (0.000000,-0.076305)\n",
      "\n",
      "\n",
      "w = 0.07630539985106835\n",
      "l1 = 0.03451822395128222\n",
      "\n",
      "Test function going crazy:  class Hopf_Bor(BorderMethod, BiAltMethod) \n",
      "\n",
      "Neutral saddle found!\n",
      "\n",
      "\n",
      "Checking...\n",
      "  |q| = 1.000000\n",
      "  <p,q> = 1.000000\n",
      "  |Aq| = 0.000000\n",
      "  |transpose(A)p| = 0.000000\n",
      "\n",
      "LP Point found \n",
      "========================== \n",
      "0 : \n",
      "D  =  8.147267326329663\n",
      "N  =  0.8399766718699416\n",
      "P  =  1.1352544895499335\n",
      "k_pg  =  0.984461425402281\n",
      "\n",
      "Eigenvalues = \n",
      "\n",
      "     (-0.020000,0.000000)\n",
      "     (0.000000,0.000000)\n",
      "     (0.085843,0.000000)\n",
      "\n",
      "\n",
      "a = 0.06677739971337951\n",
      "\n",
      "Neutral saddle found!\n",
      "\n",
      "Test function going crazy:  class Hopf_Bor(BorderMethod, BiAltMethod) \n",
      "\n",
      "Neutral saddle found!\n",
      "\n",
      "BP Point found \n",
      "========================== \n",
      "0 : \n",
      "D  =  8.147262570458999\n",
      "N  =  0.6342702989889456\n",
      "P  =  -3.4292195382199447e-12\n",
      "k_pg  =  2.0315215238474233\n",
      "\n",
      "Eigenvalues = \n",
      "\n",
      "     (0.997153,0.000000)\n",
      "     (-0.020000,0.000000)\n",
      "     (-0.048869,0.000000)\n",
      "     (0.000000,0.000000)\n",
      "\n",
      "\n",
      "branch angle = 0.9972909618914593\n",
      "Test function #1: 4.4577901726481834e-14\n",
      "\n",
      "B Point found \n",
      "========================== \n",
      "0 : \n",
      "D  =  8.147262569153757\n",
      "N  =  0.6342471605410372\n",
      "P  =  -0.00010000050659460168\n",
      "k_pg  =  2.032242351311656\n",
      "\n",
      "B Point found \n",
      "========================== \n",
      "0 : \n",
      "D  =  8.14726835272679\n",
      "N  =  1.3767319791405364\n",
      "P  =  14.126761132168797\n",
      "k_pg  =  3.999999997471144\n",
      "\n"
     ]
    }
   ],
   "source": [
    "name2 = 'EQ2'\n",
    "PCargs = dst.args(name=name2)\n",
    "PCargs.type = 'EP-C'\n",
    "PCargs.initpoint = fps[1]\n",
    "PCargs.freepars = ['k_pg']\n",
    "PCargs.StepSize = 1e-3\n",
    "PCargs.MaxNumPoints = 5000\n",
    "PCargs.MaxStepSize = 5e-3\n",
    "PCargs.MinStepSize = 1e-6\n",
    "PCargs.MaxTestIters = 20\n",
    "PCargs.LocBifPoints = 'all'\n",
    "PCargs.SaveEigen = True\n",
    "PCargs.StopAtPoints = ['B']\n",
    "PCargs.verbosity = 2\n",
    "\n",
    "PC.newCurve(PCargs)\n",
    "PC.curves[name2].backward()\n",
    "PC.curves[name2].forward()"
   ]
  },
  {
   "cell_type": "code",
   "execution_count": 98,
   "metadata": {},
   "outputs": [
    {
     "name": "stdout",
     "output_type": "stream",
     "text": [
      "B Point found \n",
      "========================== \n",
      "0 : \n",
      "D  =  0.18713311693568538\n",
      "N  =  0.030904595888866515\n",
      "P  =  0.0\n",
      "k_pg  =  1.4990000000065369\n",
      "\n",
      "B Point found \n",
      "========================== \n",
      "0 : \n",
      "D  =  0.1871331169356853\n",
      "N  =  0.03090459588886651\n",
      "P  =  0.0\n",
      "k_pg  =  1.5009999999920378\n",
      "\n"
     ]
    }
   ],
   "source": [
    "name3 = 'EQ3'\n",
    "PCargs = dst.args(name=name3)\n",
    "PCargs.type = 'EP-C'\n",
    "PCargs.initpoint = fps[2]\n",
    "PCargs.freepars = ['k_pg']\n",
    "PCargs.StepSize = 1e-3\n",
    "PCargs.MaxNumPoints = 5000\n",
    "PCargs.MaxStepSize = 5e-3\n",
    "PCargs.MinStepSize = 1e-6\n",
    "PCargs.MaxTestIters = 20\n",
    "PCargs.LocBifPoints = 'all'\n",
    "PCargs.SaveEigen = True\n",
    "PCargs.StopAtPoints = ['B']\n",
    "PCargs.verbosity = 2\n",
    "\n",
    "PC.newCurve(PCargs)\n",
    "PC.curves[name3].backward()\n",
    "PC.curves[name3].forward()"
   ]
  },
  {
   "cell_type": "markdown",
   "metadata": {},
   "source": [
    "Indeed there is a bifurcation point (`LP1`) at which a critical transition drives gen activation."
   ]
  },
  {
   "cell_type": "code",
   "execution_count": 22,
   "metadata": {},
   "outputs": [
    {
     "data": {
      "image/png": "[encoded data removed]",
      "text/plain": [
       "<Figure size 864x576 with 1 Axes>"
      ]
     },
     "metadata": {
      "needs_background": "light"
     },
     "output_type": "display_data"
    }
   ],
   "source": [
    "PC[name1].display(('k_pg', 'N'), stability=True, linewidth=3)\n",
    "PC[name2].display(('k_pg', 'N'), stability=True, linewidth=3)\n",
    "# PC[name3].display(('k_pg', 'N'), stability=True, linewidth=3)\n",
    "# PC.plot.fig1.toggleAll('off', bytype=['P','B','MX','RG'])\n",
    "PC.plot.fig1.axes1.axes.set_xlabel('$k_{pg}$', fontsize=16)\n",
    "PC.plot.fig1.axes1.axes.set_xlim((0.0, 4))\n",
    "PC.plot.fig1.axes1.axes.set_ylabel('Active Phagocytes ($N^*$)', fontsize=16)\n",
    "PC.plot.fig1.axes1.axes.set_ylim((0.0, 1.5))\n",
    "# PC.plot.fig1.axes1.axes.set_yscale('log')\n",
    "PC.plot.fig1.axes1.axes.set_title('')\n",
    "plt.show()"
   ]
  },
  {
   "cell_type": "code",
   "execution_count": null,
   "metadata": {},
   "outputs": [],
   "source": []
  },
  {
   "cell_type": "code",
   "execution_count": 14,
   "metadata": {
    "scrolled": false
   },
   "outputs": [
    {
     "name": "stdout",
     "output_type": "stream",
     "text": [
      "Maximum test function iterations reached.\n",
      "\n",
      "\n",
      "Checking...\n",
      "  <b,c> = -0.000009\n",
      "\n",
      "\n",
      "BT Point found \n",
      "========================== \n",
      "0 : \n",
      "A  =  0.23255163441451362\n",
      "P  =  0.8146182320925097\n",
      "Y  =  0.046804524520920966\n",
      "m  =  1.751739289117205\n",
      "k5p  =  0.022145584814709664\n",
      "\n",
      "Eigenvalues = \n",
      "\n",
      "     (-3.730450,0.000000)\n",
      "     (-0.000002,0.000000)\n",
      "     (-0.000000,0.000000)\n",
      "\n",
      "\n",
      "Maximum test function iterations reached.\n",
      "\n",
      "\n",
      "Checking...\n",
      "  |a| = -70.261578\n",
      "\n",
      "\n",
      "CP Point found \n",
      "========================== \n",
      "0 : \n",
      "A  =  0.4328076857222744\n",
      "P  =  0.6462762396750428\n",
      "Y  =  0.05828556736707119\n",
      "m  =  2.491694483534087\n",
      "k5p  =  0.03286842896488509\n",
      "\n",
      "Eigenvalues = \n",
      "\n",
      "     (-3.527630,0.000000)\n",
      "     (0.000000,0.000000)\n",
      "     (0.934825,0.000000)\n",
      "\n",
      "\n",
      "Test function going crazy:  class Hopf_Bor(BorderMethod, BiAltMethod) \n",
      "\n",
      "ZH Point found \n",
      "========================== \n",
      "0 : \n",
      "A  =  0.2847554172433855\n",
      "P  =  0.15378446638113852\n",
      "Y  =  0.20641489355151582\n",
      "m  =  0.6408019069660601\n",
      "k5p  =  0.021192800275191923\n",
      "\n",
      "Eigenvalues = \n",
      "\n",
      "     (-5.791874,0.000000)\n",
      "     (0.000000,0.000000)\n",
      "     (0.370903,0.000000)\n",
      "\n",
      "\n",
      "Test function going crazy:  <PyDSTool.PyCont.TestFunc.BT_Fold object at 0x7f94a3327610> \n",
      "\n",
      "\n",
      "Checking...\n",
      "  <b,c> = 0.081996\n",
      "\n",
      "\n",
      "BT Point found \n",
      "========================== \n",
      "0 : \n",
      "A  =  0.1563779449722311\n",
      "P  =  0.07754253441220602\n",
      "Y  =  0.3403023441686674\n",
      "m  =  0.3127285567385561\n",
      "k5p  =  0.01251997253824953\n",
      "\n",
      "Eigenvalues = \n",
      "\n",
      "     (-11.118802,0.000000)\n",
      "     (-0.000000,0.000000)\n",
      "     (0.006787,0.000000)\n",
      "\n",
      "\n",
      "B Point found \n",
      "========================== \n",
      "0 : \n",
      "A  =  -1.1371597815184164e-08\n",
      "P  =  0.04344890864571169\n",
      "Y  =  0.47933520820293596\n",
      "m  =  0.10988615256116559\n",
      "k5p  =  -0.00018987346260674305\n",
      "\n",
      "B Point found \n",
      "========================== \n",
      "0 : \n",
      "A  =  -4.57705720677221e-10\n",
      "P  =  0.8276437656040084\n",
      "Y  =  0.04610186989836098\n",
      "m  =  0.5273189722247672\n",
      "k5p  =  -8.623752943707014e-06\n",
      "\n"
     ]
    }
   ],
   "source": [
    "# Two-parameter bifurcation\n",
    "namefold1 = 'FO1'\n",
    "PCargs = dst.args(name=namefold1)\n",
    "PCargs.type = 'LP-C'\n",
    "PCargs.initpoint = 'EQ1:LP1'\n",
    "PCargs.freepars = ['m', 'k5p']\n",
    "PCargs.StepSize = 1e-2\n",
    "PCargs.MaxNumPoints = 2000\n",
    "PCargs.MaxStepSize = 5e-2\n",
    "PCargs.MinStepSize = 1e-4\n",
    "PCargs.SaveEigen = True\n",
    "PCargs.SaveJacobian = True\n",
    "PCargs.LocBifPoints = 'all'\n",
    "PCargs.StopAtPoints = ['B']\n",
    "PCargs.verbosity = 2\n",
    "PC.newCurve(PCargs)\n",
    "PC.curves[namefold1].forward()\n",
    "PC.curves[namefold1].backward()"
   ]
  },
  {
   "cell_type": "code",
   "execution_count": 15,
   "metadata": {},
   "outputs": [
    {
     "name": "stdout",
     "output_type": "stream",
     "text": [
      "Warning: Variable dimension must be larger than 3 to detect Double Hopf points.\n",
      "B Point found \n",
      "========================== \n",
      "0 : \n",
      "A  =  0.408487747138019\n",
      "P  =  0.07499996346479214\n",
      "Y  =  0.34782619746002114\n",
      "m  =  0.6139050836085602\n",
      "k5p  =  -6.071483174546844e-10\n",
      "\n",
      "Checking...\n",
      "  |q| = 1.000000\n",
      "  |<p,q> - 1| =  2.3822662920467013e-16\n",
      "  |Aq - iwq| = 0.000000\n",
      "  |A*p + iwp| = 0.000000\n",
      "\n",
      "GH Point found \n",
      "========================== \n",
      "0 : \n",
      "A  =  0.1917083470903772\n",
      "P  =  0.07552374926631386\n",
      "Y  =  0.34624915010150037\n",
      "m  =  0.3529263221439021\n",
      "k5p  =  0.013812355667988826\n",
      "\n",
      "Eigenvalues = \n",
      "\n",
      "     (-13.160082,0.000000)\n",
      "     (0.000000,0.072867)\n",
      "     (0.000000,-0.072867)\n",
      "\n",
      "\n",
      "w = 0.0728673643538291\n",
      "l1 = -1.3972621839108967e-05\n",
      "\n",
      "\n",
      "Checking...\n",
      "  <b,c> = -710.166154\n",
      "\n",
      "\n",
      "BT Point found \n",
      "========================== \n",
      "0 : \n",
      "A  =  0.151135840078176\n",
      "P  =  0.07567556134215891\n",
      "Y  =  0.34579473430592006\n",
      "m  =  0.3040251443102774\n",
      "k5p  =  0.012142220072918685\n",
      "\n",
      "Eigenvalues = \n",
      "\n",
      "     (-11.323193,0.000000)\n",
      "     (-0.000000,0.000013)\n",
      "     (-0.000000,-0.000013)\n",
      "\n",
      "\n",
      "B Point found \n",
      "========================== \n",
      "0 : \n",
      "A  =  -3.476977633762435e-09\n",
      "P  =  0.07670493457453031\n",
      "Y  =  0.34274471894292635\n",
      "m  =  0.1215649184953234\n",
      "k5p  =  -7.438777808143026e-05\n",
      "\n"
     ]
    }
   ],
   "source": [
    "namefold2 = 'FO2'\n",
    "PCargs = dst.args(name=namefold2)\n",
    "PCargs.type = 'H-C1'\n",
    "PCargs.initpoint = 'EQ1:H1'\n",
    "PCargs.freepars = ['m', 'k5p']\n",
    "PCargs.StepSize = 1e-2\n",
    "PCargs.MaxNumPoints = 2000\n",
    "PCargs.MaxStepSize = 5e-2\n",
    "PCargs.MinStepSize = 1e-4\n",
    "PCargs.SaveEigen = True\n",
    "PCargs.SaveJacobian = True\n",
    "PCargs.LocBifPoints = 'all'\n",
    "PCargs.StopAtPoints = ['B']\n",
    "PCargs.verbosity = 2\n",
    "PC.newCurve(PCargs)\n",
    "PC.curves[namefold2].forward()\n",
    "PC.curves[namefold2].backward()"
   ]
  },
  {
   "cell_type": "code",
   "execution_count": 16,
   "metadata": {},
   "outputs": [
    {
     "name": "stdout",
     "output_type": "stream",
     "text": [
      "Warning: Variable dimension must be larger than 3 to detect Double Hopf points.\n",
      "B Point found \n",
      "========================== \n",
      "0 : \n",
      "A  =  2.1772207574417997\n",
      "P  =  0.8173304823588078\n",
      "Y  =  0.0466564537515876\n",
      "m  =  12.00000000529808\n",
      "k5p  =  0.03295352352094834\n",
      "\n",
      "Maximum test function iterations reached.\n",
      "\n",
      "Checking...\n",
      "  |q| = 1.000000\n",
      "  |<p,q> - 1| =  1.3877787807814457e-17\n",
      "  |Aq - iwq| = 0.000000\n",
      "  |A*p + iwp| = 0.000000\n",
      "\n",
      "GH Point found \n",
      "========================== \n",
      "0 : \n",
      "A  =  0.346448215718416\n",
      "P  =  0.8158162052760037\n",
      "Y  =  0.046739007456746924\n",
      "m  =  2.352117103967564\n",
      "k5p  =  0.031102101724057002\n",
      "\n",
      "Eigenvalues = \n",
      "\n",
      "     (-4.719179,0.000000)\n",
      "     (0.000000,0.121483)\n",
      "     (0.000000,-0.121483)\n",
      "\n",
      "\n",
      "w = 0.12148292425640252\n",
      "l1 = 0.9051560671045848\n",
      "\n",
      "\n",
      "Checking...\n",
      "  <b,c> = 450.207084\n",
      "\n",
      "\n",
      "BT Point found \n",
      "========================== \n",
      "0 : \n",
      "A  =  0.2325537954574827\n",
      "P  =  0.8146179277560481\n",
      "Y  =  0.04680454118839648\n",
      "m  =  1.7517505897696088\n",
      "k5p  =  0.02214577087376129\n",
      "\n",
      "Eigenvalues = \n",
      "\n",
      "     (-3.730463,0.000000)\n",
      "     (-0.000026,0.000000)\n",
      "     (0.000026,0.000000)\n",
      "\n",
      "\n",
      "B Point found \n",
      "========================== \n",
      "0 : \n",
      "A  =  7.980398561977148e-10\n",
      "P  =  0.8056705920981216\n",
      "Y  =  0.04729974102653776\n",
      "m  =  0.525809762475659\n",
      "k5p  =  -9.446489080181069e-06\n",
      "\n"
     ]
    }
   ],
   "source": [
    "namefold3 = 'FO3'\n",
    "PCargs = dst.args(name=namefold3)\n",
    "PCargs.type = 'H-C1'\n",
    "PCargs.initpoint = 'EQ1:H2'\n",
    "PCargs.freepars = ['m', 'k5p']\n",
    "PCargs.StepSize = 1e-2\n",
    "PCargs.MaxNumPoints = 2000\n",
    "PCargs.MaxStepSize = 5e-2\n",
    "PCargs.MinStepSize = 1e-4\n",
    "PCargs.SaveEigen = True\n",
    "PCargs.SaveJacobian = True\n",
    "PCargs.LocBifPoints = 'all'\n",
    "PCargs.StopAtPoints = ['B']\n",
    "PCargs.verbosity = 2\n",
    "PC.newCurve(PCargs)\n",
    "PC.curves[namefold3].forward()\n",
    "PC.curves[namefold3].backward()"
   ]
  },
  {
   "cell_type": "code",
   "execution_count": 17,
   "metadata": {},
   "outputs": [
    {
     "name": "stdout",
     "output_type": "stream",
     "text": [
      "Warning: Variable dimension must be larger than 3 to detect Double Hopf points.\n",
      "B Point found \n",
      "========================== \n",
      "0 : \n",
      "A  =  2.1772207579801237\n",
      "P  =  0.817330482387589\n",
      "Y  =  0.0466564537500213\n",
      "m  =  12.000000008178315\n",
      "k5p  =  0.0329535235631606\n",
      "\n",
      "Maximum test function iterations reached.\n",
      "\n",
      "Checking...\n",
      "  |q| = 1.000000\n",
      "  |<p,q> - 1| =  1.5265566588595902e-16\n",
      "  |Aq - iwq| = 0.000000\n",
      "  |A*p + iwp| = 0.000000\n",
      "\n",
      "GH Point found \n",
      "========================== \n",
      "0 : \n",
      "A  =  0.34682598132050785\n",
      "P  =  0.8158195167630519\n",
      "Y  =  0.04673882660597781\n",
      "m  =  2.3541084763490168\n",
      "k5p  =  0.031128133085509734\n",
      "\n",
      "Eigenvalues = \n",
      "\n",
      "     (-4.722470,0.000000)\n",
      "     (0.000000,0.121741)\n",
      "     (0.000000,-0.121741)\n",
      "\n",
      "\n",
      "w = 0.12174126594260744\n",
      "l1 = 0.5533509759168425\n",
      "\n",
      "\n",
      "Checking...\n",
      "  <b,c> = -10.657756\n",
      "\n",
      "\n",
      "BT Point found \n",
      "========================== \n",
      "0 : \n",
      "A  =  0.23255378980362185\n",
      "P  =  0.8146179276611631\n",
      "Y  =  0.04680454119359301\n",
      "m  =  1.7517505599616843\n",
      "k5p  =  0.022145770382990895\n",
      "\n",
      "Eigenvalues = \n",
      "\n",
      "     (-3.730463,0.000000)\n",
      "     (-0.000035,0.000000)\n",
      "     (0.000035,0.000000)\n",
      "\n",
      "\n",
      "B Point found \n",
      "========================== \n",
      "0 : \n",
      "A  =  7.978391629732369e-10\n",
      "P  =  0.8056705921048342\n",
      "Y  =  0.04729974102616231\n",
      "m  =  0.5258097624754698\n",
      "k5p  =  -9.446489099936886e-06\n",
      "\n"
     ]
    }
   ],
   "source": [
    "# Two-parameter bifurcation\n",
    "namefold4 = 'FO4'\n",
    "PCargs = dst.args(name=namefold4)\n",
    "PCargs.type = 'H-C1'\n",
    "PCargs.initpoint = 'EQ1:H3'\n",
    "PCargs.freepars = ['m', 'k5p']\n",
    "PCargs.StepSize = 1e-2\n",
    "PCargs.MaxNumPoints = 2000\n",
    "PCargs.MaxStepSize = 5e-2\n",
    "PCargs.MinStepSize = 1e-4\n",
    "PCargs.SaveEigen = True\n",
    "PCargs.SaveJacobian = True\n",
    "PCargs.LocBifPoints = 'all'\n",
    "PCargs.StopAtPoints = ['B']\n",
    "PCargs.verbosity = 2\n",
    "PC.newCurve(PCargs)\n",
    "PC.curves[namefold4].forward()\n",
    "PC.curves[namefold4].backward()"
   ]
  },
  {
   "cell_type": "code",
   "execution_count": 18,
   "metadata": {},
   "outputs": [
    {
     "name": "stdout",
     "output_type": "stream",
     "text": [
      "B Point found \n",
      "========================== \n",
      "0 : \n",
      "A  =  2.184114872108471\n",
      "P  =  0.8024420822147471\n",
      "Y  =  0.04748100889599624\n",
      "m  =  11.999999987838244\n",
      "k5p  =  0.03268570988489322\n",
      "\n",
      "B Point found \n",
      "========================== \n",
      "0 : \n",
      "A  =  1.7235268991814698\n",
      "P  =  0.7467672022089316\n",
      "Y  =  0.050840960181990046\n",
      "m  =  9.323925751604023\n",
      "k5p  =  -4.406387307405697e-11\n",
      "\n"
     ]
    }
   ],
   "source": [
    "namefold5 = 'FO5'\n",
    "PCargs = dst.args(name=namefold5)\n",
    "PCargs.type = 'LP-C'\n",
    "PCargs.initpoint = 'EQ1:LP3'\n",
    "PCargs.freepars = ['m', 'k5p']\n",
    "PCargs.StepSize = 1e-2\n",
    "PCargs.MaxNumPoints = 2000\n",
    "PCargs.MaxStepSize = 5e-2\n",
    "PCargs.MinStepSize = 1e-4\n",
    "PCargs.SaveEigen = True\n",
    "PCargs.SaveJacobian = True\n",
    "PCargs.LocBifPoints = 'all'\n",
    "PCargs.StopAtPoints = ['B']\n",
    "PCargs.verbosity = 2\n",
    "PC.newCurve(PCargs)\n",
    "PC.curves[namefold5].forward()\n",
    "PC.curves[namefold5].backward()"
   ]
  },
  {
   "cell_type": "code",
   "execution_count": 19,
   "metadata": {},
   "outputs": [
    {
     "name": "stdout",
     "output_type": "stream",
     "text": [
      "B Point found \n",
      "========================== \n",
      "0 : \n",
      "A  =  2.9980369443271577\n",
      "P  =  0.04023646684357683\n",
      "Y  =  0.4985264378350693\n",
      "m  =  3.3989851292302915\n",
      "k5p  =  0.1000000027453241\n",
      "\n",
      "B Point found \n",
      "========================== \n",
      "0 : \n",
      "A  =  1.9902525282736738\n",
      "P  =  0.04089725221222274\n",
      "Y  =  0.4944543715164211\n",
      "m  =  2.293501955019232\n",
      "k5p  =  -2.751061689954999e-10\n",
      "\n"
     ]
    }
   ],
   "source": [
    "namefold6 = 'FO6'\n",
    "PCargs = dst.args(name=namefold6)\n",
    "PCargs.type = 'LP-C'\n",
    "PCargs.initpoint = 'EQ1:LP4'\n",
    "PCargs.freepars = ['m', 'k5p']\n",
    "PCargs.StepSize = 1e-2\n",
    "PCargs.MaxNumPoints = 2000\n",
    "PCargs.MaxStepSize = 5e-2\n",
    "PCargs.MinStepSize = 1e-4\n",
    "PCargs.SaveEigen = True\n",
    "PCargs.SaveJacobian = True\n",
    "PCargs.LocBifPoints = 'all'\n",
    "PCargs.StopAtPoints = ['B']\n",
    "PCargs.verbosity = 2\n",
    "PC.newCurve(PCargs)\n",
    "PC.curves[namefold6].forward()\n",
    "PC.curves[namefold6].backward()"
   ]
  },
  {
   "cell_type": "code",
   "execution_count": 21,
   "metadata": {
    "scrolled": false
   },
   "outputs": [
    {
     "data": {
      "image/png": "[encoded data removed]",
      "text/plain": [
       "<Figure size 864x576 with 1 Axes>"
      ]
     },
     "metadata": {
      "needs_background": "light"
     },
     "output_type": "display_data"
    }
   ],
   "source": [
    "PC[namefold2].display(('m', 'k5p'), stability=True, linewidth=3)\n",
    "PC[namefold3].display(('m', 'k5p'), stability=True, linewidth=3)\n",
    "PC[namefold4].display(('m', 'k5p'), stability=True, linewidth=3)\n",
    "PC[namefold5].display(('m', 'k5p'), stability=True, linewidth=3)\n",
    "PC[namefold6].display(('m', 'k5p'), stability=True, linewidth=3)\n",
    "PC[namefold1].display(('m', 'k5p'), stability=True, linewidth=3)\n",
    "PC.plot.fig1.toggleAll('off', bytype=['B', 'P'])\n",
    "PC.plot.fig1.axes1.axes.set_xlim((0.0, 12.0))\n",
    "PC.plot.fig1.axes1.axes.set_xlabel('$m$', fontsize=16)\n",
    "PC.plot.fig1.axes1.axes.set_ylim((0.0, 0.04))\n",
    "PC.plot.fig1.axes1.axes.set_ylabel('$k_{5p}$', fontsize=16)\n",
    "plt.axvline(x=2.0, lw=3, color='g')\n",
    "PC.plot.fig1.axes1.axes.set_title('')\n",
    "plt.savefig(figdir + 'ApplicationCellCycleOriginalTwoParameterBifurcationFull.png', bbox_inches='tight')\n",
    "plt.show()"
   ]
  },
  {
   "cell_type": "code",
   "execution_count": 1,
   "metadata": {},
   "outputs": [],
   "source": [
    "import numpy as np\n",
    "import PyDSTool as dst\n",
    "from PyDSTool.Toolbox import phaseplane as pp"
   ]
  },
  {
   "cell_type": "code",
   "execution_count": 2,
   "metadata": {},
   "outputs": [],
   "source": [
    "import matplotlib as mpl\n",
    "from matplotlib import pyplot as plt\n",
    "from IPython.display import display, Math"
   ]
  },
  {
   "cell_type": "code",
   "execution_count": 3,
   "metadata": {},
   "outputs": [],
   "source": [
    "mpl.rcParams['figure.figsize'] = [12, 8]\n",
    "mpl.rcParams['font.size'] = 16\n",
    "mpl.rcParams['lines.linewidth'] = 3\n",
    "mpl.rcParams['lines.markersize'] = 8"
   ]
  },
  {
   "cell_type": "code",
   "execution_count": 4,
   "metadata": {},
   "outputs": [],
   "source": [
    "figdir = './figures/'\n",
    "plt.rc('text', usetex=True)"
   ]
  },
  {
   "cell_type": "markdown",
   "metadata": {},
   "source": [
    "## 2. Extended system: bifurcation diagram\n",
    "\n",
    "**In order to run the following lines, we nee to restart the notebook, otherwise, the continuation of the limit cycle would not work. Supposedly, building AUTO for two system will collide.**"
   ]
  },
  {
   "cell_type": "markdown",
   "metadata": {},
   "source": [
    "The cell cycle model is\n",
    "$$\n",
    "\\begin{aligned}\n",
    "    \\frac{dY}{dt} &= k_{1} - (k_{2p} + k_{2pp}P)Y, \\\\\n",
    "    \\frac{dP}{dt} &= \\frac{(k_{3p}+k_{3pp}A)(1-P)}{J_{3}+(1-P)} - k_{4}m\\frac{YP}{J_{4}+P}, \\\\\n",
    "    \\frac{dA}{dt} &= k_{5p} + k_{5pp}\\frac{(mY/J_{5})^{n}}{1+(mY/J_{5})^{n}} - k_{6}A, \\\\\n",
    "    \\frac{dm}{dt} &= \\mu m \\left( 1 - \\frac{m}{K}\\right),\n",
    "\\end{aligned}\n",
    "$$\n",
    "where $k_1, k_{2p}, k_{pp},k_{3p}, k_{3pp}, k_{4}, k_{5p}, k_{5pp}, k_{6}, J_{3}, J_{4}0$ are non-negative rate.\n"
   ]
  },
  {
   "cell_type": "markdown",
   "metadata": {},
   "source": [
    "We can construct the bifurcation diagram using continuation and the `PyDSTool` library of python."
   ]
  },
  {
   "cell_type": "code",
   "execution_count": 5,
   "metadata": {},
   "outputs": [],
   "source": [
    "# dynamical system\n",
    "Ystr = 'k1 - (k2p + k2pp*P)*Y'\n",
    "Pstr = '(k3p + k3pp*A)*(1 - P)/(J3 + 1 - P) - k4*m*Y*P/(J4 + P)'\n",
    "Astr = 'k5p + k5pp*(m*Y/J5)**n/(1 + (m*Y/J5)**n) - k6*A'\n",
    "mstr = 'mu*m*(1 - m/K)'\n",
    "params = {'k1': 0.04,\n",
    "          'k2p':  0.04,\n",
    "          'k2pp':  1.0,\n",
    "          'k3p':  1.0,\n",
    "          'k3pp':  10.0,\n",
    "          'k4':  35.0,\n",
    "          'k5p':  0.005,\n",
    "          'k5pp':  0.2,\n",
    "          'k6':  0.1,\n",
    "          'J3':  0.04,\n",
    "          'J4':  0.04,\n",
    "          'J5':  0.3,\n",
    "          'mu': 0.1,\n",
    "          'K': 2.0,\n",
    "          'n': 4}\n",
    "ics = {'A':  0.8850704900359198,\n",
    "'P':  0.9854966451671725,\n",
    "'Y':  0.03899139282479138,\n",
    "'m':  2.0}\n",
    "DSargs = dst.args(name='CellCycle')\n",
    "DSargs.pars = params\n",
    "DSargs.tdata = [0, 100]\n",
    "DSargs.pdomain = {'mu': [0, 1.0],\n",
    "                  'K': [1.0, 5.0],\n",
    "                  'k1': [0, 1.0], \n",
    "                  'k2p': [0, 10.0], \n",
    "                  'k3p': [0, 10.0], \n",
    "                  'k4': [0, 200.0], \n",
    "                  'k5p': [0, 0.04], \n",
    "                  'k5pp': [0, 10.0],\n",
    "                  'k6': [0, 10.0]}\n",
    "DSargs.xdomain = {'Y': [0, 5.0], 'P': [0, 10.0], 'A': [0, 10.0], 'm': [0, 2.0]}\n",
    "DSargs.varspecs = {'Y': Ystr, 'P': Pstr, 'A': Astr, 'm': mstr}\n",
    "DSargs.ics = ics\n",
    "DS = dst.Generator.Vode_ODEsystem(DSargs)"
   ]
  },
  {
   "cell_type": "code",
   "execution_count": 6,
   "metadata": {},
   "outputs": [
    {
     "data": {
      "image/png": "[encoded data removed]",
      "text/plain": [
       "<Figure size 864x576 with 1 Axes>"
      ]
     },
     "metadata": {
      "needs_background": "light"
     },
     "output_type": "display_data"
    }
   ],
   "source": [
    "traj = DS.compute('cycle')\n",
    "cycle = traj.sample(dt=0.0001, tlo=0, thi=53.32, precise=True)\n",
    "cycle.indepvararray = cycle.indepvararray.flatten()\n",
    "plt.plot(cycle['A'], cycle['Y'])\n",
    "plt.xlabel('$A$')\n",
    "plt.ylabel('$Y$')\n",
    "plt.show()"
   ]
  },
  {
   "cell_type": "code",
   "execution_count": 7,
   "metadata": {},
   "outputs": [
    {
     "name": "stdout",
     "output_type": "stream",
     "text": [
      "running build\n",
      "running config_cc\n",
      "unifing config_cc, config, build_clib, build_ext, build commands --compiler options\n",
      "running config_fc\n",
      "unifing config_fc, config, build_clib, build_ext, build commands --fcompiler options\n",
      "running build_src\n",
      "build_src\n",
      "building extension \"_auto_CellCycle_vf\" sources\n",
      "swig: /home/shigoto/Documents/Work/Projects/2020-05 Saddle-node Bifurcation Carryover/codes/notebooks/auto_temp/auto_CellCycle_vf.i\n",
      "swig -python -I/home/shigoto/.local/lib/python3.8/site-packages/numpy/core/include -I/home/shigoto/Documents/Work/Projects/2020-05 Saddle-node Bifurcation Carryover/codes/notebooks -I/home/shigoto/.local/lib/python3.8/site-packages/PyDSTool/PyCont/auto/module/include -I/home/shigoto/Documents/Work/Projects/2020-05 Saddle-node Bifurcation Carryover/codes/notebooks/auto_temp -I/home/shigoto/.local/lib/python3.8/site-packages/PyDSTool/PyCont/auto/src/include -o auto_temp/src.linux-x86_64-3.8/auto_temp/auto_CellCycle_vf_wrap.c -outdir auto_temp/src.linux-x86_64-3.8/auto_temp /home/shigoto/Documents/Work/Projects/2020-05 Saddle-node Bifurcation Carryover/codes/notebooks/auto_temp/auto_CellCycle_vf.i\n",
      "build_src: building npy-pkg config files\n",
      "running build_ext\n",
      "new_compiler returns <class 'distutils.unixccompiler.UnixCCompiler'>\n",
      "customize UnixCCompiler\n",
      "customize UnixCCompiler using build_ext\n",
      "********************************************************************************\n",
      "<class 'distutils.unixccompiler.UnixCCompiler'>\n",
      "preprocessor  = ['x86_64-linux-gnu-gcc', '-pthread', '-E', '-Wdate-time', '-D_FORTIFY_SOURCE=2']\n",
      "compiler      = ['x86_64-linux-gnu-gcc', '-pthread', '-Wno-unused-result', '-Wsign-compare', '-DNDEBUG', '-g', '-fwrapv', '-O2', '-Wall', '-g', '-fstack-protector-strong', '-Wformat', '-Werror=format-security', '-g', '-fwrapv', '-O2', '-g', '-fstack-protector-strong', '-Wformat', '-Werror=format-security', '-Wdate-time', '-D_FORTIFY_SOURCE=2']\n",
      "compiler_so   = ['x86_64-linux-gnu-gcc', '-pthread', '-Wno-unused-result', '-Wsign-compare', '-DNDEBUG', '-g', '-fwrapv', '-O2', '-Wall', '-g', '-fstack-protector-strong', '-Wformat', '-Werror=format-security', '-g', '-fwrapv', '-O2', '-g', '-fstack-protector-strong', '-Wformat', '-Werror=format-security', '-Wdate-time', '-D_FORTIFY_SOURCE=2', '-fPIC']\n",
      "compiler_cxx  = ['x86_64-linux-gnu-g++', '-pthread']\n",
      "linker_so     = ['x86_64-linux-gnu-gcc', '-pthread', '-shared', '-Wl,-O1', '-Wl,-Bsymbolic-functions', '-Wl,-Bsymbolic-functions', '-Wl,-z,relro', '-g', '-fwrapv', '-O2', '-Wl,-Bsymbolic-functions', '-Wl,-z,relro', '-g', '-fwrapv', '-O2', '-g', '-fstack-protector-strong', '-Wformat', '-Werror=format-security', '-Wdate-time', '-D_FORTIFY_SOURCE=2']\n",
      "linker_exe    = ['x86_64-linux-gnu-gcc', '-pthread']\n",
      "archiver      = ['x86_64-linux-gnu-gcc-ar', 'rcs']\n",
      "ranlib        = None\n",
      "libraries     = []\n",
      "library_dirs  = []\n",
      "include_dirs  = ['/usr/include/python3.8']\n",
      "********************************************************************************\n",
      "building '_auto_CellCycle_vf' extension\n",
      "compiling C sources\n",
      "C compiler: x86_64-linux-gnu-gcc -pthread -Wno-unused-result -Wsign-compare -DNDEBUG -g -fwrapv -O2 -Wall -g -fstack-protector-strong -Wformat -Werror=format-security -g -fwrapv -O2 -g -fstack-protector-strong -Wformat -Werror=format-security -Wdate-time -D_FORTIFY_SOURCE=2 -fPIC\n",
      "\n",
      "compile options: '-I/home/shigoto/.local/lib/python3.8/site-packages/numpy/core/include -I/home/shigoto/Documents/Work/Projects/2020-05 Saddle-node Bifurcation Carryover/codes/notebooks -I/home/shigoto/.local/lib/python3.8/site-packages/PyDSTool/PyCont/auto/module/include -I/home/shigoto/Documents/Work/Projects/2020-05 Saddle-node Bifurcation Carryover/codes/notebooks/auto_temp -I/home/shigoto/.local/lib/python3.8/site-packages/PyDSTool/PyCont/auto/src/include -I/home/shigoto/.local/lib/python3.8/site-packages/numpy/core/include -I/usr/include/python3.8 -c'\n",
      "extra options: '-w -D__PYTHON__ -std=c99'\n",
      "x86_64-linux-gnu-gcc: auto_temp/src.linux-x86_64-3.8/auto_temp/auto_CellCycle_vf_wrap.c\n",
      "x86_64-linux-gnu-gcc: /home/shigoto/Documents/Work/Projects/2020-05 Saddle-node Bifurcation Carryover/codes/notebooks/auto_temp/CellCycle_vf.c\n",
      "x86_64-linux-gnu-gcc -pthread -shared -Wl,-O1 -Wl,-Bsymbolic-functions -Wl,-Bsymbolic-functions -Wl,-z,relro -g -fwrapv -O2 -Wl,-Bsymbolic-functions -Wl,-z,relro -g -fwrapv -O2 -g -fstack-protector-strong -Wformat -Werror=format-security -Wdate-time -D_FORTIFY_SOURCE=2 auto_temp/auto_temp/src.linux-x86_64-3.8/auto_temp/auto_CellCycle_vf_wrap.o auto_temp/home/shigoto/.local/lib/python3.8/site-packages/PyDSTool/PyCont/auto/src/auto.o auto_temp/home/shigoto/.local/lib/python3.8/site-packages/PyDSTool/PyCont/auto/src/autlib1.o auto_temp/home/shigoto/.local/lib/python3.8/site-packages/PyDSTool/PyCont/auto/src/autlib2.o auto_temp/home/shigoto/.local/lib/python3.8/site-packages/PyDSTool/PyCont/auto/src/autlib3.o auto_temp/home/shigoto/.local/lib/python3.8/site-packages/PyDSTool/PyCont/auto/src/autlib4.o auto_temp/home/shigoto/.local/lib/python3.8/site-packages/PyDSTool/PyCont/auto/src/autlib5.o auto_temp/home/shigoto/.local/lib/python3.8/site-packages/PyDSTool/PyCont/auto/src/eispack.o auto_temp/home/shigoto/.local/lib/python3.8/site-packages/PyDSTool/PyCont/auto/src/conpar.o auto_temp/home/shigoto/.local/lib/python3.8/site-packages/PyDSTool/PyCont/auto/src/setubv.o auto_temp/home/shigoto/.local/lib/python3.8/site-packages/PyDSTool/PyCont/auto/src/reduce.o auto_temp/home/shigoto/.local/lib/python3.8/site-packages/PyDSTool/PyCont/auto/src/dmatrix.o auto_temp/home/shigoto/.local/lib/python3.8/site-packages/PyDSTool/PyCont/auto/src/fcon.o auto_temp/home/shigoto/.local/lib/python3.8/site-packages/PyDSTool/PyCont/auto/src/libf2c/cabs.o auto_temp/home/shigoto/.local/lib/python3.8/site-packages/PyDSTool/PyCont/auto/src/libf2c/d_lg10.o auto_temp/home/shigoto/.local/lib/python3.8/site-packages/PyDSTool/PyCont/auto/src/libf2c/i_nint.o auto_temp/home/shigoto/.local/lib/python3.8/site-packages/PyDSTool/PyCont/auto/src/libf2c/pow_di.o auto_temp/home/shigoto/.local/lib/python3.8/site-packages/PyDSTool/PyCont/auto/src/libf2c/r_lg10.o auto_temp/home/shigoto/.local/lib/python3.8/site-packages/PyDSTool/PyCont/auto/src/libf2c/z_exp.o auto_temp/home/shigoto/.local/lib/python3.8/site-packages/PyDSTool/PyCont/auto/src/libf2c/d_imag.o auto_temp/home/shigoto/.local/lib/python3.8/site-packages/PyDSTool/PyCont/auto/src/libf2c/d_sign.o auto_temp/home/shigoto/.local/lib/python3.8/site-packages/PyDSTool/PyCont/auto/src/libf2c/i_dnnt.o auto_temp/home/shigoto/.local/lib/python3.8/site-packages/PyDSTool/PyCont/auto/src/libf2c/pow_dd.o auto_temp/home/shigoto/.local/lib/python3.8/site-packages/PyDSTool/PyCont/auto/src/libf2c/pow_ii.o auto_temp/home/shigoto/.local/lib/python3.8/site-packages/PyDSTool/PyCont/auto/src/libf2c/z_abs.o auto_temp/home/shigoto/.local/lib/python3.8/site-packages/PyDSTool/PyCont/auto/src/libf2c/z_log.o auto_temp/home/shigoto/.local/lib/python3.8/site-packages/PyDSTool/PyCont/auto/module/automod.o auto_temp/home/shigoto/.local/lib/python3.8/site-packages/PyDSTool/PyCont/auto/module/interface.o auto_temp/home/shigoto/Documents/Work/Projects/2020-05 Saddle-node Bifurcation Carryover/codes/notebooks/auto_temp/CellCycle_vf.o -L./ -o ./_auto_CellCycle_vf.cpython-38-x86_64-linux-gnu.so -w\n"
     ]
    }
   ],
   "source": [
    "PC = dst.ContClass(DS)\n",
    "name3 = 'LC2'\n",
    "PCargs = dst.args(name=name3)\n",
    "PCargs.type = 'LC-C'\n",
    "PCargs.initcycle = cycle\n",
    "PCargs.freepars = ['k5p']\n",
    "PCargs.StepSize = 2e-2\n",
    "PCargs.MaxNumPoints = 50000\n",
    "PCargs.MaxStepSize = 5e-2\n",
    "PCargs.MinStepSize = 1e-4\n",
    "PCargs.MaxTestIters = 1000\n",
    "PCargs.SolutionMeasures = 'min'\n",
    "PCargs.NumSPOut = 40\n",
    "PCargs.SaveEigen = True\n",
    "PCargs.verbosity = 2\n",
    "\n",
    "PC.newCurve(PCargs)\n",
    "PC.curves[name3].backward()\n",
    "PC.curves[name3].forward()"
   ]
  },
  {
   "cell_type": "code",
   "execution_count": 8,
   "metadata": {},
   "outputs": [
    {
     "data": {
      "text/plain": [
       "({'A': 0.051215411878439525,\n",
       "  'P': 1.6581629493592063,\n",
       "  'Y': 0.02355486557700103,\n",
       "  'm': 2.0},\n",
       " {'A': 0.05000000000000002,\n",
       "  'P': 0.9999999999999956,\n",
       "  'Y': 0.03846153846154625,\n",
       "  'm': -1.583327336586685e-19},\n",
       " {'A': 0.7127848739479983,\n",
       "  'P': 0.277816108256646,\n",
       "  'Y': 0.12585894471937878,\n",
       "  'm': 2.0},\n",
       " {'A': 0.055562950271203844,\n",
       "  'P': 1.120372749494177,\n",
       "  'Y': 0.034471681636286694,\n",
       "  'm': 2.0})"
      ]
     },
     "execution_count": 8,
     "metadata": {},
     "output_type": "execute_result"
    }
   ],
   "source": [
    "fps = pp.find_fixedpoints(DS, n=4, eps=1e-8)\n",
    "fps"
   ]
  },
  {
   "cell_type": "code",
   "execution_count": 9,
   "metadata": {
    "scrolled": false
   },
   "outputs": [
    {
     "name": "stdout",
     "output_type": "stream",
     "text": [
      "Test function going crazy:  class Hopf_Bor(BorderMethod, BiAltMethod) \n",
      "\n",
      "Neutral saddle found!\n",
      "\n",
      "\n",
      "Checking...\n",
      "  |q| = 1.000000\n",
      "  <p,q> = 1.000000\n",
      "  |Aq| = 0.000000\n",
      "  |transpose(A)p| = 0.000000\n",
      "\n",
      "LP Point found \n",
      "========================== \n",
      "0 : \n",
      "A  =  0.42325685315315825\n",
      "P  =  0.49418945769437567\n",
      "Y  =  0.07487980046001787\n",
      "m  =  2.0\n",
      "k5p  =  0.030631818510688053\n",
      "\n",
      "Eigenvalues = \n",
      "\n",
      "     (-3.262166,0.000000)\n",
      "     (-0.000000,0.000000)\n",
      "     (1.190667,0.000000)\n",
      "     (-0.100000,0.000000)\n",
      "\n",
      "\n",
      "a = 0.1897815445176204\n",
      "\n",
      "\n",
      "Checking...\n",
      "  |q| = 1.000000\n",
      "  <p,q> = 1.000000\n",
      "  |Aq| = 0.000000\n",
      "  |transpose(A)p| = 0.000001\n",
      "\n",
      "LP Point found \n",
      "========================== \n",
      "0 : \n",
      "A  =  0.2803176459936144\n",
      "P  =  0.8061908131345967\n",
      "Y  =  0.04727066210022481\n",
      "m  =  2.0\n",
      "k5p  =  0.02607846297252048\n",
      "\n",
      "Eigenvalues = \n",
      "\n",
      "     (-3.979172,0.000000)\n",
      "     (0.000000,0.000000)\n",
      "     (0.065326,0.000000)\n",
      "     (-0.100000,0.000000)\n",
      "\n",
      "\n",
      "a = 4.20609782177662\n",
      "\n",
      "B Point found \n",
      "========================== \n",
      "0 : \n",
      "A  =  0.41026470315076313\n",
      "P  =  0.9550179096429889\n",
      "Y  =  0.04020028143448387\n",
      "m  =  2.0\n",
      "k5p  =  0.03999999941772164\n",
      "\n",
      "B Point found \n",
      "========================== \n",
      "0 : \n",
      "A  =  0.7430643214299477\n",
      "P  =  0.264116786251532\n",
      "Y  =  0.13152841871384371\n",
      "m  =  2.0\n",
      "k5p  =  -4.711793687355904e-10\n",
      "\n"
     ]
    }
   ],
   "source": [
    "name1 = 'EQ1'\n",
    "PCargs = dst.args(name=name1)\n",
    "PCargs.type = 'EP-C'\n",
    "PCargs.initpoint = fps[2]\n",
    "PCargs.freepars = ['k5p']\n",
    "PCargs.StepSize = 1e-3\n",
    "PCargs.MaxNumPoints = 5000\n",
    "PCargs.MaxStepSize = 5e-3\n",
    "PCargs.MinStepSize = 1e-6\n",
    "PCargs.MaxTestIters = 20\n",
    "PCargs.LocBifPoints = 'all'\n",
    "PCargs.SaveEigen = True\n",
    "PCargs.StopAtPoints = ['B']\n",
    "PCargs.verbosity = 2\n",
    "\n",
    "PC.newCurve(PCargs)\n",
    "PC.curves[name1].backward()\n",
    "PC.curves[name1].forward()"
   ]
  },
  {
   "cell_type": "code",
   "execution_count": 10,
   "metadata": {
    "scrolled": false
   },
   "outputs": [
    {
     "name": "stdout",
     "output_type": "stream",
     "text": [
      "B Point found \n",
      "========================== \n",
      "0 : \n",
      "A  =  0.00019426821331178064\n",
      "P  =  2.6460568996415366\n",
      "Y  =  0.014891717299562098\n",
      "m  =  2.0\n",
      "k5p  =  -7.1106153670900636e-12\n",
      "\n",
      "Neutral saddle found!\n",
      "\n",
      "Neutral saddle found!\n",
      "\n",
      "\n",
      "Checking...\n",
      "  |q| = 1.000000\n",
      "  <p,q> = 1.000000\n",
      "  |Aq| = 0.000000\n",
      "  |transpose(A)p| = 0.000004\n",
      "\n",
      "LP Point found \n",
      "========================== \n",
      "0 : \n",
      "A  =  0.07661331695998193\n",
      "P  =  1.2629326875349751\n",
      "Y  =  0.030699974283150574\n",
      "m  =  2.0\n",
      "k5p  =  0.0073110191871714044\n",
      "\n",
      "Eigenvalues = \n",
      "\n",
      "     (-2.835345,0.000000)\n",
      "     (-0.039687,0.000000)\n",
      "     (-0.000000,0.000000)\n",
      "     (-0.100000,0.000000)\n",
      "\n",
      "\n",
      "a = 6.43066659482632\n",
      "\n",
      "B Point found \n",
      "========================== \n",
      "0 : \n",
      "A  =  0.006609306830907341\n",
      "P  =  1.0712910661422828\n",
      "Y  =  0.03599417040114912\n",
      "m  =  2.0\n",
      "k5p  =  -2.265097847256428e-10\n",
      "\n"
     ]
    }
   ],
   "source": [
    "name2 = 'EQ2'\n",
    "PCargs = dst.args(name=name2)\n",
    "PCargs.type = 'EP-C'\n",
    "PCargs.initpoint = fps[0]\n",
    "PCargs.freepars = ['k5p']\n",
    "PCargs.StepSize = 1e-3\n",
    "PCargs.MaxNumPoints = 5000\n",
    "PCargs.MaxStepSize = 5e-3\n",
    "PCargs.MinStepSize = 1e-6\n",
    "PCargs.MaxTestIters = 20\n",
    "PCargs.LocBifPoints = 'all'\n",
    "PCargs.SaveEigen = True\n",
    "PCargs.StopAtPoints = ['B']\n",
    "PCargs.verbosity = 2\n",
    "\n",
    "PC.newCurve(PCargs)\n",
    "PC.curves[name2].backward()\n",
    "PC.curves[name2].forward()"
   ]
  },
  {
   "cell_type": "markdown",
   "metadata": {},
   "source": [
    "Indeed there is a bifurcation point (`LP1`) at which a critical transition drives gen activation."
   ]
  },
  {
   "cell_type": "code",
   "execution_count": 11,
   "metadata": {},
   "outputs": [
    {
     "data": {
      "image/png": "[encoded data removed]",
      "text/plain": [
       "<Figure size 864x576 with 1 Axes>"
      ]
     },
     "metadata": {
      "needs_background": "light"
     },
     "output_type": "display_data"
    }
   ],
   "source": [
    "PC[name1].display(('k5p', 'Y'), stability=True, linewidth=3)\n",
    "PC[name2].display(('k5p', 'Y'), stability=True, linewidth=3)\n",
    "PC[name3].display(('k5p', 'Y_min'), stability=True, linewidth=3)\n",
    "PC[name3].display(('k5p', 'Y_max'), stability=True, linewidth=3)\n",
    "PC.plot.fig1.toggleAll('off', bytype=['P', 'B', 'MX', 'RG'])\n",
    "PC.plot.fig1.axes1.axes.set_xlabel('$k_{5p}$', fontsize=16)\n",
    "PC.plot.fig1.axes1.axes.set_xlim((0.0, 0.04))\n",
    "PC.plot.fig1.axes1.axes.set_ylabel('$Y$', fontsize=16)\n",
    "PC.plot.fig1.axes1.axes.set_ylim((0.0, 0.5))\n",
    "PC.plot.fig1.axes1.axes.set_title('')\n",
    "plt.savefig(figdir + 'ApplicationCellCycleExtendedlBifurcationFull.png', bbox_inches='tight')\n",
    "plt.show()"
   ]
  },
  {
   "cell_type": "markdown",
   "metadata": {},
   "source": [
    "Same diagram as before."
   ]
  }
 ],
 "metadata": {
  "@webio": {
   "lastCommId": null,
   "lastKernelId": null
  },
  "kernelspec": {
   "display_name": "Python 3",
   "language": "python",
   "name": "python3"
  },
  "language_info": {
   "codemirror_mode": {
    "name": "ipython",
    "version": 3
   },
   "file_extension": ".py",
   "mimetype": "text/x-python",
   "name": "python",
   "nbconvert_exporter": "python",
   "pygments_lexer": "ipython3",
   "version": "3.8.5"
  }
 },
 "nbformat": 4,
 "nbformat_minor": 2
}
