{
 "cells": [
  {
   "cell_type": "code",
   "execution_count": 1,
   "metadata": {},
   "outputs": [],
   "source": [
    "import numpy as np\n",
    "import PyDSTool as dst\n",
    "from PyDSTool.Toolbox import phaseplane as pp"
   ]
  },
  {
   "cell_type": "code",
   "execution_count": 2,
   "metadata": {},
   "outputs": [],
   "source": [
    "import matplotlib as mpl\n",
    "from matplotlib import pyplot as plt\n",
    "from IPython.display import display, Math"
   ]
  },
  {
   "cell_type": "code",
   "execution_count": 28,
   "metadata": {},
   "outputs": [],
   "source": [
    "mpl.rcParams['figure.figsize'] = [12, 8]\n",
    "mpl.rcParams['font.size'] = 16\n",
    "mpl.rcParams['lines.linewidth'] = 3\n",
    "mpl.rcParams['lines.markersize'] = 8"
   ]
  },
  {
   "cell_type": "code",
   "execution_count": 4,
   "metadata": {},
   "outputs": [],
   "source": [
    "figdir = './figures/'\n",
    "plt.rc('text', usetex=True)"
   ]
  },
  {
   "cell_type": "markdown",
   "metadata": {},
   "source": [
    "# Carryover of a saddle-node bifurcation\n",
    "# Application: cell cycle"
   ]
  },
  {
   "cell_type": "markdown",
   "metadata": {},
   "source": [
    "## 1. Original system: bifurcation diagrams"
   ]
  },
  {
   "cell_type": "markdown",
   "metadata": {},
   "source": [
    "The cell cycle model is\n",
    "$$\n",
    "\\begin{aligned}\n",
    "    \\frac{dY}{dt} &= k_{1} - (k_{2p} + k_{2pp}P)Y, \\\\\n",
    "    \\frac{dP}{dt} &= \\frac{(k_{3p}+k_{3pp}A)(1-P)}{J_{3}+(1-P)} - k_{4}m\\frac{YP}{J_{4}+P}, \\\\\n",
    "    \\frac{dA}{dt} &= k_{5p} + k_{5pp}\\frac{(mY/J_{5})^{n}}{1+(mY/J_{5})^{n}} - k_{6}A,\n",
    "\\end{aligned}\n",
    "$$\n",
    "where $k_1, k_{2p}, k_{pp},k_{3p}, k_{3pp}, k_{4}, k_{5p}, k_{5pp}, k_{6}, J_{3}, J_{4}0$ are non-negative rate (add references here in markdown syntax: Segel2013, TysonNovak2011).\n"
   ]
  },
  {
   "cell_type": "markdown",
   "metadata": {},
   "source": [
    "We can construct the bifurcation diagram using continuation and the `PyDSTool` library of python."
   ]
  },
  {
   "cell_type": "code",
   "execution_count": 69,
   "metadata": {},
   "outputs": [],
   "source": [
    "# dynamical system\n",
    "Ystr = 'k1 - (k2p + k2pp*P)*Y'\n",
    "Pstr = '(k3p + k3pp*A)*(1 - P)/(J3 + 1 - P) - k4*m*Y*P/(J4 + P)'\n",
    "Astr = 'k5p + k5pp*(m*Y/J5)**n/(1 + (m*Y/J5)**n) - k6*A'\n",
    "params = {'k1': 0.04,\n",
    "          'k2p':  0.04,\n",
    "          'k2pp':  1.0,\n",
    "          'k3p':  1.0,\n",
    "          'k3pp':  10.0,\n",
    "          'k4':  35.0,\n",
    "          'k5p':  0.005,\n",
    "          'k5pp':  0.2,\n",
    "          'k6':  0.1,\n",
    "          'J3':  0.04,\n",
    "          'J4':  0.04,\n",
    "          'J5':  0.3,\n",
    "          'm': 1.0,\n",
    "          'n': 4}\n",
    "ics = {'A':  0.5589948209351,\n",
    "       'P':  0.9899006517009776,\n",
    "       'Y':  0.03951157409159911}\n",
    "DSargs = dst.args(name='CellCycle')\n",
    "DSargs.pars = params\n",
    "DSargs.tdata = [0, 100]\n",
    "DSargs.pdomain = {'m': [0, 12.0], \n",
    "                  'k1': [0, 1.0], \n",
    "                  'k2p': [0, 10.0], \n",
    "                  'k3p': [0, 10.0], \n",
    "                  'k4': [0, 200.0], \n",
    "                  'k5p': [0, 0.1], \n",
    "                  'k5pp': [0, 10.0],\n",
    "                  'k6': [0, 10.0]}\n",
    "DSargs.xdomain = {'Y': [0, 5.0], 'P': [0, 10.0], 'A': [0, 10.0]}\n",
    "DSargs.varspecs = {'Y': Ystr, 'P': Pstr, 'A': Astr}\n",
    "DSargs.ics = ics\n",
    "DS = dst.Generator.Vode_ODEsystem(DSargs)"
   ]
  },
  {
   "cell_type": "code",
   "execution_count": 70,
   "metadata": {},
   "outputs": [
    {
     "data": {
      "image/png": "[encoded data removed]",
      "text/plain": [
       "<Figure size 864x576 with 1 Axes>"
      ]
     },
     "metadata": {
      "needs_background": "light"
     },
     "output_type": "display_data"
    }
   ],
   "source": [
    "traj = DS.compute('cycle')\n",
    "cycle = traj.sample(dt=0.0001, tlo=0, thi=56.45, precise=True)\n",
    "cycle.indepvararray = cycle.indepvararray.flatten()\n",
    "plt.plot(cycle['A'], cycle['Y'])\n",
    "plt.xlabel('$A$')\n",
    "plt.ylabel('$Y$')\n",
    "plt.show()"
   ]
  },
  {
   "cell_type": "code",
   "execution_count": 71,
   "metadata": {},
   "outputs": [
    {
     "name": "stdout",
     "output_type": "stream",
     "text": [
      "running build\n",
      "running config_cc\n",
      "unifing config_cc, config, build_clib, build_ext, build commands --compiler options\n",
      "running config_fc\n",
      "unifing config_fc, config, build_clib, build_ext, build commands --fcompiler options\n",
      "running build_src\n",
      "build_src\n",
      "building extension \"_auto_CellCycle_vf\" sources\n",
      "swig: /home/shigoto/Documents/Work/Projects/2020-05 Saddle-node Bifurcation Carryover/codes/notebooks/auto_temp/auto_CellCycle_vf.i\n",
      "swig -python -I/home/shigoto/.local/lib/python3.8/site-packages/numpy/core/include -I/home/shigoto/Documents/Work/Projects/2020-05 Saddle-node Bifurcation Carryover/codes/notebooks -I/home/shigoto/.local/lib/python3.8/site-packages/PyDSTool/PyCont/auto/module/include -I/home/shigoto/Documents/Work/Projects/2020-05 Saddle-node Bifurcation Carryover/codes/notebooks/auto_temp -I/home/shigoto/.local/lib/python3.8/site-packages/PyDSTool/PyCont/auto/src/include -o auto_temp/src.linux-x86_64-3.8/auto_temp/auto_CellCycle_vf_wrap.c -outdir auto_temp/src.linux-x86_64-3.8/auto_temp /home/shigoto/Documents/Work/Projects/2020-05 Saddle-node Bifurcation Carryover/codes/notebooks/auto_temp/auto_CellCycle_vf.i\n",
      "build_src: building npy-pkg config files\n",
      "running build_ext\n",
      "new_compiler returns <class 'distutils.unixccompiler.UnixCCompiler'>\n",
      "customize UnixCCompiler\n",
      "customize UnixCCompiler using build_ext\n",
      "********************************************************************************\n",
      "<class 'distutils.unixccompiler.UnixCCompiler'>\n",
      "preprocessor  = ['x86_64-linux-gnu-gcc', '-pthread', '-E', '-Wdate-time', '-D_FORTIFY_SOURCE=2']\n",
      "compiler      = ['x86_64-linux-gnu-gcc', '-pthread', '-Wno-unused-result', '-Wsign-compare', '-DNDEBUG', '-g', '-fwrapv', '-O2', '-Wall', '-g', '-fstack-protector-strong', '-Wformat', '-Werror=format-security', '-g', '-fwrapv', '-O2', '-g', '-fstack-protector-strong', '-Wformat', '-Werror=format-security', '-Wdate-time', '-D_FORTIFY_SOURCE=2']\n",
      "compiler_so   = ['x86_64-linux-gnu-gcc', '-pthread', '-Wno-unused-result', '-Wsign-compare', '-DNDEBUG', '-g', '-fwrapv', '-O2', '-Wall', '-g', '-fstack-protector-strong', '-Wformat', '-Werror=format-security', '-g', '-fwrapv', '-O2', '-g', '-fstack-protector-strong', '-Wformat', '-Werror=format-security', '-Wdate-time', '-D_FORTIFY_SOURCE=2', '-fPIC']\n",
      "compiler_cxx  = ['x86_64-linux-gnu-g++', '-pthread']\n",
      "linker_so     = ['x86_64-linux-gnu-gcc', '-pthread', '-shared', '-Wl,-O1', '-Wl,-Bsymbolic-functions', '-Wl,-Bsymbolic-functions', '-Wl,-z,relro', '-g', '-fwrapv', '-O2', '-Wl,-Bsymbolic-functions', '-Wl,-z,relro', '-g', '-fwrapv', '-O2', '-g', '-fstack-protector-strong', '-Wformat', '-Werror=format-security', '-Wdate-time', '-D_FORTIFY_SOURCE=2']\n",
      "linker_exe    = ['x86_64-linux-gnu-gcc', '-pthread']\n",
      "archiver      = ['x86_64-linux-gnu-gcc-ar', 'rcs']\n",
      "ranlib        = None\n",
      "libraries     = []\n",
      "library_dirs  = []\n",
      "include_dirs  = ['/usr/include/python3.8']\n",
      "********************************************************************************\n",
      "building '_auto_CellCycle_vf' extension\n",
      "compiling C sources\n",
      "C compiler: x86_64-linux-gnu-gcc -pthread -Wno-unused-result -Wsign-compare -DNDEBUG -g -fwrapv -O2 -Wall -g -fstack-protector-strong -Wformat -Werror=format-security -g -fwrapv -O2 -g -fstack-protector-strong -Wformat -Werror=format-security -Wdate-time -D_FORTIFY_SOURCE=2 -fPIC\n",
      "\n",
      "compile options: '-I/home/shigoto/.local/lib/python3.8/site-packages/numpy/core/include -I/home/shigoto/Documents/Work/Projects/2020-05 Saddle-node Bifurcation Carryover/codes/notebooks -I/home/shigoto/.local/lib/python3.8/site-packages/PyDSTool/PyCont/auto/module/include -I/home/shigoto/Documents/Work/Projects/2020-05 Saddle-node Bifurcation Carryover/codes/notebooks/auto_temp -I/home/shigoto/.local/lib/python3.8/site-packages/PyDSTool/PyCont/auto/src/include -I/home/shigoto/.local/lib/python3.8/site-packages/numpy/core/include -I/usr/include/python3.8 -c'\n",
      "extra options: '-w -D__PYTHON__ -std=c99'\n",
      "x86_64-linux-gnu-gcc: auto_temp/src.linux-x86_64-3.8/auto_temp/auto_CellCycle_vf_wrap.c\n",
      "x86_64-linux-gnu-gcc: /home/shigoto/Documents/Work/Projects/2020-05 Saddle-node Bifurcation Carryover/codes/notebooks/auto_temp/CellCycle_vf.c\n",
      "x86_64-linux-gnu-gcc -pthread -shared -Wl,-O1 -Wl,-Bsymbolic-functions -Wl,-Bsymbolic-functions -Wl,-z,relro -g -fwrapv -O2 -Wl,-Bsymbolic-functions -Wl,-z,relro -g -fwrapv -O2 -g -fstack-protector-strong -Wformat -Werror=format-security -Wdate-time -D_FORTIFY_SOURCE=2 auto_temp/auto_temp/src.linux-x86_64-3.8/auto_temp/auto_CellCycle_vf_wrap.o auto_temp/home/shigoto/.local/lib/python3.8/site-packages/PyDSTool/PyCont/auto/src/auto.o auto_temp/home/shigoto/.local/lib/python3.8/site-packages/PyDSTool/PyCont/auto/src/autlib1.o auto_temp/home/shigoto/.local/lib/python3.8/site-packages/PyDSTool/PyCont/auto/src/autlib2.o auto_temp/home/shigoto/.local/lib/python3.8/site-packages/PyDSTool/PyCont/auto/src/autlib3.o auto_temp/home/shigoto/.local/lib/python3.8/site-packages/PyDSTool/PyCont/auto/src/autlib4.o auto_temp/home/shigoto/.local/lib/python3.8/site-packages/PyDSTool/PyCont/auto/src/autlib5.o auto_temp/home/shigoto/.local/lib/python3.8/site-packages/PyDSTool/PyCont/auto/src/eispack.o auto_temp/home/shigoto/.local/lib/python3.8/site-packages/PyDSTool/PyCont/auto/src/conpar.o auto_temp/home/shigoto/.local/lib/python3.8/site-packages/PyDSTool/PyCont/auto/src/setubv.o auto_temp/home/shigoto/.local/lib/python3.8/site-packages/PyDSTool/PyCont/auto/src/reduce.o auto_temp/home/shigoto/.local/lib/python3.8/site-packages/PyDSTool/PyCont/auto/src/dmatrix.o auto_temp/home/shigoto/.local/lib/python3.8/site-packages/PyDSTool/PyCont/auto/src/fcon.o auto_temp/home/shigoto/.local/lib/python3.8/site-packages/PyDSTool/PyCont/auto/src/libf2c/cabs.o auto_temp/home/shigoto/.local/lib/python3.8/site-packages/PyDSTool/PyCont/auto/src/libf2c/d_lg10.o auto_temp/home/shigoto/.local/lib/python3.8/site-packages/PyDSTool/PyCont/auto/src/libf2c/i_nint.o auto_temp/home/shigoto/.local/lib/python3.8/site-packages/PyDSTool/PyCont/auto/src/libf2c/pow_di.o auto_temp/home/shigoto/.local/lib/python3.8/site-packages/PyDSTool/PyCont/auto/src/libf2c/r_lg10.o auto_temp/home/shigoto/.local/lib/python3.8/site-packages/PyDSTool/PyCont/auto/src/libf2c/z_exp.o auto_temp/home/shigoto/.local/lib/python3.8/site-packages/PyDSTool/PyCont/auto/src/libf2c/d_imag.o auto_temp/home/shigoto/.local/lib/python3.8/site-packages/PyDSTool/PyCont/auto/src/libf2c/d_sign.o auto_temp/home/shigoto/.local/lib/python3.8/site-packages/PyDSTool/PyCont/auto/src/libf2c/i_dnnt.o auto_temp/home/shigoto/.local/lib/python3.8/site-packages/PyDSTool/PyCont/auto/src/libf2c/pow_dd.o auto_temp/home/shigoto/.local/lib/python3.8/site-packages/PyDSTool/PyCont/auto/src/libf2c/pow_ii.o auto_temp/home/shigoto/.local/lib/python3.8/site-packages/PyDSTool/PyCont/auto/src/libf2c/z_abs.o auto_temp/home/shigoto/.local/lib/python3.8/site-packages/PyDSTool/PyCont/auto/src/libf2c/z_log.o auto_temp/home/shigoto/.local/lib/python3.8/site-packages/PyDSTool/PyCont/auto/module/automod.o auto_temp/home/shigoto/.local/lib/python3.8/site-packages/PyDSTool/PyCont/auto/module/interface.o auto_temp/home/shigoto/Documents/Work/Projects/2020-05 Saddle-node Bifurcation Carryover/codes/notebooks/auto_temp/CellCycle_vf.o -L./ -o ./_auto_CellCycle_vf.cpython-38-x86_64-linux-gnu.so -w\n"
     ]
    }
   ],
   "source": [
    "PC = dst.ContClass(DS)\n",
    "name3 = 'LC2'\n",
    "PCargs = dst.args(name=name3)\n",
    "PCargs.type = 'LC-C'\n",
    "PCargs.initcycle = cycle\n",
    "PCargs.freepars = ['m']\n",
    "PCargs.StepSize = 1e-2\n",
    "PCargs.MaxNumPoints = 5000\n",
    "PCargs.MaxStepSize = 5e-2\n",
    "PCargs.MinStepSize = 1e-6\n",
    "PCargs.MaxTestIters = 200\n",
    "PCargs.SolutionMeasures = 'min'\n",
    "PCargs.NumSPOut = 10\n",
    "PCargs.SaveEigen = True\n",
    "PCargs.verbosity = 2\n",
    "\n",
    "PC.newCurve(PCargs)\n",
    "PC.curves[name3].backward()\n",
    "PC.curves[name3].forward()"
   ]
  },
  {
   "cell_type": "code",
   "execution_count": 72,
   "metadata": {},
   "outputs": [
    {
     "data": {
      "text/plain": [
       "({'A': 0.5420835741849908, 'P': 0.1364100558653051, 'Y': 0.22674444381187284},)"
      ]
     },
     "execution_count": 72,
     "metadata": {},
     "output_type": "execute_result"
    }
   ],
   "source": [
    "fps = pp.find_fixedpoints(DS, n=4, eps=1e-8)\n",
    "fps"
   ]
  },
  {
   "cell_type": "code",
   "execution_count": 73,
   "metadata": {
    "scrolled": false
   },
   "outputs": [
    {
     "name": "stdout",
     "output_type": "stream",
     "text": [
      "Checking...\n",
      "  |q| = 1.000000\n",
      "  |<p,q> - 1| =  3.050673862831088e-17\n",
      "  |Aq - iwq| = 0.000000\n",
      "  |A*p + iwp| = 0.000000\n",
      "\n",
      "H Point found \n",
      "========================== \n",
      "0 : \n",
      "A  =  0.3736425892897329\n",
      "P  =  0.07504313723167044\n",
      "Y  =  0.3476956641007554\n",
      "m  =  0.5719350889941401\n",
      "\n",
      "Eigenvalues = \n",
      "\n",
      "     (-21.454000,0.000000)\n",
      "     (-0.000000,0.196742)\n",
      "     (-0.000000,-0.196742)\n",
      "\n",
      "\n",
      "w = 0.19674244138413252\n",
      "l1 = -19.039875513756353\n",
      "\n",
      "\n",
      "Checking...\n",
      "  |q| = 1.000000\n",
      "  <p,q> = 1.000000\n",
      "  |Aq| = 0.000000\n",
      "  |transpose(A)p| = 0.000000\n",
      "\n",
      "LP Point found \n",
      "========================== \n",
      "0 : \n",
      "A  =  0.05877906321347593\n",
      "P  =  0.051553019186623014\n",
      "Y  =  0.43690530749688783\n",
      "m  =  0.17693596365829764\n",
      "\n",
      "Eigenvalues = \n",
      "\n",
      "     (-13.094156,0.000000)\n",
      "     (-0.074183,0.000000)\n",
      "     (0.000000,0.000000)\n",
      "\n",
      "\n",
      "a = 0.38496960520494916\n",
      "\n",
      "Neutral saddle found!\n",
      "\n",
      "Test function going crazy:  class Hopf_Bor(BorderMethod, BiAltMethod) \n",
      "\n",
      "Neutral saddle found!\n",
      "\n",
      "\n",
      "Checking...\n",
      "  |q| = 1.000000\n",
      "  <p,q> = 1.000000\n",
      "  |Aq| = 0.000000\n",
      "  |transpose(A)p| = 0.000001\n",
      "\n",
      "LP Point found \n",
      "========================== \n",
      "0 : \n",
      "A  =  0.050443222706080475\n",
      "P  =  0.826881606783953\n",
      "Y  =  0.046142402476845874\n",
      "m  =  0.7933103435606996\n",
      "\n",
      "Eigenvalues = \n",
      "\n",
      "     (-2.266645,0.000000)\n",
      "     (-0.093355,0.000000)\n",
      "     (-0.000000,0.000000)\n",
      "\n",
      "\n",
      "a = 3.117239100772821\n",
      "\n",
      "Test function going crazy:  class Hopf_Bor(BorderMethod, BiAltMethod) \n",
      "\n",
      "B Point found \n",
      "========================== \n",
      "0 : \n",
      "A  =  0.049999999999999996\n",
      "P  =  1.0000000033640497\n",
      "Y  =  0.038461538337128336\n",
      "m  =  -9.746133518184041e-08\n",
      "\n",
      "Checking...\n",
      "  |q| = 1.000000\n",
      "  |<p,q> - 1| =  2.7321894746634712e-17\n",
      "  |Aq - iwq| = 0.000000\n",
      "  |A*p + iwp| = 0.000000\n",
      "\n",
      "H Point found \n",
      "========================== \n",
      "0 : \n",
      "A  =  1.2543514477737392\n",
      "P  =  0.8179702719632924\n",
      "Y  =  0.046621661970254566\n",
      "m  =  7.137423953897758\n",
      "\n",
      "Eigenvalues = \n",
      "\n",
      "     (-12.580115,0.000000)\n",
      "     (0.000000,0.340437)\n",
      "     (0.000000,-0.340437)\n",
      "\n",
      "\n",
      "w = 0.3404372289458766\n",
      "l1 = -117.44007845065734\n",
      "\n",
      "Checking...\n",
      "  |q| = 1.000000\n",
      "  |<p,q> - 1| =  1.0408340855860843e-17\n",
      "  |Aq - iwq| = 0.000000\n",
      "  |A*p + iwp| = 0.000000\n",
      "\n",
      "H Point found \n",
      "========================== \n",
      "0 : \n",
      "A  =  1.703127053253226\n",
      "P  =  0.8174608854927531\n",
      "Y  =  0.04664935821184821\n",
      "m  =  9.50187980220019\n",
      "\n",
      "Eigenvalues = \n",
      "\n",
      "     (-16.365248,0.000000)\n",
      "     (-0.000000,0.218714)\n",
      "     (-0.000000,-0.218714)\n",
      "\n",
      "\n",
      "w = 0.21871360890399286\n",
      "l1 = -158.48893848492543\n",
      "\n",
      "\n",
      "Checking...\n",
      "  |q| = 1.000000\n",
      "  <p,q> = 1.000000\n",
      "  |Aq| = 0.000000\n",
      "  |transpose(A)p| = 0.000000\n",
      "\n",
      "LP Point found \n",
      "========================== \n",
      "0 : \n",
      "A  =  1.8022919080577555\n",
      "P  =  0.7634460571632351\n",
      "Y  =  0.04978554520664385\n",
      "m  =  9.827307660221999\n",
      "\n",
      "Eigenvalues = \n",
      "\n",
      "     (-12.416388,0.000000)\n",
      "     (0.000000,0.000000)\n",
      "     (0.502897,0.000000)\n",
      "\n",
      "\n",
      "a = 0.5627439445701061\n",
      "\n",
      "Neutral saddle found!\n",
      "\n",
      "\n",
      "Checking...\n",
      "  |q| = 1.000000\n",
      "  <p,q> = 1.000000\n",
      "  |Aq| = 0.000000\n",
      "  |transpose(A)p| = 0.000000\n",
      "\n",
      "LP Point found \n",
      "========================== \n",
      "0 : \n",
      "A  =  2.041182055951219\n",
      "P  =  0.040806871711843294\n",
      "Y  =  0.4950074065809614\n",
      "m  =  2.349337794317019\n",
      "\n",
      "Eigenvalues = \n",
      "\n",
      "     (-250.278090,0.000000)\n",
      "     (-0.098653,0.000000)\n",
      "     (0.000000,0.000000)\n",
      "\n",
      "\n",
      "a = 0.15499065359377923\n",
      "\n"
     ]
    }
   ],
   "source": [
    "name1 = 'EQ1'\n",
    "PCargs = dst.args(name=name1)\n",
    "PCargs.type = 'EP-C'\n",
    "PCargs.initpoint = fps[0]\n",
    "PCargs.freepars = ['m']\n",
    "PCargs.StepSize = 1e-3\n",
    "PCargs.MaxNumPoints = 5000\n",
    "PCargs.MaxStepSize = 5e-3\n",
    "PCargs.MinStepSize = 1e-6\n",
    "PCargs.MaxTestIters = 20\n",
    "PCargs.LocBifPoints = 'all'\n",
    "PCargs.SaveEigen = True\n",
    "PCargs.StopAtPoints = ['B']\n",
    "PCargs.verbosity = 2\n",
    "\n",
    "PC.newCurve(PCargs)\n",
    "PC.curves[name1].backward()\n",
    "PC.curves[name1].forward()"
   ]
  },
  {
   "cell_type": "markdown",
   "metadata": {},
   "source": [
    "Indeed there is a bifurcation point (`LP1`) at which a critical transition drives gen activation."
   ]
  },
  {
   "cell_type": "code",
   "execution_count": 74,
   "metadata": {},
   "outputs": [],
   "source": [
    "name2 = 'LC1'\n",
    "PCargs = dst.args(name=name2)\n",
    "PCargs.type = 'LC-C'\n",
    "PCargs.initpoint = 'EQ1:H1'\n",
    "PCargs.freepars = ['m']\n",
    "PCargs.StepSize = 1e-1\n",
    "PCargs.NumSPOut = 30\n",
    "PCargs.MaxNumPoints = 5000\n",
    "PCargs.MaxStepSize = 5e-1\n",
    "PCargs.MinStepSize = 1e-6\n",
    "PCargs.MaxTestIters = 200\n",
    "PCargs.SolutionMeasures = 'all'\n",
    "PCargs.SaveEigen = True\n",
    "PCargs.StopAtPoints = ['B']\n",
    "PCargs.verbosity = 2\n",
    "\n",
    "PC.newCurve(PCargs)\n",
    "PC.curves[name2].backward()\n",
    "PC.curves[name2].forward()"
   ]
  },
  {
   "cell_type": "code",
   "execution_count": 75,
   "metadata": {},
   "outputs": [],
   "source": [
    "name4 = 'LC3'\n",
    "PCargs = dst.args(name=name4)\n",
    "PCargs.type = 'LC-C'\n",
    "PCargs.initpoint = 'EQ1:H2'\n",
    "PCargs.freepars = ['m']\n",
    "PCargs.StepSize = 1e-1\n",
    "PCargs.NumSPOut = 30\n",
    "PCargs.MaxNumPoints = 5000\n",
    "PCargs.MaxStepSize = 5e-1\n",
    "PCargs.MinStepSize = 1e-6\n",
    "PCargs.MaxTestIters = 200\n",
    "PCargs.SolutionMeasures = 'all'\n",
    "PCargs.SaveEigen = True\n",
    "PCargs.StopAtPoints = ['B']\n",
    "PCargs.verbosity = 2\n",
    "\n",
    "PC.newCurve(PCargs)\n",
    "PC.curves[name4].backward()\n",
    "PC.curves[name4].forward()"
   ]
  },
  {
   "cell_type": "code",
   "execution_count": 76,
   "metadata": {},
   "outputs": [],
   "source": [
    "name5 = 'LC4'\n",
    "PCargs = dst.args(name=name5)\n",
    "PCargs.type = 'LC-C'\n",
    "PCargs.initpoint = 'EQ1:H3'\n",
    "PCargs.freepars = ['m']\n",
    "PCargs.StepSize = 1e-1\n",
    "PCargs.NumSPOut = 30\n",
    "PCargs.MaxNumPoints = 5000\n",
    "PCargs.MaxStepSize = 5e-1\n",
    "PCargs.MinStepSize = 1e-6\n",
    "PCargs.MaxTestIters = 200\n",
    "PCargs.SolutionMeasures = 'all'\n",
    "PCargs.SaveEigen = True\n",
    "PCargs.StopAtPoints = ['B']\n",
    "PCargs.verbosity = 2\n",
    "\n",
    "PC.newCurve(PCargs)\n",
    "PC.curves[name5].backward()\n",
    "PC.curves[name5].forward()"
   ]
  },
  {
   "cell_type": "code",
   "execution_count": 77,
   "metadata": {},
   "outputs": [
    {
     "data": {
      "image/png": "[encoded data removed]",
      "text/plain": [
       "<Figure size 864x576 with 1 Axes>"
      ]
     },
     "metadata": {
      "needs_background": "light"
     },
     "output_type": "display_data"
    }
   ],
   "source": [
    "PC[name1].display(('m', 'Y'), stability=True, linewidth=3)\n",
    "PC[name2].display(('m', 'Y_min'), stability=True, linewidth=3)\n",
    "PC[name2].display(('m', 'Y_max'), stability=True, linewidth=3)\n",
    "PC[name3].display(('m', 'Y_min'), stability=True, linewidth=3)\n",
    "PC[name3].display(('m', 'Y_max'), stability=True, linewidth=3)\n",
    "PC[name4].display(('m', 'Y_min'), stability=True, linewidth=3)\n",
    "PC[name4].display(('m', 'Y_max'), stability=True, linewidth=3)\n",
    "PC[name5].display(('m', 'Y_min'), stability=True, linewidth=3)\n",
    "PC[name5].display(('m', 'Y_max'), stability=True, linewidth=3)\n",
    "PC.plot.fig1.toggleAll('off', bytype=['P','B','MX','RG'])\n",
    "PC.plot.fig1.axes1.axes.set_xlabel('$m$', fontsize=16)\n",
    "PC.plot.fig1.axes1.axes.set_xlim((0.0, 11.0))\n",
    "PC.plot.fig1.axes1.axes.set_ylabel('$Y$', fontsize=16)\n",
    "# PC.plot.fig1.axes1.axes.set_ylim((0.0, 1.0))\n",
    "PC.plot.fig1.axes1.axes.set_yscale('log')\n",
    "PC.plot.fig1.axes1.axes.set_title('')\n",
    "plt.show()"
   ]
  },
  {
   "cell_type": "code",
   "execution_count": null,
   "metadata": {},
   "outputs": [],
   "source": []
  },
  {
   "cell_type": "code",
   "execution_count": 78,
   "metadata": {
    "scrolled": false
   },
   "outputs": [
    {
     "name": "stdout",
     "output_type": "stream",
     "text": [
      "\n",
      "Checking...\n",
      "  <b,c> = 0.000000\n",
      "\n",
      "\n",
      "BT Point found \n",
      "========================== \n",
      "0 : \n",
      "A  =  0.23255380657443078\n",
      "P  =  0.8146179273467634\n",
      "Y  =  0.046804541210811616\n",
      "m  =  1.7517506482175709\n",
      "k5p  =  0.022145771836073483\n",
      "\n",
      "Eigenvalues = \n",
      "\n",
      "     (-3.730463,0.000000)\n",
      "     (0.000000,0.000003)\n",
      "     (0.000000,-0.000003)\n",
      "\n",
      "\n",
      "\n",
      "Checking...\n",
      "  |a| = -16.862095\n",
      "\n",
      "\n",
      "CP Point found \n",
      "========================== \n",
      "0 : \n",
      "A  =  0.4181984340069312\n",
      "P  =  0.7148374370854033\n",
      "Y  =  0.05299154233055659\n",
      "m  =  2.5873763585223006\n",
      "k5p  =  0.03345874534053959\n",
      "\n",
      "Eigenvalues = \n",
      "\n",
      "     (-3.809747,0.000000)\n",
      "     (0.000000,0.000000)\n",
      "     (0.657573,0.000000)\n",
      "\n",
      "\n",
      "Test function going crazy:  class Hopf_Bor(BorderMethod, BiAltMethod) \n",
      "\n",
      "ZH Point found \n",
      "========================== \n",
      "0 : \n",
      "A  =  0.22451047513816003\n",
      "P  =  0.10890628196444134\n",
      "Y  =  0.26862533583070697\n",
      "m  =  0.45165183421976784\n",
      "k5p  =  0.0172404993396691\n",
      "\n",
      "Eigenvalues = \n",
      "\n",
      "     (-8.198930,0.000000)\n",
      "     (-0.000000,0.000000)\n",
      "     (0.139873,0.000000)\n",
      "\n",
      "\n",
      "\n",
      "Checking...\n",
      "  <b,c> = -0.000000\n",
      "\n",
      "\n",
      "BT Point found \n",
      "========================== \n",
      "0 : \n",
      "A  =  0.15113584029305027\n",
      "P  =  0.07567556193082238\n",
      "Y  =  0.3457947325461989\n",
      "m  =  0.3040251452917468\n",
      "k5p  =  0.012142220116192436\n",
      "\n",
      "Eigenvalues = \n",
      "\n",
      "     (-11.323193,0.000000)\n",
      "     (0.000000,0.000000)\n",
      "     (0.000000,-0.000000)\n",
      "\n",
      "\n",
      "B Point found \n",
      "========================== \n",
      "0 : \n",
      "A  =  -2.5409732398688166e-08\n",
      "P  =  0.04344890734496428\n",
      "Y  =  0.4793352156745021\n",
      "m  =  0.10988613700523345\n",
      "k5p  =  -0.00018987477083307234\n",
      "\n",
      "B Point found \n",
      "========================== \n",
      "0 : \n",
      "A  =  -4.5770604137419934e-10\n",
      "P  =  0.8276437655960116\n",
      "Y  =  0.046101869898785876\n",
      "m  =  0.5273189722247488\n",
      "k5p  =  -8.623752944055785e-06\n",
      "\n"
     ]
    }
   ],
   "source": [
    "# Two-parameter bifurcation\n",
    "namefold1 = 'FO1'\n",
    "PCargs = dst.args(name=namefold1)\n",
    "PCargs.type = 'LP-C'\n",
    "PCargs.initpoint = 'EQ1:LP1'\n",
    "PCargs.freepars = ['m', 'k5p']\n",
    "PCargs.StepSize = 1e-2\n",
    "PCargs.MaxNumPoints = 2000\n",
    "PCargs.MaxStepSize = 5e-2\n",
    "PCargs.MinStepSize = 1e-4\n",
    "PCargs.SaveEigen = True\n",
    "PCargs.SaveJacobian = True\n",
    "PCargs.LocBifPoints = 'all'\n",
    "PCargs.StopAtPoints = ['B']\n",
    "PCargs.verbosity = 2\n",
    "PC.newCurve(PCargs)\n",
    "PC.curves[namefold1].forward()\n",
    "PC.curves[namefold1].backward()"
   ]
  },
  {
   "cell_type": "code",
   "execution_count": 79,
   "metadata": {},
   "outputs": [
    {
     "name": "stdout",
     "output_type": "stream",
     "text": [
      "Warning: Variable dimension must be larger than 3 to detect Double Hopf points.\n",
      "B Point found \n",
      "========================== \n",
      "0 : \n",
      "A  =  0.40848774712376684\n",
      "P  =  0.07499996346385948\n",
      "Y  =  0.347826197462842\n",
      "m  =  0.6139050835890557\n",
      "k5p  =  -6.054970107399491e-10\n",
      "\n",
      "Checking...\n",
      "  |q| = 1.000000\n",
      "  |<p,q> - 1| =  6.331740687315346e-17\n",
      "  |Aq - iwq| = 0.000000\n",
      "  |A*p + iwp| = 0.000000\n",
      "\n",
      "GH Point found \n",
      "========================== \n",
      "0 : \n",
      "A  =  0.1917083471549668\n",
      "P  =  0.0755237492660302\n",
      "Y  =  0.3462491501023506\n",
      "m  =  0.3529263222216434\n",
      "k5p  =  0.013812355669801678\n",
      "\n",
      "Eigenvalues = \n",
      "\n",
      "     (-13.160082,0.000000)\n",
      "     (0.000000,0.072867)\n",
      "     (0.000000,-0.072867)\n",
      "\n",
      "\n",
      "w = 0.07286736441191695\n",
      "l1 = -1.3988614948168276e-05\n",
      "\n",
      "\n",
      "Checking...\n",
      "  <b,c> = 1198.296297\n",
      "\n",
      "\n",
      "BT Point found \n",
      "========================== \n",
      "0 : \n",
      "A  =  0.15113584007219352\n",
      "P  =  0.07567556134234071\n",
      "Y  =  0.3457947343053766\n",
      "m  =  0.3040251443032579\n",
      "k5p  =  0.01214222007260918\n",
      "\n",
      "Eigenvalues = \n",
      "\n",
      "     (-11.323193,0.000000)\n",
      "     (0.000000,0.000013)\n",
      "     (0.000000,-0.000013)\n",
      "\n",
      "\n",
      "B Point found \n",
      "========================== \n",
      "0 : \n",
      "A  =  -3.4771903458470684e-09\n",
      "P  =  0.07670493457594432\n",
      "Y  =  0.34274471893877356\n",
      "m  =  0.12156491849576188\n",
      "k5p  =  -7.43877781001705e-05\n",
      "\n"
     ]
    }
   ],
   "source": [
    "namefold2 = 'FO2'\n",
    "PCargs = dst.args(name=namefold2)\n",
    "PCargs.type = 'H-C1'\n",
    "PCargs.initpoint = 'EQ1:H1'\n",
    "PCargs.freepars = ['m', 'k5p']\n",
    "PCargs.StepSize = 1e-2\n",
    "PCargs.MaxNumPoints = 2000\n",
    "PCargs.MaxStepSize = 5e-2\n",
    "PCargs.MinStepSize = 1e-4\n",
    "PCargs.SaveEigen = True\n",
    "PCargs.SaveJacobian = True\n",
    "PCargs.LocBifPoints = 'all'\n",
    "PCargs.StopAtPoints = ['B']\n",
    "PCargs.verbosity = 2\n",
    "PC.newCurve(PCargs)\n",
    "PC.curves[namefold2].forward()\n",
    "PC.curves[namefold2].backward()"
   ]
  },
  {
   "cell_type": "code",
   "execution_count": null,
   "metadata": {},
   "outputs": [],
   "source": []
  },
  {
   "cell_type": "code",
   "execution_count": 80,
   "metadata": {},
   "outputs": [
    {
     "name": "stdout",
     "output_type": "stream",
     "text": [
      "Warning: Variable dimension must be larger than 3 to detect Double Hopf points.\n",
      "B Point found \n",
      "========================== \n",
      "0 : \n",
      "A  =  2.177220757434843\n",
      "P  =  0.8173304823832642\n",
      "Y  =  0.04665645375025666\n",
      "m  =  12.000000005298377\n",
      "k5p  =  0.03295352352185689\n",
      "\n",
      "Maximum test function iterations reached.\n",
      "\n",
      "Checking...\n",
      "  |q| = 1.000000\n",
      "  |<p,q> - 1| =  6.245004513516506e-17\n",
      "  |Aq - iwq| = 0.000000\n",
      "  |A*p + iwp| = 0.000000\n",
      "\n",
      "GH Point found \n",
      "========================== \n",
      "0 : \n",
      "A  =  0.34644821592489117\n",
      "P  =  0.8158162052820146\n",
      "Y  =  0.04673900745641865\n",
      "m  =  2.3521171050573946\n",
      "k5p  =  0.031102101738352657\n",
      "\n",
      "Eigenvalues = \n",
      "\n",
      "     (-4.719179,0.000000)\n",
      "     (0.000000,0.121483)\n",
      "     (0.000000,-0.121483)\n",
      "\n",
      "\n",
      "w = 0.12148292437947483\n",
      "l1 = 0.905155697529672\n",
      "\n",
      "\n",
      "Checking...\n",
      "  <b,c> = 3655.716248\n",
      "\n",
      "\n",
      "BT Point found \n",
      "========================== \n",
      "0 : \n",
      "A  =  0.23255379545481214\n",
      "P  =  0.8146179277387251\n",
      "Y  =  0.0468045411893452\n",
      "m  =  1.7517505897508288\n",
      "k5p  =  0.02214577087345209\n",
      "\n",
      "Eigenvalues = \n",
      "\n",
      "     (-3.730463,0.000000)\n",
      "     (-0.000027,0.000000)\n",
      "     (0.000027,0.000000)\n",
      "\n",
      "\n",
      "B Point found \n",
      "========================== \n",
      "0 : \n",
      "A  =  7.977988322656593e-10\n",
      "P  =  0.8056705921058308\n",
      "Y  =  0.04729974102610657\n",
      "m  =  0.5258097624753866\n",
      "k5p  =  -9.446489103919433e-06\n",
      "\n"
     ]
    }
   ],
   "source": [
    "namefold3 = 'FO3'\n",
    "PCargs = dst.args(name=namefold3)\n",
    "PCargs.type = 'H-C1'\n",
    "PCargs.initpoint = 'EQ1:H2'\n",
    "PCargs.freepars = ['m', 'k5p']\n",
    "PCargs.StepSize = 1e-2\n",
    "PCargs.MaxNumPoints = 2000\n",
    "PCargs.MaxStepSize = 5e-2\n",
    "PCargs.MinStepSize = 1e-4\n",
    "PCargs.SaveEigen = True\n",
    "PCargs.SaveJacobian = True\n",
    "PCargs.LocBifPoints = 'all'\n",
    "PCargs.StopAtPoints = ['B']\n",
    "PCargs.verbosity = 2\n",
    "PC.newCurve(PCargs)\n",
    "PC.curves[namefold3].forward()\n",
    "PC.curves[namefold3].backward()"
   ]
  },
  {
   "cell_type": "code",
   "execution_count": 81,
   "metadata": {},
   "outputs": [
    {
     "name": "stdout",
     "output_type": "stream",
     "text": [
      "Warning: Variable dimension must be larger than 3 to detect Double Hopf points.\n",
      "B Point found \n",
      "========================== \n",
      "0 : \n",
      "A  =  2.177220757980258\n",
      "P  =  0.8173304823870298\n",
      "Y  =  0.04665645375005174\n",
      "m  =  12.000000008178175\n",
      "k5p  =  0.032953523563137924\n",
      "\n",
      "Maximum test function iterations reached.\n",
      "\n",
      "Checking...\n",
      "  |q| = 1.000000\n",
      "  |<p,q> - 1| =  1.1295700899707568e-16\n",
      "  |Aq - iwq| = 0.000000\n",
      "  |A*p + iwp| = 0.000000\n",
      "\n",
      "GH Point found \n",
      "========================== \n",
      "0 : \n",
      "A  =  0.34682598140621274\n",
      "P  =  0.8158195167707104\n",
      "Y  =  0.04673882660555955\n",
      "m  =  2.354108476803122\n",
      "k5p  =  0.03112813309151134\n",
      "\n",
      "Eigenvalues = \n",
      "\n",
      "     (-4.722470,0.000000)\n",
      "     (-0.000000,0.121741)\n",
      "     (-0.000000,-0.121741)\n",
      "\n",
      "\n",
      "w = 0.12174126601260962\n",
      "l1 = 0.5533507623621432\n",
      "\n",
      "\n",
      "Checking...\n",
      "  <b,c> = 253.138824\n",
      "\n",
      "\n",
      "BT Point found \n",
      "========================== \n",
      "0 : \n",
      "A  =  0.23255378978017519\n",
      "P  =  0.8146179276777281\n",
      "Y  =  0.0468045411926858\n",
      "m  =  1.7517505598426835\n",
      "k5p  =  0.022145770381031618\n",
      "\n",
      "Eigenvalues = \n",
      "\n",
      "     (-3.730463,0.000000)\n",
      "     (-0.000035,0.000000)\n",
      "     (0.000035,0.000000)\n",
      "\n",
      "\n",
      "B Point found \n",
      "========================== \n",
      "0 : \n",
      "A  =  7.977813967566796e-10\n",
      "P  =  0.8056705921182915\n",
      "Y  =  0.04729974102540962\n",
      "m  =  0.5258097624769025\n",
      "k5p  =  -9.446489105215172e-06\n",
      "\n"
     ]
    }
   ],
   "source": [
    "# Two-parameter bifurcation\n",
    "namefold4 = 'FO4'\n",
    "PCargs = dst.args(name=namefold4)\n",
    "PCargs.type = 'H-C1'\n",
    "PCargs.initpoint = 'EQ1:H3'\n",
    "PCargs.freepars = ['m', 'k5p']\n",
    "PCargs.StepSize = 1e-2\n",
    "PCargs.MaxNumPoints = 2000\n",
    "PCargs.MaxStepSize = 5e-2\n",
    "PCargs.MinStepSize = 1e-4\n",
    "PCargs.SaveEigen = True\n",
    "PCargs.SaveJacobian = True\n",
    "PCargs.LocBifPoints = 'all'\n",
    "PCargs.StopAtPoints = ['B']\n",
    "PCargs.verbosity = 2\n",
    "PC.newCurve(PCargs)\n",
    "PC.curves[namefold4].forward()\n",
    "PC.curves[namefold4].backward()"
   ]
  },
  {
   "cell_type": "code",
   "execution_count": 82,
   "metadata": {},
   "outputs": [
    {
     "name": "stdout",
     "output_type": "stream",
     "text": [
      "B Point found \n",
      "========================== \n",
      "0 : \n",
      "A  =  2.1841148721228087\n",
      "P  =  0.8024420821913467\n",
      "Y  =  0.04748100889731511\n",
      "m  =  11.999999987836196\n",
      "k5p  =  0.0326857098848633\n",
      "\n",
      "B Point found \n",
      "========================== \n",
      "0 : \n",
      "A  =  1.7235268991341302\n",
      "P  =  0.7467672022482771\n",
      "Y  =  0.05084096017944753\n",
      "m  =  9.323925751605657\n",
      "k5p  =  -4.404854041706273e-11\n",
      "\n"
     ]
    }
   ],
   "source": [
    "namefold5 = 'FO5'\n",
    "PCargs = dst.args(name=namefold5)\n",
    "PCargs.type = 'LP-C'\n",
    "PCargs.initpoint = 'EQ1:LP3'\n",
    "PCargs.freepars = ['m', 'k5p']\n",
    "PCargs.StepSize = 1e-2\n",
    "PCargs.MaxNumPoints = 2000\n",
    "PCargs.MaxStepSize = 5e-2\n",
    "PCargs.MinStepSize = 1e-4\n",
    "PCargs.SaveEigen = True\n",
    "PCargs.SaveJacobian = True\n",
    "PCargs.LocBifPoints = 'all'\n",
    "PCargs.StopAtPoints = ['B']\n",
    "PCargs.verbosity = 2\n",
    "PC.newCurve(PCargs)\n",
    "PC.curves[namefold5].forward()\n",
    "PC.curves[namefold5].backward()"
   ]
  },
  {
   "cell_type": "code",
   "execution_count": 83,
   "metadata": {},
   "outputs": [
    {
     "name": "stdout",
     "output_type": "stream",
     "text": [
      "B Point found \n",
      "========================== \n",
      "0 : \n",
      "A  =  2.998036944327237\n",
      "P  =  0.040236466843230144\n",
      "Y  =  0.49852643783722334\n",
      "m  =  3.3989851292303417\n",
      "k5p  =  0.1000000027453287\n",
      "\n",
      "B Point found \n",
      "========================== \n",
      "0 : \n",
      "A  =  1.9902525282740453\n",
      "P  =  0.04089725220982978\n",
      "Y  =  0.49445437153104715\n",
      "m  =  2.2935019550183804\n",
      "k5p  =  -2.751823354144449e-10\n",
      "\n"
     ]
    }
   ],
   "source": [
    "namefold6 = 'FO6'\n",
    "PCargs = dst.args(name=namefold6)\n",
    "PCargs.type = 'LP-C'\n",
    "PCargs.initpoint = 'EQ1:LP4'\n",
    "PCargs.freepars = ['m', 'k5p']\n",
    "PCargs.StepSize = 1e-2\n",
    "PCargs.MaxNumPoints = 2000\n",
    "PCargs.MaxStepSize = 5e-2\n",
    "PCargs.MinStepSize = 1e-4\n",
    "PCargs.SaveEigen = True\n",
    "PCargs.SaveJacobian = True\n",
    "PCargs.LocBifPoints = 'all'\n",
    "PCargs.StopAtPoints = ['B']\n",
    "PCargs.verbosity = 2\n",
    "PC.newCurve(PCargs)\n",
    "PC.curves[namefold6].forward()\n",
    "PC.curves[namefold6].backward()"
   ]
  },
  {
   "cell_type": "code",
   "execution_count": 95,
   "metadata": {
    "scrolled": false
   },
   "outputs": [
    {
     "data": {
      "image/png": "[encoded data removed]",
      "text/plain": [
       "<Figure size 864x576 with 1 Axes>"
      ]
     },
     "metadata": {
      "needs_background": "light"
     },
     "output_type": "display_data"
    }
   ],
   "source": [
    "PC[namefold2].display(('m', 'k5p'), stability=True, linewidth=3)\n",
    "PC[namefold3].display(('m', 'k5p'), stability=True, linewidth=3)\n",
    "PC[namefold4].display(('m', 'k5p'), stability=True, linewidth=3)\n",
    "PC[namefold5].display(('m', 'k5p'), stability=True, linewidth=3)\n",
    "PC[namefold6].display(('m', 'k5p'), stability=True, linewidth=3)\n",
    "PC[namefold1].display(('m', 'k5p'), stability=True, linewidth=3)\n",
    "PC.plot.fig1.toggleAll('off', bytype=['B', 'P'])\n",
    "PC.plot.fig1.axes1.axes.set_xlim((0.0, 12.0))\n",
    "PC.plot.fig1.axes1.axes.set_xlabel('$m$', fontsize=16)\n",
    "PC.plot.fig1.axes1.axes.set_ylim((0.0, 0.04))\n",
    "PC.plot.fig1.axes1.axes.set_ylabel('$k_{5p}$', fontsize=16)\n",
    "plt.axvline(x=2.0, lw=3, color='g')\n",
    "plt.axvline(x=3.0, lw=3, color='g')\n",
    "PC.plot.fig1.axes1.axes.set_title('')\n",
    "plt.show()"
   ]
  },
  {
   "cell_type": "code",
   "execution_count": null,
   "metadata": {},
   "outputs": [],
   "source": []
  },
  {
   "cell_type": "code",
   "execution_count": null,
   "metadata": {},
   "outputs": [],
   "source": []
  },
  {
   "cell_type": "code",
   "execution_count": null,
   "metadata": {},
   "outputs": [],
   "source": []
  },
  {
   "cell_type": "markdown",
   "metadata": {},
   "source": [
    "## 2. Extended system: bifurcation diagram\n",
    "\n",
    "**In order to run the following lines, we nee to restart the notebook, otherwise, the continuation of the limit cycle would not work. Supposedly, building AUTO for two system will collide.**"
   ]
  },
  {
   "cell_type": "markdown",
   "metadata": {},
   "source": [
    "The cell cycle model is\n",
    "$$\n",
    "\\begin{aligned}\n",
    "    \\frac{dY}{dt} &= k_{1} - (k_{2p} + k_{2pp}P)Y, \\\\\n",
    "    \\frac{dP}{dt} &= \\frac{(k_{3p}+k_{3pp}A)(1-P)}{J_{3}+(1-P)} - k_{4}m\\frac{YP}{J_{4}+P}, \\\\\n",
    "    \\frac{dA}{dt} &= k_{5p} + k_{5pp}\\frac{(mY/J_{5})^{n}}{1+(mY/J_{5})^{n}} - k_{6}A, \\\\\n",
    "    \\frac{dm}{dt} &= \\mu m \\left( 1 - \\frac{m}{K}\\right),\n",
    "\\end{aligned}\n",
    "$$\n",
    "where $k_1, k_{2p}, k_{pp},k_{3p}, k_{3pp}, k_{4}, k_{5p}, k_{5pp}, k_{6}, J_{3}, J_{4}0$ are non-negative rate.\n"
   ]
  },
  {
   "cell_type": "markdown",
   "metadata": {},
   "source": [
    "We can construct the bifurcation diagram using continuation and the `PyDSTool` library of python."
   ]
  },
  {
   "cell_type": "code",
   "execution_count": 5,
   "metadata": {},
   "outputs": [],
   "source": [
    "# dynamical system\n",
    "Ystr = 'k1 - (k2p + k2pp*P)*Y'\n",
    "Pstr = '(k3p + k3pp*A)*(1 - P)/(J3 + 1 - P) - k4*m*Y*P/(J4 + P)'\n",
    "Astr = 'k5p + k5pp*(m*Y/J5)**n/(1 + (m*Y/J5)**n) - k6*A'\n",
    "mstr = 'mu*m*(1 - m/K)'\n",
    "params = {'k1': 0.04,\n",
    "          'k2p':  0.04,\n",
    "          'k2pp':  1.0,\n",
    "          'k3p':  1.0,\n",
    "          'k3pp':  10.0,\n",
    "          'k4':  35.0,\n",
    "          'k5p':  0.005,\n",
    "          'k5pp':  0.2,\n",
    "          'k6':  0.1,\n",
    "          'J3':  0.04,\n",
    "          'J4':  0.04,\n",
    "          'J5':  0.3,\n",
    "          'mu': 0.1,\n",
    "          'K': 2.0,\n",
    "          'n': 4}\n",
    "ics = {'A':  0.8850704900359198,\n",
    "'P':  0.9854966451671725,\n",
    "'Y':  0.03899139282479138,\n",
    "'m':  2.0}\n",
    "DSargs = dst.args(name='CellCycle')\n",
    "DSargs.pars = params\n",
    "DSargs.tdata = [0, 100]\n",
    "DSargs.pdomain = {'mu': [0, 1.0],\n",
    "                  'K': [1.0, 5.0],\n",
    "                  'k1': [0, 1.0], \n",
    "                  'k2p': [0, 10.0], \n",
    "                  'k3p': [0, 10.0], \n",
    "                  'k4': [0, 200.0], \n",
    "                  'k5p': [0, 0.04], \n",
    "                  'k5pp': [0, 10.0],\n",
    "                  'k6': [0, 10.0]}\n",
    "DSargs.xdomain = {'Y': [0, 5.0], 'P': [0, 10.0], 'A': [0, 10.0], 'm': [0, 2.0]}\n",
    "DSargs.varspecs = {'Y': Ystr, 'P': Pstr, 'A': Astr, 'm': mstr}\n",
    "DSargs.ics = ics\n",
    "DS = dst.Generator.Vode_ODEsystem(DSargs)"
   ]
  },
  {
   "cell_type": "code",
   "execution_count": 6,
   "metadata": {},
   "outputs": [
    {
     "data": {
      "image/png": "[encoded data removed]",
      "text/plain": [
       "<Figure size 432x288 with 1 Axes>"
      ]
     },
     "metadata": {
      "needs_background": "light"
     },
     "output_type": "display_data"
    }
   ],
   "source": [
    "traj = DS.compute('cycle')\n",
    "cycle = traj.sample(dt=0.0001, tlo=0, thi=53.32, precise=True)\n",
    "cycle.indepvararray = cycle.indepvararray.flatten()\n",
    "plt.plot(cycle['A'], cycle['Y'])\n",
    "plt.xlabel('$A$')\n",
    "plt.ylabel('$Y$')\n",
    "plt.show()"
   ]
  },
  {
   "cell_type": "code",
   "execution_count": 13,
   "metadata": {},
   "outputs": [
    {
     "name": "stdout",
     "output_type": "stream",
     "text": [
      "running build\n",
      "running config_cc\n",
      "unifing config_cc, config, build_clib, build_ext, build commands --compiler options\n",
      "running config_fc\n",
      "unifing config_fc, config, build_clib, build_ext, build commands --fcompiler options\n",
      "running build_src\n",
      "build_src\n",
      "building extension \"_auto_CellCycle_vf\" sources\n",
      "swig: /home/shigoto/Documents/Work/Projects/2020-05 Saddle-node Bifurcation Carryover/codes/notebooks/auto_temp/auto_CellCycle_vf.i\n",
      "swig -python -I/home/shigoto/.local/lib/python3.8/site-packages/numpy/core/include -I/home/shigoto/Documents/Work/Projects/2020-05 Saddle-node Bifurcation Carryover/codes/notebooks -I/home/shigoto/.local/lib/python3.8/site-packages/PyDSTool/PyCont/auto/module/include -I/home/shigoto/Documents/Work/Projects/2020-05 Saddle-node Bifurcation Carryover/codes/notebooks/auto_temp -I/home/shigoto/.local/lib/python3.8/site-packages/PyDSTool/PyCont/auto/src/include -o auto_temp/src.linux-x86_64-3.8/auto_temp/auto_CellCycle_vf_wrap.c -outdir auto_temp/src.linux-x86_64-3.8/auto_temp /home/shigoto/Documents/Work/Projects/2020-05 Saddle-node Bifurcation Carryover/codes/notebooks/auto_temp/auto_CellCycle_vf.i\n",
      "build_src: building npy-pkg config files\n",
      "running build_ext\n",
      "new_compiler returns <class 'distutils.unixccompiler.UnixCCompiler'>\n",
      "customize UnixCCompiler\n",
      "customize UnixCCompiler using build_ext\n",
      "********************************************************************************\n",
      "<class 'distutils.unixccompiler.UnixCCompiler'>\n",
      "preprocessor  = ['x86_64-linux-gnu-gcc', '-pthread', '-E', '-Wdate-time', '-D_FORTIFY_SOURCE=2']\n",
      "compiler      = ['x86_64-linux-gnu-gcc', '-pthread', '-Wno-unused-result', '-Wsign-compare', '-DNDEBUG', '-g', '-fwrapv', '-O2', '-Wall', '-g', '-fstack-protector-strong', '-Wformat', '-Werror=format-security', '-g', '-fwrapv', '-O2', '-g', '-fstack-protector-strong', '-Wformat', '-Werror=format-security', '-Wdate-time', '-D_FORTIFY_SOURCE=2']\n",
      "compiler_so   = ['x86_64-linux-gnu-gcc', '-pthread', '-Wno-unused-result', '-Wsign-compare', '-DNDEBUG', '-g', '-fwrapv', '-O2', '-Wall', '-g', '-fstack-protector-strong', '-Wformat', '-Werror=format-security', '-g', '-fwrapv', '-O2', '-g', '-fstack-protector-strong', '-Wformat', '-Werror=format-security', '-Wdate-time', '-D_FORTIFY_SOURCE=2', '-fPIC']\n",
      "compiler_cxx  = ['x86_64-linux-gnu-g++', '-pthread']\n",
      "linker_so     = ['x86_64-linux-gnu-gcc', '-pthread', '-shared', '-Wl,-O1', '-Wl,-Bsymbolic-functions', '-Wl,-Bsymbolic-functions', '-Wl,-z,relro', '-g', '-fwrapv', '-O2', '-Wl,-Bsymbolic-functions', '-Wl,-z,relro', '-g', '-fwrapv', '-O2', '-g', '-fstack-protector-strong', '-Wformat', '-Werror=format-security', '-Wdate-time', '-D_FORTIFY_SOURCE=2']\n",
      "linker_exe    = ['x86_64-linux-gnu-gcc', '-pthread']\n",
      "archiver      = ['x86_64-linux-gnu-gcc-ar', 'rcs']\n",
      "ranlib        = None\n",
      "libraries     = []\n",
      "library_dirs  = []\n",
      "include_dirs  = ['/usr/include/python3.8']\n",
      "********************************************************************************\n",
      "building '_auto_CellCycle_vf' extension\n",
      "compiling C sources\n",
      "C compiler: x86_64-linux-gnu-gcc -pthread -Wno-unused-result -Wsign-compare -DNDEBUG -g -fwrapv -O2 -Wall -g -fstack-protector-strong -Wformat -Werror=format-security -g -fwrapv -O2 -g -fstack-protector-strong -Wformat -Werror=format-security -Wdate-time -D_FORTIFY_SOURCE=2 -fPIC\n",
      "\n",
      "compile options: '-I/home/shigoto/.local/lib/python3.8/site-packages/numpy/core/include -I/home/shigoto/Documents/Work/Projects/2020-05 Saddle-node Bifurcation Carryover/codes/notebooks -I/home/shigoto/.local/lib/python3.8/site-packages/PyDSTool/PyCont/auto/module/include -I/home/shigoto/Documents/Work/Projects/2020-05 Saddle-node Bifurcation Carryover/codes/notebooks/auto_temp -I/home/shigoto/.local/lib/python3.8/site-packages/PyDSTool/PyCont/auto/src/include -I/home/shigoto/.local/lib/python3.8/site-packages/numpy/core/include -I/usr/include/python3.8 -c'\n",
      "extra options: '-w -D__PYTHON__ -std=c99'\n",
      "x86_64-linux-gnu-gcc: auto_temp/src.linux-x86_64-3.8/auto_temp/auto_CellCycle_vf_wrap.c\n",
      "x86_64-linux-gnu-gcc: /home/shigoto/Documents/Work/Projects/2020-05 Saddle-node Bifurcation Carryover/codes/notebooks/auto_temp/CellCycle_vf.c\n",
      "x86_64-linux-gnu-gcc -pthread -shared -Wl,-O1 -Wl,-Bsymbolic-functions -Wl,-Bsymbolic-functions -Wl,-z,relro -g -fwrapv -O2 -Wl,-Bsymbolic-functions -Wl,-z,relro -g -fwrapv -O2 -g -fstack-protector-strong -Wformat -Werror=format-security -Wdate-time -D_FORTIFY_SOURCE=2 auto_temp/auto_temp/src.linux-x86_64-3.8/auto_temp/auto_CellCycle_vf_wrap.o auto_temp/home/shigoto/.local/lib/python3.8/site-packages/PyDSTool/PyCont/auto/src/auto.o auto_temp/home/shigoto/.local/lib/python3.8/site-packages/PyDSTool/PyCont/auto/src/autlib1.o auto_temp/home/shigoto/.local/lib/python3.8/site-packages/PyDSTool/PyCont/auto/src/autlib2.o auto_temp/home/shigoto/.local/lib/python3.8/site-packages/PyDSTool/PyCont/auto/src/autlib3.o auto_temp/home/shigoto/.local/lib/python3.8/site-packages/PyDSTool/PyCont/auto/src/autlib4.o auto_temp/home/shigoto/.local/lib/python3.8/site-packages/PyDSTool/PyCont/auto/src/autlib5.o auto_temp/home/shigoto/.local/lib/python3.8/site-packages/PyDSTool/PyCont/auto/src/eispack.o auto_temp/home/shigoto/.local/lib/python3.8/site-packages/PyDSTool/PyCont/auto/src/conpar.o auto_temp/home/shigoto/.local/lib/python3.8/site-packages/PyDSTool/PyCont/auto/src/setubv.o auto_temp/home/shigoto/.local/lib/python3.8/site-packages/PyDSTool/PyCont/auto/src/reduce.o auto_temp/home/shigoto/.local/lib/python3.8/site-packages/PyDSTool/PyCont/auto/src/dmatrix.o auto_temp/home/shigoto/.local/lib/python3.8/site-packages/PyDSTool/PyCont/auto/src/fcon.o auto_temp/home/shigoto/.local/lib/python3.8/site-packages/PyDSTool/PyCont/auto/src/libf2c/cabs.o auto_temp/home/shigoto/.local/lib/python3.8/site-packages/PyDSTool/PyCont/auto/src/libf2c/d_lg10.o auto_temp/home/shigoto/.local/lib/python3.8/site-packages/PyDSTool/PyCont/auto/src/libf2c/i_nint.o auto_temp/home/shigoto/.local/lib/python3.8/site-packages/PyDSTool/PyCont/auto/src/libf2c/pow_di.o auto_temp/home/shigoto/.local/lib/python3.8/site-packages/PyDSTool/PyCont/auto/src/libf2c/r_lg10.o auto_temp/home/shigoto/.local/lib/python3.8/site-packages/PyDSTool/PyCont/auto/src/libf2c/z_exp.o auto_temp/home/shigoto/.local/lib/python3.8/site-packages/PyDSTool/PyCont/auto/src/libf2c/d_imag.o auto_temp/home/shigoto/.local/lib/python3.8/site-packages/PyDSTool/PyCont/auto/src/libf2c/d_sign.o auto_temp/home/shigoto/.local/lib/python3.8/site-packages/PyDSTool/PyCont/auto/src/libf2c/i_dnnt.o auto_temp/home/shigoto/.local/lib/python3.8/site-packages/PyDSTool/PyCont/auto/src/libf2c/pow_dd.o auto_temp/home/shigoto/.local/lib/python3.8/site-packages/PyDSTool/PyCont/auto/src/libf2c/pow_ii.o auto_temp/home/shigoto/.local/lib/python3.8/site-packages/PyDSTool/PyCont/auto/src/libf2c/z_abs.o auto_temp/home/shigoto/.local/lib/python3.8/site-packages/PyDSTool/PyCont/auto/src/libf2c/z_log.o auto_temp/home/shigoto/.local/lib/python3.8/site-packages/PyDSTool/PyCont/auto/module/automod.o auto_temp/home/shigoto/.local/lib/python3.8/site-packages/PyDSTool/PyCont/auto/module/interface.o auto_temp/home/shigoto/Documents/Work/Projects/2020-05 Saddle-node Bifurcation Carryover/codes/notebooks/auto_temp/CellCycle_vf.o -L./ -o ./_auto_CellCycle_vf.cpython-38-x86_64-linux-gnu.so -w\n"
     ]
    }
   ],
   "source": [
    "PC = dst.ContClass(DS)\n",
    "name3 = 'LC2'\n",
    "PCargs = dst.args(name=name3)\n",
    "PCargs.type = 'LC-C'\n",
    "PCargs.initcycle = cycle\n",
    "PCargs.freepars = ['k5p']\n",
    "PCargs.StepSize = 2e-2\n",
    "PCargs.MaxNumPoints = 50000\n",
    "PCargs.MaxStepSize = 5e-2\n",
    "PCargs.MinStepSize = 1e-4\n",
    "PCargs.MaxTestIters = 1000\n",
    "PCargs.SolutionMeasures = 'min'\n",
    "PCargs.NumSPOut = 40\n",
    "PCargs.SaveEigen = True\n",
    "PCargs.verbosity = 2\n",
    "\n",
    "PC.newCurve(PCargs)\n",
    "PC.curves[name3].backward()\n",
    "PC.curves[name3].forward()"
   ]
  },
  {
   "cell_type": "code",
   "execution_count": 14,
   "metadata": {},
   "outputs": [
    {
     "data": {
      "text/plain": [
       "({'A': 0.051215411878439525,\n",
       "  'P': 1.6581629493592063,\n",
       "  'Y': 0.02355486557700103,\n",
       "  'm': 2.0},\n",
       " {'A': 0.05000000000000002,\n",
       "  'P': 0.9999999999999956,\n",
       "  'Y': 0.03846153846154625,\n",
       "  'm': -1.583327336586685e-19},\n",
       " {'A': 0.7127848739479983,\n",
       "  'P': 0.277816108256646,\n",
       "  'Y': 0.12585894471937878,\n",
       "  'm': 2.0},\n",
       " {'A': 0.055562950271203844,\n",
       "  'P': 1.120372749494177,\n",
       "  'Y': 0.034471681636286694,\n",
       "  'm': 2.0})"
      ]
     },
     "execution_count": 14,
     "metadata": {},
     "output_type": "execute_result"
    }
   ],
   "source": [
    "fps = pp.find_fixedpoints(DS, n=4, eps=1e-8)\n",
    "fps"
   ]
  },
  {
   "cell_type": "code",
   "execution_count": 15,
   "metadata": {
    "scrolled": false
   },
   "outputs": [
    {
     "name": "stdout",
     "output_type": "stream",
     "text": [
      "Neutral saddle found!\n",
      "\n",
      "Test function going crazy:  class Hopf_Bor(BorderMethod, BiAltMethod) \n",
      "\n",
      "\n",
      "Checking...\n",
      "  |q| = 1.000000\n",
      "  <p,q> = 1.000000\n",
      "  |Aq| = 0.000000\n",
      "  |transpose(A)p| = 0.000000\n",
      "\n",
      "LP Point found \n",
      "========================== \n",
      "0 : \n",
      "A  =  0.42325685315315825\n",
      "P  =  0.49418945769437567\n",
      "Y  =  0.07487980046001787\n",
      "m  =  2.0\n",
      "k5p  =  0.030631818510688053\n",
      "\n",
      "Eigenvalues = \n",
      "\n",
      "     (-3.262166,0.000000)\n",
      "     (-0.000000,0.000000)\n",
      "     (1.190667,0.000000)\n",
      "     (-0.100000,0.000000)\n",
      "\n",
      "\n",
      "a = 0.1897815445176204\n",
      "\n",
      "\n",
      "Checking...\n",
      "  |q| = 1.000000\n",
      "  <p,q> = 1.000000\n",
      "  |Aq| = 0.000000\n",
      "  |transpose(A)p| = 0.000001\n",
      "\n",
      "LP Point found \n",
      "========================== \n",
      "0 : \n",
      "A  =  0.2803176459936144\n",
      "P  =  0.8061908131345967\n",
      "Y  =  0.04727066210022481\n",
      "m  =  2.0\n",
      "k5p  =  0.02607846297252048\n",
      "\n",
      "Eigenvalues = \n",
      "\n",
      "     (-3.979172,0.000000)\n",
      "     (0.000000,0.000000)\n",
      "     (0.065326,0.000000)\n",
      "     (-0.100000,0.000000)\n",
      "\n",
      "\n",
      "a = 4.20609782177662\n",
      "\n",
      "Checking...\n",
      "  |q| = 1.000000\n",
      "  |<p,q> - 1| =  2.2301825219878386e-16\n",
      "  |Aq - iwq| = 0.000001\n",
      "  |A*p + iwp| = 0.000012\n",
      "\n",
      "H Point found \n",
      "========================== \n",
      "0 : \n",
      "A  =  0.27964969107211046\n",
      "P  =  0.8151707956438167\n",
      "Y  =  0.046774282054248516\n",
      "m  =  2.0\n",
      "k5p  =  0.026091672708011358\n",
      "\n",
      "Eigenvalues = \n",
      "\n",
      "     (-4.138518,0.000000)\n",
      "     (0.000001,0.071486)\n",
      "     (0.000001,-0.071486)\n",
      "     (-0.100000,0.000000)\n",
      "\n",
      "\n",
      "w = 0.07148594356503625\n",
      "l1 = 147.3929810518437\n",
      "\n",
      "Checking...\n",
      "  |q| = 1.000000\n",
      "  |<p,q> - 1| =  1.944128986425528e-16\n",
      "  |Aq - iwq| = 0.000001\n",
      "  |A*p + iwp| = 0.000009\n",
      "\n",
      "H Point found \n",
      "========================== \n",
      "0 : \n",
      "A  =  0.27964968856184697\n",
      "P  =  0.8151708399019534\n",
      "Y  =  0.04677427963351283\n",
      "m  =  2.0\n",
      "k5p  =  0.026091672841151704\n",
      "\n",
      "Eigenvalues = \n",
      "\n",
      "     (-4.138519,0.000000)\n",
      "     (0.000001,0.071486)\n",
      "     (0.000001,-0.071486)\n",
      "     (-0.100000,0.000000)\n",
      "\n",
      "\n",
      "w = 0.07148612473095164\n",
      "l1 = 147.3924412654347\n",
      "\n",
      "B Point found \n",
      "========================== \n",
      "0 : \n",
      "A  =  0.41026471089886174\n",
      "P  =  0.9550179112411906\n",
      "Y  =  0.04020028136991402\n",
      "m  =  2.0\n",
      "k5p  =  0.04000000019909254\n",
      "\n",
      "B Point found \n",
      "========================== \n",
      "0 : \n",
      "A  =  0.7430643214299477\n",
      "P  =  0.264116786251532\n",
      "Y  =  0.13152841871384371\n",
      "m  =  2.0\n",
      "k5p  =  -4.711793687355904e-10\n",
      "\n"
     ]
    }
   ],
   "source": [
    "name1 = 'EQ1'\n",
    "PCargs = dst.args(name=name1)\n",
    "PCargs.type = 'EP-C'\n",
    "PCargs.initpoint = fps[2]\n",
    "PCargs.freepars = ['k5p']\n",
    "PCargs.StepSize = 1e-3\n",
    "PCargs.MaxNumPoints = 5000\n",
    "PCargs.MaxStepSize = 5e-3\n",
    "PCargs.MinStepSize = 1e-6\n",
    "PCargs.MaxTestIters = 20\n",
    "PCargs.LocBifPoints = 'all'\n",
    "PCargs.SaveEigen = True\n",
    "PCargs.StopAtPoints = ['B']\n",
    "PCargs.verbosity = 2\n",
    "\n",
    "PC.newCurve(PCargs)\n",
    "PC.curves[name1].backward()\n",
    "PC.curves[name1].forward()"
   ]
  },
  {
   "cell_type": "code",
   "execution_count": 16,
   "metadata": {
    "scrolled": false
   },
   "outputs": [
    {
     "name": "stdout",
     "output_type": "stream",
     "text": [
      "B Point found \n",
      "========================== \n",
      "0 : \n",
      "A  =  0.00019426821331178064\n",
      "P  =  2.6460568996415366\n",
      "Y  =  0.014891717299562098\n",
      "m  =  2.0\n",
      "k5p  =  -7.1106153670900636e-12\n",
      "\n",
      "Maximum test function iterations reached.\n",
      "\n",
      "Neutral saddle found!\n",
      "\n",
      "Neutral saddle found!\n",
      "\n",
      "\n",
      "Checking...\n",
      "  |q| = 1.000000\n",
      "  <p,q> = 1.000000\n",
      "  |Aq| = 0.000000\n",
      "  |transpose(A)p| = 0.000004\n",
      "\n",
      "LP Point found \n",
      "========================== \n",
      "0 : \n",
      "A  =  0.07661331695998193\n",
      "P  =  1.2629326875349751\n",
      "Y  =  0.030699974283150574\n",
      "m  =  2.0\n",
      "k5p  =  0.0073110191871714044\n",
      "\n",
      "Eigenvalues = \n",
      "\n",
      "     (-2.835345,0.000000)\n",
      "     (-0.039687,0.000000)\n",
      "     (-0.000000,0.000000)\n",
      "     (-0.100000,0.000000)\n",
      "\n",
      "\n",
      "a = 6.43066659482632\n",
      "\n",
      "Test function going crazy:  class Hopf_Bor(BorderMethod, BiAltMethod) \n",
      "\n",
      "B Point found \n",
      "========================== \n",
      "0 : \n",
      "A  =  0.006609306830907341\n",
      "P  =  1.0712910661422828\n",
      "Y  =  0.03599417040114912\n",
      "m  =  2.0\n",
      "k5p  =  -2.265097847256428e-10\n",
      "\n"
     ]
    }
   ],
   "source": [
    "name2 = 'EQ2'\n",
    "PCargs = dst.args(name=name2)\n",
    "PCargs.type = 'EP-C'\n",
    "PCargs.initpoint = fps[0]\n",
    "PCargs.freepars = ['k5p']\n",
    "PCargs.StepSize = 1e-3\n",
    "PCargs.MaxNumPoints = 5000\n",
    "PCargs.MaxStepSize = 5e-3\n",
    "PCargs.MinStepSize = 1e-6\n",
    "PCargs.MaxTestIters = 20\n",
    "PCargs.LocBifPoints = 'all'\n",
    "PCargs.SaveEigen = True\n",
    "PCargs.StopAtPoints = ['B']\n",
    "PCargs.verbosity = 2\n",
    "\n",
    "PC.newCurve(PCargs)\n",
    "PC.curves[name2].backward()\n",
    "PC.curves[name2].forward()"
   ]
  },
  {
   "cell_type": "markdown",
   "metadata": {},
   "source": [
    "Indeed there is a bifurcation point (`LP1`) at which a critical transition drives gen activation."
   ]
  },
  {
   "cell_type": "code",
   "execution_count": 18,
   "metadata": {},
   "outputs": [
    {
     "data": {
      "image/png": "[encoded data removed]",
      "text/plain": [
       "<Figure size 432x288 with 1 Axes>"
      ]
     },
     "metadata": {
      "needs_background": "light"
     },
     "output_type": "display_data"
    }
   ],
   "source": [
    "PC[name1].display(('k5p', 'Y'), stability=True, linewidth=3)\n",
    "PC[name2].display(('k5p', 'Y'), stability=True, linewidth=3)\n",
    "PC[name3].display(('k5p', 'Y_min'), stability=True, linewidth=3)\n",
    "PC[name3].display(('k5p', 'Y_max'), stability=True, linewidth=3)\n",
    "PC.plot.fig1.toggleAll('off', bytype=['P', 'B', 'MX', 'RG'])\n",
    "PC.plot.fig1.axes1.axes.set_xlabel('$k_{5p}$', fontsize=16)\n",
    "PC.plot.fig1.axes1.axes.set_xlim((0.0, 0.04))\n",
    "PC.plot.fig1.axes1.axes.set_ylabel('$Y$', fontsize=16)\n",
    "PC.plot.fig1.axes1.axes.set_ylim((0.0, 0.5))\n",
    "PC.plot.fig1.axes1.axes.set_title('')\n",
    "plt.savefig(figdir + 'ApplicationCellCycleExtendedlBifurcation.pdf', bbox_inches='tight')\n",
    "plt.show()"
   ]
  },
  {
   "cell_type": "markdown",
   "metadata": {},
   "source": [
    "Same diagram as before."
   ]
  },
  {
   "cell_type": "code",
   "execution_count": null,
   "metadata": {},
   "outputs": [],
   "source": []
  },
  {
   "cell_type": "code",
   "execution_count": null,
   "metadata": {},
   "outputs": [],
   "source": []
  },
  {
   "cell_type": "code",
   "execution_count": null,
   "metadata": {},
   "outputs": [],
   "source": []
  },
  {
   "cell_type": "code",
   "execution_count": null,
   "metadata": {},
   "outputs": [],
   "source": []
  },
  {
   "cell_type": "code",
   "execution_count": null,
   "metadata": {},
   "outputs": [],
   "source": []
  },
  {
   "cell_type": "code",
   "execution_count": null,
   "metadata": {},
   "outputs": [],
   "source": []
  },
  {
   "cell_type": "markdown",
   "metadata": {},
   "source": [
    "## 3. Carryover when $g$ depends on the other variables\n",
    "\n",
    "Use the first step as an example:\n",
    "$$\n",
    "\\begin{aligned}\n",
    "    \\frac{dY}{dt} &= k_{1} - (k_{2p} + k_{2pp}P)Y, \\\\\n",
    "    \\frac{dP}{dt} &= \\frac{(k_{3p}+k_{3pp}A)(1-P)}{J_{3}+(1-P)} - k_{4}m\\frac{YP}{J_{4}+P},\n",
    "\\end{aligned}\n",
    "$$\n",
    "where $A=0$ is constant, then transform\n",
    "$$\n",
    "    \\frac{dA}{dt} = k_{5p} + k_{5pp}\\frac{(mY/J_{5})^{n}}{1+(mY/J_{5})^{n}} - k_{6}A.\n",
    "$$\n",
    "Does this guarantee the existance of the SN bifurcation?"
   ]
  },
  {
   "cell_type": "code",
   "execution_count": 11,
   "metadata": {},
   "outputs": [],
   "source": [
    "# dynamical system\n",
    "Ystr = 'k1 - (k2p + k2pp*P)*Y'\n",
    "Pstr = '(k3p + k3pp*A)*(1 - P)/(J3 + 1 - P) - k4*m*Y*P/(J4 + P)'\n",
    "params = {'A': 0.0,\n",
    "          'k1': 0.04,\n",
    "          'k2p':  0.04,\n",
    "          'k2pp':  1.0,\n",
    "          'k3p':  1.0,\n",
    "          'k3pp':  10.0,\n",
    "          'k4':  35.0,\n",
    "          'J3':  0.04,\n",
    "          'J4':  0.04,\n",
    "          'm': 1.0}\n",
    "ics = {'Y': 1.0, 'P': 0.5}\n",
    "DSargs = dst.args(name='CellCycle')\n",
    "DSargs.pars = params\n",
    "DSargs.tdata = [0, 2]\n",
    "DSargs.pdomain = {'m': [0, 10.0], 'A': [0, 1.1],}\n",
    "DSargs.xdomain = {'Y': [0, 5.0], 'P': [0, 10.0]}\n",
    "DSargs.varspecs = {'Y': Ystr, 'P': Pstr}\n",
    "DSargs.ics = ics\n",
    "DS = dst.Generator.Vode_ODEsystem(DSargs)"
   ]
  },
  {
   "cell_type": "code",
   "execution_count": 12,
   "metadata": {},
   "outputs": [
    {
     "data": {
      "text/plain": [
       "({'P': 0.0011637197075304387, 'Y': 0.971729481305414},)"
      ]
     },
     "execution_count": 12,
     "metadata": {},
     "output_type": "execute_result"
    }
   ],
   "source": [
    "fps = pp.find_fixedpoints(DS, n=4, eps=1e-8)\n",
    "fps"
   ]
  },
  {
   "cell_type": "code",
   "execution_count": 13,
   "metadata": {},
   "outputs": [
    {
     "name": "stdout",
     "output_type": "stream",
     "text": [
      "B Point found \n",
      "========================== \n",
      "0 : \n",
      "P  =  0.00011049760840167589\n",
      "Y  =  0.997245169843554\n",
      "m  =  10.000000011595674\n",
      "\n",
      "\n",
      "Checking...\n",
      "  |q| = 1.000000\n",
      "  <p,q> = 1.000000\n",
      "  |Aq| = 0.000000\n",
      "  |transpose(A)p| = 0.000000\n",
      "\n",
      "LP Point found \n",
      "========================== \n",
      "0 : \n",
      "P  =  0.040134021344593686\n",
      "Y  =  0.49916376750882524\n",
      "m  =  0.10971397984842488\n",
      "\n",
      "Eigenvalues = \n",
      "\n",
      "     (-12.060003,0.000000)\n",
      "     (-0.000000,0.000000)\n",
      "\n",
      "\n",
      "a = 0.15638418577543914\n",
      "\n",
      "\n",
      "Checking...\n",
      "  |q| = 1.000000\n",
      "  <p,q> = 1.000000\n",
      "  |Aq| = 0.000000\n",
      "  |transpose(A)p| = 0.000002\n",
      "\n",
      "LP Point found \n",
      "========================== \n",
      "0 : \n",
      "P  =  0.827956452753923\n",
      "Y  =  0.04608526138965237\n",
      "m  =  0.5273193026839457\n",
      "\n",
      "Eigenvalues = \n",
      "\n",
      "     (-1.802749,0.000000)\n",
      "     (0.000000,0.000000)\n",
      "\n",
      "\n",
      "a = 2.484916156044039\n",
      "\n",
      "B Point found \n",
      "========================== \n",
      "0 : \n",
      "P  =  1.000000000285675\n",
      "Y  =  0.038461538450973554\n",
      "m  =  -5.517609444459165e-09\n",
      "\n"
     ]
    }
   ],
   "source": [
    "# bifurcation diagram for s\n",
    "# first branch\n",
    "PC = dst.ContClass(DS)\n",
    "name1 = 'EQ1'\n",
    "PCargs = dst.args(name=name1)\n",
    "PCargs.type = 'EP-C'\n",
    "PCargs.initpoint = fps[0]\n",
    "PCargs.freepars = ['m']\n",
    "PCargs.StepSize = 1e-3\n",
    "PCargs.MaxNumPoints = 5000\n",
    "PCargs.MaxStepSize = 5e-2\n",
    "PCargs.MinStepSize = 1e-6\n",
    "PCargs.MaxTestIters = 20\n",
    "PCargs.LocBifPoints = 'all'\n",
    "PCargs.SaveEigen = True\n",
    "PCargs.StopAtPoints = ['B']\n",
    "PCargs.verbosity = 2\n",
    "\n",
    "PC.newCurve(PCargs)\n",
    "PC.curves[name1].backward()\n",
    "PC.curves[name1].forward()"
   ]
  },
  {
   "cell_type": "markdown",
   "metadata": {},
   "source": [
    "Indeed there is a bifurcation point (`LP1`) at which a critical transition drives gen activation."
   ]
  },
  {
   "cell_type": "code",
   "execution_count": 36,
   "metadata": {},
   "outputs": [
    {
     "data": {
      "image/png": "[encoded data removed]",
      "text/plain": [
       "<Figure size 432x288 with 1 Axes>"
      ]
     },
     "metadata": {
      "needs_background": "light"
     },
     "output_type": "display_data"
    }
   ],
   "source": [
    "PC[name1].display(('m', 'Y'), stability=True, linewidth=3)\n",
    "PC.plot.fig1.toggleAll('off', bytype=['P','B'])\n",
    "PC.plot.fig1.axes1.axes.set_xlabel('$m$', fontsize=16)\n",
    "PC.plot.fig1.axes1.axes.set_xlim((0.0, 1.2))\n",
    "PC.plot.fig1.axes1.axes.set_ylabel('$Y$', fontsize=16)\n",
    "# PC.plot.fig1.axes1.axes.set_ylim((0.0, 2.6))\n",
    "PC.plot.fig1.axes1.axes.set_title('')\n",
    "plt.savefig(figdir + 'ApplicationCellCycleExtendedBifurcation.pdf', bbox_inches='tight')\n",
    "plt.show()"
   ]
  },
  {
   "cell_type": "code",
   "execution_count": null,
   "metadata": {},
   "outputs": [],
   "source": []
  },
  {
   "cell_type": "code",
   "execution_count": 37,
   "metadata": {
    "scrolled": false
   },
   "outputs": [
    {
     "name": "stdout",
     "output_type": "stream",
     "text": [
      "B Point found \n",
      "========================== \n",
      "0 : \n",
      "P  =  0.040134040974082665\n",
      "Y  =  0.49916364523457635\n",
      "m  =  1.3165677906776032\n",
      "A  =  1.1000000296193644\n",
      "\n"
     ]
    }
   ],
   "source": [
    "# Two-parameter bifurcation\n",
    "namefold1 = 'F01'\n",
    "PCargs = dst.args(name=namefold1)\n",
    "PCargs.type = 'LP-C'\n",
    "PCargs.initpoint = 'EQ1:LP1'\n",
    "PCargs.freepars = ['m', 'A']\n",
    "PCargs.StepSize = 1e-2\n",
    "PCargs.MaxNumPoints = 2000\n",
    "PCargs.MaxStepSize = 5e-2\n",
    "PCargs.MinStepSize = 1e-4\n",
    "PCargs.SaveEigen = True\n",
    "PCargs.SaveJacobian = True\n",
    "PCargs.LocBifPoints = 'all'\n",
    "PCargs.StopAtPoints = ['B']\n",
    "PCargs.verbosity = 2\n",
    "PC.newCurve(PCargs)\n",
    "PC.curves[namefold1].forward()\n",
    "# PC.curves[namefold1].backward()"
   ]
  },
  {
   "cell_type": "code",
   "execution_count": null,
   "metadata": {},
   "outputs": [],
   "source": []
  },
  {
   "cell_type": "code",
   "execution_count": 38,
   "metadata": {},
   "outputs": [
    {
     "data": {
      "image/png": "[encoded data removed]",
      "text/plain": [
       "<Figure size 432x288 with 1 Axes>"
      ]
     },
     "metadata": {
      "needs_background": "light"
     },
     "output_type": "display_data"
    }
   ],
   "source": [
    "PC[namefold1].display(('m', 'A'), stability=True, linewidth=3)\n",
    "# PC.plot.toggleLabels('off')\n",
    "# PC.plot.fig1.toggleAll('off', bytype=['P', 'BT', 'CP'])\n",
    "PC.plot.fig1.axes1.axes.set_xlim((0.0, 2.0))\n",
    "PC.plot.fig1.axes1.axes.set_xlabel('$m$', fontsize=16)\n",
    "# PC.plot.fig1.axes1.axes.set_ylim((0.0, 0.15))\n",
    "PC.plot.fig1.axes1.axes.set_ylabel('$k_{*}$', fontsize=16)\n",
    "PC.plot.fig1.axes1.axes.set_title('')\n",
    "# plt.savefig(dir + 'ApplicationCellCyleTwoParBifurcation.pdf', bbox_inches='tight')\n",
    "plt.show()"
   ]
  },
  {
   "cell_type": "code",
   "execution_count": 40,
   "metadata": {},
   "outputs": [
    {
     "data": {
      "image/png": "[encoded data removed]",
      "text/plain": [
       "<Figure size 432x288 with 1 Axes>"
      ]
     },
     "metadata": {
      "needs_background": "light"
     },
     "output_type": "display_data"
    }
   ],
   "source": [
    "PC[namefold1].display(('m', 'Y'), stability=True, linewidth=3)"
   ]
  },
  {
   "cell_type": "code",
   "execution_count": 39,
   "metadata": {},
   "outputs": [
    {
     "data": {
      "image/png": "[encoded data removed]",
      "text/plain": [
       "<Figure size 432x288 with 1 Axes>"
      ]
     },
     "metadata": {
      "needs_background": "light"
     },
     "output_type": "display_data"
    }
   ],
   "source": [
    "PC[namefold1].display(('A', 'Y'), stability=True, linewidth=3)"
   ]
  },
  {
   "cell_type": "code",
   "execution_count": 58,
   "metadata": {},
   "outputs": [
    {
     "data": {
      "text/plain": [
       "array([0.        , 0.00673631, 0.01481989, 0.02452018, 0.03616053,\n",
       "       0.05012894, 0.06689104, 0.08700556, 0.11114299, 0.1401079 ,\n",
       "       0.17378946, 0.20747102, 0.24115259, 0.27483415, 0.30851571,\n",
       "       0.34219727, 0.37587883, 0.40956039, 0.44324195, 0.47692352,\n",
       "       0.51060508, 0.54428664, 0.5779682 , 0.61164976, 0.64533132,\n",
       "       0.67901289, 0.71269445, 0.74637601, 0.78005757, 0.81373913,\n",
       "       0.84742069, 0.88110225, 0.91478382, 0.94846538, 0.98214694,\n",
       "       1.0158285 , 1.04951006, 1.08319162, 1.10000003])"
      ]
     },
     "execution_count": 58,
     "metadata": {},
     "output_type": "execute_result"
    }
   ],
   "source": [
    "PC[namefold1].sol['A']"
   ]
  },
  {
   "cell_type": "code",
   "execution_count": 59,
   "metadata": {},
   "outputs": [
    {
     "data": {
      "text/plain": [
       "{'curvetype': 'LP-C',\n",
       " '_ptlabel': 'LP',\n",
       " 'model': Non-Hybrid Model CellCycle,\n",
       " 'gensys': Generator CellCycle,\n",
       " '_autoMod': None,\n",
       " 'UseAuto': False,\n",
       " 'description': 'None',\n",
       " 'parsdict': {'A': 1.0999990296193645,\n",
       "  'k1': 0.04,\n",
       "  'k2p': 0.04,\n",
       "  'k2pp': 1.0,\n",
       "  'k3p': 1.0,\n",
       "  'k3pp': 10.0,\n",
       "  'k4': 35.0,\n",
       "  'J3': 0.04,\n",
       "  'J4': 0.04,\n",
       "  'm': 1.3165677906776032},\n",
       " 'freepars': ['m', 'A'],\n",
       " 'auxpars': [],\n",
       " 'varslist': ['P', 'Y'],\n",
       " 'varsindices': array([0, 1]),\n",
       " 'parsindices': array([9, 0]),\n",
       " 'varsdim': 2,\n",
       " 'freeparsdim': 2,\n",
       " 'auxparsdim': 0,\n",
       " 'dim': 4,\n",
       " 'sysfunc': <PyDSTool.PyCont.TestFunc.Function at 0x7f4e86d10fd0>,\n",
       " 'coords': [0, 1],\n",
       " 'params': [2, 3],\n",
       " 'allvars': [0, 1, 2, 3],\n",
       " 'initpoint': array([0.04013402, 0.49916377, 0.10971398, 0.        ]),\n",
       " 'initdirec': None,\n",
       " 'initcycle': None,\n",
       " 'SPOut': None,\n",
       " 'NumSPOut': 300,\n",
       " 'preTF': None,\n",
       " 'MaxNumPoints': 2000,\n",
       " 'MaxCorrIters': 5,\n",
       " 'MaxTestIters': 10,\n",
       " 'MaxStepSize': 0.05,\n",
       " 'MinStepSize': 0.0001,\n",
       " 'StepSize': 0.05,\n",
       " 'VarTol': 1e-06,\n",
       " 'FuncTol': 1e-06,\n",
       " 'TestTol': 0.0001,\n",
       " 'ClosedCurve': 50,\n",
       " 'verbosity': 2,\n",
       " 'sol': Pointset F01 (non-parameterized)\n",
       " Coordinates:\n",
       " A:  [0.         0.00673631, ..., 1.08319162 1.10000003]\n",
       " P:  [0.04013402 0.04013404, ..., 0.04013404 0.04013404]\n",
       " Y:  [0.49916377 0.49916365, ..., 0.49916365 0.49916365]\n",
       " m:  [0.10971398 0.11710466, ..., 1.29812662 1.31656779]\n",
       " Labels by index:  0: {LP: {keys=data,domain,stab}}, {P: {keys=data,plot,name}},\n",
       "                   1: {LP: {keys=data,domain,stab}},\n",
       "                   2: {LP: {keys=data,domain,stab}},\n",
       "                   .\n",
       "                   .\n",
       "                   .\n",
       "                   36: {LP: {keys=data,domain,stab}},\n",
       "                   37: {LP: {keys=data,domain,stab}},\n",
       "                   38: {LP: {keys=data,domain,stab}}, {B: {keys=data,plot,name}}, {P: {keys=data,startx,plot,name}},\n",
       " 'new_sol_segment': Pointset <no name> (non-parameterized)\n",
       " Coordinates:\n",
       " A:  [0.         0.00673631, ..., 1.08319162 1.10000003]\n",
       " P:  [0.04013402 0.04013404, ..., 0.04013404 0.04013404]\n",
       " Y:  [0.49916377 0.49916365, ..., 0.49916365 0.49916365]\n",
       " m:  [0.10971398 0.11710466, ..., 1.29812662 1.31656779]\n",
       " Labels by index:  0: {LP: {keys=data,domain,stab}}, {P: {keys=data,plot,name}},\n",
       "                   1: {LP: {keys=data,domain,stab}},\n",
       "                   2: {LP: {keys=data,domain,stab}},\n",
       "                   .\n",
       "                   .\n",
       "                   .\n",
       "                   36: {LP: {keys=data,domain,stab}},\n",
       "                   37: {LP: {keys=data,domain,stab}},\n",
       "                   38: {LP: {keys=data,domain,stab}}, {B: {keys=data,plot,name}}, {P: {keys=data,startx,plot,name}},\n",
       " 'LocBifPoints': ['B', 'SP', 'BT', 'ZH', 'CP'],\n",
       " 'StopAtPoints': ['B'],\n",
       " 'TestFuncs': [<PyDSTool.PyCont.TestFunc.B_Check at 0x7f4e86fdafd0>,\n",
       "  <PyDSTool.PyCont.TestFunc.BT_Fold at 0x7f4e86fc3100>,\n",
       "  <PyDSTool.PyCont.TestFunc.Hopf_Bor at 0x7f4e86fc3c70>,\n",
       "  <PyDSTool.PyCont.TestFunc.BT_Fold at 0x7f4eb23fea60>,\n",
       "  <PyDSTool.PyCont.TestFunc.Hopf_Bor at 0x7f4e9bfcd8e0>,\n",
       "  <PyDSTool.PyCont.TestFunc.CP_Fold at 0x7f4e9c4f6430>],\n",
       " 'BifPoints': {'B': <PyDSTool.PyCont.BifPoint.BPoint at 0x7f4e86fda550>,\n",
       "  'BT': <PyDSTool.PyCont.BifPoint.BTPoint at 0x7f4e86db6e50>,\n",
       "  'ZH': <PyDSTool.PyCont.BifPoint.ZHPoint at 0x7f4e87082f70>,\n",
       "  'CP': <PyDSTool.PyCont.BifPoint.CPPoint at 0x7f4e9c4f65e0>},\n",
       " 'CurveInfo':  0: {LP: {keys=data,domain,stab}}, {P: {keys=data,plot,name}},\n",
       "  1: {LP: {keys=data,domain,stab}},\n",
       "  2: {LP: {keys=data,domain,stab}},\n",
       "  .\n",
       "  .\n",
       "  .\n",
       "  36: {LP: {keys=data,domain,stab}},\n",
       "  37: {LP: {keys=data,domain,stab}},\n",
       "  38: {LP: {keys=data,domain,stab}}, {B: {keys=data,plot,name}}, {P: {keys=data,startx,plot,name}},\n",
       " 'SaveJacobian': True,\n",
       " 'SaveEigen': True,\n",
       " 'Corrector': <bound method Continuation._MoorePenrose of PyCont curve F01 (type LP-C)>,\n",
       " 'name': 'F01',\n",
       " 'fig': None,\n",
       " 'text_handles': [],\n",
       " 'plot': fig1:\n",
       "     axes1:\n",
       "         F01:\n",
       "             Type: LP\n",
       "             B1:\n",
       "                 Label: B1\n",
       "             P1:\n",
       "                 Label: P1\n",
       "             P2:\n",
       "                 Label: P2,\n",
       " '_statuscodes': {0: 'Unrecognized error encountered (check stderr output).  Stopping continuation...',\n",
       "  -1: 'Do over.'},\n",
       " 'CorrFunc': <PyDSTool.PyCont.TestFunc.AddTestFunction at 0x7f4e86d10d30>,\n",
       " 'V': array([[ 4.21885321e-05, -2.62797077e-04,  7.39067606e-01,\n",
       "          6.73631207e-01],\n",
       "        [ 3.95226747e-05, -2.46191033e-04,  7.39067609e-01,\n",
       "          6.73631210e-01],\n",
       "        [ 3.67401721e-05, -2.28858522e-04,  7.39067613e-01,\n",
       "          6.73631212e-01],\n",
       "        ...,\n",
       "        [ 0.00000000e+00,  0.00000000e+00,  0.00000000e+00,\n",
       "          0.00000000e+00],\n",
       "        [ 0.00000000e+00,  0.00000000e+00,  0.00000000e+00,\n",
       "          0.00000000e+00],\n",
       "        [ 0.00000000e+00,  0.00000000e+00,  0.00000000e+00,\n",
       "          0.00000000e+00]]),\n",
       " 'curve': array([[0.04013402, 0.49916377, 0.10971398, 0.        ],\n",
       "        [0.04013404, 0.49916365, 0.11710466, 0.00673631],\n",
       "        [0.04013404, 0.49916365, 0.12597347, 0.01481989],\n",
       "        ...,\n",
       "        [0.        , 0.        , 0.        , 0.        ],\n",
       "        [0.        , 0.        , 0.        , 0.        ],\n",
       "        [0.        , 0.        , 0.        , 0.        ]]),\n",
       " 'loc': 38}"
      ]
     },
     "execution_count": 59,
     "metadata": {},
     "output_type": "execute_result"
    }
   ],
   "source": [
    "vars(PC[namefold1])"
   ]
  },
  {
   "cell_type": "markdown",
   "metadata": {},
   "source": [
    "What is the solution to \n",
    "$$\n",
    "    \\frac{dA}{dt} = 0 = k_{5p} + k_{5pp}\\frac{(mY/J_{5})^{n}}{1+(mY/J_{5})^{n}} - k_{6}A,\n",
    "$$\n",
    "in the $mAY$-space? "
   ]
  },
  {
   "cell_type": "code",
   "execution_count": null,
   "metadata": {},
   "outputs": [],
   "source": []
  },
  {
   "cell_type": "code",
   "execution_count": null,
   "metadata": {},
   "outputs": [],
   "source": []
  },
  {
   "cell_type": "code",
   "execution_count": 60,
   "metadata": {},
   "outputs": [
    {
     "data": {
      "image/png": "[encoded data removed]",
      "text/plain": [
       "<Figure size 432x288 with 1 Axes>"
      ]
     },
     "metadata": {
      "needs_background": "light"
     },
     "output_type": "display_data"
    }
   ],
   "source": [
    "fig = plt.figure()\n",
    "ax = fig.gca(projection='3d')\n",
    "\n",
    "# Prepare arrays x, y, z\n",
    "x = PC[namefold1].sol['m']\n",
    "y = PC[namefold1].sol['A']\n",
    "z = PC[namefold1].sol['Y']\n",
    "\n",
    "ax.plot(x, y, z)\n",
    "\n",
    "plt.show()"
   ]
  },
  {
   "cell_type": "code",
   "execution_count": 62,
   "metadata": {},
   "outputs": [
    {
     "data": {
      "text/plain": [
       "-1.3877787807814457e-17"
      ]
     },
     "execution_count": 62,
     "metadata": {},
     "output_type": "execute_result"
    }
   ],
   "source": [
    "Y=0.22674444381187284\n",
    "A = 0.5420835741849908\n",
    "k5p = 0.005\n",
    "k5pp = 0.2\n",
    "k6 = 0.1\n",
    "J5 = 0.3\n",
    "m = 1.0\n",
    "n = 4\n",
    "k5p + k5pp*(m*Y/J5)**n/(1 + (m*Y/J5)**n) - k6*A"
   ]
  },
  {
   "cell_type": "code",
   "execution_count": null,
   "metadata": {},
   "outputs": [],
   "source": []
  },
  {
   "cell_type": "code",
   "execution_count": null,
   "metadata": {},
   "outputs": [],
   "source": []
  },
  {
   "cell_type": "code",
   "execution_count": null,
   "metadata": {},
   "outputs": [],
   "source": []
  },
  {
   "cell_type": "code",
   "execution_count": null,
   "metadata": {},
   "outputs": [],
   "source": []
  },
  {
   "cell_type": "code",
   "execution_count": null,
   "metadata": {},
   "outputs": [],
   "source": []
  },
  {
   "cell_type": "code",
   "execution_count": 76,
   "metadata": {},
   "outputs": [
    {
     "ename": "NameError",
     "evalue": "name 'clock' is not defined",
     "output_type": "error",
     "traceback": [
      "\u001b[0;31m---------------------------------------------------------------------------\u001b[0m",
      "\u001b[0;31mNameError\u001b[0m                                 Traceback (most recent call last)",
      "\u001b[0;32m<ipython-input-76-fcb2e721baf0>\u001b[0m in \u001b[0;36m<module>\u001b[0;34m\u001b[0m\n\u001b[1;32m      1\u001b[0m \u001b[0;32mimport\u001b[0m \u001b[0mtime\u001b[0m\u001b[0;34m\u001b[0m\u001b[0;34m\u001b[0m\u001b[0m\n\u001b[0;32m----> 2\u001b[0;31m \u001b[0mclock\u001b[0m\u001b[0;34m(\u001b[0m\u001b[0;34m)\u001b[0m\u001b[0;34m\u001b[0m\u001b[0;34m\u001b[0m\u001b[0m\n\u001b[0m",
      "\u001b[0;31mNameError\u001b[0m: name 'clock' is not defined"
     ]
    }
   ],
   "source": [
    "import time\n",
    "clock()"
   ]
  },
  {
   "cell_type": "code",
   "execution_count": null,
   "metadata": {},
   "outputs": [],
   "source": []
  }
 ],
 "metadata": {
  "@webio": {
   "lastCommId": null,
   "lastKernelId": null
  },
  "kernelspec": {
   "display_name": "Python 3",
   "language": "python",
   "name": "python3"
  },
  "language_info": {
   "codemirror_mode": {
    "name": "ipython",
    "version": 3
   },
   "file_extension": ".py",
   "mimetype": "text/x-python",
   "name": "python",
   "nbconvert_exporter": "python",
   "pygments_lexer": "ipython3",
   "version": "3.8.5"
  }
 },
 "nbformat": 4,
 "nbformat_minor": 2
}
