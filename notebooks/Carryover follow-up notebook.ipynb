{
 "cells": [
  {
   "cell_type": "markdown",
   "metadata": {},
   "source": []
  },
  {
   "cell_type": "markdown",
   "metadata": {},
   "source": []
  },
  {
   "cell_type": "markdown",
   "metadata": {},
   "source": []
  },
  {
   "cell_type": "code",
   "execution_count": 1,
   "metadata": {},
   "outputs": [],
   "source": [
    "from PyDSTool import *\n",
    "from PyDSTool.Toolbox import phaseplane as pp\n",
    "from matplotlib import pyplot as plt\n",
    "from IPython.display import display, Math"
   ]
  },
  {
   "cell_type": "code",
   "execution_count": 2,
   "metadata": {},
   "outputs": [],
   "source": [
    "dir = './figures/'\n",
    "plt.rc('text', usetex=True)"
   ]
  },
  {
   "cell_type": "markdown",
   "metadata": {},
   "source": [
    "# Carryover of a transcritical bifurcation after transforming one parameters into a variable"
   ]
  },
  {
   "cell_type": "markdown",
   "metadata": {},
   "source": [
    "## One-dimensional case, normal form\n",
    "$$f(x,a;b)=ax+b-x^2$$\n",
    "if $b=0$ fixed, there is a transcritical bifurcation."
   ]
  },
  {
   "cell_type": "code",
   "execution_count": 33,
   "metadata": {},
   "outputs": [],
   "source": [
    "xstr = 'a*x+b-x**2'\n",
    "params = {'a': 1, 'b': 0}\n",
    "ics = {'x': 1}\n",
    "DSargs = args(name='EX12')\n",
    "DSargs.pars = params\n",
    "DSargs.tdata = [0, 10]\n",
    "DSargs.pdomain = {'a': [-2, 2], 'b': [-2, 2]}\n",
    "DSargs.xdomain = {'x': [-1e4, 1e4]}\n",
    "DSargs.varspecs = {'x': xstr}\n",
    "DSargs.ics = ics\n",
    "DS = Generator.Vode_ODEsystem(DSargs)"
   ]
  },
  {
   "cell_type": "code",
   "execution_count": 34,
   "metadata": {},
   "outputs": [
    {
     "data": {
      "text/plain": [
       "({'x': array([0.])}, {'x': array([1.])})"
      ]
     },
     "execution_count": 34,
     "metadata": {},
     "output_type": "execute_result"
    }
   ],
   "source": [
    "fps = pp.find_fixedpoints(DS, n=4, eps=1e-8)\n",
    "fps"
   ]
  },
  {
   "cell_type": "code",
   "execution_count": 35,
   "metadata": {},
   "outputs": [
    {
     "name": "stdout",
     "output_type": "stream",
     "text": [
      "Warning: Variable dimension must be larger than 1 to detect Hopf points.\n",
      "BP Point found \n",
      "========================== \n",
      "0 : \n",
      "x  =  2.16753180861308e-27\n",
      "a  =  -3.084155838601035e-24\n",
      "\n",
      "Eigenvalues = \n",
      "\n",
      "     (0.000000,0.000000)\n",
      "     (-0.000000,0.000000)\n",
      "\n",
      "\n",
      "branch angle = -1.0\n",
      "Test function #1: 0.0\n",
      "\n"
     ]
    },
    {
     "name": "stderr",
     "output_type": "stream",
     "text": [
      "/home/shigoto/.local/lib/python3.8/site-packages/PyDSTool/PyCont/BifPoint.py:201: LinAlgWarning: Ill-conditioned matrix (rcond=2.16753e-27): result may not be accurate.\n",
      "  v0 = linalg.solve(r_[c_[J_coords, J_params],\n"
     ]
    },
    {
     "name": "stdout",
     "output_type": "stream",
     "text": [
      "B Point found \n",
      "========================== \n",
      "0 : \n",
      "x  =  0.0\n",
      "a  =  -2.0\n",
      "\n",
      "B Point found \n",
      "========================== \n",
      "0 : \n",
      "x  =  0.0\n",
      "a  =  2.000000011656571\n",
      "\n"
     ]
    }
   ],
   "source": [
    "PC = ContClass(DS)\n",
    "name1 = 'EQ1'\n",
    "PCargs = args(name=name1)\n",
    "PCargs.initpoint = fps[0]\n",
    "PCargs.type = 'EP-C'\n",
    "PCargs.freepars = ['a']\n",
    "PCargs.StepSize = 1e-4\n",
    "PCargs.MaxNumPoints = 800\n",
    "PCargs.MaxStepSize = 5e-2\n",
    "PCargs.MinStepSize = 1e-6\n",
    "PCargs.MaxTestIters = 20\n",
    "PCargs.LocBifPoints = 'all'\n",
    "PCargs.SaveEigen = True\n",
    "PCargs.StopAtPoints = ['B']\n",
    "PCargs.verbosity = 2\n",
    "\n",
    "PC.newCurve(PCargs)\n",
    "PC.curves[name1].backward()\n",
    "PC.curves[name1].forward()"
   ]
  },
  {
   "cell_type": "code",
   "execution_count": 36,
   "metadata": {},
   "outputs": [
    {
     "name": "stdout",
     "output_type": "stream",
     "text": [
      "Warning: Variable dimension must be larger than 1 to detect Hopf points.\n",
      "BP Point found \n",
      "========================== \n",
      "0 : \n",
      "x  =  2.520255344354985e-22\n",
      "a  =  4.772791744752622e-22\n",
      "\n",
      "Eigenvalues = \n",
      "\n",
      "     (0.000000,0.000000)\n",
      "     (-0.000000,0.000000)\n",
      "\n",
      "\n",
      "branch angle = -0.7071067811845627\n",
      "Test function #1: 1.78208964432005e-22\n",
      "\n"
     ]
    },
    {
     "name": "stderr",
     "output_type": "stream",
     "text": [
      "/home/shigoto/.local/lib/python3.8/site-packages/PyDSTool/PyCont/BifPoint.py:201: LinAlgWarning: Ill-conditioned matrix (rcond=2.52026e-22): result may not be accurate.\n",
      "  v0 = linalg.solve(r_[c_[J_coords, J_params],\n"
     ]
    },
    {
     "name": "stdout",
     "output_type": "stream",
     "text": [
      "B Point found \n",
      "========================== \n",
      "0 : \n",
      "x  =  -2.0000000130071043\n",
      "a  =  -2.0000000130071043\n",
      "\n",
      "B Point found \n",
      "========================== \n",
      "0 : \n",
      "x  =  2.0000000059100325\n",
      "a  =  2.0000000059100325\n",
      "\n"
     ]
    }
   ],
   "source": [
    "name2 = 'EQ2'\n",
    "PCargs = args(name=name2)\n",
    "PCargs.initpoint = fps[1]\n",
    "PCargs.type = 'EP-C'\n",
    "PCargs.freepars = ['a']\n",
    "PCargs.StepSize = 1e-3\n",
    "PCargs.MaxNumPoints = 800\n",
    "PCargs.MaxStepSize = 5e-2\n",
    "PCargs.MinStepSize = 1e-6\n",
    "PCargs.MaxTestIters = 20\n",
    "PCargs.LocBifPoints = 'all'\n",
    "PCargs.SaveEigen = True\n",
    "PCargs.StopAtPoints = ['B']\n",
    "PCargs.verbosity = 2\n",
    "\n",
    "PC.newCurve(PCargs)\n",
    "PC.curves[name2].backward()\n",
    "PC.curves[name2].forward()"
   ]
  },
  {
   "cell_type": "code",
   "execution_count": 37,
   "metadata": {},
   "outputs": [
    {
     "data": {
      "image/png": "[encoded data removed]",
      "text/plain": [
       "<Figure size 432x288 with 1 Axes>"
      ]
     },
     "metadata": {
      "needs_background": "light"
     },
     "output_type": "display_data"
    }
   ],
   "source": [
    "PC['EQ1'].display(('a', 'x'), stability=True, linewidth=3)\n",
    "PC['EQ2'].display(('a', 'x'), stability=True, linewidth=3)\n",
    "# PC.plot.toggleLabels('off')\n",
    "PC.plot.fig1.toggleAll('off', bytype=['P','B'])\n",
    "PC.plot.fig1.axes1.axes.set_xlim((-2, 2))\n",
    "PC.plot.fig1.axes1.axes.set_xlabel('$\\mu_1$', fontsize=16)\n",
    "PC.plot.fig1.axes1.axes.set_ylabel('$x$', fontsize=16)\n",
    "PC.plot.fig1.axes1.axes.set_title('')\n",
    "plt.savefig(dir + 'v2Ex1Bif.pdf', bbox_inches='tight')\n",
    "plt.show()"
   ]
  },
  {
   "cell_type": "code",
   "execution_count": 38,
   "metadata": {},
   "outputs": [
    {
     "name": "stderr",
     "output_type": "stream",
     "text": [
      "/home/shigoto/.local/lib/python3.8/site-packages/PyDSTool/PyCont/TestFunc.py:366: LinAlgWarning: Diagonal number 1 is exactly zero. Singular matrix.\n",
      "  MLU = linalg.lu_factor(c_[r_[A,transpose(self.data.C)], r_[self.data.B,self.data.D]])\n"
     ]
    },
    {
     "name": "stdout",
     "output_type": "stream",
     "text": [
      "B Point found \n",
      "========================== \n",
      "0 : \n",
      "x  =  -1.0000000031025331\n",
      "a  =  -2.0000000061940866\n",
      "b  =  -1.0000000061940866\n",
      "\n",
      "B Point found \n",
      "========================== \n",
      "0 : \n",
      "x  =  1.000000003093038\n",
      "a  =  2.000000006188718\n",
      "b  =  -1.000000006188718\n",
      "\n"
     ]
    }
   ],
   "source": [
    "namefold1 = 'F01'\n",
    "PCargs = args(name=namefold1)\n",
    "PCargs.type = 'LP-C'\n",
    "PCargs.initpoint = 'EQ1:BP1'\n",
    "PCargs.freepars = ['a', 'b']\n",
    "PCargs.StepSize = 1e-3\n",
    "PCargs.MaxNumPoints = 800\n",
    "PCargs.MaxStepSize = 5e-2\n",
    "PCargs.MinStepSize = 1e-6\n",
    "PCargs.MaxTestIters = 20\n",
    "PCargs.LocBifPoints = 'all'\n",
    "PCargs.SaveEigen = True\n",
    "PCargs.StopAtPoints = ['B']\n",
    "PCargs.verbosity = 2\n",
    "\n",
    "PC.newCurve(PCargs)\n",
    "PC.curves[namefold1].backward()\n",
    "PC.curves[namefold1].forward()"
   ]
  },
  {
   "cell_type": "code",
   "execution_count": 39,
   "metadata": {},
   "outputs": [
    {
     "data": {
      "image/png": "[encoded data removed]",
      "text/plain": [
       "<Figure size 432x288 with 1 Axes>"
      ]
     },
     "metadata": {
      "needs_background": "light"
     },
     "output_type": "display_data"
    }
   ],
   "source": [
    "PC[namefold1].display(('a', 'b'), stability=True, linewidth=3)\n",
    "PC.plot.toggleLabels('off')\n",
    "PC.plot.fig1.toggleAll('off', bytype=['P', 'BT'])\n",
    "PC.plot.fig1.axes1.axes.set_xlim((-2, 2))\n",
    "PC.plot.fig1.axes1.axes.set_xlabel('$\\mu_1$', fontsize=16)\n",
    "PC.plot.fig1.axes1.axes.set_ylim((-2, 2))\n",
    "PC.plot.fig1.axes1.axes.set_ylabel('$\\mu_2$', fontsize=16)\n",
    "PC.plot.fig1.axes1.axes.set_title('')\n",
    "aa = np.arange(-2, 2, 0.01)\n",
    "bb = 0*aa + 1\n",
    "plt.plot(bb, aa, lw=3, ls='-', color='g')\n",
    "plt.savefig(dir + 'v2Ex1Case1Bif1.pdf', bbox_inches='tight')\n",
    "plt.show()"
   ]
  },
  {
   "cell_type": "markdown",
   "metadata": {},
   "source": [
    "**Second case**\n",
    "$$x'=f(x,a;b)=-ax-b-x^2\\\\\n",
    "a'=g(a;b)=1-a$$"
   ]
  },
  {
   "cell_type": "code",
   "execution_count": 53,
   "metadata": {},
   "outputs": [],
   "source": [
    "xstr = 'a*x+b-x**2'\n",
    "astr = '1-a'\n",
    "params = {'b': 0}\n",
    "ics = {'x': 1, 'a': 1}\n",
    "DSargs = args(name='EX12')\n",
    "DSargs.pars = params\n",
    "DSargs.tdata = [0, 10]\n",
    "DSargs.pdomain = {'b': [-2, 2]}\n",
    "DSargs.xdomain = {'x': [-1e4, 1e4], 'a': [-2, 2]}\n",
    "DSargs.varspecs = {'x': xstr, 'a': astr}\n",
    "DSargs.ics = ics\n",
    "DS = Generator.Vode_ODEsystem(DSargs)"
   ]
  },
  {
   "cell_type": "code",
   "execution_count": 54,
   "metadata": {},
   "outputs": [
    {
     "data": {
      "text/plain": [
       "({'a': 1.0, 'x': -4.6331407084433053e-23}, {'a': 1.0, 'x': 1.0})"
      ]
     },
     "execution_count": 54,
     "metadata": {},
     "output_type": "execute_result"
    }
   ],
   "source": [
    "fps = pp.find_fixedpoints(DS, n=6, eps=1e-8)\n",
    "fps"
   ]
  },
  {
   "cell_type": "code",
   "execution_count": 55,
   "metadata": {},
   "outputs": [
    {
     "name": "stdout",
     "output_type": "stream",
     "text": [
      "B Point found \n",
      "========================== \n",
      "0 : \n",
      "a  =  1.0\n",
      "x  =  -1.0000000050134916\n",
      "b  =  2.000000015040475\n",
      "\n",
      "Neutral saddle found!\n",
      "\n",
      "\n",
      "Checking...\n",
      "  |q| = 1.000000\n",
      "  <p,q> = 1.000000\n",
      "  |Aq| = 0.000000\n",
      "  |transpose(A)p| = 0.000000\n",
      "\n",
      "LP Point found \n",
      "========================== \n",
      "0 : \n",
      "a  =  1.0\n",
      "x  =  0.5000000395948734\n",
      "b  =  -0.24999999999999845\n",
      "\n",
      "Eigenvalues = \n",
      "\n",
      "     (-0.000000,0.000000)\n",
      "     (-1.000000,0.000000)\n",
      "\n",
      "\n",
      "a = 1.000000000001\n",
      "\n",
      "B Point found \n",
      "========================== \n",
      "0 : \n",
      "a  =  1.0\n",
      "x  =  2.0000000077343945\n",
      "b  =  2.000000023203183\n",
      "\n"
     ]
    }
   ],
   "source": [
    "PC2 = ContClass(DS)\n",
    "name1 = 'EQ1'\n",
    "PCargs = args(name=name1)\n",
    "PCargs.initpoint = fps[0]\n",
    "PCargs.type = 'EP-C'\n",
    "PCargs.freepars = ['b']\n",
    "PCargs.StepSize = 1e-5\n",
    "PCargs.MaxNumPoints = 800\n",
    "PCargs.MaxStepSize = 5e-2\n",
    "PCargs.MinStepSize = 1e-6\n",
    "PCargs.MaxTestIters = 20\n",
    "PCargs.LocBifPoints = 'all'\n",
    "PCargs.SaveEigen = True\n",
    "PCargs.StopAtPoints = ['B']\n",
    "PCargs.verbosity = 2\n",
    "\n",
    "PC2.newCurve(PCargs)\n",
    "PC2.curves[name1].backward()\n",
    "PC2.curves[name1].forward()"
   ]
  },
  {
   "cell_type": "code",
   "execution_count": 56,
   "metadata": {},
   "outputs": [
    {
     "name": "stdout",
     "output_type": "stream",
     "text": [
      "\n",
      "Checking...\n",
      "  |q| = 1.000000\n",
      "  <p,q> = 1.000000\n",
      "  |Aq| = 0.000000\n",
      "  |transpose(A)p| = 0.000000\n",
      "\n",
      "LP Point found \n",
      "========================== \n",
      "0 : \n",
      "a  =  1.0\n",
      "x  =  0.4999999828747646\n",
      "b  =  -0.2499999999999997\n",
      "\n",
      "Eigenvalues = \n",
      "\n",
      "     (0.000000,0.000000)\n",
      "     (-1.000000,0.000000)\n",
      "\n",
      "\n",
      "a = 0.9999999999663056\n",
      "\n",
      "Neutral saddle found!\n",
      "\n",
      "B Point found \n",
      "========================== \n",
      "0 : \n",
      "a  =  1.0\n",
      "x  =  -1.000000007734393\n",
      "b  =  2.000000023203179\n",
      "\n",
      "B Point found \n",
      "========================== \n",
      "0 : \n",
      "a  =  1.0\n",
      "x  =  2.0000000070590027\n",
      "b  =  2.000000021177008\n",
      "\n"
     ]
    }
   ],
   "source": [
    "name2 = 'EQ2'\n",
    "PCargs = args(name=name2)\n",
    "PCargs.initpoint = fps[1]\n",
    "PCargs.type = 'EP-C'\n",
    "PCargs.freepars = ['b']\n",
    "PCargs.StepSize = 1e-3\n",
    "PCargs.MaxNumPoints = 800\n",
    "PCargs.MaxStepSize = 5e-2\n",
    "PCargs.MinStepSize = 1e-6\n",
    "PCargs.MaxTestIters = 20\n",
    "PCargs.LocBifPoints = 'all'\n",
    "PCargs.SaveEigen = True\n",
    "PCargs.StopAtPoints = ['B']\n",
    "PCargs.verbosity = 2\n",
    "\n",
    "PC2.newCurve(PCargs)\n",
    "PC2.curves[name2].backward()\n",
    "PC2.curves[name2].forward()"
   ]
  },
  {
   "cell_type": "code",
   "execution_count": 57,
   "metadata": {},
   "outputs": [
    {
     "data": {
      "image/png": "[encoded data removed]",
      "text/plain": [
       "<Figure size 432x288 with 1 Axes>"
      ]
     },
     "metadata": {
      "needs_background": "light"
     },
     "output_type": "display_data"
    }
   ],
   "source": [
    "PC2['EQ1'].display(('b', 'x'), stability=True, linewidth=3)\n",
    "PC2['EQ2'].display(('b', 'x'), stability=True, linewidth=3)\n",
    "# PC.plot.toggleLabels('off')\n",
    "# PC.plot.fig1.toggleAll('off', bytype=['P','B'])\n",
    "PC2.plot.fig1.axes1.axes.set_xlim((-2, 2))\n",
    "PC2.plot.fig1.axes1.axes.set_xlabel('$\\mu_2$', fontsize=16)\n",
    "PC2.plot.fig1.axes1.axes.set_ylabel('$x$', fontsize=16)\n",
    "PC2.plot.fig1.axes1.axes.set_title('')\n",
    "plt.savefig(dir + 'v2Ex1Case1Bif2.pdf', bbox_inches='tight')\n",
    "plt.show()"
   ]
  },
  {
   "cell_type": "code",
   "execution_count": 59,
   "metadata": {},
   "outputs": [
    {
     "data": {
      "image/png": "[encoded data removed]",
      "text/plain": [
       "<Figure size 432x288 with 1 Axes>"
      ]
     },
     "metadata": {
      "needs_background": "light"
     },
     "output_type": "display_data"
    }
   ],
   "source": [
    "PC2['EQ1'].display(('b', 'a'), stability=True, linewidth=3)\n",
    "PC2['EQ2'].display(('b', 'a'), stability=True, linewidth=3)\n",
    "# PC.plot.toggleLabels('off')\n",
    "PC2.plot.fig1.toggleAll('off', bytype=['P','B'])\n",
    "PC2.plot.fig1.axes1.axes.set_xlim((-2, 2))\n",
    "PC2.plot.fig1.axes1.axes.set_xlabel('$\\mu_2$', fontsize=16)\n",
    "PC2.plot.fig1.axes1.axes.set_ylim((-2, 2))\n",
    "PC2.plot.fig1.axes1.axes.set_ylabel('$\\mu_1$', fontsize=16)\n",
    "PC2.plot.fig1.axes1.axes.set_title('')\n",
    "plt.savefig(dir + 'v2Ex1Case1Bif3.pdf', bbox_inches='tight')\n",
    "plt.show()"
   ]
  },
  {
   "cell_type": "code",
   "execution_count": null,
   "metadata": {},
   "outputs": [],
   "source": []
  },
  {
   "cell_type": "code",
   "execution_count": null,
   "metadata": {},
   "outputs": [],
   "source": []
  },
  {
   "cell_type": "code",
   "execution_count": 46,
   "metadata": {},
   "outputs": [
    {
     "data": {
      "image/png": "[encoded data removed]",
      "text/plain": [
       "<Figure size 432x288 with 1 Axes>"
      ]
     },
     "metadata": {
      "needs_background": "light"
     },
     "output_type": "display_data"
    }
   ],
   "source": [
    "PC[namefold1].display(('a', 'b'), stability=True, linewidth=3)\n",
    "PC.plot.toggleLabels('off')\n",
    "PC.plot.fig1.toggleAll('off', bytype=['P', 'BT'])\n",
    "PC.plot.fig1.axes1.axes.set_xlim((-2, 2))\n",
    "PC.plot.fig1.axes1.axes.set_xlabel('$\\mu_1$', fontsize=16)\n",
    "PC.plot.fig1.axes1.axes.set_ylim((-2, 2))\n",
    "PC.plot.fig1.axes1.axes.set_ylabel('$\\mu_2$', fontsize=16)\n",
    "PC.plot.fig1.axes1.axes.set_title('')\n",
    "aa = np.arange(-2, 2, 0.01)\n",
    "# bb = aa**2\n",
    "bb = -0.5*aa + 0.25\n",
    "plt.plot(aa, bb, lw=3, ls='-', color='g')\n",
    "plt.savefig(dir + 'v2Ex1Case2Bif1.pdf', bbox_inches='tight')\n",
    "plt.show()"
   ]
  },
  {
   "cell_type": "markdown",
   "metadata": {},
   "source": [
    "**Second case**\n",
    "$$x'=f(x,a;b)=-ax-b-x^2\\\\\n",
    "a'=g(a;b)=1-a$$"
   ]
  },
  {
   "cell_type": "code",
   "execution_count": 47,
   "metadata": {},
   "outputs": [],
   "source": [
    "xstr = 'a*x+b-x**2'\n",
    "astr = '-b-0.5*a+0.25'\n",
    "# astr = '0.5-2*a-b'\n",
    "params = {'b': 1}\n",
    "ics = {'x': 1, 'a': 1}\n",
    "DSargs = args(name='EX12')\n",
    "DSargs.pars = params\n",
    "DSargs.tdata = [0, 10]\n",
    "DSargs.pdomain = {'b': [-2, 2]}\n",
    "DSargs.xdomain = {'x': [-1e4, 1e4], 'a': [-4, 4]}\n",
    "DSargs.varspecs = {'x': xstr, 'a': astr}\n",
    "DSargs.ics = ics\n",
    "DS = Generator.Vode_ODEsystem(DSargs)"
   ]
  },
  {
   "cell_type": "code",
   "execution_count": 48,
   "metadata": {},
   "outputs": [
    {
     "data": {
      "text/plain": [
       "({'a': -1.5, 'x': -2.0}, {'a': -1.5, 'x': 0.5})"
      ]
     },
     "execution_count": 48,
     "metadata": {},
     "output_type": "execute_result"
    }
   ],
   "source": [
    "fps = pp.find_fixedpoints(DS, n=6, eps=1e-8)\n",
    "fps"
   ]
  },
  {
   "cell_type": "code",
   "execution_count": 49,
   "metadata": {},
   "outputs": [
    {
     "name": "stdout",
     "output_type": "stream",
     "text": [
      "B Point found \n",
      "========================== \n",
      "0 : \n",
      "a  =  -3.500000005166328\n",
      "x  =  -4.000000005166328\n",
      "b  =  2.000000002583164\n",
      "\n",
      "Neutral saddle found!\n",
      "\n",
      "BP Point found \n",
      "========================== \n",
      "0 : \n",
      "a  =  1.0000000000560159\n",
      "x  =  0.5000000000265032\n",
      "b  =  -0.250000000026053\n",
      "\n",
      "Eigenvalues = \n",
      "\n",
      "     (0.000000,0.000000)\n",
      "     (-0.473607,0.945373)\n",
      "     (-0.473607,-0.945373)\n",
      "\n",
      "\n",
      "branch angle = 1.0\n",
      "Test function #1: 3.4694469494424005e-11\n",
      "\n",
      "B Point found \n",
      "========================== \n",
      "0 : \n",
      "a  =  3.9999999999998224\n",
      "x  =  3.4999999999998224\n",
      "b  =  -1.7499999999999112\n",
      "\n"
     ]
    }
   ],
   "source": [
    "PC2 = ContClass(DS)\n",
    "name1 = 'EQ1'\n",
    "PCargs = args(name=name1)\n",
    "PCargs.initpoint = fps[0]\n",
    "PCargs.type = 'EP-C'\n",
    "PCargs.freepars = ['b']\n",
    "PCargs.StepSize = 1e-5\n",
    "PCargs.MaxNumPoints = 800\n",
    "PCargs.MaxStepSize = 5e-2\n",
    "PCargs.MinStepSize = 1e-6\n",
    "PCargs.MaxTestIters = 20\n",
    "PCargs.LocBifPoints = 'all'\n",
    "PCargs.SaveEigen = True\n",
    "PCargs.StopAtPoints = ['B']\n",
    "PCargs.verbosity = 2\n",
    "\n",
    "PC2.newCurve(PCargs)\n",
    "PC2.curves[name1].backward()\n",
    "PC2.curves[name1].forward()"
   ]
  },
  {
   "cell_type": "code",
   "execution_count": 50,
   "metadata": {},
   "outputs": [
    {
     "name": "stdout",
     "output_type": "stream",
     "text": [
      "B Point found \n",
      "========================== \n",
      "0 : \n",
      "a  =  -3.5000000108107328\n",
      "x  =  0.5\n",
      "b  =  2.0000000054053664\n",
      "\n",
      "BP Point found \n",
      "========================== \n",
      "0 : \n",
      "a  =  1.0000000000191627\n",
      "x  =  0.5000000000031216\n",
      "b  =  -0.25000000000935074\n",
      "\n",
      "Eigenvalues = \n",
      "\n",
      "     (-0.000000,0.000000)\n",
      "     (-0.473607,0.945373)\n",
      "     (-0.473607,-0.945373)\n",
      "\n",
      "\n",
      "branch angle = 0.7453559924904288\n",
      "Test function #1: -1.5515838457724844e-11\n",
      "\n",
      "Neutral saddle found!\n",
      "\n",
      "B Point found \n",
      "========================== \n",
      "0 : \n",
      "a  =  4.000000004648069\n",
      "x  =  0.5\n",
      "b  =  -1.7500000023240343\n",
      "\n"
     ]
    }
   ],
   "source": [
    "name2 = 'EQ2'\n",
    "PCargs = args(name=name2)\n",
    "PCargs.initpoint = fps[1]\n",
    "PCargs.type = 'EP-C'\n",
    "PCargs.freepars = ['b']\n",
    "PCargs.StepSize = 1e-3\n",
    "PCargs.MaxNumPoints = 800\n",
    "PCargs.MaxStepSize = 5e-2\n",
    "PCargs.MinStepSize = 1e-6\n",
    "PCargs.MaxTestIters = 20\n",
    "PCargs.LocBifPoints = 'all'\n",
    "PCargs.SaveEigen = True\n",
    "PCargs.StopAtPoints = ['B']\n",
    "PCargs.verbosity = 2\n",
    "\n",
    "PC2.newCurve(PCargs)\n",
    "PC2.curves[name2].backward()\n",
    "PC2.curves[name2].forward()"
   ]
  },
  {
   "cell_type": "code",
   "execution_count": 51,
   "metadata": {},
   "outputs": [
    {
     "data": {
      "image/png": "[encoded data removed]",
      "text/plain": [
       "<Figure size 432x288 with 1 Axes>"
      ]
     },
     "metadata": {
      "needs_background": "light"
     },
     "output_type": "display_data"
    }
   ],
   "source": [
    "PC2['EQ1'].display(('b', 'x'), stability=True, linewidth=3)\n",
    "PC2['EQ2'].display(('b', 'x'), stability=True, linewidth=3)\n",
    "# PC.plot.toggleLabels('off')\n",
    "PC2.plot.fig1.toggleAll('off', bytype=['P','B'])\n",
    "PC2.plot.fig1.axes1.axes.set_xlim((-2, 2))\n",
    "PC2.plot.fig1.axes1.axes.set_xlabel('$\\mu_2$', fontsize=16)\n",
    "PC2.plot.fig1.axes1.axes.set_ylabel('$x$', fontsize=16)\n",
    "PC2.plot.fig1.axes1.axes.set_title('')\n",
    "plt.savefig(dir + 'v2Ex1Case2Bif2.pdf', bbox_inches='tight')\n",
    "plt.show()"
   ]
  },
  {
   "cell_type": "code",
   "execution_count": 52,
   "metadata": {},
   "outputs": [
    {
     "data": {
      "image/png": "[encoded data removed]",
      "text/plain": [
       "<Figure size 432x288 with 1 Axes>"
      ]
     },
     "metadata": {
      "needs_background": "light"
     },
     "output_type": "display_data"
    }
   ],
   "source": [
    "PC2['EQ1'].display(('b', 'a'), stability=True, linewidth=3)\n",
    "PC2['EQ2'].display(('b', 'a'), stability=True, linewidth=3)\n",
    "# PC.plot.toggleLabels('off')\n",
    "PC2.plot.fig1.toggleAll('off', bytype=['P','B'])\n",
    "PC2.plot.fig1.axes1.axes.set_xlim((-2, 2))\n",
    "PC2.plot.fig1.axes1.axes.set_xlabel('$\\mu_2$', fontsize=16)\n",
    "PC2.plot.fig1.axes1.axes.set_ylim((-2, 2))\n",
    "PC2.plot.fig1.axes1.axes.set_ylabel('$\\mu_1$', fontsize=16)\n",
    "PC2.plot.fig1.axes1.axes.set_title('')\n",
    "plt.savefig(dir + 'v2Ex1Case2Bif3.pdf', bbox_inches='tight')\n",
    "plt.show()"
   ]
  },
  {
   "cell_type": "code",
   "execution_count": null,
   "metadata": {},
   "outputs": [],
   "source": []
  },
  {
   "cell_type": "code",
   "execution_count": null,
   "metadata": {},
   "outputs": [],
   "source": []
  },
  {
   "cell_type": "code",
   "execution_count": null,
   "metadata": {},
   "outputs": [],
   "source": []
  },
  {
   "cell_type": "code",
   "execution_count": null,
   "metadata": {},
   "outputs": [],
   "source": []
  },
  {
   "cell_type": "code",
   "execution_count": null,
   "metadata": {},
   "outputs": [],
   "source": []
  },
  {
   "cell_type": "code",
   "execution_count": null,
   "metadata": {},
   "outputs": [],
   "source": []
  },
  {
   "cell_type": "markdown",
   "metadata": {},
   "source": [
    "### Example 2:\n",
    "$$\\dot x = f(x,a;b)=ax+b-x^3$$"
   ]
  },
  {
   "cell_type": "code",
   "execution_count": 130,
   "metadata": {},
   "outputs": [],
   "source": [
    "xstr = 'a*x+b-x**3'\n",
    "params = {'a': 1, 'b': 0}\n",
    "ics = {'x': 1}\n",
    "DSargs = args(name='EX12')\n",
    "DSargs.pars = params\n",
    "DSargs.tdata = [0, 10]\n",
    "DSargs.pdomain = {'a': [-2, 2], 'b': [-2, 2]}\n",
    "DSargs.xdomain = {'x': [-1e4, 1e4]}\n",
    "DSargs.varspecs = {'x': xstr}\n",
    "DSargs.ics = ics\n",
    "DS = Generator.Vode_ODEsystem(DSargs)"
   ]
  },
  {
   "cell_type": "code",
   "execution_count": 131,
   "metadata": {},
   "outputs": [
    {
     "data": {
      "text/plain": [
       "({'x': array([-1.])}, {'x': array([1.])})"
      ]
     },
     "execution_count": 131,
     "metadata": {},
     "output_type": "execute_result"
    }
   ],
   "source": [
    "fps = pp.find_fixedpoints(DS, n=4, eps=1e-8)\n",
    "fps"
   ]
  },
  {
   "cell_type": "code",
   "execution_count": null,
   "metadata": {},
   "outputs": [],
   "source": []
  },
  {
   "cell_type": "code",
   "execution_count": 132,
   "metadata": {},
   "outputs": [
    {
     "name": "stdout",
     "output_type": "stream",
     "text": [
      "Warning: Variable dimension must be larger than 1 to detect Hopf points.\n",
      "BP Point found \n",
      "========================== \n",
      "0 : \n",
      "x  =  -5.739718509874451e-42\n",
      "a  =  1.000000000000003e-12\n",
      "\n",
      "Eigenvalues = \n",
      "\n",
      "     (0.000000,0.000000)\n",
      "     (1.000000,0.000000)\n",
      "\n",
      "\n",
      "branch angle = 0.0\n",
      "Test function #1: -3.0814879110195774e-27\n",
      "\n",
      "B Point found \n",
      "========================== \n",
      "0 : \n",
      "x  =  3.5177648533763653e-125\n",
      "a  =  -1.9999999999999876\n",
      "\n",
      "B Point found \n",
      "========================== \n",
      "0 : \n",
      "x  =  0.0\n",
      "a  =  2.000000011656571\n",
      "\n"
     ]
    },
    {
     "name": "stderr",
     "output_type": "stream",
     "text": [
      "/home/shigoto/.local/lib/python3.8/site-packages/PyDSTool/PyCont/BifPoint.py:201: LinAlgWarning: Ill-conditioned matrix (rcond=5.73972e-42): result may not be accurate.\n",
      "  v0 = linalg.solve(r_[c_[J_coords, J_params],\n"
     ]
    }
   ],
   "source": [
    "PC = ContClass(DS)\n",
    "name1 = 'EQ1'\n",
    "PCargs = args(name=name1)\n",
    "PCargs.initpoint = {'x': 0}\n",
    "PCargs.type = 'EP-C'\n",
    "PCargs.freepars = ['a']\n",
    "PCargs.StepSize = 1e-4\n",
    "PCargs.MaxNumPoints = 800\n",
    "PCargs.MaxStepSize = 5e-2\n",
    "PCargs.MinStepSize = 1e-6\n",
    "PCargs.MaxTestIters = 20\n",
    "PCargs.LocBifPoints = 'all'\n",
    "PCargs.SaveEigen = True\n",
    "PCargs.StopAtPoints = ['B']\n",
    "PCargs.verbosity = 2\n",
    "\n",
    "PC.newCurve(PCargs)\n",
    "PC.curves[name1].backward()\n",
    "PC.curves[name1].forward()"
   ]
  },
  {
   "cell_type": "code",
   "execution_count": 133,
   "metadata": {},
   "outputs": [
    {
     "name": "stdout",
     "output_type": "stream",
     "text": [
      "Warning: Variable dimension must be larger than 1 to detect Hopf points.\n",
      "BP Point found \n",
      "========================== \n",
      "0 : \n",
      "x  =  -3.835964567489275e-18\n",
      "a  =  1.0008205992566992e-12\n",
      "\n",
      "Eigenvalues = \n",
      "\n",
      "     (0.000000,0.000000)\n",
      "     (0.999989,0.000000)\n",
      "\n",
      "\n",
      "branch angle = 0.9981355709252319\n",
      "Test function #1: 2.4977104172466408e-17\n",
      "\n"
     ]
    },
    {
     "name": "stderr",
     "output_type": "stream",
     "text": [
      "/home/shigoto/.local/lib/python3.8/site-packages/PyDSTool/PyCont/BifPoint.py:201: LinAlgWarning: Ill-conditioned matrix (rcond=3.83596e-18): result may not be accurate.\n",
      "  v0 = linalg.solve(r_[c_[J_coords, J_params],\n"
     ]
    },
    {
     "name": "stdout",
     "output_type": "stream",
     "text": [
      "B Point found \n",
      "========================== \n",
      "0 : \n",
      "x  =  -1.4142135689320314\n",
      "a  =  2.0000000185514737\n",
      "\n",
      "B Point found \n",
      "========================== \n",
      "0 : \n",
      "x  =  1.4142135690712048\n",
      "a  =  2.000000018945115\n",
      "\n"
     ]
    }
   ],
   "source": [
    "name2 = 'EQ2'\n",
    "PCargs = args(name=name2)\n",
    "PCargs.initpoint = fps[1]\n",
    "PCargs.type = 'EP-C'\n",
    "PCargs.freepars = ['a']\n",
    "PCargs.StepSize = 1e-3\n",
    "PCargs.MaxNumPoints = 800\n",
    "PCargs.MaxStepSize = 5e-2\n",
    "PCargs.MinStepSize = 1e-6\n",
    "PCargs.MaxTestIters = 20\n",
    "PCargs.LocBifPoints = 'all'\n",
    "PCargs.SaveEigen = True\n",
    "PCargs.StopAtPoints = ['B']\n",
    "PCargs.verbosity = 2\n",
    "\n",
    "PC.newCurve(PCargs)\n",
    "PC.curves[name2].backward()\n",
    "PC.curves[name2].forward()"
   ]
  },
  {
   "cell_type": "code",
   "execution_count": 134,
   "metadata": {},
   "outputs": [
    {
     "data": {
      "image/png": "[encoded data removed]",
      "text/plain": [
       "<Figure size 432x288 with 1 Axes>"
      ]
     },
     "metadata": {
      "needs_background": "light"
     },
     "output_type": "display_data"
    }
   ],
   "source": [
    "PC['EQ1'].display(('a', 'x'), stability=True, linewidth=3)\n",
    "PC['EQ2'].display(('a', 'x'), stability=True, linewidth=3)\n",
    "# PC.plot.toggleLabels('off')\n",
    "PC.plot.fig1.toggleAll('off', bytype=['P','B'])\n",
    "PC.plot.fig1.axes1.axes.set_xlim((-2, 2))\n",
    "PC.plot.fig1.axes1.axes.set_xlabel('$a$', fontsize=16)\n",
    "PC.plot.fig1.axes1.axes.set_ylabel('$x$', fontsize=16)\n",
    "PC.plot.fig1.axes1.axes.set_title('')\n",
    "plt.show()"
   ]
  },
  {
   "cell_type": "code",
   "execution_count": 135,
   "metadata": {},
   "outputs": [
    {
     "name": "stderr",
     "output_type": "stream",
     "text": [
      "/home/shigoto/.local/lib/python3.8/site-packages/PyDSTool/PyCont/TestFunc.py:366: LinAlgWarning: Diagonal number 1 is exactly zero. Singular matrix.\n",
      "  MLU = linalg.lu_factor(c_[r_[A,transpose(self.data.C)], r_[self.data.B,self.data.D]])\n"
     ]
    },
    {
     "name": "stdout",
     "output_type": "stream",
     "text": [
      "B Point found \n",
      "========================== \n",
      "0 : \n",
      "x  =  -0.8164965819933105\n",
      "a  =  2.000000005232028\n",
      "b  =  1.0886621121755677\n",
      "\n",
      "B Point found \n",
      "========================== \n",
      "0 : \n",
      "x  =  0.8164965819847511\n",
      "a  =  2.0000000052333844\n",
      "b  =  -1.088662112176675\n",
      "\n"
     ]
    }
   ],
   "source": [
    "namefold1 = 'F01'\n",
    "PCargs = args(name=namefold1)\n",
    "PCargs.type = 'LP-C'\n",
    "PCargs.initpoint = 'EQ1:BP1'\n",
    "PCargs.freepars = ['a', 'b']\n",
    "PCargs.StepSize = 1e-3\n",
    "PCargs.MaxNumPoints = 800\n",
    "PCargs.MaxStepSize = 5e-2\n",
    "PCargs.MinStepSize = 1e-6\n",
    "PCargs.MaxTestIters = 20\n",
    "PCargs.LocBifPoints = 'all'\n",
    "PCargs.SaveEigen = True\n",
    "PCargs.StopAtPoints = ['B']\n",
    "PCargs.verbosity = 2\n",
    "\n",
    "PC.newCurve(PCargs)\n",
    "PC.curves[namefold1].backward()\n",
    "PC.curves[namefold1].forward()"
   ]
  },
  {
   "cell_type": "code",
   "execution_count": 136,
   "metadata": {},
   "outputs": [
    {
     "data": {
      "image/png": "[encoded data removed]",
      "text/plain": [
       "<Figure size 432x288 with 1 Axes>"
      ]
     },
     "metadata": {
      "needs_background": "light"
     },
     "output_type": "display_data"
    }
   ],
   "source": [
    "PC[namefold1].display(('a', 'b'), stability=True, linewidth=3)\n",
    "PC.plot.toggleLabels('off')\n",
    "PC.plot.fig1.toggleAll('off', bytype=['P', 'BT'])\n",
    "PC.plot.fig1.axes1.axes.set_xlim((-2, 2))\n",
    "PC.plot.fig1.axes1.axes.set_xlabel('$a$', fontsize=16)\n",
    "PC.plot.fig1.axes1.axes.set_ylim((-2, 2))\n",
    "PC.plot.fig1.axes1.axes.set_ylabel('$b$', fontsize=16)\n",
    "PC.plot.fig1.axes1.axes.set_title('')\n",
    "bb = np.arange(-2, 2, 0.01)\n",
    "aa = -bb**2+2\n",
    "plt.plot(aa, bb, lw=3, ls='-', color='g')\n",
    "plt.show()"
   ]
  },
  {
   "cell_type": "code",
   "execution_count": null,
   "metadata": {},
   "outputs": [],
   "source": []
  },
  {
   "cell_type": "markdown",
   "metadata": {},
   "source": [
    "**Second case**\n",
    "$$\n",
    "\\begin{aligned}\n",
    "\\dot x& =f(x,a;b)=ax+b-x^3\\\\\n",
    "\\dot a& =g(a;b)=2-b^2-a\n",
    "\\end{aligned}\n",
    "$$"
   ]
  },
  {
   "cell_type": "code",
   "execution_count": 137,
   "metadata": {},
   "outputs": [],
   "source": [
    "xstr = 'a*x+b-x**3'\n",
    "astr = '2-b^2-a'\n",
    "params = {'b': 0}\n",
    "ics = {'x': 1, 'a': 1}\n",
    "DSargs = args(name='EX12')\n",
    "DSargs.pars = params\n",
    "DSargs.tdata = [0, 10]\n",
    "DSargs.pdomain = {'b': [-2, 2]}\n",
    "DSargs.xdomain = {'x': [-1e4, 1e4], 'a': [-2, 2]}\n",
    "DSargs.varspecs = {'x': xstr, 'a': astr}\n",
    "DSargs.ics = ics\n",
    "DS = Generator.Vode_ODEsystem(DSargs)"
   ]
  },
  {
   "cell_type": "code",
   "execution_count": 138,
   "metadata": {},
   "outputs": [
    {
     "data": {
      "text/plain": [
       "({'a': 2.0, 'x': -1.4142135623730951}, {'a': 2.0, 'x': 1.4142135623730951})"
      ]
     },
     "execution_count": 138,
     "metadata": {},
     "output_type": "execute_result"
    }
   ],
   "source": [
    "fps = pp.find_fixedpoints(DS, n=4, eps=1e-8)\n",
    "fps"
   ]
  },
  {
   "cell_type": "code",
   "execution_count": 139,
   "metadata": {},
   "outputs": [
    {
     "name": "stdout",
     "output_type": "stream",
     "text": [
      "B Point found \n",
      "========================== \n",
      "0 : \n",
      "a  =  -2.0000000193257885\n",
      "x  =  -0.7709169943980548\n",
      "b  =  -2.0000000048314472\n",
      "\n",
      "\n",
      "Checking...\n",
      "  |q| = 1.000000\n",
      "  <p,q> = 1.000000\n",
      "  |Aq| = 0.000000\n",
      "  |transpose(A)p| = 0.000000\n",
      "\n",
      "LP Point found \n",
      "========================== \n",
      "0 : \n",
      "a  =  1.5\n",
      "x  =  -0.7071067715057688\n",
      "b  =  0.7071067811865474\n",
      "\n",
      "Eigenvalues = \n",
      "\n",
      "     (0.000000,0.000000)\n",
      "     (-1.000000,0.000000)\n",
      "\n",
      "\n",
      "a = 2.1213203143799486\n",
      "\n",
      "Neutral saddle found!\n",
      "\n",
      "Neutral saddle found!\n",
      "\n",
      "\n",
      "Checking...\n",
      "  |q| = 1.000000\n",
      "  <p,q> = 1.000000\n",
      "  |Aq| = 0.000000\n",
      "  |transpose(A)p| = 0.000000\n",
      "\n",
      "LP Point found \n",
      "========================== \n",
      "0 : \n",
      "a  =  1.5000000000000002\n",
      "x  =  0.707106776735891\n",
      "b  =  -0.7071067811865475\n",
      "\n",
      "Eigenvalues = \n",
      "\n",
      "     (0.000000,0.000000)\n",
      "     (-1.000000,0.000000)\n",
      "\n",
      "\n",
      "a = 2.121320330172871\n",
      "\n",
      "B Point found \n",
      "========================== \n",
      "0 : \n",
      "a  =  -2.0000000154674575\n",
      "x  =  0.7709169949293535\n",
      "b  =  2.000000003866864\n",
      "\n"
     ]
    }
   ],
   "source": [
    "PC = ContClass(DS)\n",
    "name1 = 'EQ1'\n",
    "PCargs = args(name=name1)\n",
    "PCargs.initpoint = fps[0]\n",
    "PCargs.type = 'EP-C'\n",
    "PCargs.freepars = ['b']\n",
    "PCargs.StepSize = 1e-4\n",
    "PCargs.MaxNumPoints = 800\n",
    "PCargs.MaxStepSize = 5e-2\n",
    "PCargs.MinStepSize = 1e-6\n",
    "PCargs.MaxTestIters = 20\n",
    "PCargs.LocBifPoints = 'all'\n",
    "PCargs.SaveEigen = True\n",
    "PCargs.StopAtPoints = ['B']\n",
    "PCargs.verbosity = 2\n",
    "\n",
    "PC.newCurve(PCargs)\n",
    "PC.curves[name1].backward()\n",
    "PC.curves[name1].forward()"
   ]
  },
  {
   "cell_type": "code",
   "execution_count": 140,
   "metadata": {},
   "outputs": [
    {
     "name": "stdout",
     "output_type": "stream",
     "text": [
      "Neutral saddle found!\n",
      "\n",
      "\n",
      "Checking...\n",
      "  |q| = 1.000000\n",
      "  <p,q> = 1.000000\n",
      "  |Aq| = 0.000000\n",
      "  |transpose(A)p| = 0.000000\n",
      "\n",
      "LP Point found \n",
      "========================== \n",
      "0 : \n",
      "a  =  1.5\n",
      "x  =  -0.7071067751842477\n",
      "b  =  0.7071067811865474\n",
      "\n",
      "Eigenvalues = \n",
      "\n",
      "     (0.000000,0.000000)\n",
      "     (-1.000000,0.000000)\n",
      "\n",
      "\n",
      "a = 2.121320325431294\n",
      "\n",
      "B Point found \n",
      "========================== \n",
      "0 : \n",
      "a  =  -2.0000000154674593\n",
      "x  =  -0.7709169949293533\n",
      "b  =  -2.0000000038668646\n",
      "\n",
      "Neutral saddle found!\n",
      "\n",
      "\n",
      "Checking...\n",
      "  |q| = 1.000000\n",
      "  <p,q> = 1.000000\n",
      "  |Aq| = 0.000000\n",
      "  |transpose(A)p| = 0.000000\n",
      "\n",
      "LP Point found \n",
      "========================== \n",
      "0 : \n",
      "a  =  1.5\n",
      "x  =  0.7071067751842477\n",
      "b  =  -0.7071067811865474\n",
      "\n",
      "Eigenvalues = \n",
      "\n",
      "     (0.000000,0.000000)\n",
      "     (-1.000000,0.000000)\n",
      "\n",
      "\n",
      "a = 2.121320325431294\n",
      "\n",
      "B Point found \n",
      "========================== \n",
      "0 : \n",
      "a  =  -2.0000000154674593\n",
      "x  =  0.7709169949293533\n",
      "b  =  2.0000000038668646\n",
      "\n"
     ]
    }
   ],
   "source": [
    "name2 = 'EQ2'\n",
    "PCargs = args(name=name2)\n",
    "PCargs.initpoint = {'a': 2.0, 'x': 0}\n",
    "PCargs.type = 'EP-C'\n",
    "PCargs.freepars = ['b']\n",
    "PCargs.StepSize = 1e-3\n",
    "PCargs.MaxNumPoints = 800\n",
    "PCargs.MaxStepSize = 5e-2\n",
    "PCargs.MinStepSize = 1e-6\n",
    "PCargs.MaxTestIters = 20\n",
    "PCargs.LocBifPoints = 'all'\n",
    "PCargs.SaveEigen = True\n",
    "PCargs.StopAtPoints = ['B']\n",
    "PCargs.verbosity = 2\n",
    "\n",
    "PC.newCurve(PCargs)\n",
    "PC.curves[name2].backward()\n",
    "PC.curves[name2].forward()"
   ]
  },
  {
   "cell_type": "code",
   "execution_count": 29,
   "metadata": {},
   "outputs": [
    {
     "data": {
      "image/png": "[encoded data removed]",
      "text/plain": [
       "<Figure size 432x288 with 1 Axes>"
      ]
     },
     "metadata": {
      "needs_background": "light"
     },
     "output_type": "display_data"
    }
   ],
   "source": [
    "PC['EQ1'].display(('b', 'x'), stability=True, linewidth=3)\n",
    "# PC['EQ2'].display(('b', 'x'), stability=True, linewidth=3)\n",
    "# PC.plot.toggleLabels('off')\n",
    "PC.plot.fig1.toggleAll('off', bytype=['P','B'])\n",
    "PC.plot.fig1.axes1.axes.set_xlim((-2, 2))\n",
    "PC.plot.fig1.axes1.axes.set_xlabel('$b$', fontsize=16)\n",
    "PC.plot.fig1.axes1.axes.set_ylabel('$x$', fontsize=16)\n",
    "PC.plot.fig1.axes1.axes.set_title('')\n",
    "plt.show()"
   ]
  },
  {
   "cell_type": "code",
   "execution_count": 31,
   "metadata": {},
   "outputs": [
    {
     "data": {
      "image/png": "[encoded data removed]",
      "text/plain": [
       "<Figure size 432x288 with 1 Axes>"
      ]
     },
     "metadata": {
      "needs_background": "light"
     },
     "output_type": "display_data"
    }
   ],
   "source": [
    "PC['EQ1'].display(('b', 'a'), stability=True, linewidth=3)\n",
    "# PC['EQ2'].display(('b', 'a'), stability=True, linewidth=3)\n",
    "# PC.plot.toggleLabels('off')\n",
    "PC.plot.fig1.toggleAll('off', bytype=['P','B'])\n",
    "PC.plot.fig1.axes1.axes.set_xlim((-2, 2))\n",
    "PC.plot.fig1.axes1.axes.set_xlabel('$b$', fontsize=16)\n",
    "PC.plot.fig1.axes1.axes.set_ylim((-2, 2))\n",
    "PC.plot.fig1.axes1.axes.set_ylabel('$a$', fontsize=16)\n",
    "PC.plot.fig1.axes1.axes.set_title('')\n",
    "plt.show()"
   ]
  },
  {
   "cell_type": "code",
   "execution_count": null,
   "metadata": {},
   "outputs": [],
   "source": []
  },
  {
   "cell_type": "code",
   "execution_count": null,
   "metadata": {},
   "outputs": [],
   "source": []
  },
  {
   "cell_type": "code",
   "execution_count": null,
   "metadata": {},
   "outputs": [],
   "source": []
  },
  {
   "cell_type": "code",
   "execution_count": null,
   "metadata": {},
   "outputs": [],
   "source": []
  },
  {
   "cell_type": "code",
   "execution_count": null,
   "metadata": {},
   "outputs": [],
   "source": []
  },
  {
   "cell_type": "code",
   "execution_count": null,
   "metadata": {},
   "outputs": [],
   "source": []
  },
  {
   "cell_type": "code",
   "execution_count": null,
   "metadata": {},
   "outputs": [],
   "source": []
  },
  {
   "cell_type": "code",
   "execution_count": null,
   "metadata": {},
   "outputs": [],
   "source": []
  },
  {
   "cell_type": "code",
   "execution_count": null,
   "metadata": {},
   "outputs": [],
   "source": []
  },
  {
   "cell_type": "code",
   "execution_count": null,
   "metadata": {},
   "outputs": [],
   "source": []
  },
  {
   "cell_type": "code",
   "execution_count": null,
   "metadata": {},
   "outputs": [],
   "source": []
  },
  {
   "cell_type": "code",
   "execution_count": null,
   "metadata": {},
   "outputs": [],
   "source": []
  },
  {
   "cell_type": "code",
   "execution_count": null,
   "metadata": {},
   "outputs": [],
   "source": []
  },
  {
   "cell_type": "code",
   "execution_count": null,
   "metadata": {},
   "outputs": [],
   "source": []
  },
  {
   "cell_type": "code",
   "execution_count": null,
   "metadata": {},
   "outputs": [],
   "source": []
  }
 ],
 "metadata": {
  "@webio": {
   "lastCommId": null,
   "lastKernelId": null
  },
  "kernelspec": {
   "display_name": "Python 3",
   "language": "python",
   "name": "python3"
  },
  "language_info": {
   "codemirror_mode": {
    "name": "ipython",
    "version": 3
   },
   "file_extension": ".py",
   "mimetype": "text/x-python",
   "name": "python",
   "nbconvert_exporter": "python",
   "pygments_lexer": "ipython3",
   "version": "3.8.5"
  }
 },
 "nbformat": 4,
 "nbformat_minor": 2
}
