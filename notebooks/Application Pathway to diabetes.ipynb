{
 "cells": [
  {
   "cell_type": "code",
   "execution_count": 1,
   "metadata": {},
   "outputs": [],
   "source": [
    "import numpy as np\n",
    "import PyDSTool as dst\n",
    "from PyDSTool.Toolbox import phaseplane as pp\n",
    "from scipy.optimize import fsolve"
   ]
  },
  {
   "cell_type": "code",
   "execution_count": 2,
   "metadata": {},
   "outputs": [],
   "source": [
    "import matplotlib as mpl\n",
    "from matplotlib import pyplot as plt\n",
    "from IPython.display import display, Math"
   ]
  },
  {
   "cell_type": "code",
   "execution_count": 3,
   "metadata": {},
   "outputs": [],
   "source": [
    "from __future__ import print_function\n",
    "from ipywidgets import interact, interactive, fixed, interact_manual\n",
    "import ipywidgets as widgets"
   ]
  },
  {
   "cell_type": "code",
   "execution_count": 4,
   "metadata": {},
   "outputs": [],
   "source": [
    "mpl.rcParams['figure.figsize'] = [6, 4]\n",
    "mpl.rcParams['font.size'] = 16\n",
    "mpl.rcParams['lines.linewidth'] = 3\n",
    "mpl.rcParams['lines.markersize'] = 8"
   ]
  },
  {
   "cell_type": "code",
   "execution_count": 5,
   "metadata": {},
   "outputs": [],
   "source": [
    "figdir = './figures/'\n",
    "plt.rc('text', usetex=True)"
   ]
  },
  {
   "cell_type": "markdown",
   "metadata": {},
   "source": [
    "# Carryover of a saddle-node bifurcation\n",
    "# Application: Pathway to diabetes"
   ]
  },
  {
   "cell_type": "markdown",
   "metadata": {},
   "source": [
    "The model of $\\beta$-cell mass, insulin $I$ and glucose $G$ is\n",
    "$$\n",
    "\\begin{aligned}\n",
    "    \\dot G &= R_{0} - (E_{GO} + S_{I}I)G, \\\\\n",
    "    \\dot I &= \\frac{\\beta \\sigma G^2}{\\alpha + G^2} - kI,\\\\\n",
    "    \\dot \\beta &= (-d_{0} + r_1 G - r_{2}G^2)\\beta,\n",
    "\\end{aligned}\n",
    "$$\n",
    "where $R_{0}$ is the net rate of glucose production at zero glucose, $E_{GO}$ is the total glucose effectiveness at zero insulin, $S_{I}$ is the total insulin sensitivity, $\\sigma$ maximal rate of insulin secretion, $\\alpha$ is the half-saturation rate of insulin secretion, $k$ clearance rate, $d_0$ is the death rate at zero glucose, and $r_1$ and $r_2$ are death rate constants.  \n"
   ]
  },
  {
   "cell_type": "markdown",
   "metadata": {},
   "source": [
    "## 1. Bifurcation diagram"
   ]
  },
  {
   "cell_type": "markdown",
   "metadata": {},
   "source": [
    "We can construct the bifurcation diagram using continuation and the `PyDSTool` library of python."
   ]
  },
  {
   "cell_type": "code",
   "execution_count": 51,
   "metadata": {},
   "outputs": [],
   "source": [
    "# dynamical system\n",
    "Gstr = 'R0 - (EG0 + SI*I)*G'\n",
    "Istr = 'beta*sigma*G**2/(alpha + G**2) - k*I'\n",
    "betastr = '(- d0 + r1*G - r2*G**2)*beta'\n",
    "params = {'R0':864, 'EG0':1.44, 'SI':0.72, 'sigma':43.2, 'alpha':20000., \n",
    "          'k':432., 'd0': 0.06, 'r1':0.84e-3, 'r2':0.24e-5}\n",
    "ics = {'G': 0, 'I':0.4, 'beta':0.1}\n",
    "DSargs = dst.args(name='Glucose')\n",
    "DSargs.pars = params\n",
    "DSargs.tdata = [0, 2]\n",
    "DSargs.pdomain = {'SI': [0, 1], 'r1': [0, 0.01]}\n",
    "DSargs.xdomain = {'G': [-10, 1000], 'I':[-10, 100], 'beta':[0, 3000]}\n",
    "DSargs.varspecs = {'G': Gstr, 'I': Istr, 'beta':betastr}\n",
    "DSargs.ics = ics\n",
    "DS = dst.Generator.Vode_ODEsystem(DSargs)"
   ]
  },
  {
   "cell_type": "code",
   "execution_count": 52,
   "metadata": {},
   "outputs": [
    {
     "data": {
      "text/plain": [
       "({'G': 600.0000000000001, 'I': -1.0711692271868095e-36, 'beta': 0.0},\n",
       " {'G': 249.9999999998573, 'I': 2.8000000000015253, 'beta': 36.96000000002679},\n",
       " {'G': 100.00000000065624, 'I': 9.99999999992368, 'beta': 299.99999999700634})"
      ]
     },
     "execution_count": 52,
     "metadata": {},
     "output_type": "execute_result"
    }
   ],
   "source": [
    "fps = pp.find_fixedpoints(DS, n=4, eps=1e-8)\n",
    "fps"
   ]
  },
  {
   "cell_type": "code",
   "execution_count": 61,
   "metadata": {},
   "outputs": [
    {
     "name": "stdout",
     "output_type": "stream",
     "text": [
      "Maximum test function iterations reached.\n",
      "\n",
      "B Point found \n",
      "========================== \n",
      "0 : \n",
      "G  =  600.0\n",
      "I  =  0.0\n",
      "beta  =  0.0\n",
      "r1  =  9.404261222882388e-05\n",
      "\n",
      "Maximum test function iterations reached.\n",
      "\n",
      "B Point found \n",
      "========================== \n",
      "0 : \n",
      "G  =  600.0\n",
      "I  =  0.0\n",
      "beta  =  0.0\n",
      "r1  =  0.004899222809092302\n",
      "\n"
     ]
    }
   ],
   "source": [
    "# bifurcation diagram for s\n",
    "# first branch\n",
    "PC = dst.ContClass(DS)\n",
    "name1 = 'EQ1'\n",
    "PCargs = dst.args(name=name1)\n",
    "PCargs.type = 'EP-C'\n",
    "PCargs.initpoint = fps[1]\n",
    "PCargs.freepars = ['r1']\n",
    "PCargs.StepSize = 1e-3\n",
    "PCargs.MaxNumPoints = 3000\n",
    "PCargs.MaxStepSize = 1e-2\n",
    "PCargs.MinStepSize = 1e-6\n",
    "PCargs.MaxTestIters = 20\n",
    "PCargs.LocBifPoints = 'all'\n",
    "PCargs.SaveEigen = True\n",
    "PCargs.StopAtPoints = ['B']\n",
    "PCargs.verbosity = 2\n",
    "\n",
    "PC.newCurve(PCargs)\n",
    "PC.curves[name1].backward()\n",
    "PC.curves[name1].forward()\n",
    "\n",
    "# second branch\n",
    "name2 = 'EQ2'\n",
    "PCargs = dst.args(name=name2)\n",
    "PCargs.type = 'EP-C'\n",
    "PCargs.initpoint = fps[0]\n",
    "PCargs.freepars = ['r1']\n",
    "PCargs.StepSize = 1e-3\n",
    "PCargs.MaxNumPoints = 2000\n",
    "PCargs.MaxStepSize = 1e-2\n",
    "PCargs.MinStepSize = 1e-6\n",
    "PCargs.MaxTestIters = 20\n",
    "PCargs.LocBifPoints = 'all'\n",
    "PCargs.SaveEigen = True\n",
    "PCargs.StopAtPoints = ['B']\n",
    "PCargs.verbosity = 2\n",
    "\n",
    "PC.newCurve(PCargs)\n",
    "PC.curves[name2].backward()\n",
    "PC.curves[name2].forward()"
   ]
  },
  {
   "cell_type": "markdown",
   "metadata": {},
   "source": []
  },
  {
   "cell_type": "code",
   "execution_count": 54,
   "metadata": {},
   "outputs": [
    {
     "data": {
      "image/png": "[encoded data removed]",
      "text/plain": [
       "<Figure size 432x288 with 1 Axes>"
      ]
     },
     "metadata": {
      "needs_background": "light"
     },
     "output_type": "display_data"
    }
   ],
   "source": [
    "PC['EQ1'].display(('r1', 'G'), stability=True, linewidth=3)\n",
    "PC['EQ2'].display(('r1', 'G'), stability=True, linewidth=3)\n",
    "PC.plot.fig1.toggleAll('off', bytype=['P','B'])\n",
    "PC.plot.fig1.axes1.axes.set_xlabel('$r_{1}$', fontsize=16)\n",
    "PC.plot.fig1.axes1.axes.set_xlim((0.0, 0.002))\n",
    "PC.plot.fig1.axes1.axes.set_ylabel('Glucose', fontsize=16)\n",
    "PC.plot.fig1.axes1.axes.set_ylim((0.0, 650))\n",
    "PC.plot.fig1.axes1.axes.set_title('')\n",
    "plt.savefig(figdir + 'ApplicationDiabetes.pdf', bbox_inches='tight')\n",
    "plt.show()"
   ]
  },
  {
   "cell_type": "code",
   "execution_count": null,
   "metadata": {},
   "outputs": [],
   "source": []
  },
  {
   "cell_type": "code",
   "execution_count": null,
   "metadata": {},
   "outputs": [],
   "source": []
  },
  {
   "cell_type": "code",
   "execution_count": null,
   "metadata": {},
   "outputs": [],
   "source": []
  },
  {
   "cell_type": "code",
   "execution_count": null,
   "metadata": {},
   "outputs": [],
   "source": []
  },
  {
   "cell_type": "code",
   "execution_count": null,
   "metadata": {},
   "outputs": [],
   "source": []
  },
  {
   "cell_type": "markdown",
   "metadata": {},
   "source": [
    "From here we can follow the bifurcation point varying both parameters $s$ and $r$."
   ]
  },
  {
   "cell_type": "code",
   "execution_count": 55,
   "metadata": {},
   "outputs": [],
   "source": [
    "# Two-parameter bifurcation\n",
    "namefold1 = 'F01'\n",
    "PCargs = dst.args(name=namefold1)\n",
    "PCargs.type = 'LP-C'\n",
    "PCargs.initpoint = 'EQ1:LP1'\n",
    "PCargs.freepars = ['r1', 'SI']\n",
    "PCargs.StepSize = 1e-2\n",
    "PCargs.MaxNumPoints = 2000\n",
    "PCargs.MaxStepSize = 5e-1\n",
    "PCargs.MinStepSize = 1e-4\n",
    "PCargs.SaveEigen = True\n",
    "PCargs.SaveJacobian = True\n",
    "PCargs.LocBifPoints = 'all'\n",
    "PCargs.StopAtPoints = ['B']\n",
    "PCargs.verbosity = 0\n",
    "PC.newCurve(PCargs)\n",
    "PC.curves[namefold1].forward()\n",
    "PC.curves[namefold1].backward()"
   ]
  },
  {
   "cell_type": "code",
   "execution_count": 60,
   "metadata": {},
   "outputs": [
    {
     "data": {
      "image/png": "[encoded data removed]",
      "text/plain": [
       "<Figure size 432x288 with 1 Axes>"
      ]
     },
     "metadata": {
      "needs_background": "light"
     },
     "output_type": "display_data"
    }
   ],
   "source": [
    "PC[namefold1].display(('r1', 'SI'), stability=True, linewidth=3)\n",
    "# PC.plot.toggleLabels('off')\n",
    "# PC.plot.fig1.toggleAll('off', bytype=['P', 'BT', 'CP'])\n",
    "PC.plot.fig1.axes1.axes.set_xlim((0.0, 0.002))\n",
    "PC.plot.fig1.axes1.axes.set_xlabel('$r_{1}$', fontsize=16)\n",
    "PC.plot.fig1.axes1.axes.set_ylim((0.0, 1))\n",
    "PC.plot.fig1.axes1.axes.set_ylabel('$S_{I}$', fontsize=16)\n",
    "PC.plot.fig1.axes1.axes.set_title('')\n",
    "plt.savefig(figdir + 'ApplicationDiabetesTwoParBif.pdf', bbox_inches='tight')\n",
    "plt.show()"
   ]
  },
  {
   "cell_type": "code",
   "execution_count": null,
   "metadata": {},
   "outputs": [],
   "source": []
  },
  {
   "cell_type": "code",
   "execution_count": null,
   "metadata": {},
   "outputs": [],
   "source": []
  },
  {
   "cell_type": "code",
   "execution_count": null,
   "metadata": {},
   "outputs": [],
   "source": []
  },
  {
   "cell_type": "code",
   "execution_count": null,
   "metadata": {},
   "outputs": [],
   "source": []
  },
  {
   "cell_type": "code",
   "execution_count": null,
   "metadata": {},
   "outputs": [],
   "source": []
  },
  {
   "cell_type": "code",
   "execution_count": null,
   "metadata": {},
   "outputs": [],
   "source": []
  },
  {
   "cell_type": "code",
   "execution_count": null,
   "metadata": {},
   "outputs": [],
   "source": []
  },
  {
   "cell_type": "markdown",
   "metadata": {},
   "source": [
    "## 3. Turn $s$ into a variable\n",
    "\n",
    "Suppose that we turn $s$ into a variable to get the system\n",
    "$$\n",
    "\\begin{aligned}\n",
    "    \\dot x &= s - rx + \\frac{x^{2}}{1+x^{2}}, \\\\\n",
    "    \\dot s &= a - bs.\n",
    "\\end{aligned}\n",
    "$$"
   ]
  },
  {
   "cell_type": "code",
   "execution_count": 18,
   "metadata": {},
   "outputs": [
    {
     "data": {
      "image/png": "[encoded data removed]",
      "text/plain": [
       "<Figure size 432x288 with 1 Axes>"
      ]
     },
     "metadata": {
      "needs_background": "light"
     },
     "output_type": "display_data"
    }
   ],
   "source": [
    "PC[namefold1].display(('r', 's'), stability=True, linewidth=3)\n",
    "PC.plot.toggleLabels('off')\n",
    "PC.plot.fig1.toggleAll('off', bytype=['P','BT','CP'])\n",
    "PC.plot.fig1.axes1.axes.set_xlim((0.0, 0.7))\n",
    "PC.plot.fig1.axes1.axes.set_xlabel('$r$', fontsize=16)\n",
    "PC.plot.fig1.axes1.axes.set_ylim((0.0, 0.15))\n",
    "PC.plot.fig1.axes1.axes.set_ylabel('$s$', fontsize=16)\n",
    "PC.plot.fig1.axes1.axes.set_title('')\n",
    "plt.axhline(y=6/169, lw=3, color='b')\n",
    "plt.savefig(figdir + 'ApplicationGenTwoParBifurcation2.pdf', bbox_inches='tight')\n",
    "plt.show()"
   ]
  },
  {
   "cell_type": "code",
   "execution_count": 19,
   "metadata": {},
   "outputs": [],
   "source": [
    "# dynamical system\n",
    "xstr = 's-r*x+x**2/(1+x**2)'\n",
    "sstr = 'a-b*s'\n",
    "params = {'r': 125/338, 'a': 6/169, 'b': 1}\n",
    "ics = {'x': 1, 's': 0}\n",
    "DSargs = dst.args(name='GenActivation')\n",
    "DSargs.pars = params\n",
    "DSargs.tdata = [0, 2]\n",
    "DSargs.pdomain = {'r': [0, 0.8]}\n",
    "DSargs.xdomain = {'x': [0, 10.0], 's': [0, 0.2]}\n",
    "DSargs.varspecs = {'x': xstr, 's': sstr}\n",
    "DSargs.ics = ics\n",
    "DS = dst.Generator.Vode_ODEsystem(DSargs)"
   ]
  },
  {
   "cell_type": "code",
   "execution_count": 20,
   "metadata": {},
   "outputs": [
    {
     "data": {
      "text/plain": [
       "({'s': 0.03550295857988166, 'x': 0.1999999971740397},\n",
       " {'s': 0.03550295857988166, 'x': 2.4})"
      ]
     },
     "execution_count": 20,
     "metadata": {},
     "output_type": "execute_result"
    }
   ],
   "source": [
    "fps = pp.find_fixedpoints(DS, n=4, eps=1e-8)\n",
    "fps"
   ]
  },
  {
   "cell_type": "code",
   "execution_count": 21,
   "metadata": {},
   "outputs": [
    {
     "name": "stdout",
     "output_type": "stream",
     "text": [
      "\n",
      "Checking...\n",
      "  |q| = 1.000000\n",
      "  <p,q> = 1.000000\n",
      "  |Aq| = 0.000000\n",
      "  |transpose(A)p| = 0.000000\n",
      "\n",
      "LP Point found \n",
      "========================== \n",
      "0 : \n",
      "s  =  0.03550295857988166\n",
      "x  =  0.20000020347230507\n",
      "r  =  0.3698224852072626\n",
      "\n",
      "Eigenvalues = \n",
      "\n",
      "     (0.000000,0.000000)\n",
      "     (-1.000000,0.000000)\n",
      "\n",
      "\n",
      "a = 0.7823163948814567\n",
      "\n",
      "\n",
      "Checking...\n",
      "  |q| = 1.000000\n",
      "  <p,q> = 1.000000\n",
      "  |Aq| = 0.000000\n",
      "  |transpose(A)p| = 0.000000\n",
      "\n",
      "LP Point found \n",
      "========================== \n",
      "0 : \n",
      "s  =  0.03550295857988166\n",
      "x  =  0.925820322394435\n",
      "r  =  0.536866093359218\n",
      "\n",
      "Eigenvalues = \n",
      "\n",
      "     (-0.000000,0.000000)\n",
      "     (-1.000000,0.000000)\n",
      "\n",
      "\n",
      "a = 0.24533457686446805\n",
      "\n",
      "B Point found \n",
      "========================== \n",
      "0 : \n",
      "s  =  0.03550295857988166\n",
      "x  =  10.00000000637913\n",
      "r  =  0.10256019678391338\n",
      "\n",
      "B Point found \n",
      "========================== \n",
      "0 : \n",
      "s  =  0.03550295857988166\n",
      "x  =  0.04715162468390597\n",
      "r  =  0.8000000541524838\n",
      "\n"
     ]
    }
   ],
   "source": [
    "PC = dst.ContClass(DS)\n",
    "name1 = 'EQ1'\n",
    "PCargs = dst.args(name=name1)\n",
    "PCargs.type = 'EP-C'\n",
    "PCargs.initpoint = {'x': 0, 's': 6/169}\n",
    "PCargs.freepars = ['r']\n",
    "PCargs.StepSize = 1e-3\n",
    "PCargs.MaxNumPoints = 800\n",
    "PCargs.MaxStepSize = 5e-2\n",
    "PCargs.MinStepSize = 1e-6\n",
    "PCargs.MaxTestIters = 40\n",
    "PCargs.LocBifPoints = 'all'\n",
    "PCargs.SaveEigen = True\n",
    "PCargs.StopAtPoints = ['B']\n",
    "PCargs.verbosity = 2\n",
    "\n",
    "PC.newCurve(PCargs)\n",
    "PC.curves[name1].backward()\n",
    "PC.curves[name1].forward()"
   ]
  },
  {
   "cell_type": "code",
   "execution_count": 22,
   "metadata": {},
   "outputs": [
    {
     "data": {
      "image/png": "[encoded data removed]",
      "text/plain": [
       "<Figure size 432x288 with 1 Axes>"
      ]
     },
     "metadata": {
      "needs_background": "light"
     },
     "output_type": "display_data"
    }
   ],
   "source": [
    "PC['EQ1'].display(('r', 'x'), stability=True, linewidth=3)\n",
    "PC.plot.fig1.toggleAll('off', bytype=['P','B'])\n",
    "PC.plot.fig1.axes1.axes.set_xlim((0, 0.8))\n",
    "PC.plot.fig1.axes1.axes.set_xlabel('$r$', fontsize=16)\n",
    "PC.plot.fig1.axes1.axes.set_ylim((0, 3.0))\n",
    "PC.plot.fig1.axes1.axes.set_ylabel('$x$', fontsize=16)\n",
    "PC.plot.fig1.axes1.axes.set_title('')\n",
    "# plt.savefig(figdir + 'ApplicationGenExtended2Bifurcation.pdf', bbox_inches='tight')\n",
    "plt.show()"
   ]
  }
 ],
 "metadata": {
  "@webio": {
   "lastCommId": null,
   "lastKernelId": null
  },
  "kernelspec": {
   "display_name": "Python 3",
   "language": "python",
   "name": "python3"
  },
  "language_info": {
   "codemirror_mode": {
    "name": "ipython",
    "version": 3
   },
   "file_extension": ".py",
   "mimetype": "text/x-python",
   "name": "python",
   "nbconvert_exporter": "python",
   "pygments_lexer": "ipython3",
   "version": "3.8.5"
  }
 },
 "nbformat": 4,
 "nbformat_minor": 2
}
