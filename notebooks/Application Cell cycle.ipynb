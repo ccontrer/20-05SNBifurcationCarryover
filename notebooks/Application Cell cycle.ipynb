{
 "cells": [
  {
   "cell_type": "code",
   "execution_count": 1,
   "metadata": {},
   "outputs": [],
   "source": [
    "import numpy as np\n",
    "import PyDSTool as dst\n",
    "from PyDSTool.Toolbox import phaseplane as pp"
   ]
  },
  {
   "cell_type": "code",
   "execution_count": 2,
   "metadata": {},
   "outputs": [],
   "source": [
    "import matplotlib as mpl\n",
    "from matplotlib import pyplot as plt\n",
    "from IPython.display import display, Math"
   ]
  },
  {
   "cell_type": "code",
   "execution_count": 3,
   "metadata": {},
   "outputs": [],
   "source": [
    "mpl.rcParams['figure.figsize'] = [6, 4]\n",
    "mpl.rcParams['font.size'] = 16\n",
    "mpl.rcParams['lines.linewidth'] = 3\n",
    "mpl.rcParams['lines.markersize'] = 8"
   ]
  },
  {
   "cell_type": "code",
   "execution_count": 4,
   "metadata": {},
   "outputs": [],
   "source": [
    "figdir = './figures/'\n",
    "plt.rc('text', usetex=True)"
   ]
  },
  {
   "cell_type": "markdown",
   "metadata": {},
   "source": [
    "# Carryover of a saddle-node bifurcation\n",
    "# Application: cell cycle"
   ]
  },
  {
   "cell_type": "markdown",
   "metadata": {},
   "source": [
    "## 1. Original system: bifurcation diagrams"
   ]
  },
  {
   "cell_type": "markdown",
   "metadata": {},
   "source": [
    "The cell cycle model is\n",
    "$$\n",
    "\\begin{aligned}\n",
    "    \\frac{dY}{dt} &= k_{1} - (k_{2p} + k_{2pp}P)Y, \\\\\n",
    "    \\frac{dP}{dt} &= \\frac{(k_{3p}+k_{3pp}A)(1-P)}{J_{3}+(1-P)} - k_{4}m\\frac{YP}{J_{4}+P}, \\\\\n",
    "    \\frac{dA}{dt} &= k_{5p} + k_{5pp}\\frac{(mY/J_{5})^{n}}{1+(mY/J_{5})^{n}} - k_{6}A,\n",
    "\\end{aligned}\n",
    "$$\n",
    "where $k_1, k_{2p}, k_{pp},k_{3p}, k_{3pp}, k_{4}, k_{5p}, k_{5pp}, k_{6}, J_{3}, J_{4}0$ are non-negative rate (add references here in markdown syntax: Segel2013, TysonNovak2011).\n"
   ]
  },
  {
   "cell_type": "markdown",
   "metadata": {},
   "source": [
    "We can construct the bifurcation diagram using continuation and the `PyDSTool` library of python."
   ]
  },
  {
   "cell_type": "code",
   "execution_count": 5,
   "metadata": {},
   "outputs": [],
   "source": [
    "# dynamical system\n",
    "Ystr = 'k1 - (k2p + k2pp*P)*Y'\n",
    "Pstr = '(k3p + k3pp*A)*(1 - P)/(J3 + 1 - P) - k4*m*Y*P/(J4 + P)'\n",
    "Astr = 'k5p + k5pp*(m*Y/J5)**n/(1 + (m*Y/J5)**n) - k6*A'\n",
    "params = {'k1': 0.04,\n",
    "          'k2p':  0.04,\n",
    "          'k2pp':  1.0,\n",
    "          'k3p':  1.0,\n",
    "          'k3pp':  10.0,\n",
    "          'k4':  35.0,\n",
    "          'k5p':  0.005,\n",
    "          'k5pp':  0.2,\n",
    "          'k6':  0.1,\n",
    "          'J3':  0.04,\n",
    "          'J4':  0.04,\n",
    "          'J5':  0.3,\n",
    "          'm': 1.0,\n",
    "          'n': 4}\n",
    "ics = {'A':  0.5589948209351,\n",
    "       'P':  0.9899006517009776,\n",
    "       'Y':  0.03951157409159911}\n",
    "DSargs = dst.args(name='CellCycle')\n",
    "DSargs.pars = params\n",
    "DSargs.tdata = [0, 100]\n",
    "DSargs.pdomain = {'m': [0, 4.0], \n",
    "                  'k1': [0, 1.0], \n",
    "                  'k2p': [0, 10.0], \n",
    "                  'k3p': [0, 10.0], \n",
    "                  'k4': [0, 200.0], \n",
    "                  'k5p': [0, 1.0], \n",
    "                  'k5pp': [0, 10.0],\n",
    "                  'k6': [0, 10.0]}\n",
    "DSargs.xdomain = {'Y': [0, 5.0], 'P': [0, 10.0], 'A': [0, 10.0]}\n",
    "DSargs.varspecs = {'Y': Ystr, 'P': Pstr, 'A': Astr}\n",
    "DSargs.ics = ics\n",
    "DS = dst.Generator.Vode_ODEsystem(DSargs)"
   ]
  },
  {
   "cell_type": "code",
   "execution_count": 6,
   "metadata": {},
   "outputs": [
    {
     "data": {
      "image/png": "[encoded data removed]",
      "text/plain": [
       "<Figure size 432x288 with 1 Axes>"
      ]
     },
     "metadata": {
      "needs_background": "light"
     },
     "output_type": "display_data"
    }
   ],
   "source": [
    "traj = DS.compute('cycle')\n",
    "cycle = traj.sample(dt=0.0001, tlo=0, thi=56.45, precise=True)\n",
    "cycle.indepvararray = cycle.indepvararray.flatten()\n",
    "plt.plot(cycle['A'], cycle['Y'])\n",
    "plt.xlabel('$A$')\n",
    "plt.ylabel('$Y$')\n",
    "plt.show()"
   ]
  },
  {
   "cell_type": "code",
   "execution_count": 7,
   "metadata": {},
   "outputs": [
    {
     "name": "stdout",
     "output_type": "stream",
     "text": [
      "running build\n",
      "running config_cc\n",
      "unifing config_cc, config, build_clib, build_ext, build commands --compiler options\n",
      "running config_fc\n",
      "unifing config_fc, config, build_clib, build_ext, build commands --fcompiler options\n",
      "running build_src\n",
      "build_src\n",
      "building extension \"_auto_CellCycle_vf\" sources\n",
      "swig: /home/shigoto/Documents/Work/Projects/2020-05 Saddle-node Bifurcation Carryover/codes/notebooks/auto_temp/auto_CellCycle_vf.i\n",
      "swig -python -I/home/shigoto/.local/lib/python3.8/site-packages/numpy/core/include -I/home/shigoto/Documents/Work/Projects/2020-05 Saddle-node Bifurcation Carryover/codes/notebooks -I/home/shigoto/.local/lib/python3.8/site-packages/PyDSTool/PyCont/auto/module/include -I/home/shigoto/Documents/Work/Projects/2020-05 Saddle-node Bifurcation Carryover/codes/notebooks/auto_temp -I/home/shigoto/.local/lib/python3.8/site-packages/PyDSTool/PyCont/auto/src/include -o auto_temp/src.linux-x86_64-3.8/auto_temp/auto_CellCycle_vf_wrap.c -outdir auto_temp/src.linux-x86_64-3.8/auto_temp /home/shigoto/Documents/Work/Projects/2020-05 Saddle-node Bifurcation Carryover/codes/notebooks/auto_temp/auto_CellCycle_vf.i\n",
      "build_src: building npy-pkg config files\n",
      "running build_ext\n",
      "new_compiler returns <class 'distutils.unixccompiler.UnixCCompiler'>\n",
      "customize UnixCCompiler\n",
      "customize UnixCCompiler using build_ext\n",
      "********************************************************************************\n",
      "<class 'distutils.unixccompiler.UnixCCompiler'>\n",
      "preprocessor  = ['x86_64-linux-gnu-gcc', '-pthread', '-E', '-Wdate-time', '-D_FORTIFY_SOURCE=2']\n",
      "compiler      = ['x86_64-linux-gnu-gcc', '-pthread', '-Wno-unused-result', '-Wsign-compare', '-DNDEBUG', '-g', '-fwrapv', '-O2', '-Wall', '-g', '-fstack-protector-strong', '-Wformat', '-Werror=format-security', '-g', '-fwrapv', '-O2', '-g', '-fstack-protector-strong', '-Wformat', '-Werror=format-security', '-Wdate-time', '-D_FORTIFY_SOURCE=2']\n",
      "compiler_so   = ['x86_64-linux-gnu-gcc', '-pthread', '-Wno-unused-result', '-Wsign-compare', '-DNDEBUG', '-g', '-fwrapv', '-O2', '-Wall', '-g', '-fstack-protector-strong', '-Wformat', '-Werror=format-security', '-g', '-fwrapv', '-O2', '-g', '-fstack-protector-strong', '-Wformat', '-Werror=format-security', '-Wdate-time', '-D_FORTIFY_SOURCE=2', '-fPIC']\n",
      "compiler_cxx  = ['x86_64-linux-gnu-g++', '-pthread']\n",
      "linker_so     = ['x86_64-linux-gnu-gcc', '-pthread', '-shared', '-Wl,-O1', '-Wl,-Bsymbolic-functions', '-Wl,-Bsymbolic-functions', '-Wl,-z,relro', '-g', '-fwrapv', '-O2', '-Wl,-Bsymbolic-functions', '-Wl,-z,relro', '-g', '-fwrapv', '-O2', '-g', '-fstack-protector-strong', '-Wformat', '-Werror=format-security', '-Wdate-time', '-D_FORTIFY_SOURCE=2']\n",
      "linker_exe    = ['x86_64-linux-gnu-gcc', '-pthread']\n",
      "archiver      = ['x86_64-linux-gnu-gcc-ar', 'rcs']\n",
      "ranlib        = None\n",
      "libraries     = []\n",
      "library_dirs  = []\n",
      "include_dirs  = ['/usr/include/python3.8']\n",
      "********************************************************************************\n",
      "building '_auto_CellCycle_vf' extension\n",
      "compiling C sources\n",
      "C compiler: x86_64-linux-gnu-gcc -pthread -Wno-unused-result -Wsign-compare -DNDEBUG -g -fwrapv -O2 -Wall -g -fstack-protector-strong -Wformat -Werror=format-security -g -fwrapv -O2 -g -fstack-protector-strong -Wformat -Werror=format-security -Wdate-time -D_FORTIFY_SOURCE=2 -fPIC\n",
      "\n",
      "compile options: '-I/home/shigoto/.local/lib/python3.8/site-packages/numpy/core/include -I/home/shigoto/Documents/Work/Projects/2020-05 Saddle-node Bifurcation Carryover/codes/notebooks -I/home/shigoto/.local/lib/python3.8/site-packages/PyDSTool/PyCont/auto/module/include -I/home/shigoto/Documents/Work/Projects/2020-05 Saddle-node Bifurcation Carryover/codes/notebooks/auto_temp -I/home/shigoto/.local/lib/python3.8/site-packages/PyDSTool/PyCont/auto/src/include -I/home/shigoto/.local/lib/python3.8/site-packages/numpy/core/include -I/usr/include/python3.8 -c'\n",
      "extra options: '-w -D__PYTHON__ -std=c99'\n",
      "x86_64-linux-gnu-gcc: auto_temp/src.linux-x86_64-3.8/auto_temp/auto_CellCycle_vf_wrap.c\n",
      "x86_64-linux-gnu-gcc: /home/shigoto/Documents/Work/Projects/2020-05 Saddle-node Bifurcation Carryover/codes/notebooks/auto_temp/CellCycle_vf.c\n",
      "x86_64-linux-gnu-gcc -pthread -shared -Wl,-O1 -Wl,-Bsymbolic-functions -Wl,-Bsymbolic-functions -Wl,-z,relro -g -fwrapv -O2 -Wl,-Bsymbolic-functions -Wl,-z,relro -g -fwrapv -O2 -g -fstack-protector-strong -Wformat -Werror=format-security -Wdate-time -D_FORTIFY_SOURCE=2 auto_temp/auto_temp/src.linux-x86_64-3.8/auto_temp/auto_CellCycle_vf_wrap.o auto_temp/home/shigoto/.local/lib/python3.8/site-packages/PyDSTool/PyCont/auto/src/auto.o auto_temp/home/shigoto/.local/lib/python3.8/site-packages/PyDSTool/PyCont/auto/src/autlib1.o auto_temp/home/shigoto/.local/lib/python3.8/site-packages/PyDSTool/PyCont/auto/src/autlib2.o auto_temp/home/shigoto/.local/lib/python3.8/site-packages/PyDSTool/PyCont/auto/src/autlib3.o auto_temp/home/shigoto/.local/lib/python3.8/site-packages/PyDSTool/PyCont/auto/src/autlib4.o auto_temp/home/shigoto/.local/lib/python3.8/site-packages/PyDSTool/PyCont/auto/src/autlib5.o auto_temp/home/shigoto/.local/lib/python3.8/site-packages/PyDSTool/PyCont/auto/src/eispack.o auto_temp/home/shigoto/.local/lib/python3.8/site-packages/PyDSTool/PyCont/auto/src/conpar.o auto_temp/home/shigoto/.local/lib/python3.8/site-packages/PyDSTool/PyCont/auto/src/setubv.o auto_temp/home/shigoto/.local/lib/python3.8/site-packages/PyDSTool/PyCont/auto/src/reduce.o auto_temp/home/shigoto/.local/lib/python3.8/site-packages/PyDSTool/PyCont/auto/src/dmatrix.o auto_temp/home/shigoto/.local/lib/python3.8/site-packages/PyDSTool/PyCont/auto/src/fcon.o auto_temp/home/shigoto/.local/lib/python3.8/site-packages/PyDSTool/PyCont/auto/src/libf2c/cabs.o auto_temp/home/shigoto/.local/lib/python3.8/site-packages/PyDSTool/PyCont/auto/src/libf2c/d_lg10.o auto_temp/home/shigoto/.local/lib/python3.8/site-packages/PyDSTool/PyCont/auto/src/libf2c/i_nint.o auto_temp/home/shigoto/.local/lib/python3.8/site-packages/PyDSTool/PyCont/auto/src/libf2c/pow_di.o auto_temp/home/shigoto/.local/lib/python3.8/site-packages/PyDSTool/PyCont/auto/src/libf2c/r_lg10.o auto_temp/home/shigoto/.local/lib/python3.8/site-packages/PyDSTool/PyCont/auto/src/libf2c/z_exp.o auto_temp/home/shigoto/.local/lib/python3.8/site-packages/PyDSTool/PyCont/auto/src/libf2c/d_imag.o auto_temp/home/shigoto/.local/lib/python3.8/site-packages/PyDSTool/PyCont/auto/src/libf2c/d_sign.o auto_temp/home/shigoto/.local/lib/python3.8/site-packages/PyDSTool/PyCont/auto/src/libf2c/i_dnnt.o auto_temp/home/shigoto/.local/lib/python3.8/site-packages/PyDSTool/PyCont/auto/src/libf2c/pow_dd.o auto_temp/home/shigoto/.local/lib/python3.8/site-packages/PyDSTool/PyCont/auto/src/libf2c/pow_ii.o auto_temp/home/shigoto/.local/lib/python3.8/site-packages/PyDSTool/PyCont/auto/src/libf2c/z_abs.o auto_temp/home/shigoto/.local/lib/python3.8/site-packages/PyDSTool/PyCont/auto/src/libf2c/z_log.o auto_temp/home/shigoto/.local/lib/python3.8/site-packages/PyDSTool/PyCont/auto/module/automod.o auto_temp/home/shigoto/.local/lib/python3.8/site-packages/PyDSTool/PyCont/auto/module/interface.o auto_temp/home/shigoto/Documents/Work/Projects/2020-05 Saddle-node Bifurcation Carryover/codes/notebooks/auto_temp/CellCycle_vf.o -L./ -o ./_auto_CellCycle_vf.cpython-38-x86_64-linux-gnu.so -w\n"
     ]
    }
   ],
   "source": [
    "PC = dst.ContClass(DS)\n",
    "name3 = 'LC2'\n",
    "PCargs = dst.args(name=name3)\n",
    "PCargs.type = 'LC-C'\n",
    "PCargs.initcycle = cycle\n",
    "PCargs.freepars = ['m']\n",
    "PCargs.StepSize = 1e-2\n",
    "PCargs.MaxNumPoints = 5000\n",
    "PCargs.MaxStepSize = 5e-2\n",
    "PCargs.MinStepSize = 1e-6\n",
    "PCargs.MaxTestIters = 200\n",
    "PCargs.SolutionMeasures = 'min'\n",
    "PCargs.NumSPOut = 10\n",
    "PCargs.SaveEigen = True\n",
    "PCargs.verbosity = 2\n",
    "\n",
    "PC.newCurve(PCargs)\n",
    "PC.curves[name3].backward()\n",
    "PC.curves[name3].forward()"
   ]
  },
  {
   "cell_type": "code",
   "execution_count": 8,
   "metadata": {},
   "outputs": [
    {
     "data": {
      "text/plain": [
       "({'A': 0.5420835741849908, 'P': 0.1364100558653051, 'Y': 0.22674444381187284},)"
      ]
     },
     "execution_count": 8,
     "metadata": {},
     "output_type": "execute_result"
    }
   ],
   "source": [
    "fps = pp.find_fixedpoints(DS, n=4, eps=1e-8)\n",
    "fps"
   ]
  },
  {
   "cell_type": "code",
   "execution_count": 9,
   "metadata": {
    "scrolled": false
   },
   "outputs": [
    {
     "name": "stdout",
     "output_type": "stream",
     "text": [
      "Checking...\n",
      "  |q| = 1.000000\n",
      "  |<p,q> - 1| =  3.1238575094738597e-18\n",
      "  |Aq - iwq| = 0.000000\n",
      "  |A*p + iwp| = 0.000000\n",
      "\n",
      "H Point found \n",
      "========================== \n",
      "0 : \n",
      "A  =  0.3736425931748028\n",
      "P  =  0.0750431382196999\n",
      "Y  =  0.34769566111462724\n",
      "m  =  0.5719350959538925\n",
      "\n",
      "Eigenvalues = \n",
      "\n",
      "     (-21.454000,0.000000)\n",
      "     (0.000000,0.196742)\n",
      "     (0.000000,-0.196742)\n",
      "\n",
      "\n",
      "w = 0.1967424432770653\n",
      "l1 = -19.039876460991113\n",
      "\n",
      "\n",
      "Checking...\n",
      "  |q| = 1.000000\n",
      "  <p,q> = 1.000000\n",
      "  |Aq| = 0.000000\n",
      "  |transpose(A)p| = 0.000000\n",
      "\n",
      "LP Point found \n",
      "========================== \n",
      "0 : \n",
      "A  =  0.058779063213188924\n",
      "P  =  0.05155301918737465\n",
      "Y  =  0.4369053074933009\n",
      "m  =  0.17693596365829772\n",
      "\n",
      "Eigenvalues = \n",
      "\n",
      "     (-13.094156,0.000000)\n",
      "     (-0.074183,0.000000)\n",
      "     (0.000000,0.000000)\n",
      "\n",
      "\n",
      "a = 0.3849696051778087\n",
      "\n",
      "Neutral saddle found!\n",
      "\n",
      "Neutral saddle found!\n",
      "\n",
      "\n",
      "Checking...\n",
      "  |q| = 1.000000\n",
      "  <p,q> = 1.000000\n",
      "  |Aq| = 0.000000\n",
      "  |transpose(A)p| = 0.000001\n",
      "\n",
      "LP Point found \n",
      "========================== \n",
      "0 : \n",
      "A  =  0.05044322270609173\n",
      "P  =  0.8268816067784488\n",
      "Y  =  0.04614240247713885\n",
      "m  =  0.7933103435606997\n",
      "\n",
      "Eigenvalues = \n",
      "\n",
      "     (-2.266645,0.000000)\n",
      "     (-0.093355,0.000000)\n",
      "     (-0.000000,0.000000)\n",
      "\n",
      "\n",
      "a = 3.117239100418554\n",
      "\n",
      "B Point found \n",
      "========================== \n",
      "0 : \n",
      "A  =  0.049999999999999996\n",
      "P  =  0.999999999840604\n",
      "Y  =  0.03846153846743328\n",
      "m  =  4.617931200781202e-09\n",
      "\n",
      "B Point found \n",
      "========================== \n",
      "0 : \n",
      "A  =  0.8723680535447277\n",
      "P  =  0.5434243695218901\n",
      "Y  =  0.06856072884439085\n",
      "m  =  4.000000006701334\n",
      "\n"
     ]
    }
   ],
   "source": [
    "name1 = 'EQ1'\n",
    "PCargs = dst.args(name=name1)\n",
    "PCargs.type = 'EP-C'\n",
    "PCargs.initpoint = fps[0]\n",
    "PCargs.freepars = ['m']\n",
    "PCargs.StepSize = 1e-3\n",
    "PCargs.MaxNumPoints = 5000\n",
    "PCargs.MaxStepSize = 5e-3\n",
    "PCargs.MinStepSize = 1e-6\n",
    "PCargs.MaxTestIters = 20\n",
    "PCargs.LocBifPoints = 'all'\n",
    "PCargs.SaveEigen = True\n",
    "PCargs.StopAtPoints = ['B']\n",
    "PCargs.verbosity = 2\n",
    "\n",
    "PC.newCurve(PCargs)\n",
    "PC.curves[name1].backward()\n",
    "PC.curves[name1].forward()"
   ]
  },
  {
   "cell_type": "markdown",
   "metadata": {},
   "source": [
    "Indeed there is a bifurcation point (`LP1`) at which a critical transition drives gen activation."
   ]
  },
  {
   "cell_type": "code",
   "execution_count": 10,
   "metadata": {},
   "outputs": [],
   "source": [
    "name2 = 'LC1'\n",
    "PCargs = dst.args(name=name2)\n",
    "PCargs.type = 'LC-C'\n",
    "PCargs.initpoint = 'EQ1:H1'\n",
    "PCargs.freepars = ['m']\n",
    "PCargs.StepSize = 1e-1\n",
    "PCargs.NumSPOut = 30\n",
    "PCargs.MaxNumPoints = 5000\n",
    "PCargs.MaxStepSize = 5e-1\n",
    "PCargs.MinStepSize = 1e-6\n",
    "PCargs.MaxTestIters = 200\n",
    "PCargs.SolutionMeasures = 'all'\n",
    "PCargs.SaveEigen = True\n",
    "PCargs.StopAtPoints = ['B']\n",
    "PCargs.verbosity = 2\n",
    "\n",
    "PC.newCurve(PCargs)\n",
    "PC.curves[name2].backward()\n",
    "PC.curves[name2].forward()"
   ]
  },
  {
   "cell_type": "code",
   "execution_count": 11,
   "metadata": {},
   "outputs": [
    {
     "data": {
      "image/png": "[encoded data removed]",
      "text/plain": [
       "<Figure size 432x288 with 1 Axes>"
      ]
     },
     "metadata": {
      "needs_background": "light"
     },
     "output_type": "display_data"
    }
   ],
   "source": [
    "PC[name1].display(('m', 'Y'), stability=True, linewidth=3)\n",
    "PC[name2].display(('m', 'Y_min'), stability=True, linewidth=3)\n",
    "PC[name2].display(('m', 'Y_max'), stability=True, linewidth=3)\n",
    "PC[name3].display(('m', 'Y_min'), stability=True, linewidth=3)\n",
    "PC[name3].display(('m', 'Y_max'), stability=True, linewidth=3)\n",
    "PC.plot.fig1.toggleAll('off', bytype=['P','B','MX','RG'])\n",
    "PC.plot.fig1.axes1.axes.set_xlabel('$m$', fontsize=16)\n",
    "PC.plot.fig1.axes1.axes.set_xlim((0.0, 2.0))\n",
    "PC.plot.fig1.axes1.axes.set_ylabel('$Y$', fontsize=16)\n",
    "PC.plot.fig1.axes1.axes.set_ylim((0.0, 0.6))\n",
    "PC.plot.fig1.axes1.axes.set_title('')\n",
    "plt.savefig(figdir + 'ApplicationCellCycleOriginalBifurcation.pdf', bbox_inches='tight')\n",
    "plt.show()"
   ]
  },
  {
   "cell_type": "code",
   "execution_count": 12,
   "metadata": {
    "scrolled": false
   },
   "outputs": [
    {
     "name": "stdout",
     "output_type": "stream",
     "text": [
      "\n",
      "Checking...\n",
      "  <b,c> = 0.000000\n",
      "\n",
      "\n",
      "BT Point found \n",
      "========================== \n",
      "0 : \n",
      "A  =  0.23255380673959447\n",
      "P  =  0.8146179273105634\n",
      "Y  =  0.04680454121279417\n",
      "m  =  1.7517506490777344\n",
      "k5p  =  0.022145771850235575\n",
      "\n",
      "Eigenvalues = \n",
      "\n",
      "     (-3.730463,0.000000)\n",
      "     (-0.000002,0.000000)\n",
      "     (0.000002,0.000000)\n",
      "\n",
      "\n",
      "Maximum test function iterations reached.\n",
      "\n",
      "\n",
      "Checking...\n",
      "  |a| = 8.608102\n",
      "\n",
      "\n",
      "CP Point found \n",
      "========================== \n",
      "0 : \n",
      "A  =  0.4303351846668131\n",
      "P  =  0.669553702687007\n",
      "Y  =  0.05637346383864125\n",
      "m  =  2.5408741931156587\n",
      "k5p  =  0.03315314273976405\n",
      "\n",
      "Eigenvalues = \n",
      "\n",
      "     (-3.608783,0.000000)\n",
      "     (0.000000,0.000000)\n",
      "     (0.855101,0.000000)\n",
      "\n",
      "\n",
      "\n",
      "Checking...\n",
      "  <b,c> = 0.000000\n",
      "\n",
      "\n",
      "BT Point found \n",
      "========================== \n",
      "0 : \n",
      "A  =  0.15113583556073112\n",
      "P  =  0.07567556027566104\n",
      "Y  =  0.3457947374940555\n",
      "m  =  0.3040251375345811\n",
      "k5p  =  0.012142219774172874\n",
      "\n",
      "Eigenvalues = \n",
      "\n",
      "     (-11.323194,0.000000)\n",
      "     (-0.000000,0.000000)\n",
      "     (-0.000000,-0.000000)\n",
      "\n",
      "\n",
      "B Point found \n",
      "========================== \n",
      "0 : \n",
      "A  =  -2.5406481499852334e-08\n",
      "P  =  0.04344890734287807\n",
      "Y  =  0.47933521568648546\n",
      "m  =  0.10988613700859728\n",
      "k5p  =  -0.00018987477055017925\n",
      "\n",
      "B Point found \n",
      "========================== \n",
      "0 : \n",
      "A  =  -4.5770635914564757e-10\n",
      "P  =  0.8276437656024463\n",
      "Y  =  0.046101869898443976\n",
      "m  =  0.5273189722247607\n",
      "k5p  =  -8.62375294383253e-06\n",
      "\n"
     ]
    }
   ],
   "source": [
    "# Two-parameter bifurcation\n",
    "namefold = 'FO1'\n",
    "PCargs = dst.args(name=namefold)\n",
    "PCargs.type = 'LP-C'\n",
    "PCargs.initpoint = 'EQ1:LP1'\n",
    "PCargs.freepars = ['m', 'k5p']\n",
    "PCargs.StepSize = 1e-2\n",
    "PCargs.MaxNumPoints = 2000\n",
    "PCargs.MaxStepSize = 5e-2\n",
    "PCargs.MinStepSize = 1e-4\n",
    "PCargs.SaveEigen = True\n",
    "PCargs.SaveJacobian = True\n",
    "PCargs.LocBifPoints = 'all'\n",
    "PCargs.StopAtPoints = ['B']\n",
    "PCargs.verbosity = 2\n",
    "PC.newCurve(PCargs)\n",
    "PC.curves[namefold].forward()\n",
    "PC.curves[namefold].backward()"
   ]
  },
  {
   "cell_type": "code",
   "execution_count": 13,
   "metadata": {},
   "outputs": [
    {
     "name": "stdout",
     "output_type": "stream",
     "text": [
      "Warning: Variable dimension must be larger than 3 to detect Double Hopf points.\n",
      "B Point found \n",
      "========================== \n",
      "0 : \n",
      "A  =  0.408487746490201\n",
      "P  =  0.07499996346408001\n",
      "Y  =  0.34782619746217497\n",
      "m  =  0.613905082824685\n",
      "k5p  =  -5.067136093354204e-10\n",
      "\n",
      "Checking...\n",
      "  |q| = 1.000000\n",
      "  |<p,q> - 1| =  2.724399649415651e-16\n",
      "  |Aq - iwq| = 0.000000\n",
      "  |A*p + iwp| = 0.000000\n",
      "\n",
      "GH Point found \n",
      "========================== \n",
      "0 : \n",
      "A  =  0.19170834733707703\n",
      "P  =  0.07552374926905595\n",
      "Y  =  0.3462491500932817\n",
      "m  =  0.3529263224462715\n",
      "k5p  =  0.01381235567528244\n",
      "\n",
      "Eigenvalues = \n",
      "\n",
      "     (-13.160082,0.000000)\n",
      "     (0.000000,0.072867)\n",
      "     (0.000000,-0.072867)\n",
      "\n",
      "\n",
      "w = 0.07286736458290861\n",
      "l1 = -1.4041071089820889e-05\n",
      "\n",
      "\n",
      "Checking...\n",
      "  <b,c> = 3.989074\n",
      "\n",
      "\n",
      "BT Point found \n",
      "========================== \n",
      "0 : \n",
      "A  =  0.15113584006999475\n",
      "P  =  0.07567556134448931\n",
      "Y  =  0.3457947342989537\n",
      "m  =  0.3040251443032289\n",
      "k5p  =  0.012142220072607908\n",
      "\n",
      "Eigenvalues = \n",
      "\n",
      "     (-11.323193,0.000000)\n",
      "     (0.000000,0.000013)\n",
      "     (0.000000,-0.000013)\n",
      "\n",
      "\n",
      "B Point found \n",
      "========================== \n",
      "0 : \n",
      "A  =  -3.4772278396806213e-09\n",
      "P  =  0.07670493457516256\n",
      "Y  =  0.3427447189410695\n",
      "m  =  0.12156491849533092\n",
      "k5p  =  -7.438777810485791e-05\n",
      "\n"
     ]
    }
   ],
   "source": [
    "# Two-parameter bifurcation\n",
    "namefold2 = 'FO3'\n",
    "PCargs = dst.args(name=namefold2)\n",
    "PCargs.type = 'H-C1'\n",
    "PCargs.initpoint = 'EQ1:H1'\n",
    "PCargs.freepars = ['m', 'k5p']\n",
    "PCargs.StepSize = 1e-2\n",
    "PCargs.MaxNumPoints = 2000\n",
    "PCargs.MaxStepSize = 5e-2\n",
    "PCargs.MinStepSize = 1e-4\n",
    "PCargs.SaveEigen = True\n",
    "PCargs.SaveJacobian = True\n",
    "PCargs.LocBifPoints = 'all'\n",
    "PCargs.StopAtPoints = ['B']\n",
    "PCargs.verbosity = 2\n",
    "PC.newCurve(PCargs)\n",
    "PC.curves[namefold2].forward()\n",
    "PC.curves[namefold2].backward()"
   ]
  },
  {
   "cell_type": "code",
   "execution_count": 14,
   "metadata": {},
   "outputs": [
    {
     "data": {
      "image/png": "[encoded data removed]",
      "text/plain": [
       "<Figure size 432x288 with 1 Axes>"
      ]
     },
     "metadata": {
      "needs_background": "light"
     },
     "output_type": "display_data"
    }
   ],
   "source": [
    "PC[namefold].display(('m', 'k5p'), stability=True, linewidth=3)\n",
    "PC[namefold2].display(('m', 'k5p'), stability=True, linewidth=3)\n",
    "PC.plot.fig1.toggleAll('off', bytype=['B', 'P'])\n",
    "PC.plot.fig1.axes1.axes.set_xlim((0.0, 3.5))\n",
    "PC.plot.fig1.axes1.axes.set_xlabel('$m$', fontsize=16)\n",
    "PC.plot.fig1.axes1.axes.set_ylim((0.0, 0.04))\n",
    "PC.plot.fig1.axes1.axes.set_ylabel('$k_{5p}$', fontsize=16)\n",
    "plt.axvline(x=2.0, lw=3, color='b')\n",
    "plt.axvline(x=3.0, lw=3, color='b')\n",
    "PC.plot.fig1.axes1.axes.set_title('')\n",
    "plt.savefig(figdir + 'ApplicationCellCycleTwoParBifurcation.pdf', bbox_inches='tight')\n",
    "plt.show()"
   ]
  },
  {
   "cell_type": "markdown",
   "metadata": {},
   "source": [
    "**In order to run the following lines, we nee to restart the notebook, otherwise, the continuation of the limit cycle would not work. Supposedly, building AUTO for two system will collide.**"
   ]
  },
  {
   "cell_type": "code",
   "execution_count": 1,
   "metadata": {},
   "outputs": [],
   "source": [
    "import numpy as np\n",
    "import PyDSTool as dst\n",
    "from PyDSTool.Toolbox import phaseplane as pp"
   ]
  },
  {
   "cell_type": "code",
   "execution_count": 2,
   "metadata": {},
   "outputs": [],
   "source": [
    "import matplotlib as mpl\n",
    "from matplotlib import pyplot as plt\n",
    "from IPython.display import display, Math"
   ]
  },
  {
   "cell_type": "code",
   "execution_count": 3,
   "metadata": {},
   "outputs": [],
   "source": [
    "mpl.rcParams['figure.figsize'] = [6, 4]\n",
    "mpl.rcParams['font.size'] = 16\n",
    "mpl.rcParams['lines.linewidth'] = 3\n",
    "mpl.rcParams['lines.markersize'] = 8"
   ]
  },
  {
   "cell_type": "code",
   "execution_count": 4,
   "metadata": {},
   "outputs": [],
   "source": [
    "figdir = './figures/'\n",
    "plt.rc('text', usetex=True)"
   ]
  },
  {
   "cell_type": "markdown",
   "metadata": {},
   "source": [
    "## 2. Extended system: bifurcation diagram"
   ]
  },
  {
   "cell_type": "markdown",
   "metadata": {},
   "source": [
    "The cell cycle model is\n",
    "$$\n",
    "\\begin{aligned}\n",
    "    \\frac{dY}{dt} &= k_{1} - (k_{2p} + k_{2pp}P)Y, \\\\\n",
    "    \\frac{dP}{dt} &= \\frac{(k_{3p}+k_{3pp}A)(1-P)}{J_{3}+(1-P)} - k_{4}m\\frac{YP}{J_{4}+P}, \\\\\n",
    "    \\frac{dA}{dt} &= k_{5p} + k_{5pp}\\frac{(mY/J_{5})^{n}}{1+(mY/J_{5})^{n}} - k_{6}A, \\\\\n",
    "    \\frac{dm}{dt} &= \\mu m \\left( 1 - \\frac{m}{K}\\right),\n",
    "\\end{aligned}\n",
    "$$\n",
    "where $k_1, k_{2p}, k_{pp},k_{3p}, k_{3pp}, k_{4}, k_{5p}, k_{5pp}, k_{6}, J_{3}, J_{4}0$ are non-negative rate.\n"
   ]
  },
  {
   "cell_type": "markdown",
   "metadata": {},
   "source": [
    "We can construct the bifurcation diagram using continuation and the `PyDSTool` library of python."
   ]
  },
  {
   "cell_type": "code",
   "execution_count": 5,
   "metadata": {},
   "outputs": [],
   "source": [
    "# dynamical system\n",
    "Ystr = 'k1 - (k2p + k2pp*P)*Y'\n",
    "Pstr = '(k3p + k3pp*A)*(1 - P)/(J3 + 1 - P) - k4*m*Y*P/(J4 + P)'\n",
    "Astr = 'k5p + k5pp*(m*Y/J5)**n/(1 + (m*Y/J5)**n) - k6*A'\n",
    "mstr = 'mu*m*(1 - m/K)'\n",
    "params = {'k1': 0.04,\n",
    "          'k2p':  0.04,\n",
    "          'k2pp':  1.0,\n",
    "          'k3p':  1.0,\n",
    "          'k3pp':  10.0,\n",
    "          'k4':  35.0,\n",
    "          'k5p':  0.005,\n",
    "          'k5pp':  0.2,\n",
    "          'k6':  0.1,\n",
    "          'J3':  0.04,\n",
    "          'J4':  0.04,\n",
    "          'J5':  0.3,\n",
    "          'mu': 0.1,\n",
    "          'K': 2.0,\n",
    "          'n': 4}\n",
    "ics = {'A':  0.8850704900359198,\n",
    "'P':  0.9854966451671725,\n",
    "'Y':  0.03899139282479138,\n",
    "'m':  2.0}\n",
    "DSargs = dst.args(name='CellCycle')\n",
    "DSargs.pars = params\n",
    "DSargs.tdata = [0, 100]\n",
    "DSargs.pdomain = {'mu': [0, 1.0],\n",
    "                  'K': [1.0, 5.0],\n",
    "                  'k1': [0, 1.0], \n",
    "                  'k2p': [0, 10.0], \n",
    "                  'k3p': [0, 10.0], \n",
    "                  'k4': [0, 200.0], \n",
    "                  'k5p': [0, 0.04], \n",
    "                  'k5pp': [0, 10.0],\n",
    "                  'k6': [0, 10.0]}\n",
    "DSargs.xdomain = {'Y': [0, 5.0], 'P': [0, 10.0], 'A': [0, 10.0], 'm': [0, 2.0]}\n",
    "DSargs.varspecs = {'Y': Ystr, 'P': Pstr, 'A': Astr, 'm': mstr}\n",
    "DSargs.ics = ics\n",
    "DS = dst.Generator.Vode_ODEsystem(DSargs)"
   ]
  },
  {
   "cell_type": "code",
   "execution_count": 6,
   "metadata": {},
   "outputs": [
    {
     "data": {
      "image/png": "[encoded data removed]",
      "text/plain": [
       "<Figure size 432x288 with 1 Axes>"
      ]
     },
     "metadata": {
      "needs_background": "light"
     },
     "output_type": "display_data"
    }
   ],
   "source": [
    "traj = DS.compute('cycle')\n",
    "cycle = traj.sample(dt=0.0001, tlo=0, thi=53.32, precise=True)\n",
    "cycle.indepvararray = cycle.indepvararray.flatten()\n",
    "plt.plot(cycle['A'], cycle['Y'])\n",
    "plt.xlabel('$A$')\n",
    "plt.ylabel('$Y$')\n",
    "plt.show()"
   ]
  },
  {
   "cell_type": "code",
   "execution_count": 7,
   "metadata": {
    "scrolled": false
   },
   "outputs": [
    {
     "name": "stdout",
     "output_type": "stream",
     "text": [
      "running build\n",
      "running config_cc\n",
      "unifing config_cc, config, build_clib, build_ext, build commands --compiler options\n",
      "running config_fc\n",
      "unifing config_fc, config, build_clib, build_ext, build commands --fcompiler options\n",
      "running build_src\n",
      "build_src\n",
      "building extension \"_auto_CellCycle_vf\" sources\n",
      "swig: /home/shigoto/Documents/Work/Projects/2020-05 Saddle-node Bifurcation Carryover/codes/notebooks/auto_temp/auto_CellCycle_vf.i\n",
      "swig -python -I/home/shigoto/.local/lib/python3.8/site-packages/numpy/core/include -I/home/shigoto/Documents/Work/Projects/2020-05 Saddle-node Bifurcation Carryover/codes/notebooks -I/home/shigoto/.local/lib/python3.8/site-packages/PyDSTool/PyCont/auto/module/include -I/home/shigoto/Documents/Work/Projects/2020-05 Saddle-node Bifurcation Carryover/codes/notebooks/auto_temp -I/home/shigoto/.local/lib/python3.8/site-packages/PyDSTool/PyCont/auto/src/include -o auto_temp/src.linux-x86_64-3.8/auto_temp/auto_CellCycle_vf_wrap.c -outdir auto_temp/src.linux-x86_64-3.8/auto_temp /home/shigoto/Documents/Work/Projects/2020-05 Saddle-node Bifurcation Carryover/codes/notebooks/auto_temp/auto_CellCycle_vf.i\n",
      "build_src: building npy-pkg config files\n",
      "running build_ext\n",
      "new_compiler returns <class 'distutils.unixccompiler.UnixCCompiler'>\n",
      "customize UnixCCompiler\n",
      "customize UnixCCompiler using build_ext\n",
      "********************************************************************************\n",
      "<class 'distutils.unixccompiler.UnixCCompiler'>\n",
      "preprocessor  = ['x86_64-linux-gnu-gcc', '-pthread', '-E', '-Wdate-time', '-D_FORTIFY_SOURCE=2']\n",
      "compiler      = ['x86_64-linux-gnu-gcc', '-pthread', '-Wno-unused-result', '-Wsign-compare', '-DNDEBUG', '-g', '-fwrapv', '-O2', '-Wall', '-g', '-fstack-protector-strong', '-Wformat', '-Werror=format-security', '-g', '-fwrapv', '-O2', '-g', '-fstack-protector-strong', '-Wformat', '-Werror=format-security', '-Wdate-time', '-D_FORTIFY_SOURCE=2']\n",
      "compiler_so   = ['x86_64-linux-gnu-gcc', '-pthread', '-Wno-unused-result', '-Wsign-compare', '-DNDEBUG', '-g', '-fwrapv', '-O2', '-Wall', '-g', '-fstack-protector-strong', '-Wformat', '-Werror=format-security', '-g', '-fwrapv', '-O2', '-g', '-fstack-protector-strong', '-Wformat', '-Werror=format-security', '-Wdate-time', '-D_FORTIFY_SOURCE=2', '-fPIC']\n",
      "compiler_cxx  = ['x86_64-linux-gnu-g++', '-pthread']\n",
      "linker_so     = ['x86_64-linux-gnu-gcc', '-pthread', '-shared', '-Wl,-O1', '-Wl,-Bsymbolic-functions', '-Wl,-Bsymbolic-functions', '-Wl,-z,relro', '-g', '-fwrapv', '-O2', '-Wl,-Bsymbolic-functions', '-Wl,-z,relro', '-g', '-fwrapv', '-O2', '-g', '-fstack-protector-strong', '-Wformat', '-Werror=format-security', '-Wdate-time', '-D_FORTIFY_SOURCE=2']\n",
      "linker_exe    = ['x86_64-linux-gnu-gcc', '-pthread']\n",
      "archiver      = ['x86_64-linux-gnu-gcc-ar', 'rcs']\n",
      "ranlib        = None\n",
      "libraries     = []\n",
      "library_dirs  = []\n",
      "include_dirs  = ['/usr/include/python3.8']\n",
      "********************************************************************************\n",
      "building '_auto_CellCycle_vf' extension\n",
      "compiling C sources\n",
      "C compiler: x86_64-linux-gnu-gcc -pthread -Wno-unused-result -Wsign-compare -DNDEBUG -g -fwrapv -O2 -Wall -g -fstack-protector-strong -Wformat -Werror=format-security -g -fwrapv -O2 -g -fstack-protector-strong -Wformat -Werror=format-security -Wdate-time -D_FORTIFY_SOURCE=2 -fPIC\n",
      "\n",
      "compile options: '-I/home/shigoto/.local/lib/python3.8/site-packages/numpy/core/include -I/home/shigoto/Documents/Work/Projects/2020-05 Saddle-node Bifurcation Carryover/codes/notebooks -I/home/shigoto/.local/lib/python3.8/site-packages/PyDSTool/PyCont/auto/module/include -I/home/shigoto/Documents/Work/Projects/2020-05 Saddle-node Bifurcation Carryover/codes/notebooks/auto_temp -I/home/shigoto/.local/lib/python3.8/site-packages/PyDSTool/PyCont/auto/src/include -I/home/shigoto/.local/lib/python3.8/site-packages/numpy/core/include -I/usr/include/python3.8 -c'\n",
      "extra options: '-w -D__PYTHON__ -std=c99'\n",
      "x86_64-linux-gnu-gcc: auto_temp/src.linux-x86_64-3.8/auto_temp/auto_CellCycle_vf_wrap.c\n",
      "x86_64-linux-gnu-gcc: /home/shigoto/Documents/Work/Projects/2020-05 Saddle-node Bifurcation Carryover/codes/notebooks/auto_temp/CellCycle_vf.c\n",
      "x86_64-linux-gnu-gcc -pthread -shared -Wl,-O1 -Wl,-Bsymbolic-functions -Wl,-Bsymbolic-functions -Wl,-z,relro -g -fwrapv -O2 -Wl,-Bsymbolic-functions -Wl,-z,relro -g -fwrapv -O2 -g -fstack-protector-strong -Wformat -Werror=format-security -Wdate-time -D_FORTIFY_SOURCE=2 auto_temp/auto_temp/src.linux-x86_64-3.8/auto_temp/auto_CellCycle_vf_wrap.o auto_temp/home/shigoto/.local/lib/python3.8/site-packages/PyDSTool/PyCont/auto/src/auto.o auto_temp/home/shigoto/.local/lib/python3.8/site-packages/PyDSTool/PyCont/auto/src/autlib1.o auto_temp/home/shigoto/.local/lib/python3.8/site-packages/PyDSTool/PyCont/auto/src/autlib2.o auto_temp/home/shigoto/.local/lib/python3.8/site-packages/PyDSTool/PyCont/auto/src/autlib3.o auto_temp/home/shigoto/.local/lib/python3.8/site-packages/PyDSTool/PyCont/auto/src/autlib4.o auto_temp/home/shigoto/.local/lib/python3.8/site-packages/PyDSTool/PyCont/auto/src/autlib5.o auto_temp/home/shigoto/.local/lib/python3.8/site-packages/PyDSTool/PyCont/auto/src/eispack.o auto_temp/home/shigoto/.local/lib/python3.8/site-packages/PyDSTool/PyCont/auto/src/conpar.o auto_temp/home/shigoto/.local/lib/python3.8/site-packages/PyDSTool/PyCont/auto/src/setubv.o auto_temp/home/shigoto/.local/lib/python3.8/site-packages/PyDSTool/PyCont/auto/src/reduce.o auto_temp/home/shigoto/.local/lib/python3.8/site-packages/PyDSTool/PyCont/auto/src/dmatrix.o auto_temp/home/shigoto/.local/lib/python3.8/site-packages/PyDSTool/PyCont/auto/src/fcon.o auto_temp/home/shigoto/.local/lib/python3.8/site-packages/PyDSTool/PyCont/auto/src/libf2c/cabs.o auto_temp/home/shigoto/.local/lib/python3.8/site-packages/PyDSTool/PyCont/auto/src/libf2c/d_lg10.o auto_temp/home/shigoto/.local/lib/python3.8/site-packages/PyDSTool/PyCont/auto/src/libf2c/i_nint.o auto_temp/home/shigoto/.local/lib/python3.8/site-packages/PyDSTool/PyCont/auto/src/libf2c/pow_di.o auto_temp/home/shigoto/.local/lib/python3.8/site-packages/PyDSTool/PyCont/auto/src/libf2c/r_lg10.o auto_temp/home/shigoto/.local/lib/python3.8/site-packages/PyDSTool/PyCont/auto/src/libf2c/z_exp.o auto_temp/home/shigoto/.local/lib/python3.8/site-packages/PyDSTool/PyCont/auto/src/libf2c/d_imag.o auto_temp/home/shigoto/.local/lib/python3.8/site-packages/PyDSTool/PyCont/auto/src/libf2c/d_sign.o auto_temp/home/shigoto/.local/lib/python3.8/site-packages/PyDSTool/PyCont/auto/src/libf2c/i_dnnt.o auto_temp/home/shigoto/.local/lib/python3.8/site-packages/PyDSTool/PyCont/auto/src/libf2c/pow_dd.o auto_temp/home/shigoto/.local/lib/python3.8/site-packages/PyDSTool/PyCont/auto/src/libf2c/pow_ii.o auto_temp/home/shigoto/.local/lib/python3.8/site-packages/PyDSTool/PyCont/auto/src/libf2c/z_abs.o auto_temp/home/shigoto/.local/lib/python3.8/site-packages/PyDSTool/PyCont/auto/src/libf2c/z_log.o auto_temp/home/shigoto/.local/lib/python3.8/site-packages/PyDSTool/PyCont/auto/module/automod.o auto_temp/home/shigoto/.local/lib/python3.8/site-packages/PyDSTool/PyCont/auto/module/interface.o auto_temp/home/shigoto/Documents/Work/Projects/2020-05 Saddle-node Bifurcation Carryover/codes/notebooks/auto_temp/CellCycle_vf.o -L./ -o ./_auto_CellCycle_vf.cpython-38-x86_64-linux-gnu.so -w\n"
     ]
    }
   ],
   "source": [
    "PC = dst.ContClass(DS)\n",
    "name3 = 'LC2'\n",
    "PCargs = dst.args(name=name3)\n",
    "PCargs.type = 'LC-C'\n",
    "PCargs.initcycle = cycle\n",
    "PCargs.freepars = ['k5p']\n",
    "PCargs.StepSize = 2e-2\n",
    "PCargs.MaxNumPoints = 50000\n",
    "PCargs.MaxStepSize = 5e-2\n",
    "PCargs.MinStepSize = 1e-4\n",
    "PCargs.MaxTestIters = 1000\n",
    "PCargs.SolutionMeasures = 'min'\n",
    "PCargs.NumSPOut = 40\n",
    "PCargs.SaveEigen = True\n",
    "PCargs.verbosity = 2\n",
    "\n",
    "PC.newCurve(PCargs)\n",
    "PC.curves[name3].backward()\n",
    "PC.curves[name3].forward()"
   ]
  },
  {
   "cell_type": "code",
   "execution_count": 8,
   "metadata": {},
   "outputs": [
    {
     "data": {
      "text/plain": [
       "({'A': 0.051215411878439525,\n",
       "  'P': 1.6581629493592063,\n",
       "  'Y': 0.02355486557700103,\n",
       "  'm': 2.0},\n",
       " {'A': 0.05000000000000002,\n",
       "  'P': 0.9999999999999956,\n",
       "  'Y': 0.03846153846154625,\n",
       "  'm': -1.583327336586685e-19},\n",
       " {'A': 0.7127848739479983,\n",
       "  'P': 0.277816108256646,\n",
       "  'Y': 0.12585894471937878,\n",
       "  'm': 2.0},\n",
       " {'A': 0.055562950271203844,\n",
       "  'P': 1.120372749494177,\n",
       "  'Y': 0.034471681636286694,\n",
       "  'm': 2.0})"
      ]
     },
     "execution_count": 8,
     "metadata": {},
     "output_type": "execute_result"
    }
   ],
   "source": [
    "fps = pp.find_fixedpoints(DS, n=4, eps=1e-8)\n",
    "fps"
   ]
  },
  {
   "cell_type": "code",
   "execution_count": 9,
   "metadata": {
    "scrolled": false
   },
   "outputs": [
    {
     "name": "stdout",
     "output_type": "stream",
     "text": [
      "Neutral saddle found!\n",
      "\n",
      "\n",
      "Checking...\n",
      "  |q| = 1.000000\n",
      "  <p,q> = 1.000000\n",
      "  |Aq| = 0.000000\n",
      "  |transpose(A)p| = 0.000000\n",
      "\n",
      "LP Point found \n",
      "========================== \n",
      "0 : \n",
      "A  =  0.42325685315315825\n",
      "P  =  0.49418945769437567\n",
      "Y  =  0.07487980046001787\n",
      "m  =  2.0\n",
      "k5p  =  0.030631818510688053\n",
      "\n",
      "Eigenvalues = \n",
      "\n",
      "     (-3.262166,0.000000)\n",
      "     (-0.000000,0.000000)\n",
      "     (1.190667,0.000000)\n",
      "     (-0.100000,0.000000)\n",
      "\n",
      "\n",
      "a = 0.1897815445176204\n",
      "\n",
      "\n",
      "Checking...\n",
      "  |q| = 1.000000\n",
      "  <p,q> = 1.000000\n",
      "  |Aq| = 0.000000\n",
      "  |transpose(A)p| = 0.000001\n",
      "\n",
      "LP Point found \n",
      "========================== \n",
      "0 : \n",
      "A  =  0.2803176459936144\n",
      "P  =  0.8061908131345967\n",
      "Y  =  0.04727066210022481\n",
      "m  =  2.0\n",
      "k5p  =  0.02607846297252048\n",
      "\n",
      "Eigenvalues = \n",
      "\n",
      "     (-3.979172,0.000000)\n",
      "     (0.000000,0.000000)\n",
      "     (0.065326,0.000000)\n",
      "     (-0.100000,0.000000)\n",
      "\n",
      "\n",
      "a = 4.20609782177662\n",
      "\n",
      "B Point found \n",
      "========================== \n",
      "0 : \n",
      "A  =  0.41026470315076313\n",
      "P  =  0.9550179096429889\n",
      "Y  =  0.04020028143448387\n",
      "m  =  2.0\n",
      "k5p  =  0.03999999941772164\n",
      "\n",
      "B Point found \n",
      "========================== \n",
      "0 : \n",
      "A  =  0.7430643214299477\n",
      "P  =  0.264116786251532\n",
      "Y  =  0.13152841871384371\n",
      "m  =  2.0\n",
      "k5p  =  -4.711793687355904e-10\n",
      "\n"
     ]
    }
   ],
   "source": [
    "name1 = 'EQ1'\n",
    "PCargs = dst.args(name=name1)\n",
    "PCargs.type = 'EP-C'\n",
    "PCargs.initpoint = fps[2]\n",
    "PCargs.freepars = ['k5p']\n",
    "PCargs.StepSize = 1e-3\n",
    "PCargs.MaxNumPoints = 5000\n",
    "PCargs.MaxStepSize = 5e-3\n",
    "PCargs.MinStepSize = 1e-6\n",
    "PCargs.MaxTestIters = 20\n",
    "PCargs.LocBifPoints = 'all'\n",
    "PCargs.SaveEigen = True\n",
    "PCargs.StopAtPoints = ['B']\n",
    "PCargs.verbosity = 2\n",
    "\n",
    "PC.newCurve(PCargs)\n",
    "PC.curves[name1].backward()\n",
    "PC.curves[name1].forward()"
   ]
  },
  {
   "cell_type": "code",
   "execution_count": 10,
   "metadata": {
    "scrolled": false
   },
   "outputs": [
    {
     "name": "stdout",
     "output_type": "stream",
     "text": [
      "B Point found \n",
      "========================== \n",
      "0 : \n",
      "A  =  0.00019426821331178064\n",
      "P  =  2.6460568996415366\n",
      "Y  =  0.014891717299562098\n",
      "m  =  2.0\n",
      "k5p  =  -7.1106153670900636e-12\n",
      "\n",
      "Maximum test function iterations reached.\n",
      "\n",
      "Neutral saddle found!\n",
      "\n",
      "Neutral saddle found!\n",
      "\n",
      "\n",
      "Checking...\n",
      "  |q| = 1.000000\n",
      "  <p,q> = 1.000000\n",
      "  |Aq| = 0.000000\n",
      "  |transpose(A)p| = 0.000004\n",
      "\n",
      "LP Point found \n",
      "========================== \n",
      "0 : \n",
      "A  =  0.07661331695998193\n",
      "P  =  1.2629326875349751\n",
      "Y  =  0.030699974283150574\n",
      "m  =  2.0\n",
      "k5p  =  0.0073110191871714044\n",
      "\n",
      "Eigenvalues = \n",
      "\n",
      "     (-2.835345,0.000000)\n",
      "     (-0.039687,0.000000)\n",
      "     (-0.000000,0.000000)\n",
      "     (-0.100000,0.000000)\n",
      "\n",
      "\n",
      "a = 6.43066659482632\n",
      "\n",
      "Test function going crazy:  class Hopf_Bor(BorderMethod, BiAltMethod) \n",
      "\n",
      "B Point found \n",
      "========================== \n",
      "0 : \n",
      "A  =  0.006609306830907341\n",
      "P  =  1.0712910661422828\n",
      "Y  =  0.03599417040114912\n",
      "m  =  2.0\n",
      "k5p  =  -2.265097847256428e-10\n",
      "\n"
     ]
    }
   ],
   "source": [
    "name2 = 'EQ2'\n",
    "PCargs = dst.args(name=name2)\n",
    "PCargs.type = 'EP-C'\n",
    "PCargs.initpoint = fps[0]\n",
    "PCargs.freepars = ['k5p']\n",
    "PCargs.StepSize = 1e-3\n",
    "PCargs.MaxNumPoints = 5000\n",
    "PCargs.MaxStepSize = 5e-3\n",
    "PCargs.MinStepSize = 1e-6\n",
    "PCargs.MaxTestIters = 20\n",
    "PCargs.LocBifPoints = 'all'\n",
    "PCargs.SaveEigen = True\n",
    "PCargs.StopAtPoints = ['B']\n",
    "PCargs.verbosity = 2\n",
    "\n",
    "PC.newCurve(PCargs)\n",
    "PC.curves[name2].backward()\n",
    "PC.curves[name2].forward()"
   ]
  },
  {
   "cell_type": "markdown",
   "metadata": {},
   "source": [
    "Indeed there is a bifurcation point (`LP1`) at which a critical transition drives gen activation."
   ]
  },
  {
   "cell_type": "code",
   "execution_count": 11,
   "metadata": {},
   "outputs": [
    {
     "data": {
      "image/png": "[encoded data removed]",
      "text/plain": [
       "<Figure size 432x288 with 1 Axes>"
      ]
     },
     "metadata": {
      "needs_background": "light"
     },
     "output_type": "display_data"
    }
   ],
   "source": [
    "PC[name1].display(('k5p', 'Y'), stability=True, linewidth=3)\n",
    "PC[name2].display(('k5p', 'Y'), stability=True, linewidth=3)\n",
    "PC[name3].display(('k5p', 'Y_min'), stability=True, linewidth=3)\n",
    "PC[name3].display(('k5p', 'Y_max'), stability=True, linewidth=3)\n",
    "PC.plot.fig1.toggleAll('off', bytype=['P', 'B', 'MX', 'RG'])\n",
    "PC.plot.fig1.axes1.axes.set_xlabel('$k_{5p}$', fontsize=16)\n",
    "PC.plot.fig1.axes1.axes.set_xlim((0.0, 0.04))\n",
    "PC.plot.fig1.axes1.axes.set_ylabel('$Y$', fontsize=16)\n",
    "PC.plot.fig1.axes1.axes.set_ylim((0.0, 0.5))\n",
    "PC.plot.fig1.axes1.axes.set_title('')\n",
    "plt.savefig(figdir + 'ApplicationCellCycleExtendedlBifurcation.pdf', bbox_inches='tight')\n",
    "plt.show()"
   ]
  },
  {
   "cell_type": "code",
   "execution_count": null,
   "metadata": {},
   "outputs": [],
   "source": []
  }
 ],
 "metadata": {
  "@webio": {
   "lastCommId": null,
   "lastKernelId": null
  },
  "kernelspec": {
   "display_name": "Python 3",
   "language": "python",
   "name": "python3"
  },
  "language_info": {
   "codemirror_mode": {
    "name": "ipython",
    "version": 3
   },
   "file_extension": ".py",
   "mimetype": "text/x-python",
   "name": "python",
   "nbconvert_exporter": "python",
   "pygments_lexer": "ipython3",
   "version": "3.8.5"
  }
 },
 "nbformat": 4,
 "nbformat_minor": 2
}
