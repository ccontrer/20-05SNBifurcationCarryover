{
 "cells": [
  {
   "cell_type": "code",
   "execution_count": 1,
   "metadata": {},
   "outputs": [],
   "source": [
    "import numpy as np\n",
    "import PyDSTool as dst\n",
    "from PyDSTool.Toolbox import phaseplane as pp"
   ]
  },
  {
   "cell_type": "code",
   "execution_count": 2,
   "metadata": {},
   "outputs": [],
   "source": [
    "import matplotlib as mpl\n",
    "from matplotlib import pyplot as plt\n",
    "from IPython.display import display, Math"
   ]
  },
  {
   "cell_type": "code",
   "execution_count": 3,
   "metadata": {},
   "outputs": [],
   "source": [
    "mpl.rcParams['figure.figsize'] = [6, 4]\n",
    "mpl.rcParams['font.size'] = 16\n",
    "mpl.rcParams['lines.linewidth'] = 3\n",
    "mpl.rcParams['lines.markersize'] = 8"
   ]
  },
  {
   "cell_type": "code",
   "execution_count": 4,
   "metadata": {},
   "outputs": [],
   "source": [
    "figdir = './figures/'\n",
    "plt.rc('text', usetex=True)"
   ]
  },
  {
   "cell_type": "markdown",
   "metadata": {},
   "source": [
    "# Carryover of a saddle-node bifurcation\n",
    "# Application: cell cycle"
   ]
  },
  {
   "cell_type": "markdown",
   "metadata": {},
   "source": [
    "The cell cycle model is\n",
    "$$\n",
    "\\begin{aligned}\n",
    "    \\frac{dY}{dt} &= k_{1} - (k_{2p} + k_{2pp}P)Y, \\\\\n",
    "    \\frac{dP}{dt} &= \\frac{(k_{3p}+k_{3pp}A)(1-P)}{J_{3}+(1-P)} - k_{4}m\\frac{YP}{J_{4}+P}, \\\\\n",
    "    \\frac{dA}{dt} &= k_{5p} + k_{5pp}\\frac{(mY/J_{5})^{n}}{1+(mY/J_{5})^{n}} - k_{6}A,\n",
    "\\end{aligned}\n",
    "$$\n",
    "where $k_1, k_{2p}, k_{pp},k_{3p}, k_{3pp}, k_{4}, k_{5p}, k_{5pp}, k_{6}, J_{3}, J_{4}0$ are non-negative rate (add references here in markdown syntax: Segel2013, TysonNovak2011).\n"
   ]
  },
  {
   "cell_type": "markdown",
   "metadata": {},
   "source": [
    "## 2. Bifurcation diagram"
   ]
  },
  {
   "cell_type": "markdown",
   "metadata": {},
   "source": [
    "We can construct the bifurcation diagram using continuation and the `PyDSTool` library of python."
   ]
  },
  {
   "cell_type": "code",
   "execution_count": 5,
   "metadata": {},
   "outputs": [],
   "source": [
    "# dynamical system\n",
    "Ystr = 'k1 - (k2p + k2pp*P)*Y'\n",
    "Pstr = '(k3p + k3pp*A)*(1 - P)/(J3 + 1 - P) - k4*m*Y*P/(J4 + P)'\n",
    "Astr = 'k5p + k5pp*(m*Y/J5)**n/(1 + (m*Y/J5)**n) - k6*A'\n",
    "params = {'k1': 0.04,\n",
    "          'k2p':  0.04,\n",
    "          'k2pp':  1.0,\n",
    "          'k3p':  1.0,\n",
    "          'k3pp':  10.0,\n",
    "          'k4':  35.0,\n",
    "          'k5p':  0.005,\n",
    "          'k5pp':  0.2,\n",
    "          'k6':  0.1,\n",
    "          'J3':  0.04,\n",
    "          'J4':  0.04,\n",
    "          'J5':  0.3,\n",
    "          'm': 1.0,\n",
    "          'n': 4}\n",
    "ics = {'Y': 1.0, 'P': 0.5, 'A': 0.1}\n",
    "DSargs = dst.args(name='CellCycle')\n",
    "DSargs.pars = params\n",
    "DSargs.tdata = [0, 2]\n",
    "DSargs.pdomain = {'m': [0, 3.0], \n",
    "                  'k1': [0, 1.0], \n",
    "                  'k2p': [0, 10.0], \n",
    "                  'k3p': [0, 10.0], \n",
    "                  'k4': [0, 200.0], \n",
    "                  'k5p': [0, 1.0], \n",
    "                  'k5pp': [0, 10.0],\n",
    "                  'k6': [0, 10.0]}\n",
    "DSargs.xdomain = {'Y': [0, 5.0], 'P': [0, 10.0], 'A': [0, 10.0]}\n",
    "DSargs.varspecs = {'Y': Ystr, 'P': Pstr, 'A': Astr}\n",
    "DSargs.ics = ics\n",
    "DS = dst.Generator.Vode_ODEsystem(DSargs)"
   ]
  },
  {
   "cell_type": "code",
   "execution_count": 6,
   "metadata": {},
   "outputs": [
    {
     "data": {
      "text/plain": [
       "({'A': 0.5420835741849908, 'P': 0.1364100558653051, 'Y': 0.22674444381187284},)"
      ]
     },
     "execution_count": 6,
     "metadata": {},
     "output_type": "execute_result"
    }
   ],
   "source": [
    "fps = pp.find_fixedpoints(DS, n=4, eps=1e-8)\n",
    "fps"
   ]
  },
  {
   "cell_type": "code",
   "execution_count": 7,
   "metadata": {
    "scrolled": false
   },
   "outputs": [
    {
     "name": "stdout",
     "output_type": "stream",
     "text": [
      "Checking...\n",
      "  |q| = 1.000000\n",
      "  |<p,q> - 1| =  4.257526406079015e-17\n",
      "  |Aq - iwq| = 0.000000\n",
      "  |A*p + iwp| = 0.000000\n",
      "\n",
      "H Point found \n",
      "========================== \n",
      "0 : \n",
      "A  =  0.3736425987451033\n",
      "P  =  0.07504313963630788\n",
      "Y  =  0.34769565683320336\n",
      "m  =  0.5719351059325837\n",
      "\n",
      "Eigenvalues = \n",
      "\n",
      "     (-21.453999,0.000000)\n",
      "     (0.000000,0.196742)\n",
      "     (0.000000,-0.196742)\n",
      "\n",
      "\n",
      "w = 0.19674244598362955\n",
      "l1 = -19.039877810778545\n",
      "\n",
      "\n",
      "Checking...\n",
      "  |q| = 1.000000\n",
      "  <p,q> = 1.000000\n",
      "  |Aq| = 0.000000\n",
      "  |transpose(A)p| = 0.000000\n",
      "\n",
      "LP Point found \n",
      "========================== \n",
      "0 : \n",
      "A  =  0.058779063212419165\n",
      "P  =  0.05155301918939031\n",
      "Y  =  0.4369053074836819\n",
      "m  =  0.17693596365829767\n",
      "\n",
      "Eigenvalues = \n",
      "\n",
      "     (-13.094156,0.000000)\n",
      "     (-0.074183,0.000000)\n",
      "     (0.000000,0.000000)\n",
      "\n",
      "\n",
      "a = 0.3849696052345589\n",
      "\n",
      "Neutral saddle found!\n",
      "\n",
      "Neutral saddle found!\n",
      "\n",
      "\n",
      "Checking...\n",
      "  |q| = 1.000000\n",
      "  <p,q> = 1.000000\n",
      "  |Aq| = 0.000000\n",
      "  |transpose(A)p| = 0.000001\n",
      "\n",
      "LP Point found \n",
      "========================== \n",
      "0 : \n",
      "A  =  0.050443222706071635\n",
      "P  =  0.826881606788276\n",
      "Y  =  0.04614240247661576\n",
      "m  =  0.7933103435606997\n",
      "\n",
      "Eigenvalues = \n",
      "\n",
      "     (-2.266645,0.000000)\n",
      "     (-0.093355,0.000000)\n",
      "     (-0.000000,0.000000)\n",
      "\n",
      "\n",
      "a = 3.117239101149898\n",
      "\n",
      "Test function going crazy:  class Hopf_Bor(BorderMethod, BiAltMethod) \n",
      "\n",
      "B Point found \n",
      "========================== \n",
      "0 : \n",
      "A  =  0.049999999999999996\n",
      "P  =  0.9999999997961935\n",
      "Y  =  0.038461538469075685\n",
      "m  =  5.904565022895169e-09\n",
      "\n",
      "Test function going crazy:  class Hopf_Bor(BorderMethod, BiAltMethod) \n",
      "\n",
      "B Point found \n",
      "========================== \n",
      "0 : \n",
      "A  =  0.8006111257464358\n",
      "P  =  0.41433966138963824\n",
      "Y  =  0.08803985960119891\n",
      "m  =  2.999999996326462\n",
      "\n"
     ]
    }
   ],
   "source": [
    "# bifurcation diagram for s\n",
    "# first branch\n",
    "PC = dst.ContClass(DS)\n",
    "name1 = 'EQ1'\n",
    "PCargs = dst.args(name=name1)\n",
    "PCargs.type = 'EP-C'\n",
    "PCargs.initpoint = fps[0]\n",
    "PCargs.freepars = ['m']\n",
    "PCargs.StepSize = 1e-3\n",
    "PCargs.MaxNumPoints = 5000\n",
    "PCargs.MaxStepSize = 5e-3\n",
    "PCargs.MinStepSize = 1e-6\n",
    "PCargs.MaxTestIters = 20\n",
    "PCargs.LocBifPoints = 'all'\n",
    "PCargs.SaveEigen = True\n",
    "PCargs.StopAtPoints = ['B']\n",
    "PCargs.verbosity = 2\n",
    "\n",
    "PC.newCurve(PCargs)\n",
    "PC.curves[name1].backward()\n",
    "PC.curves[name1].forward()"
   ]
  },
  {
   "cell_type": "markdown",
   "metadata": {},
   "source": [
    "Indeed there is a bifurcation point (`LP1`) at which a critical transition drives gen activation."
   ]
  },
  {
   "cell_type": "code",
   "execution_count": 8,
   "metadata": {},
   "outputs": [
    {
     "data": {
      "image/png": "[encoded data removed]",
      "text/plain": [
       "<Figure size 432x288 with 1 Axes>"
      ]
     },
     "metadata": {
      "needs_background": "light"
     },
     "output_type": "display_data"
    }
   ],
   "source": [
    "PC[name1].display(('m', 'Y'), stability=True, linewidth=3)\n",
    "PC.plot.fig1.toggleAll('off', bytype=['P','B'])\n",
    "PC.plot.fig1.axes1.axes.set_xlabel('$m$', fontsize=16)\n",
    "PC.plot.fig1.axes1.axes.set_xlim((0.0, 1.2))\n",
    "PC.plot.fig1.axes1.axes.set_ylabel('$Y$', fontsize=16)\n",
    "# PC.plot.fig1.axes1.axes.set_ylim((0.0, 2.6))\n",
    "PC.plot.fig1.axes1.axes.set_title('')\n",
    "plt.savefig(figdir + 'ApplicationCellCycleBifurcation.pdf', bbox_inches='tight')\n",
    "plt.show()"
   ]
  },
  {
   "cell_type": "code",
   "execution_count": null,
   "metadata": {},
   "outputs": [],
   "source": []
  },
  {
   "cell_type": "code",
   "execution_count": 9,
   "metadata": {
    "scrolled": false
   },
   "outputs": [
    {
     "name": "stdout",
     "output_type": "stream",
     "text": [
      "\n",
      "Checking...\n",
      "  <b,c> = 0.000000\n",
      "\n",
      "\n",
      "BT Point found \n",
      "========================== \n",
      "0 : \n",
      "A  =  0.2325538056178963\n",
      "P  =  0.8146179274817276\n",
      "Y  =  0.04680454120342009\n",
      "m  =  1.751750643215675\n",
      "k5p  =  0.022145771753720137\n",
      "\n",
      "Eigenvalues = \n",
      "\n",
      "     (-3.730463,0.000000)\n",
      "     (0.000000,0.000001)\n",
      "     (0.000000,-0.000001)\n",
      "\n",
      "\n",
      "\n",
      "Checking...\n",
      "  |a| = -0.771225\n",
      "\n",
      "\n",
      "CP Point found \n",
      "========================== \n",
      "0 : \n",
      "A  =  0.41819840896413396\n",
      "P  =  0.7148374961288209\n",
      "Y  =  0.052991538185556145\n",
      "m  =  2.587376358641013\n",
      "k5p  =  0.03345874534144685\n",
      "\n",
      "Eigenvalues = \n",
      "\n",
      "     (-3.809747,0.000000)\n",
      "     (0.000000,0.000000)\n",
      "     (0.657573,0.000000)\n",
      "\n",
      "\n",
      "\n",
      "Checking...\n",
      "  <b,c> = 0.000000\n",
      "\n",
      "\n",
      "BT Point found \n",
      "========================== \n",
      "0 : \n",
      "A  =  0.15113584062318755\n",
      "P  =  0.07567556204749322\n",
      "Y  =  0.345794732197429\n",
      "m  =  0.3040251458343784\n",
      "k5p  =  0.012142220140117491\n",
      "\n",
      "Eigenvalues = \n",
      "\n",
      "     (-11.323193,0.000000)\n",
      "     (0.000000,0.000000)\n",
      "     (0.000000,-0.000000)\n",
      "\n",
      "\n",
      "B Point found \n",
      "========================== \n",
      "0 : \n",
      "A  =  -2.5413577040591595e-08\n",
      "P  =  0.043448907343684236\n",
      "Y  =  0.47933521568185483\n",
      "m  =  0.1098861370008808\n",
      "k5p  =  -0.00018987477119912055\n",
      "\n",
      "B Point found \n",
      "========================== \n",
      "0 : \n",
      "A  =  -4.5770572343789624e-10\n",
      "P  =  0.8276437655964812\n",
      "Y  =  0.046101869898760924\n",
      "m  =  0.5273189722247515\n",
      "k5p  =  -8.623752944005506e-06\n",
      "\n"
     ]
    }
   ],
   "source": [
    "# Two-parameter bifurcation\n",
    "namefold = 'FO1'\n",
    "PCargs = dst.args(name=namefold)\n",
    "PCargs.type = 'LP-C'\n",
    "PCargs.initpoint = 'EQ1:LP1'\n",
    "PCargs.freepars = ['m', 'k5p']\n",
    "PCargs.StepSize = 1e-2\n",
    "PCargs.MaxNumPoints = 2000\n",
    "PCargs.MaxStepSize = 5e-2\n",
    "PCargs.MinStepSize = 1e-4\n",
    "PCargs.SaveEigen = True\n",
    "PCargs.SaveJacobian = True\n",
    "PCargs.LocBifPoints = 'all'\n",
    "PCargs.StopAtPoints = ['B']\n",
    "PCargs.verbosity = 2\n",
    "PC.newCurve(PCargs)\n",
    "PC.curves[namefold].forward()\n",
    "PC.curves[namefold].backward()"
   ]
  },
  {
   "cell_type": "code",
   "execution_count": 10,
   "metadata": {},
   "outputs": [
    {
     "data": {
      "image/png": "[encoded data removed]",
      "text/plain": [
       "<Figure size 432x288 with 1 Axes>"
      ]
     },
     "metadata": {
      "needs_background": "light"
     },
     "output_type": "display_data"
    }
   ],
   "source": [
    "PC[namefold].display(('m', 'k5p'), stability=True, linewidth=3)\n",
    "PC.plot.fig1.toggleAll('off', bytype=['B', 'P', 'BT', 'ZH'])\n",
    "PC.plot.fig1.axes1.axes.set_xlim((0.0, 3.5))\n",
    "PC.plot.fig1.axes1.axes.set_xlabel('$m$', fontsize=16)\n",
    "# PC.plot.fig1.axes1.axes.set_ylim((0.0, 0.15))\n",
    "PC.plot.fig1.axes1.axes.set_ylabel('$k_{5p}$', fontsize=16)\n",
    "plt.axvline(x=2.0, lw=3, color='b')\n",
    "plt.axvline(x=3.0, lw=3, color='b')\n",
    "PC.plot.fig1.axes1.axes.set_title('')\n",
    "plt.savefig(figdir + 'ApplicationCellCycleTwoParBifurcation.pdf', bbox_inches='tight')\n",
    "plt.show()"
   ]
  },
  {
   "cell_type": "code",
   "execution_count": null,
   "metadata": {},
   "outputs": [],
   "source": []
  },
  {
   "cell_type": "code",
   "execution_count": null,
   "metadata": {},
   "outputs": [],
   "source": []
  },
  {
   "cell_type": "code",
   "execution_count": null,
   "metadata": {},
   "outputs": [],
   "source": []
  },
  {
   "cell_type": "markdown",
   "metadata": {},
   "source": [
    "## Carryover when $g$ depends on the other variables\n",
    "\n",
    "Use the first step as an example:\n",
    "$$\n",
    "\\begin{aligned}\n",
    "    \\frac{dY}{dt} &= k_{1} - (k_{2p} + k_{2pp}P)Y, \\\\\n",
    "    \\frac{dP}{dt} &= \\frac{(k_{3p}+k_{3pp}A)(1-P)}{J_{3}+(1-P)} - k_{4}m\\frac{YP}{J_{4}+P},\n",
    "\\end{aligned}\n",
    "$$\n",
    "where $A=0$ is constant, then transform\n",
    "$$\n",
    "    \\frac{dA}{dt} = k_{5p} + k_{5pp}\\frac{(mY/J_{5})^{n}}{1+(mY/J_{5})^{n}} - k_{6}A.\n",
    "$$\n",
    "Does this guarantee the existance of the SN bifurcation?"
   ]
  },
  {
   "cell_type": "code",
   "execution_count": null,
   "metadata": {},
   "outputs": [],
   "source": []
  },
  {
   "cell_type": "code",
   "execution_count": null,
   "metadata": {},
   "outputs": [],
   "source": []
  },
  {
   "cell_type": "code",
   "execution_count": 32,
   "metadata": {},
   "outputs": [],
   "source": [
    "# dynamical system\n",
    "Ystr = 'k1 - (k2p + k2pp*P)*Y'\n",
    "Pstr = '(k3p + k3pp*A)*(1 - P)/(J3 + 1 - P) - k4*m*Y*P/(J4 + P)'\n",
    "params = {'A': 0.0,\n",
    "          'k1': 0.04,\n",
    "          'k2p':  0.04,\n",
    "          'k2pp':  1.0,\n",
    "          'k3p':  1.0,\n",
    "          'k3pp':  10.0,\n",
    "          'k4':  35.0,\n",
    "          'J3':  0.04,\n",
    "          'J4':  0.04,\n",
    "          'm': 1.0}\n",
    "ics = {'Y': 1.0, 'P': 0.5}\n",
    "DSargs = dst.args(name='CellCycle')\n",
    "DSargs.pars = params\n",
    "DSargs.tdata = [0, 2]\n",
    "DSargs.pdomain = {'m': [0, 10.0], 'A': [0, 1.1],}\n",
    "DSargs.xdomain = {'Y': [0, 5.0], 'P': [0, 10.0]}\n",
    "DSargs.varspecs = {'Y': Ystr, 'P': Pstr}\n",
    "DSargs.ics = ics\n",
    "DS = dst.Generator.Vode_ODEsystem(DSargs)"
   ]
  },
  {
   "cell_type": "code",
   "execution_count": 33,
   "metadata": {},
   "outputs": [
    {
     "data": {
      "text/plain": [
       "({'P': 0.0011637197075304387, 'Y': 0.971729481305414},)"
      ]
     },
     "execution_count": 33,
     "metadata": {},
     "output_type": "execute_result"
    }
   ],
   "source": [
    "fps = pp.find_fixedpoints(DS, n=4, eps=1e-8)\n",
    "fps"
   ]
  },
  {
   "cell_type": "code",
   "execution_count": 34,
   "metadata": {},
   "outputs": [
    {
     "name": "stdout",
     "output_type": "stream",
     "text": [
      "B Point found \n",
      "========================== \n",
      "0 : \n",
      "P  =  0.00011049760840167589\n",
      "Y  =  0.997245169843554\n",
      "m  =  10.000000011595674\n",
      "\n",
      "\n",
      "Checking...\n",
      "  |q| = 1.000000\n",
      "  <p,q> = 1.000000\n",
      "  |Aq| = 0.000000\n",
      "  |transpose(A)p| = 0.000000\n",
      "\n",
      "LP Point found \n",
      "========================== \n",
      "0 : \n",
      "P  =  0.040134021344593686\n",
      "Y  =  0.49916376750882524\n",
      "m  =  0.10971397984842488\n",
      "\n",
      "Eigenvalues = \n",
      "\n",
      "     (-12.060003,0.000000)\n",
      "     (-0.000000,0.000000)\n",
      "\n",
      "\n",
      "a = 0.15638418577543914\n",
      "\n",
      "\n",
      "Checking...\n",
      "  |q| = 1.000000\n",
      "  <p,q> = 1.000000\n",
      "  |Aq| = 0.000000\n",
      "  |transpose(A)p| = 0.000002\n",
      "\n",
      "LP Point found \n",
      "========================== \n",
      "0 : \n",
      "P  =  0.827956452753923\n",
      "Y  =  0.04608526138965237\n",
      "m  =  0.5273193026839457\n",
      "\n",
      "Eigenvalues = \n",
      "\n",
      "     (-1.802749,0.000000)\n",
      "     (0.000000,0.000000)\n",
      "\n",
      "\n",
      "a = 2.484916156044039\n",
      "\n",
      "B Point found \n",
      "========================== \n",
      "0 : \n",
      "P  =  1.000000000285675\n",
      "Y  =  0.038461538450973554\n",
      "m  =  -5.517609444459165e-09\n",
      "\n"
     ]
    }
   ],
   "source": [
    "# bifurcation diagram for s\n",
    "# first branch\n",
    "PC = dst.ContClass(DS)\n",
    "name1 = 'EQ1'\n",
    "PCargs = dst.args(name=name1)\n",
    "PCargs.type = 'EP-C'\n",
    "PCargs.initpoint = fps[0]\n",
    "PCargs.freepars = ['m']\n",
    "PCargs.StepSize = 1e-3\n",
    "PCargs.MaxNumPoints = 5000\n",
    "PCargs.MaxStepSize = 5e-2\n",
    "PCargs.MinStepSize = 1e-6\n",
    "PCargs.MaxTestIters = 20\n",
    "PCargs.LocBifPoints = 'all'\n",
    "PCargs.SaveEigen = True\n",
    "PCargs.StopAtPoints = ['B']\n",
    "PCargs.verbosity = 2\n",
    "\n",
    "PC.newCurve(PCargs)\n",
    "PC.curves[name1].backward()\n",
    "PC.curves[name1].forward()"
   ]
  },
  {
   "cell_type": "markdown",
   "metadata": {},
   "source": [
    "Indeed there is a bifurcation point (`LP1`) at which a critical transition drives gen activation."
   ]
  },
  {
   "cell_type": "code",
   "execution_count": 36,
   "metadata": {},
   "outputs": [
    {
     "data": {
      "image/png": "[encoded data removed]",
      "text/plain": [
       "<Figure size 432x288 with 1 Axes>"
      ]
     },
     "metadata": {
      "needs_background": "light"
     },
     "output_type": "display_data"
    }
   ],
   "source": [
    "PC[name1].display(('m', 'Y'), stability=True, linewidth=3)\n",
    "PC.plot.fig1.toggleAll('off', bytype=['P','B'])\n",
    "PC.plot.fig1.axes1.axes.set_xlabel('$m$', fontsize=16)\n",
    "PC.plot.fig1.axes1.axes.set_xlim((0.0, 1.2))\n",
    "PC.plot.fig1.axes1.axes.set_ylabel('$Y$', fontsize=16)\n",
    "# PC.plot.fig1.axes1.axes.set_ylim((0.0, 2.6))\n",
    "PC.plot.fig1.axes1.axes.set_title('')\n",
    "plt.savefig(figdir + 'ApplicationCellCycleBifurcation.pdf', bbox_inches='tight')\n",
    "plt.show()"
   ]
  },
  {
   "cell_type": "code",
   "execution_count": null,
   "metadata": {},
   "outputs": [],
   "source": []
  },
  {
   "cell_type": "code",
   "execution_count": 37,
   "metadata": {
    "scrolled": false
   },
   "outputs": [
    {
     "name": "stdout",
     "output_type": "stream",
     "text": [
      "B Point found \n",
      "========================== \n",
      "0 : \n",
      "P  =  0.040134040974082665\n",
      "Y  =  0.49916364523457635\n",
      "m  =  1.3165677906776032\n",
      "A  =  1.1000000296193644\n",
      "\n"
     ]
    }
   ],
   "source": [
    "# Two-parameter bifurcation\n",
    "namefold1 = 'F01'\n",
    "PCargs = dst.args(name=namefold1)\n",
    "PCargs.type = 'LP-C'\n",
    "PCargs.initpoint = 'EQ1:LP1'\n",
    "PCargs.freepars = ['m', 'A']\n",
    "PCargs.StepSize = 1e-2\n",
    "PCargs.MaxNumPoints = 2000\n",
    "PCargs.MaxStepSize = 5e-2\n",
    "PCargs.MinStepSize = 1e-4\n",
    "PCargs.SaveEigen = True\n",
    "PCargs.SaveJacobian = True\n",
    "PCargs.LocBifPoints = 'all'\n",
    "PCargs.StopAtPoints = ['B']\n",
    "PCargs.verbosity = 2\n",
    "PC.newCurve(PCargs)\n",
    "PC.curves[namefold1].forward()\n",
    "# PC.curves[namefold1].backward()"
   ]
  },
  {
   "cell_type": "code",
   "execution_count": null,
   "metadata": {},
   "outputs": [],
   "source": []
  },
  {
   "cell_type": "code",
   "execution_count": 38,
   "metadata": {},
   "outputs": [
    {
     "data": {
      "image/png": "[encoded data removed]",
      "text/plain": [
       "<Figure size 432x288 with 1 Axes>"
      ]
     },
     "metadata": {
      "needs_background": "light"
     },
     "output_type": "display_data"
    }
   ],
   "source": [
    "PC[namefold1].display(('m', 'A'), stability=True, linewidth=3)\n",
    "# PC.plot.toggleLabels('off')\n",
    "# PC.plot.fig1.toggleAll('off', bytype=['P', 'BT', 'CP'])\n",
    "PC.plot.fig1.axes1.axes.set_xlim((0.0, 2.0))\n",
    "PC.plot.fig1.axes1.axes.set_xlabel('$m$', fontsize=16)\n",
    "# PC.plot.fig1.axes1.axes.set_ylim((0.0, 0.15))\n",
    "PC.plot.fig1.axes1.axes.set_ylabel('$k_{*}$', fontsize=16)\n",
    "PC.plot.fig1.axes1.axes.set_title('')\n",
    "# plt.savefig(dir + 'ApplicationCellCyleTwoParBifurcation.pdf', bbox_inches='tight')\n",
    "plt.show()"
   ]
  },
  {
   "cell_type": "code",
   "execution_count": 40,
   "metadata": {},
   "outputs": [
    {
     "data": {
      "image/png": "[encoded data removed]",
      "text/plain": [
       "<Figure size 432x288 with 1 Axes>"
      ]
     },
     "metadata": {
      "needs_background": "light"
     },
     "output_type": "display_data"
    }
   ],
   "source": [
    "PC[namefold1].display(('m', 'Y'), stability=True, linewidth=3)"
   ]
  },
  {
   "cell_type": "code",
   "execution_count": 39,
   "metadata": {},
   "outputs": [
    {
     "data": {
      "image/png": "[encoded data removed]",
      "text/plain": [
       "<Figure size 432x288 with 1 Axes>"
      ]
     },
     "metadata": {
      "needs_background": "light"
     },
     "output_type": "display_data"
    }
   ],
   "source": [
    "PC[namefold1].display(('A', 'Y'), stability=True, linewidth=3)"
   ]
  },
  {
   "cell_type": "code",
   "execution_count": 58,
   "metadata": {},
   "outputs": [
    {
     "data": {
      "text/plain": [
       "array([0.        , 0.00673631, 0.01481989, 0.02452018, 0.03616053,\n",
       "       0.05012894, 0.06689104, 0.08700556, 0.11114299, 0.1401079 ,\n",
       "       0.17378946, 0.20747102, 0.24115259, 0.27483415, 0.30851571,\n",
       "       0.34219727, 0.37587883, 0.40956039, 0.44324195, 0.47692352,\n",
       "       0.51060508, 0.54428664, 0.5779682 , 0.61164976, 0.64533132,\n",
       "       0.67901289, 0.71269445, 0.74637601, 0.78005757, 0.81373913,\n",
       "       0.84742069, 0.88110225, 0.91478382, 0.94846538, 0.98214694,\n",
       "       1.0158285 , 1.04951006, 1.08319162, 1.10000003])"
      ]
     },
     "execution_count": 58,
     "metadata": {},
     "output_type": "execute_result"
    }
   ],
   "source": [
    "PC[namefold1].sol['A']"
   ]
  },
  {
   "cell_type": "code",
   "execution_count": 59,
   "metadata": {},
   "outputs": [
    {
     "data": {
      "text/plain": [
       "{'curvetype': 'LP-C',\n",
       " '_ptlabel': 'LP',\n",
       " 'model': Non-Hybrid Model CellCycle,\n",
       " 'gensys': Generator CellCycle,\n",
       " '_autoMod': None,\n",
       " 'UseAuto': False,\n",
       " 'description': 'None',\n",
       " 'parsdict': {'A': 1.0999990296193645,\n",
       "  'k1': 0.04,\n",
       "  'k2p': 0.04,\n",
       "  'k2pp': 1.0,\n",
       "  'k3p': 1.0,\n",
       "  'k3pp': 10.0,\n",
       "  'k4': 35.0,\n",
       "  'J3': 0.04,\n",
       "  'J4': 0.04,\n",
       "  'm': 1.3165677906776032},\n",
       " 'freepars': ['m', 'A'],\n",
       " 'auxpars': [],\n",
       " 'varslist': ['P', 'Y'],\n",
       " 'varsindices': array([0, 1]),\n",
       " 'parsindices': array([9, 0]),\n",
       " 'varsdim': 2,\n",
       " 'freeparsdim': 2,\n",
       " 'auxparsdim': 0,\n",
       " 'dim': 4,\n",
       " 'sysfunc': <PyDSTool.PyCont.TestFunc.Function at 0x7f4e86d10fd0>,\n",
       " 'coords': [0, 1],\n",
       " 'params': [2, 3],\n",
       " 'allvars': [0, 1, 2, 3],\n",
       " 'initpoint': array([0.04013402, 0.49916377, 0.10971398, 0.        ]),\n",
       " 'initdirec': None,\n",
       " 'initcycle': None,\n",
       " 'SPOut': None,\n",
       " 'NumSPOut': 300,\n",
       " 'preTF': None,\n",
       " 'MaxNumPoints': 2000,\n",
       " 'MaxCorrIters': 5,\n",
       " 'MaxTestIters': 10,\n",
       " 'MaxStepSize': 0.05,\n",
       " 'MinStepSize': 0.0001,\n",
       " 'StepSize': 0.05,\n",
       " 'VarTol': 1e-06,\n",
       " 'FuncTol': 1e-06,\n",
       " 'TestTol': 0.0001,\n",
       " 'ClosedCurve': 50,\n",
       " 'verbosity': 2,\n",
       " 'sol': Pointset F01 (non-parameterized)\n",
       " Coordinates:\n",
       " A:  [0.         0.00673631, ..., 1.08319162 1.10000003]\n",
       " P:  [0.04013402 0.04013404, ..., 0.04013404 0.04013404]\n",
       " Y:  [0.49916377 0.49916365, ..., 0.49916365 0.49916365]\n",
       " m:  [0.10971398 0.11710466, ..., 1.29812662 1.31656779]\n",
       " Labels by index:  0: {LP: {keys=data,domain,stab}}, {P: {keys=data,plot,name}},\n",
       "                   1: {LP: {keys=data,domain,stab}},\n",
       "                   2: {LP: {keys=data,domain,stab}},\n",
       "                   .\n",
       "                   .\n",
       "                   .\n",
       "                   36: {LP: {keys=data,domain,stab}},\n",
       "                   37: {LP: {keys=data,domain,stab}},\n",
       "                   38: {LP: {keys=data,domain,stab}}, {B: {keys=data,plot,name}}, {P: {keys=data,startx,plot,name}},\n",
       " 'new_sol_segment': Pointset <no name> (non-parameterized)\n",
       " Coordinates:\n",
       " A:  [0.         0.00673631, ..., 1.08319162 1.10000003]\n",
       " P:  [0.04013402 0.04013404, ..., 0.04013404 0.04013404]\n",
       " Y:  [0.49916377 0.49916365, ..., 0.49916365 0.49916365]\n",
       " m:  [0.10971398 0.11710466, ..., 1.29812662 1.31656779]\n",
       " Labels by index:  0: {LP: {keys=data,domain,stab}}, {P: {keys=data,plot,name}},\n",
       "                   1: {LP: {keys=data,domain,stab}},\n",
       "                   2: {LP: {keys=data,domain,stab}},\n",
       "                   .\n",
       "                   .\n",
       "                   .\n",
       "                   36: {LP: {keys=data,domain,stab}},\n",
       "                   37: {LP: {keys=data,domain,stab}},\n",
       "                   38: {LP: {keys=data,domain,stab}}, {B: {keys=data,plot,name}}, {P: {keys=data,startx,plot,name}},\n",
       " 'LocBifPoints': ['B', 'SP', 'BT', 'ZH', 'CP'],\n",
       " 'StopAtPoints': ['B'],\n",
       " 'TestFuncs': [<PyDSTool.PyCont.TestFunc.B_Check at 0x7f4e86fdafd0>,\n",
       "  <PyDSTool.PyCont.TestFunc.BT_Fold at 0x7f4e86fc3100>,\n",
       "  <PyDSTool.PyCont.TestFunc.Hopf_Bor at 0x7f4e86fc3c70>,\n",
       "  <PyDSTool.PyCont.TestFunc.BT_Fold at 0x7f4eb23fea60>,\n",
       "  <PyDSTool.PyCont.TestFunc.Hopf_Bor at 0x7f4e9bfcd8e0>,\n",
       "  <PyDSTool.PyCont.TestFunc.CP_Fold at 0x7f4e9c4f6430>],\n",
       " 'BifPoints': {'B': <PyDSTool.PyCont.BifPoint.BPoint at 0x7f4e86fda550>,\n",
       "  'BT': <PyDSTool.PyCont.BifPoint.BTPoint at 0x7f4e86db6e50>,\n",
       "  'ZH': <PyDSTool.PyCont.BifPoint.ZHPoint at 0x7f4e87082f70>,\n",
       "  'CP': <PyDSTool.PyCont.BifPoint.CPPoint at 0x7f4e9c4f65e0>},\n",
       " 'CurveInfo':  0: {LP: {keys=data,domain,stab}}, {P: {keys=data,plot,name}},\n",
       "  1: {LP: {keys=data,domain,stab}},\n",
       "  2: {LP: {keys=data,domain,stab}},\n",
       "  .\n",
       "  .\n",
       "  .\n",
       "  36: {LP: {keys=data,domain,stab}},\n",
       "  37: {LP: {keys=data,domain,stab}},\n",
       "  38: {LP: {keys=data,domain,stab}}, {B: {keys=data,plot,name}}, {P: {keys=data,startx,plot,name}},\n",
       " 'SaveJacobian': True,\n",
       " 'SaveEigen': True,\n",
       " 'Corrector': <bound method Continuation._MoorePenrose of PyCont curve F01 (type LP-C)>,\n",
       " 'name': 'F01',\n",
       " 'fig': None,\n",
       " 'text_handles': [],\n",
       " 'plot': fig1:\n",
       "     axes1:\n",
       "         F01:\n",
       "             Type: LP\n",
       "             B1:\n",
       "                 Label: B1\n",
       "             P1:\n",
       "                 Label: P1\n",
       "             P2:\n",
       "                 Label: P2,\n",
       " '_statuscodes': {0: 'Unrecognized error encountered (check stderr output).  Stopping continuation...',\n",
       "  -1: 'Do over.'},\n",
       " 'CorrFunc': <PyDSTool.PyCont.TestFunc.AddTestFunction at 0x7f4e86d10d30>,\n",
       " 'V': array([[ 4.21885321e-05, -2.62797077e-04,  7.39067606e-01,\n",
       "          6.73631207e-01],\n",
       "        [ 3.95226747e-05, -2.46191033e-04,  7.39067609e-01,\n",
       "          6.73631210e-01],\n",
       "        [ 3.67401721e-05, -2.28858522e-04,  7.39067613e-01,\n",
       "          6.73631212e-01],\n",
       "        ...,\n",
       "        [ 0.00000000e+00,  0.00000000e+00,  0.00000000e+00,\n",
       "          0.00000000e+00],\n",
       "        [ 0.00000000e+00,  0.00000000e+00,  0.00000000e+00,\n",
       "          0.00000000e+00],\n",
       "        [ 0.00000000e+00,  0.00000000e+00,  0.00000000e+00,\n",
       "          0.00000000e+00]]),\n",
       " 'curve': array([[0.04013402, 0.49916377, 0.10971398, 0.        ],\n",
       "        [0.04013404, 0.49916365, 0.11710466, 0.00673631],\n",
       "        [0.04013404, 0.49916365, 0.12597347, 0.01481989],\n",
       "        ...,\n",
       "        [0.        , 0.        , 0.        , 0.        ],\n",
       "        [0.        , 0.        , 0.        , 0.        ],\n",
       "        [0.        , 0.        , 0.        , 0.        ]]),\n",
       " 'loc': 38}"
      ]
     },
     "execution_count": 59,
     "metadata": {},
     "output_type": "execute_result"
    }
   ],
   "source": [
    "vars(PC[namefold1])"
   ]
  },
  {
   "cell_type": "markdown",
   "metadata": {},
   "source": [
    "What is the solution to \n",
    "$$\n",
    "    \\frac{dA}{dt} = 0 = k_{5p} + k_{5pp}\\frac{(mY/J_{5})^{n}}{1+(mY/J_{5})^{n}} - k_{6}A,\n",
    "$$\n",
    "in the $mAY$-space? "
   ]
  },
  {
   "cell_type": "code",
   "execution_count": null,
   "metadata": {},
   "outputs": [],
   "source": []
  },
  {
   "cell_type": "code",
   "execution_count": null,
   "metadata": {},
   "outputs": [],
   "source": []
  },
  {
   "cell_type": "code",
   "execution_count": 60,
   "metadata": {},
   "outputs": [
    {
     "data": {
      "image/png": "[encoded data removed]",
      "text/plain": [
       "<Figure size 432x288 with 1 Axes>"
      ]
     },
     "metadata": {
      "needs_background": "light"
     },
     "output_type": "display_data"
    }
   ],
   "source": [
    "fig = plt.figure()\n",
    "ax = fig.gca(projection='3d')\n",
    "\n",
    "# Prepare arrays x, y, z\n",
    "x = PC[namefold1].sol['m']\n",
    "y = PC[namefold1].sol['A']\n",
    "z = PC[namefold1].sol['Y']\n",
    "\n",
    "ax.plot(x, y, z)\n",
    "\n",
    "plt.show()"
   ]
  },
  {
   "cell_type": "code",
   "execution_count": 62,
   "metadata": {},
   "outputs": [
    {
     "data": {
      "text/plain": [
       "-1.3877787807814457e-17"
      ]
     },
     "execution_count": 62,
     "metadata": {},
     "output_type": "execute_result"
    }
   ],
   "source": [
    "Y=0.22674444381187284\n",
    "A = 0.5420835741849908\n",
    "k5p = 0.005\n",
    "k5pp = 0.2\n",
    "k6 = 0.1\n",
    "J5 = 0.3\n",
    "m = 1.0\n",
    "n = 4\n",
    "k5p + k5pp*(m*Y/J5)**n/(1 + (m*Y/J5)**n) - k6*A"
   ]
  },
  {
   "cell_type": "code",
   "execution_count": null,
   "metadata": {},
   "outputs": [],
   "source": []
  },
  {
   "cell_type": "code",
   "execution_count": null,
   "metadata": {},
   "outputs": [],
   "source": []
  }
 ],
 "metadata": {
  "@webio": {
   "lastCommId": null,
   "lastKernelId": null
  },
  "kernelspec": {
   "display_name": "Python 3",
   "language": "python",
   "name": "python3"
  },
  "language_info": {
   "codemirror_mode": {
    "name": "ipython",
    "version": 3
   },
   "file_extension": ".py",
   "mimetype": "text/x-python",
   "name": "python",
   "nbconvert_exporter": "python",
   "pygments_lexer": "ipython3",
   "version": "3.8.5"
  }
 },
 "nbformat": 4,
 "nbformat_minor": 2
}
