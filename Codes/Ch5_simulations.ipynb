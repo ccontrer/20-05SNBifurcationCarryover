{
 "cells": [
  {
   "cell_type": "markdown",
   "metadata": {},
   "source": [
    "# PhD Thesis\n",
    "# Chapter 5"
   ]
  },
  {
   "cell_type": "markdown",
   "metadata": {},
   "source": []
  },
  {
   "cell_type": "markdown",
   "metadata": {},
   "source": []
  },
  {
   "cell_type": "code",
   "execution_count": 3,
   "metadata": {},
   "outputs": [],
   "source": [
    "from PyDSTool import *\n",
    "from PyDSTool.Toolbox import phaseplane as pp\n",
    "from matplotlib import pyplot as plt\n",
    "from IPython.display import display, Math"
   ]
  },
  {
   "cell_type": "code",
   "execution_count": 4,
   "metadata": {},
   "outputs": [],
   "source": [
    "dir = './figures/chapter5/'\n",
    "plt.rc('text', usetex=True)"
   ]
  },
  {
   "cell_type": "code",
   "execution_count": null,
   "metadata": {},
   "outputs": [],
   "source": []
  },
  {
   "cell_type": "code",
   "execution_count": null,
   "metadata": {},
   "outputs": [],
   "source": []
  },
  {
   "cell_type": "code",
   "execution_count": null,
   "metadata": {},
   "outputs": [],
   "source": []
  },
  {
   "cell_type": "markdown",
   "metadata": {},
   "source": [
    "# 5.1 Introduction: \n",
    "# G2 module with variable mass and M module"
   ]
  },
  {
   "cell_type": "code",
   "execution_count": 3,
   "metadata": {},
   "outputs": [],
   "source": [
    "# Parameter values and initial conditions\n",
    "params = {'k_m0': 0.2, 'k_m1': 0.4, 'k_m1a': 20.0, 'k_m2': 0.4, 'k_m2a': 50.0, 'k_m3': 0.2, 'k_m3a': 6.35,\n",
    "    'V_w1': 1.0, 'k_w2': 5.3, 'J_w1': 0.01, 'J_w2': 0.01,\n",
    "    'k_c1': 8.5, 'V_c2': 3.8, 'J_c1': 0.01, 'J_c2': 0.01,\n",
    "    'k_i1': 1.7, 'V_i2': 0.4, 'J_i1': 0.001, 'J_i2': 0.001,\n",
    "    'k_a1': 6.8, 'V_a2': 1.7, 'J_a1': 0.001, 'J_a2': 0.001,\n",
    "    'alpha': 0.05, 'Wee1_T': 1.0, 'Cdc25_T': 1.0, 'IE_T':1.0, 'APC_T':1.0, 'theta_M': 0.2,\n",
    "    'mu': 0.07, 'K_Mass': 2.7}"
   ]
  },
  {
   "cell_type": "code",
   "execution_count": 4,
   "metadata": {},
   "outputs": [],
   "source": [
    "# Model\n",
    "MPFstr = 'k_m0*Mass - (k_m2 + k_m2a*Wee1)*MPF + (k_m1 + k_m1a*Cdc25_P)*MPF_P - (k_m3 + k_m3a*APC)*MPF'\n",
    "MPF_Pstr = '(k_m2 + k_m2a*Wee1)*MPF - (k_m1 + k_m1a*Cdc25_P)*MPF_P - (k_m3 + k_m3a*APC)*MPF_P'\n",
    "Wee1str = 'V_w1*(Wee1_T - Wee1)/(J_w1 + Wee1_T - Wee1) - k_w2*(MPF + MPF_P*alpha)*Wee1/(J_w2 + Wee1)'\n",
    "Cdc25_Pstr = 'k_c1*(MPF + MPF_P*alpha)*(Cdc25_T - Cdc25_P)/(J_c1 + Cdc25_T - Cdc25_P) - V_c2*Cdc25_P/(J_c2 + Cdc25_P)'\n",
    "IEstr = 'k_i1*(MPF + MPF_P*alpha)*(IE_T - IE)/(J_i1 + IE_T - IE) - V_i2*IE/(J_i2 + IE)'\n",
    "APCstr = 'k_a1*IE*(APC_T - APC)/(J_a1 + APC_T - APC) - V_a2*APC/(J_a2 + APC)'\n",
    "Massstr = 'mu*Mass*(1 - Mass/K_Mass)'"
   ]
  },
  {
   "cell_type": "code",
   "execution_count": 5,
   "metadata": {},
   "outputs": [],
   "source": [
    "DSargs = args(name='G2module')\n",
    "DSargs.pars = params\n",
    "DSargs.tdata = [0, 200]\n",
    "DSargs.pdomain = {'V_c2': [0, 6.0]}\n",
    "DSargs.xdomain = {'MPF': [0, 100], 'MPF_P': [0, 100], 'Wee1': [0, 1], 'Cdc25_P': [0, 1], 'IE': [0, 1], 'APC': [0, 1], 'Mass': [0, 10]}\n",
    "DSargs.varspecs = {'MPF': MPFstr, 'MPF_P': MPF_Pstr, 'Wee1': Wee1str, 'Cdc25_P': Cdc25_Pstr, 'IE': IEstr, 'APC':APCstr, 'Mass': Massstr}"
   ]
  },
  {
   "cell_type": "code",
   "execution_count": 6,
   "metadata": {},
   "outputs": [],
   "source": [
    "DS = Generator.Vode_ODEsystem(DSargs)"
   ]
  },
  {
   "cell_type": "code",
   "execution_count": 7,
   "metadata": {},
   "outputs": [
    {
     "data": {
      "text/plain": [
       "({'APC': 0.12746822316440304,\n",
       "  'Cdc25_P': 0.010818110645843869,\n",
       "  'IE': 0.24833828569655556,\n",
       "  'MPF': 0.21885712782079617,\n",
       "  'MPF_P': 0.31610184129319296,\n",
       "  'Mass': 2.7000000056521811,\n",
       "  'Wee1': 0.038963401834132758},\n",
       " {'APC': 0.0,\n",
       "  'Cdc25_P': 0.0,\n",
       "  'IE': 0.0,\n",
       "  'MPF': 0.0,\n",
       "  'MPF_P': 0.0,\n",
       "  'Mass': 0.0,\n",
       "  'Wee1': 1.0},\n",
       " {'APC': 1.4407431548385317e-05,\n",
       "  'Cdc25_P': 0.0068652104503040077,\n",
       "  'IE': 0.0035542521522878559,\n",
       "  'MPF': 0.051447807853367805,\n",
       "  'MPF_P': 2.647317679792621,\n",
       "  'Mass': 2.7000000000051401,\n",
       "  'Wee1': 0.75087418529935546},\n",
       " {'APC': 1.2081310240837133e-05,\n",
       "  'Cdc25_P': 0.0064144002379019297,\n",
       "  'IE': 0.0029872579343419615,\n",
       "  'MPF': 0.043695979489002362,\n",
       "  'MPF_P': 2.6552687473029097,\n",
       "  'Mass': 2.7000000000005047,\n",
       "  'Wee1': 0.87720916712260588})"
      ]
     },
     "execution_count": 7,
     "metadata": {},
     "output_type": "execute_result"
    }
   ],
   "source": [
    "fps = pp.find_fixedpoints(DS, n=2, eps=1e-8)\n",
    "fps"
   ]
  },
  {
   "cell_type": "markdown",
   "metadata": {},
   "source": [
    "Four steady states found: the trivial, the saddle,  the stable node, and one where both Wee1 and Cdc25 are inactive.\n",
    "We follow the steady states starting from the stable node."
   ]
  },
  {
   "cell_type": "code",
   "execution_count": 8,
   "metadata": {},
   "outputs": [
    {
     "name": "stdout",
     "output_type": "stream",
     "text": [
      "B Point found \n",
      "========================== \n",
      "0 : \n",
      "MPF  =  0.0384024845622\n",
      "Cdc25_P  =  0.00316578676891\n",
      "V_c2  =  6.00000001728\n",
      "Mass  =  2.7\n",
      "MPF_P  =  2.66067167461\n",
      "APC  =  1.08038310263e-05\n",
      "Wee1  =  0.911236316167\n",
      "IE  =  0.00267476107681\n",
      "\n",
      "Maximum test function iterations reached.\n",
      "\n",
      "Neutral saddle found!\n",
      "\n",
      "\n",
      "Checking...\n",
      "  |q| = 1.000000\n",
      "  <p,q> = 1.000000\n",
      "  |Aq| = 0.000000\n",
      "  |transpose(A)p| = 0.000000\n",
      "\n",
      "LP Point found \n",
      "========================== \n",
      "0 : \n",
      "MPF  =  0.048044371204\n",
      "Cdc25_P  =  0.00778503034255\n",
      "V_c2  =  3.47168339841\n",
      "Mass  =  2.7\n",
      "MPF_P  =  2.65081526109\n",
      "APC  =  1.33082479095e-05\n",
      "Wee1  =  0.825998516241\n",
      "IE  =  0.0032866495368\n",
      "\n",
      "Eigenvalues = \n",
      "\n",
      "     (-1655.641090,0.000000)\n",
      "     (-115.576536,0.000000)\n",
      "     (-0.000000,0.000000)\n",
      "     (-0.199879,0.000000)\n",
      "     (-36.960788,0.000000)\n",
      "     (-21.768177,0.000000)\n",
      "     (-0.070000,0.000000)\n",
      "\n",
      "\n",
      "a = 1.9720272893213502\n",
      "\n",
      "Neutral saddle found!\n",
      "\n",
      "Test function going crazy:  class Hopf_Bor(BorderMethod, BiAltMethod) \n",
      "\n",
      "B Point found \n",
      "========================== \n",
      "0 : \n",
      "MPF  =  0.0540606487689\n",
      "Cdc25_P  =  0.00353713522197\n",
      "V_c2  =  6.0000000043\n",
      "Mass  =  2.7\n",
      "MPF_P  =  2.64462404357\n",
      "APC  =  1.5350816318e-05\n",
      "Wee1  =  0.648344352291\n",
      "IE  =  0.00378346260303\n",
      "\n"
     ]
    }
   ],
   "source": [
    "PC = ContClass(DS)\n",
    "\n",
    "name1 = 'EQ1'\n",
    "PCargs = args(name=name1)\n",
    "PCargs.type = 'EP-C'\n",
    "PCargs.initpoint = {'APC': 1.2081310240837133e-05,\n",
    "                    'Cdc25_P': 0.0064144002379019297,\n",
    "                    'IE': 0.0029872579343419615,\n",
    "                    'MPF': 0.043695979489002362,\n",
    "                    'MPF_P': 2.6552687473029097,\n",
    "                    'Mass': 2.7000000000005047,\n",
    "                    'Wee1': 0.87720916712260588}\n",
    "PCargs.freepars = ['V_c2']\n",
    "PCargs.StepSize = 1e-3\n",
    "PCargs.MaxNumPoints = 800\n",
    "PCargs.MaxStepSize = 5e-2\n",
    "PCargs.MinStepSize = 1e-6\n",
    "PCargs.MaxTestIters = 20\n",
    "PCargs.LocBifPoints = 'all'\n",
    "PCargs.SaveEigen = True\n",
    "PCargs.StopAtPoints = ['B']\n",
    "PCargs.verbosity = 2\n",
    "\n",
    "PC.newCurve(PCargs)\n",
    "PC.curves[name1].backward()\n",
    "PC.curves[name1].forward()"
   ]
  },
  {
   "cell_type": "code",
   "execution_count": 9,
   "metadata": {},
   "outputs": [
    {
     "name": "stdout",
     "output_type": "stream",
     "text": [
      "B Point found \n",
      "========================== \n",
      "0 : \n",
      "MPF  =  0.217044584308\n",
      "Cdc25_P  =  0.00490601007542\n",
      "V_c2  =  6.0000000173\n",
      "Mass  =  2.7\n",
      "MPF_P  =  0.352339196313\n",
      "APC  =  0.117857278239\n",
      "Wee1  =  0.0389639501085\n",
      "IE  =  0.248177653485\n",
      "\n",
      "B Point found \n",
      "========================== \n",
      "0 : \n",
      "MPF  =  0.233448802918\n",
      "Cdc25_P  =  1.0\n",
      "V_c2  =  -8.69554505465e-10\n",
      "Mass  =  2.7\n",
      "MPF_P  =  0.0243673008178\n",
      "APC  =  0.298349004273\n",
      "Wee1  =  0.0389593877192\n",
      "IE  =  0.249519966649\n",
      "\n"
     ]
    }
   ],
   "source": [
    "name2 = 'EQ2'\n",
    "PCargs = args(name=name2)\n",
    "PCargs.type = 'EP-C'\n",
    "PCargs.initpoint = {'APC': 0.12746822316440304,\n",
    "                    'Cdc25_P': 0.010818110645843869,\n",
    "                    'IE': 0.24833828569655556,\n",
    "                    'MPF': 0.21885712782079617,\n",
    "                    'MPF_P': 0.31610184129319296,\n",
    "                    'Mass': 2.7000000056521811,\n",
    "                    'Wee1': 0.038963401834132758}\n",
    "PCargs.freepars = ['V_c2']\n",
    "PCargs.StepSize = 1e-3\n",
    "PCargs.MaxNumPoints = 800\n",
    "PCargs.MaxStepSize = 5e-2\n",
    "PCargs.MinStepSize = 1e-6\n",
    "PCargs.MaxTestIters = 20\n",
    "PCargs.LocBifPoints = 'all'\n",
    "PCargs.SaveEigen = True\n",
    "PCargs.StopAtPoints = ['B']\n",
    "PCargs.verbosity = 2\n",
    "\n",
    "PC.newCurve(PCargs)\n",
    "PC.curves[name2].backward()\n",
    "PC.curves[name2].forward()"
   ]
  },
  {
   "cell_type": "code",
   "execution_count": 12,
   "metadata": {},
   "outputs": [],
   "source": [
    "# Save PC for later use\n",
    "PC_SNICVC2 = PC;"
   ]
  },
  {
   "cell_type": "code",
   "execution_count": 13,
   "metadata": {},
   "outputs": [
    {
     "data": {
      "image/png": "[encoded data removed]",
      "text/plain": [
       "<matplotlib.figure.Figure at 0x7f457160b310>"
      ]
     },
     "metadata": {
      "needs_background": "light"
     },
     "output_type": "display_data"
    }
   ],
   "source": [
    "PC[name1].display(('V_c2', 'MPF'), stability=True, linewidth=3)\n",
    "PC[name2].display(('V_c2', 'MPF'), stability=True, linewidth=3)\n",
    "PC.plot.toggleLabels('off')\n",
    "PC.plot.fig1.toggleAll('off', bytype=['P','B'])\n",
    "PC.plot.fig1.axes1.axes.set_yscale('log')\n",
    "PC.plot.fig1.axes1.axes.set_xlim((0, 6))\n",
    "PC.plot.fig1.axes1.axes.set_xlabel(r'$V_{c2}$', fontsize=16)\n",
    "PC.plot.fig1.axes1.axes.set_ylim((1e-4, 10))\n",
    "PC.plot.fig1.axes1.axes.set_ylabel('MPF', fontsize=16)\n",
    "PC.plot.fig1.axes1.axes.set_title('')\n",
    "plt.savefig(dir + 'G2MModulesMassBifurcationVc2MPF.pdf', bbox_inches='tight')"
   ]
  },
  {
   "cell_type": "code",
   "execution_count": 14,
   "metadata": {},
   "outputs": [
    {
     "data": {
      "text/plain": [
       "<matplotlib.text.Text at 0x7f456d5aa050>"
      ]
     },
     "execution_count": 14,
     "metadata": {},
     "output_type": "execute_result"
    },
    {
     "data": {
      "image/png": "[encoded data removed]",
      "text/plain": [
       "<matplotlib.figure.Figure at 0x7f457160b2d0>"
      ]
     },
     "metadata": {
      "needs_background": "light"
     },
     "output_type": "display_data"
    }
   ],
   "source": [
    "PC[name1].display(('V_c2', 'APC'), stability=True, linewidth=3)\n",
    "PC[name2].display(('V_c2', 'APC'), stability=True, linewidth=3)\n",
    "PC.plot.fig1.toggleAll('off', bytype=['P','B'])\n",
    "PC.plot.fig1.axes1.axes.set_yscale('log')\n",
    "PC.plot.fig1.axes1.axes.set_xlim((0, 6))\n",
    "PC.plot.fig1.axes1.axes.set_xlabel(r'$V_{c2}$', fontsize=16)\n",
    "PC.plot.fig1.axes1.axes.set_ylim((1e-7, 1))\n",
    "PC.plot.fig1.axes1.axes.set_ylabel('APC', fontsize=16)\n",
    "PC.plot.fig1.axes1.axes.set_title('')"
   ]
  },
  {
   "cell_type": "markdown",
   "metadata": {},
   "source": [
    "# Section 5.2\n",
    "# G2 module: saddle-node bifurcation driven by cell mass"
   ]
  },
  {
   "cell_type": "markdown",
   "metadata": {},
   "source": [
    "Chosing APC as constant equal its value at the SNIC$_{V_{c2}}$."
   ]
  },
  {
   "cell_type": "code",
   "execution_count": 15,
   "metadata": {},
   "outputs": [],
   "source": [
    "# Parameter values and initial conditions\n",
    "params = {'k_m0': 0.2, 'k_m1': 0.4, 'k_m1a': 20.0, 'k_m2': 0.4, 'k_m2a': 50.0, 'k_m3': 0.2, 'k_m3a': 6.35,\n",
    "    'V_w1': 1.0, 'k_w2': 5.3, 'J_w1': 0.01, 'J_w2': 0.01,\n",
    "    'k_c1': 8.5, 'V_c2': 1.4, 'J_c1': 0.01, 'J_c2': 0.01,\n",
    "    'APC': 1.33082479095e-05, 'alpha': 0.05, 'Wee1_T': 1.0, 'Cdc25_T': 1.0, 'theta_M': 0.2, 'Mass': 0.5}"
   ]
  },
  {
   "cell_type": "code",
   "execution_count": 16,
   "metadata": {},
   "outputs": [],
   "source": [
    "# Model\n",
    "MPFstr = 'k_m0*Mass - (k_m2 + k_m2a*Wee1)*MPF + (k_m1 + k_m1a*Cdc25_P)*MPF_P - (k_m3 + k_m3a*APC)*MPF'\n",
    "MPF_Pstr = '(k_m2 + k_m2a*Wee1)*MPF - (k_m1 + k_m1a*Cdc25_P)*MPF_P - (k_m3 + k_m3a*APC)*MPF_P'\n",
    "Wee1str = 'V_w1*(Wee1_T - Wee1)/(J_w1 + Wee1_T - Wee1) - k_w2*(MPF + alpha*MPF_P)*Wee1/(J_w2 + Wee1)'\n",
    "Cdc25_Pstr = 'k_c1*(MPF + alpha*MPF_P)*(Cdc25_T - Cdc25_P)/(J_c1 + Cdc25_T - Cdc25_P) - V_c2*Cdc25_P/(J_c2 + Cdc25_P)'"
   ]
  },
  {
   "cell_type": "code",
   "execution_count": 17,
   "metadata": {},
   "outputs": [],
   "source": [
    "DSargs = args(name='G2module')\n",
    "DSargs.pars = params\n",
    "DSargs.tdata = [0, 20]\n",
    "DSargs.pdomain = {'Mass': [0.01, 4.0], 'V_c2': [0, 6.0]}\n",
    "DSargs.xdomain = {'MPF': [0, 4], 'MPF_P': [0, 4], 'Wee1': [0, 1], 'Cdc25_P': [0, 1]}\n",
    "DSargs.varspecs = {'MPF': MPFstr, 'MPF_P': MPF_Pstr, 'Wee1': Wee1str, 'Cdc25_P': Cdc25_Pstr}\n",
    "DS = Generator.Vode_ODEsystem(DSargs)"
   ]
  },
  {
   "cell_type": "markdown",
   "metadata": {},
   "source": [
    "The system has three fixed points"
   ]
  },
  {
   "cell_type": "code",
   "execution_count": 18,
   "metadata": {},
   "outputs": [
    {
     "data": {
      "text/plain": [
       "({'Cdc25_P': 0.0022910377399485218,\n",
       "  'MPF': 0.0063360988415248247,\n",
       "  'MPF_P': 0.49345272195391215,\n",
       "  'Wee1': 0.9980566216389779},\n",
       " {'Cdc25_P': 0.92212460938880569,\n",
       "  'MPF': 0.1672341829647318,\n",
       "  'MPF_P': 0.33255463783070344,\n",
       "  'Wee1': 0.74934483033946364},\n",
       " {'Cdc25_P': 0.99491575880810912,\n",
       "  'MPF': 0.48295522554003739,\n",
       "  'MPF_P': 0.016833595255399642,\n",
       "  'Wee1': 0.0062895964453626692})"
      ]
     },
     "execution_count": 18,
     "metadata": {},
     "output_type": "execute_result"
    }
   ],
   "source": [
    "fps = pp.find_fixedpoints(DS, n=4, eps=1e-8)\n",
    "fps"
   ]
  },
  {
   "cell_type": "markdown",
   "metadata": {},
   "source": [
    "Lower stable node, saddle node, and upper stable node."
   ]
  },
  {
   "cell_type": "markdown",
   "metadata": {},
   "source": [
    "### Bifurcation diagrams\n",
    "Start from the lower stable node."
   ]
  },
  {
   "cell_type": "code",
   "execution_count": 19,
   "metadata": {},
   "outputs": [
    {
     "name": "stdout",
     "output_type": "stream",
     "text": [
      "B Point found \n",
      "========================== \n",
      "0 : \n",
      "MPF  =  2.69639743139e-11\n",
      "Cdc25_P  =  8.42766693452e-12\n",
      "Wee1  =  0.999999999993\n",
      "Mass  =  2.29258714276e-09\n",
      "MPF_P  =  2.26465487499e-09\n",
      "\n",
      "Test function going crazy:  class Hopf_Bor(BorderMethod, BiAltMethod) \n",
      "\n",
      "\n",
      "Checking...\n",
      "  |q| = 1.000000\n",
      "  <p,q> = 1.000000\n",
      "  |Aq| = 0.000005\n",
      "  |transpose(A)p| = 0.000031\n",
      "\n",
      "LP Point found \n",
      "========================== \n",
      "0 : \n",
      "MPF  =  0.0486059402404\n",
      "Cdc25_P  =  0.0404950521925\n",
      "Wee1  =  0.976645391887\n",
      "Mass  =  1.74651045588\n",
      "MPF_P  =  1.69716686226\n",
      "\n",
      "Eigenvalues = \n",
      "\n",
      "     (-56.244604,0.000000)\n",
      "     (-8.896248,0.000000)\n",
      "     (0.000005,0.000000)\n",
      "     (-0.200085,0.000000)\n",
      "\n",
      "\n",
      "a = 67.545038154023644\n",
      "\n",
      "Neutral saddle found!\n",
      "\n",
      "Neutral saddle found!\n",
      "\n",
      "Test function going crazy:  class Hopf_Bor(BorderMethod, BiAltMethod) \n",
      "\n",
      "Neutral saddle found!\n",
      "\n",
      "\n",
      "Checking...\n",
      "  |q| = 1.000000\n",
      "  <p,q> = 1.000000\n",
      "  |Aq| = 0.000009\n",
      "  |transpose(A)p| = 0.000275\n",
      "\n",
      "LP Point found \n",
      "========================== \n",
      "0 : \n",
      "MPF  =  0.213178438876\n",
      "Cdc25_P  =  0.968720989633\n",
      "Wee1  =  0.0655929006742\n",
      "Mass  =  0.252556219538\n",
      "MPF_P  =  0.039271111419\n",
      "\n",
      "Eigenvalues = \n",
      "\n",
      "     (-25.918412,0.000000)\n",
      "     (-10.489119,0.000000)\n",
      "     (-0.000009,0.000000)\n",
      "     (-0.200085,0.000000)\n",
      "\n",
      "\n",
      "a = 20.203152792012148\n",
      "\n",
      "Test function going crazy:  class Hopf_Bor(BorderMethod, BiAltMethod) \n",
      "\n",
      "B Point found \n",
      "========================== \n",
      "0 : \n",
      "MPF  =  3.9174536619\n",
      "Cdc25_P  =  0.999566109322\n",
      "Wee1  =  0.000500203212076\n",
      "Mass  =  4.00000001002\n",
      "MPF_P  =  0.0808569144769\n",
      "\n"
     ]
    }
   ],
   "source": [
    "icdict = {'MPF': 0.0063360988415248247,\n",
    "          'MPF_P': 0.49345272195391215,\n",
    "          'Wee1': 0.9980566216389779,\n",
    "          'Cdc25_P': 0.0022910377399485218}\n",
    "DSargs.ics=icdict\n",
    "DS = Generator.Vode_ODEsystem(DSargs)\n",
    "PC = ContClass(DS)\n",
    "\n",
    "name1 = 'EQ1'\n",
    "PCargs = args(name=name1)\n",
    "PCargs.type = 'EP-C'\n",
    "PCargs.freepars = ['Mass']\n",
    "PCargs.StepSize = 1e-3\n",
    "PCargs.MaxNumPoints = 800\n",
    "PCargs.MaxStepSize = 5e-2\n",
    "PCargs.MinStepSize = 1e-6\n",
    "PCargs.MaxTestIters = 20\n",
    "PCargs.LocBifPoints = 'all'\n",
    "PCargs.SaveEigen = True\n",
    "PCargs.StopAtPoints = ['B']\n",
    "PCargs.verbosity = 2\n",
    "\n",
    "PC.newCurve(PCargs)\n",
    "PC.curves[name1].backward()\n",
    "PC.curves[name1].forward()"
   ]
  },
  {
   "cell_type": "markdown",
   "metadata": {},
   "source": [
    "#### Plots"
   ]
  },
  {
   "cell_type": "code",
   "execution_count": 20,
   "metadata": {},
   "outputs": [
    {
     "data": {
      "image/png": "[encoded data removed]",
      "text/plain": [
       "<matplotlib.figure.Figure at 0x7f456d638e10>"
      ]
     },
     "metadata": {
      "needs_background": "light"
     },
     "output_type": "display_data"
    }
   ],
   "source": [
    "PC['EQ1'].display(('Mass', 'MPF'), stability=True, linewidth=3)\n",
    "PC.plot.toggleLabels('off')\n",
    "PC.plot.fig1.toggleAll('off', bytype=['P','B'])\n",
    "PC.plot.fig1.axes1.axes.set_yscale('log')\n",
    "PC.plot.fig1.axes1.axes.set_xlim((0, 3))\n",
    "PC.plot.fig1.axes1.axes.set_xlabel('Mass', fontsize=16)\n",
    "PC.plot.fig1.axes1.axes.set_ylim((1e-4, 10))\n",
    "PC.plot.fig1.axes1.axes.set_ylabel('MPF', fontsize=16)\n",
    "PC.plot.fig1.axes1.axes.set_title('')\n",
    "plt.savefig(dir + 'G2ModuleBifurcationMassMPF.pdf', bbox_inches='tight')"
   ]
  },
  {
   "cell_type": "code",
   "execution_count": 21,
   "metadata": {},
   "outputs": [
    {
     "data": {
      "image/png": "[encoded data removed]",
      "text/plain": [
       "<matplotlib.figure.Figure at 0x7f456d579c90>"
      ]
     },
     "metadata": {
      "needs_background": "light"
     },
     "output_type": "display_data"
    }
   ],
   "source": [
    "PC['EQ1'].display(('Mass', 'Wee1'), stability=True, linewidth=3)\n",
    "PC.plot.toggleLabels('off')\n",
    "PC.plot.fig1.toggleAll('off', bytype=['P','B'])\n",
    "PC.plot.fig1.axes1.axes.set_xlim((0, 3))\n",
    "PC.plot.fig1.axes1.axes.set_xlabel('Mass', fontsize=16)\n",
    "PC.plot.fig1.axes1.axes.set_ylim((-0.05, 1.05))\n",
    "PC.plot.fig1.axes1.axes.set_ylabel('MPF', fontsize=16)\n",
    "PC.plot.fig1.axes1.axes.set_title('')\n",
    "plt.savefig(dir + 'G2ModuleBifurcationMassWee1.pdf', bbox_inches='tight')"
   ]
  },
  {
   "cell_type": "code",
   "execution_count": 22,
   "metadata": {},
   "outputs": [
    {
     "data": {
      "image/png": "[encoded data removed]",
      "text/plain": [
       "<matplotlib.figure.Figure at 0x7f456c5ccc10>"
      ]
     },
     "metadata": {
      "needs_background": "light"
     },
     "output_type": "display_data"
    }
   ],
   "source": [
    "PC['EQ1'].display(('Mass', 'Cdc25_P'), stability=True, linewidth=3)\n",
    "PC.plot.toggleLabels('off')\n",
    "PC.plot.fig1.toggleAll('off', bytype=['P','B'])\n",
    "PC.plot.fig1.axes1.axes.set_xlim((0, 3))\n",
    "PC.plot.fig1.axes1.axes.set_xlabel('Mass', fontsize=16)\n",
    "PC.plot.fig1.axes1.axes.set_ylim((-0.05, 1.05))\n",
    "PC.plot.fig1.axes1.axes.set_ylabel('$Cdc25_{P}$', fontsize=16)\n",
    "PC.plot.fig1.axes1.axes.set_title('')\n",
    "plt.savefig(dir + 'G2ModuleBifurcationMassCdc25.pdf', bbox_inches='tight')"
   ]
  },
  {
   "cell_type": "code",
   "execution_count": null,
   "metadata": {},
   "outputs": [],
   "source": []
  },
  {
   "cell_type": "code",
   "execution_count": null,
   "metadata": {},
   "outputs": [],
   "source": []
  },
  {
   "cell_type": "markdown",
   "metadata": {},
   "source": [
    "#### Verify results"
   ]
  },
  {
   "cell_type": "code",
   "execution_count": 27,
   "metadata": {},
   "outputs": [],
   "source": [
    "def eval_params_nondim(PC):\n",
    "    point = PC.curves['EQ1'].getSpecialPoint('LP1')\n",
    "    params = PC.model.pars\n",
    "    k_m = point['MPF'] + params['alpha']*point['MPF_P']\n",
    "    a = (params['k_m2'] + params['k_m2a']*point['Wee1'])/params['k_m3']\n",
    "    b = (params['k_m1'] + params['k_m1a']*point['Cdc25_P'])/params['k_m3']\n",
    "    c = params['k_m2a']*point['MPF']*params['Wee1_T']/params['k_m3']\n",
    "    d = params['k_m1a']*point['MPF_P']*params['Cdc25_T']/params['k_m3']\n",
    "    kappa_w = params['k_m2a']*params['Wee1_T']/params['k_m3']\n",
    "    kappa_u = params['k_m1a']*params['Cdc25_T']/params['k_m3']\n",
    "    beta_w = params['V_w1']/(params['Wee1_T']*params['k_m3'])\n",
    "    gamma_w = params['k_w2']/(params['Wee1_T']*params['k_m3'])\n",
    "    wstar = point['Wee1']/params['Wee1_T']\n",
    "    gamma_u = params['k_c1']/(params['Cdc25_T']*params['k_m3'])\n",
    "    beta_u = params['V_c2']/(params['Cdc25_T']*params['k_m3'])\n",
    "    ustar = point['Cdc25_P']/params['Cdc25_T']\n",
    "    epsilon1 = params['J_w1']/params['Wee1_T']\n",
    "    epsilon2 = params['J_w2']/params['Wee1_T']\n",
    "    epsilon3 = params['J_c1']/params['Cdc25_T']\n",
    "    epsilon4 = params['J_c2']/params['Cdc25_T']\n",
    "    A = 1 + a + b   \n",
    "    B0 = beta_w*(1-wstar)/(epsilon1 + 1 - wstar) - gamma_w*k_m*wstar/(epsilon2 + wstar)\n",
    "    B = beta_w*epsilon1/(epsilon1 + 1 - wstar)**2 + gamma_w*k_m*epsilon2/(epsilon2 + wstar)**2\n",
    "    B2 = -beta_w*epsilon1/(epsilon1 + 1 - wstar)**3 + gamma_w*k_m*epsilon2/(epsilon2 + wstar)**3\n",
    "    C0 = gamma_u*k_m*(1-ustar)/(epsilon3 + 1 - ustar) - beta_u*ustar/(epsilon4 + ustar)\n",
    "    C = gamma_u*k_m*epsilon3/(epsilon3 + 1 - ustar)**2 + beta_u*epsilon4/(epsilon4 + ustar)**2\n",
    "    C2 = gamma_u*k_m*epsilon3/(epsilon3 + 1 - ustar)**3 + beta_u*epsilon4/(epsilon4 + ustar)**3\n",
    "    D = gamma_w*wstar/(epsilon2 + wstar)\n",
    "    D2 = gamma_w*wstar/(epsilon2 + wstar)**2\n",
    "    E = gamma_u*(1 - ustar)/(epsilon3 + 1 - ustar)\n",
    "    E2 = gamma_u*(1 - ustar)/(epsilon3 + 1 - ustar)**2\n",
    "    F = (A + B + C)**2 - 4*(A*B + B*C + C*A) + 4*(1 - params['alpha'])*(c*D + d*E)\n",
    "    GH = (1 - params['alpha'])*C*D/(B**2*C**2 - (1 - params['alpha'])*(c*C**2*D - d*B**2*E))\n",
    "    G = GH*C*D\n",
    "    H = GH*B*E\n",
    "    sigma0 = (B*C - c*C*G - d*B*H)*((kappa_w*B*C - (1-params['alpha'])*c*C*D2)*G - (kappa_u*B*C - (1-params['alpha'])*d*B*E2)*H) + c*C*B2*G**2 - b*B*C2*H**2\n",
    "    return {'a': a, 'b': b, 'c': c, 'd': d,\n",
    "            'A': A, 'B0': B0, 'B': B, 'C0': C0, 'C':C,\n",
    "            'D': D, 'E': E, 'F': F, 'sigma0': sigma0}"
   ]
  },
  {
   "cell_type": "code",
   "execution_count": 28,
   "metadata": {},
   "outputs": [
    {
     "data": {
      "text/latex": [
       "$$ABC = 313361.443257$$"
      ],
      "text/plain": [
       "<IPython.core.display.Math object>"
      ]
     },
     "metadata": {},
     "output_type": "display_data"
    },
    {
     "data": {
      "text/latex": [
       "$$(1-\\alpha)(cCD + dBE) = 313362.290642$$"
      ],
      "text/plain": [
       "<IPython.core.display.Math object>"
      ]
     },
     "metadata": {},
     "output_type": "display_data"
    },
    {
     "data": {
      "text/latex": [
       "$$\\lambda_{+} = -8.89623205742$$"
      ],
      "text/plain": [
       "<IPython.core.display.Math object>"
      ]
     },
     "metadata": {},
     "output_type": "display_data"
    },
    {
     "data": {
      "text/latex": [
       "$$\\lambda_{-} = -56.2445306796$$"
      ],
      "text/plain": [
       "<IPython.core.display.Math object>"
      ]
     },
     "metadata": {},
     "output_type": "display_data"
    },
    {
     "data": {
      "text/latex": [
       "$$\\sigma_{0} = 14974232.787$$"
      ],
      "text/plain": [
       "<IPython.core.display.Math object>"
      ]
     },
     "metadata": {},
     "output_type": "display_data"
    }
   ],
   "source": [
    "out = eval_params_nondim(PC)\n",
    "display(Math(r'ABC = ' + str(out['A']*out['B']*out['C'])))\n",
    "display(Math(r'(1-\\alpha)(cCD + dBE) = ' + str((1-params['alpha'])*(out['c']*out['C']*out['D'] + out['d']*out['B']*out['E']))))\n",
    "display(Math(r'\\lambda_{+} = ' + str((-(out['A'] + out['B'] + out['C']) + sqrt(out['F']))/2*params['k_m3'])))\n",
    "display(Math(r'\\lambda_{-} = ' + str((-(out['A'] + out['B'] + out['C']) - sqrt(out['F']))/2*params['k_m3'])))\n",
    "display(Math(r'\\sigma_{0} = ' + str(out['sigma0'])))"
   ]
  },
  {
   "cell_type": "code",
   "execution_count": null,
   "metadata": {},
   "outputs": [],
   "source": [
    "   "
   ]
  },
  {
   "cell_type": "markdown",
   "metadata": {},
   "source": [
    "## Section 5.3 \n",
    "## G2 module with variable cell mass: saddle-node bifurcation driven by $V_{c2}$"
   ]
  },
  {
   "cell_type": "markdown",
   "metadata": {},
   "source": [
    "**Two bifurcation diagram**\n",
    "\n",
    "Right saddle-node"
   ]
  },
  {
   "cell_type": "code",
   "execution_count": 29,
   "metadata": {},
   "outputs": [
    {
     "name": "stdout",
     "output_type": "stream",
     "text": [
      "\n",
      "Checking...\n",
      "  |a| = -10721.800544\n",
      "\n",
      "\n",
      "CP Point found \n",
      "========================== \n",
      "0 : \n",
      "MPF  =  -3.34799816278e-10\n",
      "Cdc25_P  =  0.0415696698333\n",
      "Mass  =  -1.21276769871e-08\n",
      "MPF_P  =  -1.17877549445e-08\n",
      "Wee1  =  1.00000000005\n",
      "V_c2  =  -9.64470587071e-09\n",
      "\n",
      "Eigenvalues = \n",
      "\n",
      "     (0.000000,0.000000)\n",
      "     (-51.831478,0.000000)\n",
      "     (-100.000002,0.000000)\n",
      "     (-0.200085,0.000000)\n",
      "\n",
      "\n",
      "Maximum test function iterations reached.\n",
      "\n",
      "\n",
      "Checking...\n",
      "  |a| = -10721.775572\n",
      "\n",
      "\n",
      "CP Point found \n",
      "========================== \n",
      "0 : \n",
      "MPF  =  5.93302253802e-59\n",
      "Cdc25_P  =  5.23771293949\n",
      "Mass  =  8.77527765618e-59\n",
      "MPF_P  =  2.83827220227e-59\n",
      "Wee1  =  1.0\n",
      "V_c2  =  5.18579238327e-58\n",
      "\n",
      "Eigenvalues = \n",
      "\n",
      "     (-0.000000,0.000000)\n",
      "     (-155.754343,0.000000)\n",
      "     (-100.000001,0.000000)\n",
      "     (-0.200085,0.000000)\n",
      "\n",
      "\n",
      "Maximum test function iterations reached.\n",
      "\n",
      "\n",
      "Checking...\n",
      "  |a| = -10721.774833\n",
      "\n",
      "\n",
      "CP Point found \n",
      "========================== \n",
      "0 : \n",
      "MPF  =  -9.77661544233e-88\n",
      "Cdc25_P  =  7.22892387699\n",
      "Mass  =  -1.31762513567e-87\n",
      "MPF_P  =  -3.39403767817e-88\n",
      "Wee1  =  1.0\n",
      "V_c2  =  -8.47967849215e-87\n",
      "\n",
      "Eigenvalues = \n",
      "\n",
      "     (0.000000,0.000000)\n",
      "     (-195.578562,0.000000)\n",
      "     (-100.000001,0.000000)\n",
      "     (-0.200085,0.000000)\n",
      "\n",
      "\n",
      "Maximum test function iterations reached.\n",
      "\n",
      "\n",
      "Checking...\n",
      "  |a| = -10721.774756\n",
      "\n",
      "\n",
      "CP Point found \n",
      "========================== \n",
      "0 : \n",
      "MPF  =  1.31809750709e-142\n",
      "Cdc25_P  =  7.64005668949\n",
      "Mass  =  1.75185780339e-142\n",
      "MPF_P  =  4.33061204667e-143\n",
      "Wee1  =  1.0\n",
      "V_c2  =  1.14199836432e-141\n",
      "\n",
      "Eigenvalues = \n",
      "\n",
      "     (-0.000000,0.000000)\n",
      "     (-203.801218,0.000000)\n",
      "     (-100.000001,0.000000)\n",
      "     (-0.200085,0.000000)\n",
      "\n",
      "\n",
      "Maximum test function iterations reached.\n",
      "\n",
      "\n",
      "Checking...\n",
      "  |a| = -10721.774637\n",
      "\n",
      "\n",
      "CP Point found \n",
      "========================== \n",
      "0 : \n",
      "MPF  =  -1.97876445287e-188\n",
      "Cdc25_P  =  8.48673637699\n",
      "Mass  =  -2.56507105644e-188\n",
      "MPF_P  =  -5.85492551877e-189\n",
      "Wee1  =  1.0\n",
      "V_c2  =  -1.71112966815e-187\n",
      "\n",
      "Eigenvalues = \n",
      "\n",
      "     (0.000000,0.000000)\n",
      "     (-220.734812,0.000000)\n",
      "     (-100.000001,0.000000)\n",
      "     (-0.200085,0.000000)\n",
      "\n",
      "\n",
      "Test function going crazy:  class Hopf_Bor(BorderMethod, BiAltMethod) \n",
      "\n",
      "ZH Point found \n",
      "========================== \n",
      "0 : \n",
      "MPF  =  0.0598051364275\n",
      "Cdc25_P  =  0.0345228635741\n",
      "Mass  =  2.22487943309\n",
      "MPF_P  =  2.16413460012\n",
      "Wee1  =  0.926002088569\n",
      "V_c2  =  1.82288830253\n",
      "\n",
      "Eigenvalues = \n",
      "\n",
      "     (-55.705221,0.000000)\n",
      "     (-2.923793,0.000000)\n",
      "     (0.000000,0.000000)\n",
      "     (-0.200085,0.000000)\n",
      "\n",
      "\n",
      "B Point found \n",
      "========================== \n",
      "0 : \n",
      "MPF  =  0.0444951492462\n",
      "Cdc25_P  =  0.00340926229038\n",
      "Mass  =  2.78115012852\n",
      "MPF_P  =  2.73548033713\n",
      "Wee1  =  0.813680026114\n",
      "V_c2  =  5.99999999842\n",
      "\n"
     ]
    }
   ],
   "source": [
    "# Two-parameter bifurcation\n",
    "namefold1 = 'FO1'\n",
    "PCargs = args(name=namefold1)\n",
    "PCargs.type = 'LP-C'\n",
    "PCargs.initpoint = 'EQ1:LP1'\n",
    "PCargs.freepars = ['Mass', 'V_c2']\n",
    "PCargs.StepSize = 1e-1\n",
    "PCargs.MaxNumPoints = 100\n",
    "PCargs.MaxStepSize = 1e-0\n",
    "PCargs.MinStepSize = 1e-4\n",
    "PCargs.SaveEigen = True\n",
    "PCargs.SaveJacobian = True\n",
    "PCargs.LocBifPoints = 'all'\n",
    "PCargs.StopAtPoints = ['B']\n",
    "PCargs.verbosity = 2\n",
    "PC.newCurve(PCargs)\n",
    "\n",
    "PC.curves[namefold1].forward()\n",
    "PC.curves[namefold1].backward()"
   ]
  },
  {
   "cell_type": "markdown",
   "metadata": {},
   "source": [
    "Left saddle-node"
   ]
  },
  {
   "cell_type": "code",
   "execution_count": 30,
   "metadata": {},
   "outputs": [
    {
     "name": "stdout",
     "output_type": "stream",
     "text": [
      "B Point found \n",
      "========================== \n",
      "0 : \n",
      "MPF  =  0.21245877106\n",
      "Cdc25_P  =  1.0000000002\n",
      "Mass  =  0.251413566268\n",
      "MPF_P  =  0.0388486085739\n",
      "Wee1  =  0.0673355218784\n",
      "V_c2  =  -3.74781976975e-08\n",
      "\n",
      "B Point found \n",
      "========================== \n",
      "0 : \n",
      "MPF  =  0.706654754108\n",
      "Cdc25_P  =  0.545595394013\n",
      "Mass  =  0.742513466579\n",
      "MPF_P  =  0.0355451056642\n",
      "Wee1  =  0.00358118539345\n",
      "V_c2  =  5.99999998678\n",
      "\n"
     ]
    }
   ],
   "source": [
    "# Two-parameter bifurcation\n",
    "namefold2 = 'FO2'\n",
    "PCargs = args(name=namefold2)\n",
    "PCargs.type = 'LP-C'\n",
    "PCargs.initpoint = 'EQ1:LP2'\n",
    "PCargs.freepars = ['Mass', 'V_c2']\n",
    "PCargs.StepSize = 1e-1\n",
    "PCargs.MaxNumPoints = 100\n",
    "PCargs.MaxStepSize = 1e-0\n",
    "PCargs.MinStepSize = 1e-4\n",
    "PCargs.SaveEigen = True\n",
    "PCargs.SaveJacobian = True\n",
    "PCargs.LocBifPoints = 'all'\n",
    "PCargs.StopAtPoints = ['B']\n",
    "PCargs.verbosity = 2\n",
    "PC.newCurve(PCargs)\n",
    "\n",
    "PC.curves[namefold2].forward()\n",
    "PC.curves[namefold2].backward()"
   ]
  },
  {
   "cell_type": "code",
   "execution_count": 31,
   "metadata": {},
   "outputs": [
    {
     "data": {
      "image/png": "[encoded data removed]",
      "text/plain": [
       "<matplotlib.figure.Figure at 0x7f456dd6ab90>"
      ]
     },
     "metadata": {
      "needs_background": "light"
     },
     "output_type": "display_data"
    }
   ],
   "source": [
    "PC[namefold1].display(('Mass', 'V_c2'), stability=True, linewidth=3)\n",
    "PC[namefold2].display(('Mass', 'V_c2'), stability=True, linewidth=3)\n",
    "PC.plot.fig1.toggleAll('off', bytype=['P','B','ZH','CP'])\n",
    "PC.plot.fig1.axes1.axes.set_xlim((0, 4))\n",
    "PC.plot.fig1.axes1.axes.set_xlabel('Mass', fontsize=16)\n",
    "PC.plot.fig1.axes1.axes.set_ylim((0, 6))\n",
    "PC.plot.fig1.axes1.axes.set_ylabel(r'$V_{c2}$', fontsize=16)\n",
    "PC.plot.fig1.axes1.axes.set_title('')\n",
    "plt.savefig(dir + 'G2ModuleBifurcationTwoPars.pdf', bbox_inches='tight')"
   ]
  },
  {
   "cell_type": "markdown",
   "metadata": {},
   "source": [
    "#### Now, we find the saddle node bifurcation for the extended G2 module\n",
    "Changing $V_{c2}$ to 3.8 in order to be able to follow the steady states."
   ]
  },
  {
   "cell_type": "code",
   "execution_count": 32,
   "metadata": {},
   "outputs": [],
   "source": [
    "# Parameter values\n",
    "params = {'k_m0': 0.2, 'k_m1': 0.4, 'k_m1a': 20.0, 'k_m2': 0.4, 'k_m2a': 50.0, 'k_m3': 0.2, 'k_m3a': 6.35,\n",
    "    'APC': 1.22080e-05, 'IE': 0.002981,\n",
    "    'V_w1': 1.0, 'k_w2': 5.3, 'J_w1': 0.01, 'J_w2': 0.01,\n",
    "    'k_c1': 8.5, 'V_c2': 3.8, 'J_c1': 0.01, 'J_c2': 0.01,\n",
    "    'alpha': 0.05, 'Wee1_T': 1.0, 'Cdc25_T': 1.0, 'theta_M': 0.2,\n",
    "    'mu': 0.07, 'K_Mass': 2.7}"
   ]
  },
  {
   "cell_type": "code",
   "execution_count": 33,
   "metadata": {},
   "outputs": [],
   "source": [
    "# Model\n",
    "MPFstr = 'k_m0*Mass - (k_m2 + k_m2a*Wee1)*MPF + (k_m1 + k_m1a*Cdc25_P)*MPF_P - (k_m3 + k_m3a*APC)*MPF'\n",
    "MPF_Pstr = '(k_m2 + k_m2a*Wee1)*MPF - (k_m1 + k_m1a*Cdc25_P)*MPF_P - (k_m3 + k_m3a*APC)*MPF_P'\n",
    "Wee1str = 'V_w1*(Wee1_T - Wee1)/(J_w1 + Wee1_T - Wee1) - k_w2*(MPF + MPF_P*alpha)*Wee1/(J_w2 + Wee1)'\n",
    "Cdc25_Pstr = 'k_c1*(MPF + MPF_P*alpha)*(Cdc25_T - Cdc25_P)/(J_c1 + Cdc25_T - Cdc25_P) - V_c2*Cdc25_P/(J_c2 + Cdc25_P)'\n",
    "Massstr = 'mu*Mass*(1 - Mass/K_Mass)'"
   ]
  },
  {
   "cell_type": "code",
   "execution_count": 34,
   "metadata": {},
   "outputs": [],
   "source": [
    "DSargs = args(name='G2moduleMass')\n",
    "DSargs.pars = params\n",
    "DSargs.tdata = [0, 200]\n",
    "DSargs.pdomain = {'V_c2': [0, 6.0], 'APC': [0, 1]}\n",
    "DSargs.xdomain = {'MPF': [0, 100], 'MPF_P': [0, 100], 'Wee1': [0, 1], 'Cdc25_P': [0, 1], 'Mass': [0, 100]}\n",
    "DSargs.varspecs = {'MPF': MPFstr, 'MPF_P': MPF_Pstr, 'Wee1': Wee1str, 'Cdc25_P': Cdc25_Pstr, 'Mass': Massstr}\n",
    "DSargs.ics = icdict"
   ]
  },
  {
   "cell_type": "code",
   "execution_count": 35,
   "metadata": {},
   "outputs": [],
   "source": [
    "DS = Generator.Vode_ODEsystem(DSargs)"
   ]
  },
  {
   "cell_type": "code",
   "execution_count": 36,
   "metadata": {},
   "outputs": [
    {
     "data": {
      "text/plain": [
       "({'Cdc25_P': 0.99799067551833509,\n",
       "  'MPF': 2.6426569979599512,\n",
       "  'MPF_P': 0.056296876697210597,\n",
       "  'Mass': 2.6999999999747941,\n",
       "  'Wee1': 0.00075980235882747605},\n",
       " {'Cdc25_P': 0.99799067548166387,\n",
       "  'MPF': 2.6426569752480642,\n",
       "  'MPF_P': 0.056296876269409511,\n",
       "  'Mass': 2.6999999768261369,\n",
       "  'Wee1': 0.00075980237758542578},\n",
       " {'Cdc25_P': 0.99799067544833087,\n",
       "  'MPF': 2.6426569270529159,\n",
       "  'MPF_P': 0.056296875546271788,\n",
       "  'Mass': 2.6999999278888902,\n",
       "  'Wee1': 0.0007598025553051884},\n",
       " {'Cdc25_P': 0.0068645101575272342,\n",
       "  'MPF': 0.051426188142019685,\n",
       "  'MPF_P': 2.6475276865379449,\n",
       "  'Mass': 2.6999999999976065,\n",
       "  'Wee1': 0.7512246420967722},\n",
       " {'Cdc25_P': 0.0064143233561383623,\n",
       "  'MPF': 0.043695194178268205,\n",
       "  'MPF_P': 2.655258680504089,\n",
       "  'Mass': 2.7000000000000002,\n",
       "  'Wee1': 0.87722082936954049},\n",
       " {'Cdc25_P': 0.0, 'MPF': 0.0, 'MPF_P': 0.0, 'Mass': 0.0, 'Wee1': 1.0})"
      ]
     },
     "execution_count": 36,
     "metadata": {},
     "output_type": "execute_result"
    }
   ],
   "source": [
    "# Steady States\n",
    "fps = pp.find_fixedpoints(DS, n=4, eps=1e-8)\n",
    "fps"
   ]
  },
  {
   "cell_type": "markdown",
   "metadata": {},
   "source": [
    "Four steady stated found: the trivial, the stable node, the saddle, another with active MPF."
   ]
  },
  {
   "cell_type": "markdown",
   "metadata": {},
   "source": [
    "Middle steady state where the saddle-node takes place"
   ]
  },
  {
   "cell_type": "code",
   "execution_count": 37,
   "metadata": {},
   "outputs": [
    {
     "name": "stdout",
     "output_type": "stream",
     "text": [
      "B Point found \n",
      "========================== \n",
      "0 : \n",
      "MPF  =  0.0383991043476\n",
      "Cdc25_P  =  0.00316556249055\n",
      "Mass  =  2.7\n",
      "MPF_P  =  2.66055477033\n",
      "Wee1  =  0.911282982363\n",
      "V_c2  =  6.00000001728\n",
      "\n",
      "Maximum test function iterations reached.\n",
      "\n",
      "Neutral saddle found!\n",
      "\n",
      "\n",
      "Checking...\n",
      "  |q| = 1.000000\n",
      "  <p,q> = 1.000000\n",
      "  |Aq| = 0.000000\n",
      "  |transpose(A)p| = 0.000000\n",
      "\n",
      "LP Point found \n",
      "========================== \n",
      "0 : \n",
      "MPF  =  0.0480312366715\n",
      "Cdc25_P  =  0.00777947457462\n",
      "Mass  =  2.7\n",
      "MPF_P  =  2.65092263801\n",
      "Wee1  =  0.826130007264\n",
      "V_c2  =  3.47292829315\n",
      "\n",
      "Eigenvalues = \n",
      "\n",
      "     (-115.677267,0.000000)\n",
      "     (-36.974306,0.000000)\n",
      "     (-0.000000,0.000000)\n",
      "     (-0.200078,0.000000)\n",
      "     (-0.070000,0.000000)\n",
      "\n",
      "\n",
      "a = 1.971728068287887\n",
      "\n",
      "Neutral saddle found!\n",
      "\n",
      "B Point found \n",
      "========================== \n",
      "0 : \n",
      "MPF  =  0.054040619876\n",
      "Cdc25_P  =  0.003536992106\n",
      "Mass  =  2.7\n",
      "MPF_P  =  2.64491325481\n",
      "Wee1  =  0.648637077373\n",
      "V_c2  =  6.00000000587\n",
      "\n"
     ]
    }
   ],
   "source": [
    "PC = ContClass(DS)\n",
    "\n",
    "name1 = 'EQ1'\n",
    "PCargs = args(name=name1)\n",
    "PCargs.type = 'EP-C'\n",
    "PCargs.initpoint = {'Cdc25_P': 0.0064143233561383623,\n",
    "                    'MPF': 0.043695194178268205,\n",
    "                    'MPF_P': 2.655258680504089,\n",
    "                    'Mass': 2.7000000000000002,\n",
    "                    'Wee1': 0.87722082936954049}\n",
    "PCargs.freepars = ['V_c2']\n",
    "PCargs.StepSize = 1e-3\n",
    "PCargs.MaxNumPoints = 800\n",
    "PCargs.MaxStepSize = 5e-2\n",
    "PCargs.MinStepSize = 1e-6\n",
    "PCargs.MaxTestIters = 20\n",
    "PCargs.LocBifPoints = 'all'\n",
    "PCargs.SaveEigen = True\n",
    "PCargs.StopAtPoints = ['B']\n",
    "PCargs.verbosity = 2\n",
    "\n",
    "PC.newCurve(PCargs)\n",
    "PC.curves[name1].backward()\n",
    "PC.curves[name1].forward()"
   ]
  },
  {
   "cell_type": "markdown",
   "metadata": {},
   "source": [
    "Upper steady state"
   ]
  },
  {
   "cell_type": "code",
   "execution_count": 38,
   "metadata": {},
   "outputs": [
    {
     "name": "stdout",
     "output_type": "stream",
     "text": [
      "B Point found \n",
      "========================== \n",
      "0 : \n",
      "MPF  =  2.64257193616\n",
      "Cdc25_P  =  0.99640965634\n",
      "Mass  =  2.7\n",
      "MPF_P  =  0.0563819385267\n",
      "Wee1  =  0.000759827332425\n",
      "V_c2  =  6.00000001742\n",
      "\n",
      "B Point found \n",
      "========================== \n",
      "0 : \n",
      "MPF  =  2.64276473379\n",
      "Cdc25_P  =  1.00000000002\n",
      "Mass  =  2.7\n",
      "MPF_P  =  0.0561891408971\n",
      "Wee1  =  0.000759770731992\n",
      "V_c2  =  -4.13454041549e-08\n",
      "\n"
     ]
    }
   ],
   "source": [
    "name2 = 'EQ2'\n",
    "PCargs = args(name=name2)\n",
    "PCargs.type = 'EP-C'\n",
    "PCargs.initpoint = {'Cdc25_P': 0.99799067551833509,\n",
    "                    'MPF': 2.6426569979599512,\n",
    "                    'MPF_P': 0.056296876697210597,\n",
    "                    'Mass': 2.6999999999747941,\n",
    "                    'Wee1': 0.00075980235882747605}\n",
    "PCargs.freepars = ['V_c2']\n",
    "PCargs.StepSize = 1e-3\n",
    "PCargs.MaxNumPoints = 800\n",
    "PCargs.MaxStepSize = 5e-2\n",
    "PCargs.MinStepSize = 1e-6\n",
    "PCargs.MaxTestIters = 20\n",
    "PCargs.LocBifPoints = 'all'\n",
    "PCargs.SaveEigen = True\n",
    "PCargs.StopAtPoints = ['B']\n",
    "PCargs.verbosity = 2\n",
    "\n",
    "PC.newCurve(PCargs)\n",
    "PC.curves[name2].backward()\n",
    "PC.curves[name2].forward()"
   ]
  },
  {
   "cell_type": "code",
   "execution_count": 39,
   "metadata": {},
   "outputs": [
    {
     "data": {
      "image/png": "[encoded data removed]",
      "text/plain": [
       "<matplotlib.figure.Figure at 0x7f456b9cbb10>"
      ]
     },
     "metadata": {
      "needs_background": "light"
     },
     "output_type": "display_data"
    }
   ],
   "source": [
    "PC[name1].display(('V_c2', 'MPF'), stability=True, linewidth=3)\n",
    "PC[name2].display(('V_c2', 'MPF'), stability=True, linewidth=3)\n",
    "PC.plot.toggleLabels('off')\n",
    "PC.plot.fig1.toggleAll('off', bytype=['P','B'])\n",
    "PC.plot.fig1.axes1.axes.set_yscale('log')\n",
    "PC.plot.fig1.axes1.axes.set_xlim((0, 6))\n",
    "PC.plot.fig1.axes1.axes.set_xlabel(r'$V_{c2}$', fontsize=16)\n",
    "PC.plot.fig1.axes1.axes.set_ylim((1e-4, 10))\n",
    "PC.plot.fig1.axes1.axes.set_ylabel('MPF', fontsize=16)\n",
    "PC.plot.fig1.axes1.axes.set_title('')\n",
    "plt.savefig(dir + 'G2ModuleMassBifurcationVc2MPF.pdf', bbox_inches='tight')"
   ]
  },
  {
   "cell_type": "code",
   "execution_count": null,
   "metadata": {},
   "outputs": [],
   "source": []
  },
  {
   "cell_type": "markdown",
   "metadata": {},
   "source": [
    "## Section 5.5\n",
    "## Normal form for the SNIC bifurcation driven by $V_{c2}$ as a representation of the G2/M transition"
   ]
  },
  {
   "cell_type": "markdown",
   "metadata": {},
   "source": [
    "#### Length of the G2/M transition\n",
    "$$T_{G2/M}=\\frac{\\pi}{\\sqrt{\\beta\\gamma}}=\\frac{\\pi}{k_{m3}\\sqrt{\\sigma(cCB_0-dBC_0)}}$$"
   ]
  },
  {
   "cell_type": "code",
   "execution_count": 114,
   "metadata": {},
   "outputs": [],
   "source": [
    "def eval_params_nondim_part2(PC):\n",
    "    point = PC.curves['EQ1'].getSpecialPoint('LP1')\n",
    "    params = PC.model.pars\n",
    "    params['V_c2'] = 1.4 #point['V_c2'] # this is the bifurcation point (\\beta=0)\n",
    "    k_m = point['MPF'] + params['alpha']*point['MPF_P']\n",
    "    a = (params['k_m2'] + params['k_m2a']*point['Wee1'])/params['k_m3']\n",
    "    b = (params['k_m1'] + params['k_m1a']*point['Cdc25_P'])/params['k_m3']\n",
    "    c = params['k_m2a']*point['MPF']*params['Wee1_T']/params['k_m3']\n",
    "    d = params['k_m1a']*point['MPF_P']*params['Cdc25_T']/params['k_m3']\n",
    "    kappa_w = params['k_m2a']*params['Wee1_T']/params['k_m3']\n",
    "    kappa_u = params['k_m1a']*params['Cdc25_T']/params['k_m3']\n",
    "    beta_w = params['V_w1']/(params['Wee1_T']*params['k_m3'])\n",
    "    gamma_w = params['k_w2']/(params['Wee1_T']*params['k_m3'])\n",
    "    wstar = point['Wee1']/params['Wee1_T']\n",
    "    gamma_u = params['k_c1']/(params['Cdc25_T']*params['k_m3'])\n",
    "    beta_u = params['V_c2']/(params['Cdc25_T']*params['k_m3'])\n",
    "    ustar = point['Cdc25_P']/params['Cdc25_T']\n",
    "    epsilon1 = params['J_w1']/params['Wee1_T']\n",
    "    epsilon2 = params['J_w2']/params['Wee1_T']\n",
    "    epsilon3 = params['J_c1']/params['Cdc25_T']\n",
    "    epsilon4 = params['J_c2']/params['Cdc25_T']\n",
    "    A = 1 + a + b   \n",
    "    B0 = beta_w*(1-wstar)/(epsilon1 + 1 - wstar) - gamma_w*k_m*wstar/(epsilon2 + wstar)\n",
    "    B = beta_w*epsilon1/(epsilon1 + 1 - wstar)**2 + gamma_w*k_m*epsilon2/(epsilon2 + wstar)**2\n",
    "    B2 = -beta_w*epsilon1/(epsilon1 + 1 - wstar)**3 + gamma_w*k_m*epsilon2/(epsilon2 + wstar)**3\n",
    "    C0 = gamma_u*k_m*(1-ustar)/(epsilon3 + 1 - ustar) - beta_u*ustar/(epsilon4 + ustar)\n",
    "    C = gamma_u*k_m*epsilon3/(epsilon3 + 1 - ustar)**2 + beta_u*epsilon4/(epsilon4 + ustar)**2\n",
    "    C2 = gamma_u*k_m*epsilon3/(epsilon3 + 1 - ustar)**3 + beta_u*epsilon4/(epsilon4 + ustar)**3\n",
    "    D = gamma_w*wstar/(epsilon2 + wstar)\n",
    "    D2 = gamma_w*wstar/(epsilon2 + wstar)**2\n",
    "    E = gamma_u*(1 - ustar)/(epsilon3 + 1 - ustar)\n",
    "    E2 = gamma_u*(1 - ustar)/(epsilon3 + 1 - ustar)**2\n",
    "    F = (A + B + C)**2 - 4*(A*B + B*C + C*A) + 4*(1 - params['alpha'])*(c*D + d*E)\n",
    "    GH = (1 - params['alpha'])*C*D/(B**2*C**2 - (1 - params['alpha'])*(c*C**2*D - d*B**2*E))\n",
    "    G = GH*C*D\n",
    "    H = GH*B*E\n",
    "    sigma0 = (B*C - c*C*G - d*B*H)*((kappa_w*B*C - (1-params['alpha'])*c*C*D2)*G - (kappa_u*B*C - (1-params['alpha'])*d*B*E2)*H) + c*C*B2*G**2 - b*B*C2*H**2\n",
    "    return {'a': a, 'b': b, 'c': c, 'd': d,\n",
    "            'A': A, 'B0': B0, 'B': B, 'C0': C0, 'C':C,\n",
    "            'D': D, 'E': E, 'F': F, 'sigma0': sigma0}"
   ]
  },
  {
   "cell_type": "code",
   "execution_count": 116,
   "metadata": {},
   "outputs": [
    {
     "data": {
      "text/latex": [
       "$$\\beta = -371.466002332$$"
      ],
      "text/plain": [
       "<IPython.core.display.Math object>"
      ]
     },
     "metadata": {},
     "output_type": "display_data"
    },
    {
     "data": {
      "text/latex": [
       "$$T_{G2/M} = 97.8006152941 min$$"
      ],
      "text/plain": [
       "<IPython.core.display.Math object>"
      ]
     },
     "metadata": {},
     "output_type": "display_data"
    }
   ],
   "source": [
    "out = eval_params_nondim_part2(PC_SNICVC2)\n",
    "beta = params['k_m3']*(out['c']*out['C']*out['B0'] - out['d']*out['B']*out['C0'])\n",
    "gamma = -0.01 # k_m3*()\n",
    "display(Math(r'\\beta = ' + str(beta)))\n",
    "display(Math(r'T_{G2/M} = ' + str(pi/sqrt(beta*gamma)*60) + ' min'))"
   ]
  },
  {
   "cell_type": "code",
   "execution_count": null,
   "metadata": {},
   "outputs": [],
   "source": []
  },
  {
   "cell_type": "code",
   "execution_count": 16,
   "metadata": {},
   "outputs": [
    {
     "data": {
      "image/png": "[encoded data removed]",
      "text/plain": [
       "<matplotlib.figure.Figure at 0x7fb37cf72890>"
      ]
     },
     "metadata": {
      "needs_background": "light"
     },
     "output_type": "display_data"
    }
   ],
   "source": [
    "aa = np.arange(0, 3, 0.01)\n",
    "plt.plot(aa, sqrt(aa), lw=4, ls='-', color='k')\n",
    "plt.plot(aa, -sqrt(aa), lw=4, ls='-.', color='k')\n",
    "plt.plot([0], [0], 'ro', ms=7)\n",
    "plt.xlabel('$\\\\beta$', fontsize=18)\n",
    "plt.ylabel('$\\\\xi$', fontsize=18)\n",
    "plt.axis([-1, 3, -2, 2])\n",
    "plt.xticks([0])\n",
    "plt.yticks([0])\n",
    "plt.savefig(dir + 'SNBifurcation.pdf', bbox_inches='tight')\n",
    "plt.show()"
   ]
  },
  {
   "cell_type": "code",
   "execution_count": null,
   "metadata": {},
   "outputs": [],
   "source": []
  },
  {
   "cell_type": "code",
   "execution_count": null,
   "metadata": {},
   "outputs": [],
   "source": []
  },
  {
   "cell_type": "code",
   "execution_count": null,
   "metadata": {},
   "outputs": [],
   "source": []
  },
  {
   "cell_type": "code",
   "execution_count": null,
   "metadata": {},
   "outputs": [],
   "source": []
  },
  {
   "cell_type": "code",
   "execution_count": null,
   "metadata": {},
   "outputs": [],
   "source": []
  },
  {
   "cell_type": "code",
   "execution_count": null,
   "metadata": {},
   "outputs": [],
   "source": []
  },
  {
   "cell_type": "code",
   "execution_count": null,
   "metadata": {},
   "outputs": [],
   "source": []
  },
  {
   "cell_type": "code",
   "execution_count": null,
   "metadata": {},
   "outputs": [],
   "source": []
  },
  {
   "cell_type": "code",
   "execution_count": null,
   "metadata": {},
   "outputs": [],
   "source": []
  },
  {
   "cell_type": "code",
   "execution_count": null,
   "metadata": {},
   "outputs": [],
   "source": []
  },
  {
   "cell_type": "code",
   "execution_count": null,
   "metadata": {},
   "outputs": [],
   "source": []
  },
  {
   "cell_type": "code",
   "execution_count": null,
   "metadata": {},
   "outputs": [],
   "source": []
  },
  {
   "cell_type": "code",
   "execution_count": null,
   "metadata": {},
   "outputs": [],
   "source": []
  },
  {
   "cell_type": "code",
   "execution_count": null,
   "metadata": {},
   "outputs": [],
   "source": []
  },
  {
   "cell_type": "code",
   "execution_count": null,
   "metadata": {},
   "outputs": [],
   "source": []
  }
 ],
 "metadata": {
  "@webio": {
   "lastCommId": null,
   "lastKernelId": null
  },
  "kernelspec": {
   "display_name": "Python 2",
   "language": "python",
   "name": "python2"
  },
  "language_info": {
   "codemirror_mode": {
    "name": "ipython",
    "version": 2
   },
   "file_extension": ".py",
   "mimetype": "text/x-python",
   "name": "python",
   "nbconvert_exporter": "python",
   "pygments_lexer": "ipython2",
   "version": "2.7.17"
  }
 },
 "nbformat": 4,
 "nbformat_minor": 2
}
