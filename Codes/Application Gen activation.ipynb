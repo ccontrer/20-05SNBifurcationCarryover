{
 "cells": [
  {
   "cell_type": "code",
   "execution_count": 1,
   "metadata": {},
   "outputs": [],
   "source": [
    "import numpy as np\n",
    "import PyDSTool as dst\n",
    "from PyDSTool.Toolbox import phaseplane as pp\n",
    "from scipy.optimize import fsolve"
   ]
  },
  {
   "cell_type": "code",
   "execution_count": 2,
   "metadata": {},
   "outputs": [],
   "source": [
    "import matplotlib as mpl\n",
    "from matplotlib import pyplot as plt\n",
    "from IPython.display import display, Math"
   ]
  },
  {
   "cell_type": "code",
   "execution_count": 3,
   "metadata": {},
   "outputs": [],
   "source": [
    "from __future__ import print_function\n",
    "from ipywidgets import interact, interactive, fixed, interact_manual\n",
    "import ipywidgets as widgets"
   ]
  },
  {
   "cell_type": "code",
   "execution_count": 5,
   "metadata": {},
   "outputs": [],
   "source": [
    "mpl.rcParams['figure.figsize'] = [6, 4]\n",
    "mpl.rcParams['font.size'] = 16\n",
    "mpl.rcParams['lines.linewidth'] = 3\n",
    "mpl.rcParams['lines.markersize'] = 8"
   ]
  },
  {
   "cell_type": "code",
   "execution_count": 6,
   "metadata": {},
   "outputs": [],
   "source": [
    "figdir = './figures/'\n",
    "plt.rc('text', usetex=True)"
   ]
  },
  {
   "cell_type": "markdown",
   "metadata": {},
   "source": [
    "# Carryover of a saddle-node bifurcation\n",
    "# Application: gen activation model"
   ]
  },
  {
   "cell_type": "markdown",
   "metadata": {},
   "source": [
    "The gen activation model is\n",
    "$$\n",
    "    \\dot x = s - rx + \\frac{x^{2}}{1+x^{2}},\n",
    "$$\n",
    "where\n",
    "where $r>0$ is the degradation rate and $s\\geq0$ is the activating signal (add references here in markdown syntax: Strogatz1994, Lewis1977).\n"
   ]
  },
  {
   "cell_type": "markdown",
   "metadata": {},
   "source": [
    "## 1. Phase plane analysis"
   ]
  },
  {
   "cell_type": "markdown",
   "metadata": {},
   "source": [
    "Steady states are given by\n",
    "$$\n",
    "\\dot x = 0 \\implies rx - s = \\frac{x^2}{1+x^2}\n",
    "$$"
   ]
  },
  {
   "cell_type": "code",
   "execution_count": 7,
   "metadata": {},
   "outputs": [],
   "source": [
    "def f(x, s, r):\n",
    "    return s - r*x + x**2/(1 + x**2)\n",
    "\n",
    "def fprime(x, s, r):\n",
    "    return -r + 2*x/(1 + x**2)**2\n",
    "\n",
    "def plot_phaseplot(s, r, file=False):\n",
    "    # baseline\n",
    "    xx = np.arange(0, 3, 0.01)\n",
    "    plt.hlines(0, min(xx), max(xx), 'r')\n",
    "    # arrows\n",
    "    xx = np.arange(0, 3, 0.2)\n",
    "    for x in xx:\n",
    "        if f(x, s, r) < 0:\n",
    "            plt.plot(x, 0, '<g')\n",
    "        elif f(x, s, r) > 0:\n",
    "            plt.plot(x, 0, '>g')\n",
    "    # phase portrait\n",
    "    xx = np.arange(0, 3, 0.01)\n",
    "    yy = f(xx, s, r)\n",
    "    plt.plot(xx, yy, 'b')\n",
    "    # steady states\n",
    "    xx = np.arange(0, 3, 0.1)\n",
    "    for x in xx:\n",
    "        ss = fsolve(f, x, (s, r), full_output=True)\n",
    "        if ss[2] == 1:\n",
    "            if fprime(ss[0], s, r) < 0:\n",
    "                plt.plot(ss[0], 0, 'ob', ms=10)\n",
    "            else:\n",
    "                plt.plot(ss[0], 0, 'ob', ms=10, markerfacecolor='white')\n",
    "    # plot specs\n",
    "    plt.xlabel('$x$')\n",
    "    plt.xlim((0., 2.5))\n",
    "    plt.ylabel('$\\dot x$')\n",
    "    plt.ylim((-0.15, 0.15))\n",
    "    if file:\n",
    "        plt.savefig(file, bbox_inches='tight')\n",
    "    plt.show()"
   ]
  },
  {
   "cell_type": "code",
   "execution_count": 8,
   "metadata": {},
   "outputs": [
    {
     "data": {
      "application/vnd.jupyter.widget-view+json": {
       "model_id": "e8590382e54a4a0b9904de45449f9a18",
       "version_major": 2,
       "version_minor": 0
      },
      "text/plain": [
       "interactive(children=(FloatSlider(value=0.0, description='s', max=0.2, step=0.01), FloatSlider(value=0.4, desc…"
      ]
     },
     "metadata": {},
     "output_type": "display_data"
    }
   ],
   "source": [
    "interact(plot_phaseplot, \n",
    "         s=widgets.FloatSlider(min=0, max=0.2, step=0.01, value=0.),\n",
    "         r=widgets.FloatSlider(min=0, max=0.8, step=0.01, value=0.4),\n",
    "         file=fixed(False));"
   ]
  },
  {
   "cell_type": "markdown",
   "metadata": {},
   "source": [
    "Assuming the activating signal $s$ is zero and the activity of the is null, the gen, remains inactive."
   ]
  },
  {
   "cell_type": "code",
   "execution_count": 9,
   "metadata": {},
   "outputs": [
    {
     "data": {
      "image/png": "[encoded data removed]",
      "text/plain": [
       "<Figure size 432x288 with 1 Axes>"
      ]
     },
     "metadata": {
      "needs_background": "light"
     },
     "output_type": "display_data"
    }
   ],
   "source": [
    "plot_phaseplot(0.0, 0.4)"
   ]
  },
  {
   "cell_type": "markdown",
   "metadata": {},
   "source": [
    "But if the activating signal increases above a threshold value $s^*$, the gene becomes active in via a critical transition and remains active even after the activating signal returns to zero."
   ]
  },
  {
   "cell_type": "code",
   "execution_count": 10,
   "metadata": {},
   "outputs": [
    {
     "data": {
      "image/png": "[encoded data removed]",
      "text/plain": [
       "<Figure size 432x288 with 1 Axes>"
      ]
     },
     "metadata": {
      "needs_background": "light"
     },
     "output_type": "display_data"
    },
    {
     "data": {
      "image/png": "[encoded data removed]",
      "text/plain": [
       "<Figure size 432x288 with 1 Axes>"
      ]
     },
     "metadata": {
      "needs_background": "light"
     },
     "output_type": "display_data"
    },
    {
     "data": {
      "image/png": "[encoded data removed]",
      "text/plain": [
       "<Figure size 432x288 with 1 Axes>"
      ]
     },
     "metadata": {
      "needs_background": "light"
     },
     "output_type": "display_data"
    }
   ],
   "source": [
    "plot_phaseplot(0., 0.4, figdir + 'ApplicationGenPhasePortrait1.pdf')\n",
    "plot_phaseplot(0.06, 0.4, figdir + 'ApplicationGenPhasePortrait2.pdf')\n",
    "plot_phaseplot(0.01, 0.4)"
   ]
  },
  {
   "cell_type": "markdown",
   "metadata": {},
   "source": [
    "## 2. Bifurcation diagram"
   ]
  },
  {
   "cell_type": "markdown",
   "metadata": {},
   "source": [
    "We can construct the bifurcation diagram using continuation and the `PyDSTool` library of python."
   ]
  },
  {
   "cell_type": "code",
   "execution_count": 11,
   "metadata": {},
   "outputs": [],
   "source": [
    "# dynamical system\n",
    "xstr = 's-r*x+x**2/(1+x**2)'\n",
    "params = {'s': 0, 'r':0.4}\n",
    "ics = {'x': 2.0}\n",
    "DSargs = dst.args(name='GenActivation')\n",
    "DSargs.pars = params\n",
    "DSargs.tdata = [0, 2]\n",
    "DSargs.pdomain = {'s': [0, 0.2], 'r': [0, 1.]}\n",
    "DSargs.xdomain = {'x': [0, 10.0]}\n",
    "DSargs.varspecs = {'x': xstr}\n",
    "DSargs.ics = ics\n",
    "DS = dst.Generator.Vode_ODEsystem(DSargs)"
   ]
  },
  {
   "cell_type": "code",
   "execution_count": 12,
   "metadata": {},
   "outputs": [
    {
     "data": {
      "text/plain": [
       "({'x': array([0.])}, {'x': array([2.])})"
      ]
     },
     "execution_count": 12,
     "metadata": {},
     "output_type": "execute_result"
    }
   ],
   "source": [
    "fps = pp.find_fixedpoints(DS, n=4, eps=1e-8)\n",
    "fps"
   ]
  },
  {
   "cell_type": "code",
   "execution_count": 13,
   "metadata": {},
   "outputs": [],
   "source": [
    "# bifurcation diagram for s\n",
    "# first branch\n",
    "PC = dst.ContClass(DS)\n",
    "name1 = 'EQ1'\n",
    "PCargs = dst.args(name=name1)\n",
    "PCargs.type = 'EP-C'\n",
    "PCargs.initpoint = {'x': 0.0}\n",
    "PCargs.freepars = ['s']\n",
    "PCargs.StepSize = 1e-3\n",
    "PCargs.MaxNumPoints = 800\n",
    "PCargs.MaxStepSize = 5e-2\n",
    "PCargs.MinStepSize = 1e-6\n",
    "PCargs.MaxTestIters = 20\n",
    "PCargs.LocBifPoints = 'all'\n",
    "PCargs.SaveEigen = True\n",
    "PCargs.StopAtPoints = ['B']\n",
    "PCargs.verbosity = 0\n",
    "\n",
    "PC.newCurve(PCargs)\n",
    "# PC.curves[name1].backward()\n",
    "PC.curves[name1].forward()\n",
    "\n",
    "# second branch\n",
    "name2 = 'EQ2'\n",
    "PCargs = dst.args(name=name2)\n",
    "PCargs.type = 'EP-C'\n",
    "PCargs.initpoint = {'x': 2.0, 's': 0.0}\n",
    "PCargs.freepars = ['s']\n",
    "PCargs.StepSize = 1e-3\n",
    "PCargs.MaxNumPoints = 800\n",
    "PCargs.MaxStepSize = 5e-2\n",
    "PCargs.MinStepSize = 1e-6\n",
    "PCargs.MaxTestIters = 20\n",
    "PCargs.LocBifPoints = 'all'\n",
    "PCargs.SaveEigen = True\n",
    "PCargs.StopAtPoints = ['B']\n",
    "PCargs.verbosity = 0\n",
    "\n",
    "PC.newCurve(PCargs)\n",
    "# PC.curves[name2].backward()\n",
    "PC.curves[name2].forward()"
   ]
  },
  {
   "cell_type": "markdown",
   "metadata": {},
   "source": [
    "Indeed there is a bifurcation point (`LP1`) at which a critical transition drives gen activation."
   ]
  },
  {
   "cell_type": "code",
   "execution_count": 14,
   "metadata": {},
   "outputs": [
    {
     "data": {
      "image/png": "[encoded data removed]",
      "text/plain": [
       "<Figure size 432x288 with 1 Axes>"
      ]
     },
     "metadata": {
      "needs_background": "light"
     },
     "output_type": "display_data"
    }
   ],
   "source": [
    "PC['EQ1'].display(('s', 'x'), stability=True, linewidth=3)\n",
    "PC['EQ2'].display(('s', 'x'), stability=True, linewidth=3)\n",
    "PC.plot.fig1.toggleAll('off', bytype=['P','B'])\n",
    "PC.plot.fig1.axes1.axes.set_xlabel('$s$', fontsize=16)\n",
    "PC.plot.fig1.axes1.axes.set_xlim((0.0, 0.15))\n",
    "PC.plot.fig1.axes1.axes.set_ylabel('$x$', fontsize=16)\n",
    "PC.plot.fig1.axes1.axes.set_ylim((0.0, 2.6))\n",
    "PC.plot.fig1.axes1.axes.set_title('')\n",
    "plt.savefig(figdir + 'ApplicationGenOriginalBifurcation.pdf', bbox_inches='tight')\n",
    "plt.show()"
   ]
  },
  {
   "cell_type": "markdown",
   "metadata": {},
   "source": [
    "The actual value of $s$ is"
   ]
  },
  {
   "cell_type": "code",
   "execution_count": 15,
   "metadata": {},
   "outputs": [
    {
     "data": {
      "text/plain": [
       "0.041834447154491076"
      ]
     },
     "execution_count": 15,
     "metadata": {},
     "output_type": "execute_result"
    }
   ],
   "source": [
    "PC['EQ1'].getSpecialPoint('LP1')['s']"
   ]
  },
  {
   "cell_type": "markdown",
   "metadata": {},
   "source": [
    "From here we can follow the bifurcation point varying both parameters $s$ and $r$."
   ]
  },
  {
   "cell_type": "code",
   "execution_count": 16,
   "metadata": {},
   "outputs": [
    {
     "name": "stderr",
     "output_type": "stream",
     "text": [
      "/home/shigoto/.local/lib/python3.8/site-packages/PyDSTool/PyCont/TestFunc.py:366: LinAlgWarning: Diagonal number 1 is exactly zero. Singular matrix.\n",
      "  MLU = linalg.lu_factor(c_[r_[A,transpose(self.data.C)], r_[self.data.B,self.data.D]])\n"
     ]
    }
   ],
   "source": [
    "# Two-parameter bifurcation\n",
    "namefold1 = 'F01'\n",
    "PCargs = dst.args(name=namefold1)\n",
    "PCargs.type = 'LP-C'\n",
    "PCargs.initpoint = 'EQ1:LP1'\n",
    "PCargs.freepars = ['s', 'r']\n",
    "PCargs.StepSize = 1e-2\n",
    "PCargs.MaxNumPoints = 200\n",
    "PCargs.MaxStepSize = 5e-2\n",
    "PCargs.MinStepSize = 1e-4\n",
    "PCargs.SaveEigen = True\n",
    "PCargs.SaveJacobian = True\n",
    "PCargs.LocBifPoints = 'all'\n",
    "PCargs.StopAtPoints = ['B']\n",
    "PCargs.verbosity = 0\n",
    "PC.newCurve(PCargs)\n",
    "PC.curves[namefold1].forward()\n",
    "PC.curves[namefold1].backward()"
   ]
  },
  {
   "cell_type": "code",
   "execution_count": 17,
   "metadata": {},
   "outputs": [
    {
     "data": {
      "image/png": "[encoded data removed]",
      "text/plain": [
       "<Figure size 432x288 with 1 Axes>"
      ]
     },
     "metadata": {
      "needs_background": "light"
     },
     "output_type": "display_data"
    }
   ],
   "source": [
    "PC[namefold1].display(('r', 's'), stability=True, linewidth=3)\n",
    "PC.plot.toggleLabels('off')\n",
    "PC.plot.fig1.toggleAll('off', bytype=['P', 'BT', 'CP'])\n",
    "PC.plot.fig1.axes1.axes.set_xlim((0.0, 0.7))\n",
    "PC.plot.fig1.axes1.axes.set_xlabel('$r$', fontsize=16)\n",
    "PC.plot.fig1.axes1.axes.set_ylim((0.0, 0.15))\n",
    "PC.plot.fig1.axes1.axes.set_ylabel('$s$', fontsize=16)\n",
    "PC.plot.fig1.axes1.axes.set_title('')\n",
    "# plt.savefig(dir + 'ApplicationGenTwoParBifurcation.pdf', bbox_inches='tight')\n",
    "plt.show()"
   ]
  },
  {
   "cell_type": "markdown",
   "metadata": {},
   "source": [
    "The enclosed region corresponds to the region with 3 steady states."
   ]
  },
  {
   "cell_type": "code",
   "execution_count": 18,
   "metadata": {},
   "outputs": [
    {
     "data": {
      "text/plain": [
       "r:  0.6495190528461792\n",
       "s:  0.12500000000453232\n",
       "x:  0.57735026130776\n",
       "Labels: LP ({'data': args (\n",
       " V = {'x': 0.9999999999999997, 's': 1.3270065375964646e-08, 'r': 2.3032501831679676e-08},\n",
       " ds = 0.05,\n",
       " evals = [-2.77555756e-11+0.j],\n",
       " evecs = [[1.]],\n",
       " jacx = [[-2.77555756e-11]],\n",
       " jacp = [[ 1.         -0.57735026]]\n",
       "), 'domain': 'inside', 'stab': 'N'})\n",
       "Labels: CP ({'data': args (\n",
       " X = {'x': 0.57735026130776, 's': 0.12500000000453232, 'r': 0.6495190528461792},\n",
       " V = {'x': 0.9999999999999997, 's': 1.3270065375964646e-08, 'r': 2.3032501831679676e-08},\n",
       " eigs = [-2.77555756e-11+0.j]\n",
       "), 'plot': No args defined, 'name': 'CP1'})"
      ]
     },
     "execution_count": 18,
     "metadata": {},
     "output_type": "execute_result"
    }
   ],
   "source": [
    "PC['F01'].getSpecialPoint('CP1')"
   ]
  },
  {
   "cell_type": "code",
   "execution_count": null,
   "metadata": {},
   "outputs": [],
   "source": []
  },
  {
   "cell_type": "code",
   "execution_count": null,
   "metadata": {},
   "outputs": [],
   "source": []
  },
  {
   "cell_type": "markdown",
   "metadata": {},
   "source": [
    "## 3. Turn $s$ into a variable\n",
    "\n",
    "Suppose that we turn $s$ into a variable to get the system\n",
    "$$\n",
    "\\begin{aligned}\n",
    "    \\dot x &= s - rx + \\frac{x^{2}}{1+x^{2}}, \\\\\n",
    "    \\dot s &= a - bs.\n",
    "\\end{aligned}\n",
    "$$"
   ]
  },
  {
   "cell_type": "markdown",
   "metadata": {},
   "source": [
    "According to the carryover theory, saddle-node bifurcation in the extended system would be a the intersection between the two-parameter bifurcation curve and the nullclines of $\\dot s$ ($s=c=\\frac{a}{b}$ in this case).\n",
    "\n",
    "Consider $c=0.6$."
   ]
  },
  {
   "cell_type": "code",
   "execution_count": 19,
   "metadata": {},
   "outputs": [
    {
     "data": {
      "image/png": "[encoded data removed]",
      "text/plain": [
       "<Figure size 432x288 with 1 Axes>"
      ]
     },
     "metadata": {
      "needs_background": "light"
     },
     "output_type": "display_data"
    }
   ],
   "source": [
    "PC[namefold1].display(('r', 's'), stability=True, linewidth=3)\n",
    "PC.plot.toggleLabels('off')\n",
    "PC.plot.fig1.toggleAll('off', bytype=['P','BT','CP'])\n",
    "PC.plot.fig1.axes1.axes.set_xlim((0.0, 0.7))\n",
    "PC.plot.fig1.axes1.axes.set_xlabel('$r$', fontsize=16)\n",
    "PC.plot.fig1.axes1.axes.set_ylim((0.0, 0.15))\n",
    "PC.plot.fig1.axes1.axes.set_ylabel('$s$', fontsize=16)\n",
    "PC.plot.fig1.axes1.axes.set_title('')\n",
    "plt.axhline(y=6/169, lw=3, color='b')\n",
    "plt.savefig(figdir + 'ApplicationGenTwoParBifurcation2.pdf', bbox_inches='tight')\n",
    "plt.show()"
   ]
  },
  {
   "cell_type": "code",
   "execution_count": 20,
   "metadata": {},
   "outputs": [],
   "source": [
    "# dynamical system\n",
    "xstr = 's-r*x+x**2/(1+x**2)'\n",
    "sstr = 'a-b*s'\n",
    "params = {'r': 125/338, 'a': 6/169, 'b': 1}\n",
    "ics = {'x': 1, 's': 0}\n",
    "DSargs = dst.args(name='GenActivation')\n",
    "DSargs.pars = params\n",
    "DSargs.tdata = [0, 2]\n",
    "DSargs.pdomain = {'r': [0, 0.8]}\n",
    "DSargs.xdomain = {'x': [0, 10.0], 's': [0, 0.2]}\n",
    "DSargs.varspecs = {'x': xstr, 's': sstr}\n",
    "DSargs.ics = ics\n",
    "DS = dst.Generator.Vode_ODEsystem(DSargs)"
   ]
  },
  {
   "cell_type": "code",
   "execution_count": 21,
   "metadata": {},
   "outputs": [
    {
     "data": {
      "text/plain": [
       "({'s': 0.03550295857988166, 'x': 0.1999999971740397},\n",
       " {'s': 0.03550295857988166, 'x': 2.4})"
      ]
     },
     "execution_count": 21,
     "metadata": {},
     "output_type": "execute_result"
    }
   ],
   "source": [
    "fps = pp.find_fixedpoints(DS, n=4, eps=1e-8)\n",
    "fps"
   ]
  },
  {
   "cell_type": "code",
   "execution_count": 22,
   "metadata": {},
   "outputs": [
    {
     "name": "stdout",
     "output_type": "stream",
     "text": [
      "\n",
      "Checking...\n",
      "  |q| = 1.000000\n",
      "  <p,q> = 1.000000\n",
      "  |Aq| = 0.000000\n",
      "  |transpose(A)p| = 0.000000\n",
      "\n",
      "LP Point found \n",
      "========================== \n",
      "0 : \n",
      "s  =  0.03550295857988166\n",
      "x  =  0.20000020347230507\n",
      "r  =  0.3698224852072626\n",
      "\n",
      "Eigenvalues = \n",
      "\n",
      "     (0.000000,0.000000)\n",
      "     (-1.000000,0.000000)\n",
      "\n",
      "\n",
      "a = 0.7823163948814567\n",
      "\n",
      "\n",
      "Checking...\n",
      "  |q| = 1.000000\n",
      "  <p,q> = 1.000000\n",
      "  |Aq| = 0.000000\n",
      "  |transpose(A)p| = 0.000000\n",
      "\n",
      "LP Point found \n",
      "========================== \n",
      "0 : \n",
      "s  =  0.03550295857988166\n",
      "x  =  0.925820322394435\n",
      "r  =  0.536866093359218\n",
      "\n",
      "Eigenvalues = \n",
      "\n",
      "     (-0.000000,0.000000)\n",
      "     (-1.000000,0.000000)\n",
      "\n",
      "\n",
      "a = 0.24533457686446805\n",
      "\n",
      "B Point found \n",
      "========================== \n",
      "0 : \n",
      "s  =  0.03550295857988166\n",
      "x  =  10.00000000637913\n",
      "r  =  0.10256019678391338\n",
      "\n",
      "B Point found \n",
      "========================== \n",
      "0 : \n",
      "s  =  0.03550295857988166\n",
      "x  =  0.04715162468390597\n",
      "r  =  0.8000000541524838\n",
      "\n"
     ]
    }
   ],
   "source": [
    "PC = dst.ContClass(DS)\n",
    "name1 = 'EQ1'\n",
    "PCargs = dst.args(name=name1)\n",
    "PCargs.type = 'EP-C'\n",
    "PCargs.initpoint = {'x': 0, 's': 6/169}\n",
    "PCargs.freepars = ['r']\n",
    "PCargs.StepSize = 1e-3\n",
    "PCargs.MaxNumPoints = 800\n",
    "PCargs.MaxStepSize = 5e-2\n",
    "PCargs.MinStepSize = 1e-6\n",
    "PCargs.MaxTestIters = 40\n",
    "PCargs.LocBifPoints = 'all'\n",
    "PCargs.SaveEigen = True\n",
    "PCargs.StopAtPoints = ['B']\n",
    "PCargs.verbosity = 2\n",
    "\n",
    "PC.newCurve(PCargs)\n",
    "PC.curves[name1].backward()\n",
    "PC.curves[name1].forward()"
   ]
  },
  {
   "cell_type": "code",
   "execution_count": 23,
   "metadata": {},
   "outputs": [
    {
     "data": {
      "image/png": "[encoded data removed]",
      "text/plain": [
       "<Figure size 432x288 with 1 Axes>"
      ]
     },
     "metadata": {
      "needs_background": "light"
     },
     "output_type": "display_data"
    }
   ],
   "source": [
    "PC['EQ1'].display(('r', 'x'), stability=True, linewidth=3)\n",
    "PC.plot.fig1.toggleAll('off', bytype=['P','B'])\n",
    "PC.plot.fig1.axes1.axes.set_xlim((0, 0.8))\n",
    "PC.plot.fig1.axes1.axes.set_xlabel('$r$', fontsize=16)\n",
    "PC.plot.fig1.axes1.axes.set_ylim((0, 3.0))\n",
    "PC.plot.fig1.axes1.axes.set_ylabel('$x$', fontsize=16)\n",
    "PC.plot.fig1.axes1.axes.set_title('')\n",
    "plt.savefig(figdir + 'ApplicationGenExtended2Bifurcation.pdf', bbox_inches='tight')\n",
    "plt.show()"
   ]
  },
  {
   "cell_type": "code",
   "execution_count": null,
   "metadata": {},
   "outputs": [],
   "source": []
  },
  {
   "cell_type": "code",
   "execution_count": null,
   "metadata": {},
   "outputs": [],
   "source": []
  },
  {
   "cell_type": "code",
   "execution_count": 32,
   "metadata": {},
   "outputs": [
    {
     "name": "stdout",
     "output_type": "stream",
     "text": [
      "0.3698224852071006\n",
      "0.03550295857988166\n"
     ]
    }
   ],
   "source": [
    "x=0.2\n",
    "print(2*x/(1 + x**2)**2)\n",
    "print(x**2*(1 - x**2)/(1 + x**2)**2)"
   ]
  },
  {
   "cell_type": "code",
   "execution_count": null,
   "metadata": {},
   "outputs": [],
   "source": [
    "    "
   ]
  },
  {
   "cell_type": "code",
   "execution_count": null,
   "metadata": {},
   "outputs": [],
   "source": []
  },
  {
   "cell_type": "code",
   "execution_count": null,
   "metadata": {},
   "outputs": [],
   "source": []
  },
  {
   "cell_type": "markdown",
   "metadata": {},
   "source": [
    "## 3. Turn $r$ into a variable\n",
    "\n",
    "Suppose that we turn $r$ into a variable to get the system\n",
    "$$\n",
    "\\begin{aligned}\n",
    "    \\dot x &= s - rx + \\frac{x^{2}}{1+x^{2}}, \\\\\n",
    "    \\dot r &= a - br.\n",
    "\\end{aligned}\n",
    "$$"
   ]
  },
  {
   "cell_type": "markdown",
   "metadata": {},
   "source": [
    "According to the carryover theory, saddle-node bifurcation in the extended system would be a the intersection between the two-parameter bifurcation curve and the nullclines of $\\dot r$ ($r=c=\\frac{a}{b}$ in this case).\n",
    "\n",
    "Consider $c=0.4$ and $c=0.6$."
   ]
  },
  {
   "cell_type": "code",
   "execution_count": 55,
   "metadata": {},
   "outputs": [
    {
     "data": {
      "image/png": "[encoded data removed]",
      "text/plain": [
       "<Figure size 432x288 with 1 Axes>"
      ]
     },
     "metadata": {
      "needs_background": "light"
     },
     "output_type": "display_data"
    }
   ],
   "source": [
    "PC1D[namefold1].display(('r', 's'), stability=True, linewidth=3)\n",
    "PC1D.plot.toggleLabels('off')\n",
    "PC1D.plot.fig1.toggleAll('off', bytype=['P','BT','CP'])\n",
    "PC1D.plot.fig1.axes1.axes.set_xlim((0.0, 0.7))\n",
    "PC1D.plot.fig1.axes1.axes.set_xlabel('$r$', fontsize=16)\n",
    "PC1D.plot.fig1.axes1.axes.set_ylim((0.0, 0.15))\n",
    "PC1D.plot.fig1.axes1.axes.set_ylabel('$s$', fontsize=16)\n",
    "PC1D.plot.fig1.axes1.axes.set_title('')\n",
    "plt.axvline(x=0.4, lw=3, color='b')\n",
    "plt.axvline(x=0.6, lw=3, color='k')\n",
    "plt.savefig(figdir + 'ApplicationGenTwoParBifurcation1.pdf', bbox_inches='tight')\n",
    "plt.show()"
   ]
  },
  {
   "cell_type": "code",
   "execution_count": 67,
   "metadata": {},
   "outputs": [],
   "source": [
    "# dynamical system\n",
    "xstr = 's-r*x+x**2/(1+x**2)'\n",
    "rstr = 'a-b*r'\n",
    "params = {'s': 0, 'a': 0.4, 'b': 1}\n",
    "ics = {'x': 1, 'r': 0.5}\n",
    "DSargs = dst.args(name='GenActivation')\n",
    "DSargs.pars = params\n",
    "DSargs.tdata = [0, 2]\n",
    "DSargs.pdomain = {'s': [0, 0.2]}\n",
    "DSargs.xdomain = {'x': [0, 10.0], 'r': [0, 1.]}\n",
    "DSargs.varspecs = {'x': xstr, 'r': rstr}\n",
    "DSargs.ics = ics\n",
    "DS = dst.Generator.Vode_ODEsystem(DSargs)"
   ]
  },
  {
   "cell_type": "code",
   "execution_count": 68,
   "metadata": {},
   "outputs": [
    {
     "data": {
      "text/plain": [
       "({'r': 0.4, 'x': 0.0},\n",
       " {'r': 0.4, 'x': 1.9999999999999998},\n",
       " {'r': 0.4, 'x': 0.4999999999999993})"
      ]
     },
     "execution_count": 68,
     "metadata": {},
     "output_type": "execute_result"
    }
   ],
   "source": [
    "fps = pp.find_fixedpoints(DS, n=4, eps=1e-8)\n",
    "fps"
   ]
  },
  {
   "cell_type": "code",
   "execution_count": 69,
   "metadata": {},
   "outputs": [
    {
     "name": "stdout",
     "output_type": "stream",
     "text": [
      "\n",
      "Checking...\n",
      "  |q| = 1.000000\n",
      "  <p,q> = 1.000000\n",
      "  |Aq| = 0.000000\n",
      "  |transpose(A)p| = 0.000000\n",
      "\n",
      "LP Point found \n",
      "========================== \n",
      "0 : \n",
      "r  =  0.4\n",
      "x  =  0.21978974063735832\n",
      "s  =  0.041834447154491076\n",
      "\n",
      "Eigenvalues = \n",
      "\n",
      "     (0.000000,0.000000)\n",
      "     (-1.000000,0.000000)\n",
      "\n",
      "\n",
      "a = 0.742231389160193\n",
      "\n",
      "B Point found \n",
      "========================== \n",
      "0 : \n",
      "r  =  0.4\n",
      "x  =  0.5000000515592112\n",
      "s  =  -1.2374211055411448e-08\n",
      "\n"
     ]
    }
   ],
   "source": [
    "PC = dst.ContClass(DS)\n",
    "name1 = 'EQ1'\n",
    "PCargs = dst.args(name=name1)\n",
    "PCargs.type = 'EP-C'\n",
    "PCargs.initpoint = {'x': 0, 'r': 0.4}\n",
    "PCargs.freepars = ['s']\n",
    "PCargs.StepSize = 1e-3\n",
    "PCargs.MaxNumPoints = 800\n",
    "PCargs.MaxStepSize = 5e-2\n",
    "PCargs.MinStepSize = 1e-6\n",
    "PCargs.MaxTestIters = 40\n",
    "PCargs.LocBifPoints = 'all'\n",
    "PCargs.SaveEigen = True\n",
    "PCargs.StopAtPoints = ['B']\n",
    "PCargs.verbosity = 2\n",
    "\n",
    "PC.newCurve(PCargs)\n",
    "# PC.curves[name1].backward()\n",
    "PC.curves[name1].forward()"
   ]
  },
  {
   "cell_type": "code",
   "execution_count": 70,
   "metadata": {},
   "outputs": [
    {
     "data": {
      "image/png": "[encoded data removed]",
      "text/plain": [
       "<Figure size 432x288 with 1 Axes>"
      ]
     },
     "metadata": {
      "needs_background": "light"
     },
     "output_type": "display_data"
    }
   ],
   "source": [
    "PC['EQ1'].display(('s', 'x'), stability=True, linewidth=3)\n",
    "PC.plot.fig1.toggleAll('off', bytype=['P','B'])\n",
    "PC.plot.fig1.axes1.axes.set_xlim((0, 0.1))\n",
    "PC.plot.fig1.axes1.axes.set_xlabel('$s$', fontsize=16)\n",
    "PC.plot.fig1.axes1.axes.set_ylabel('$x$', fontsize=16)\n",
    "PC.plot.fig1.axes1.axes.set_title('')\n",
    "plt.savefig(figdir + 'ApplicationGenExtended1Bifurcation.pdf', bbox_inches='tight')\n",
    "plt.show()"
   ]
  },
  {
   "cell_type": "code",
   "execution_count": null,
   "metadata": {},
   "outputs": [],
   "source": []
  },
  {
   "cell_type": "code",
   "execution_count": null,
   "metadata": {},
   "outputs": [],
   "source": []
  },
  {
   "cell_type": "code",
   "execution_count": null,
   "metadata": {},
   "outputs": [],
   "source": []
  },
  {
   "cell_type": "code",
   "execution_count": null,
   "metadata": {},
   "outputs": [],
   "source": []
  },
  {
   "cell_type": "code",
   "execution_count": null,
   "metadata": {},
   "outputs": [],
   "source": []
  },
  {
   "cell_type": "markdown",
   "metadata": {},
   "source": [
    "## $N$-dimensional case"
   ]
  },
  {
   "cell_type": "markdown",
   "metadata": {},
   "source": [
    "### Example 3\n",
    "$$x'=\\mu-x^2+xy-xy^2$$\n",
    "$$y'=\\lambda-y-x^2+yx^2$$"
   ]
  },
  {
   "cell_type": "code",
   "execution_count": 24,
   "metadata": {},
   "outputs": [],
   "source": [
    "xstr = 'mu - x**2 + x*y - x*y**2'\n",
    "ystr = 'lambda -  y - x**2 + y*x**2'\n",
    "params = {'mu': 0.1, 'lambda':0}\n",
    "ics = {'x': 0.1, 'y': 0.1}\n",
    "DSargs = args(name='EX3')\n",
    "DSargs.pars = params\n",
    "DSargs.tdata = [0, 10]\n",
    "DSargs.pdomain = {'mu': [-4, 4], 'lambda': [-4, 4]}\n",
    "DSargs.xdomain = {'x': [-1e4, 1e4], 'y': [-1e4, 1e4]}\n",
    "DSargs.varspecs = {'x': xstr, 'y': ystr}\n",
    "DSargs.ics = ics\n",
    "DS = Generator.Vode_ODEsystem(DSargs)"
   ]
  },
  {
   "cell_type": "code",
   "execution_count": 25,
   "metadata": {},
   "outputs": [
    {
     "data": {
      "text/plain": [
       "({'x': 0.27504269322489472, 'y': -0.081839518530518768},\n",
       " {'x': -1.5011072448495351, 'y': 1.7978789438024105})"
      ]
     },
     "execution_count": 25,
     "metadata": {},
     "output_type": "execute_result"
    }
   ],
   "source": [
    "fps = pp.find_fixedpoints(DS, n=4, eps=1e-8)\n",
    "fps"
   ]
  },
  {
   "cell_type": "code",
   "execution_count": 26,
   "metadata": {},
   "outputs": [
    {
     "name": "stdout",
     "output_type": "stream",
     "text": [
      "\n",
      "Checking...\n",
      "  |q| = 1.000000\n",
      "  <p,q> = 1.000000\n",
      "  |Aq| = 0.000001\n",
      "  |transpose(A)p| = 0.000001\n",
      "\n",
      "LP Point found \n",
      "========================== \n",
      "0 : \n",
      "y  =  -1.00455109823e-13\n",
      "x  =  -3.16946540954e-07\n",
      "mu  =  1.00455077984e-13\n",
      "\n",
      "Eigenvalues = \n",
      "\n",
      "     (0.000001,0.000000)\n",
      "     (-1.000000,0.000000)\n",
      "\n",
      "\n",
      "a = 0.99999904916097981\n",
      "\n",
      "\n",
      "Checking...\n",
      "  |q| = 1.000000\n",
      "  <p,q> = 1.000000\n",
      "  |Aq| = 0.000000\n",
      "  |transpose(A)p| = 0.000001\n",
      "\n",
      "LP Point found \n",
      "========================== \n",
      "0 : \n",
      "y  =  -0.177774348898\n",
      "x  =  -0.388511163739\n",
      "mu  =  0.0695952074802\n",
      "\n",
      "Eigenvalues = \n",
      "\n",
      "     (-0.000000,0.000000)\n",
      "     (-0.281415,0.000000)\n",
      "\n",
      "\n",
      "a = 4.4374653707739897\n",
      "\n",
      "B Point found \n",
      "========================== \n",
      "0 : \n",
      "y  =  -1.94626947259\n",
      "x  =  -0.812765484811\n",
      "mu  =  -4.00000001401\n",
      "\n",
      "B Point found \n",
      "========================== \n",
      "0 : \n",
      "y  =  -1.63137182301\n",
      "x  =  0.787381793598\n",
      "mu  =  4.0000000141\n",
      "\n"
     ]
    }
   ],
   "source": [
    "PC = ContClass(DS)\n",
    "name1 = 'EQ1'\n",
    "PCargs = args(name=name1)\n",
    "PCargs.type = 'EP-C'\n",
    "PCargs.initpoint = {'x': 0.27504269322489472, 'y': -0.081839518530518768}\n",
    "PCargs.freepars = ['mu']\n",
    "PCargs.StepSize = 1e-3\n",
    "PCargs.MaxNumPoints = 800\n",
    "PCargs.MaxStepSize = 5e-2\n",
    "PCargs.MinStepSize = 1e-6\n",
    "PCargs.MaxTestIters = 40\n",
    "PCargs.LocBifPoints = 'all'\n",
    "PCargs.SaveEigen = True\n",
    "PCargs.StopAtPoints = ['B']\n",
    "PCargs.verbosity = 2\n",
    "\n",
    "PC.newCurve(PCargs)\n",
    "PC.curves[name1].backward()\n",
    "PC.curves[name1].forward()"
   ]
  },
  {
   "cell_type": "code",
   "execution_count": 27,
   "metadata": {},
   "outputs": [
    {
     "data": {
      "image/png": "[encoded data removed]",
      "text/plain": [
       "<matplotlib.figure.Figure at 0x7f0b7dff5bd0>"
      ]
     },
     "metadata": {
      "needs_background": "light"
     },
     "output_type": "display_data"
    }
   ],
   "source": [
    "PC['EQ1'].display(('mu', 'x'), stability=True, linewidth=3)\n",
    "PC.plot.fig1.toggleAll('off', bytype=['P','B'])\n",
    "PC.plot.fig1.axes1.axes.set_xlim((-4, 4))\n",
    "PC.plot.fig1.axes1.axes.set_xlabel('$\\mu$', fontsize=16)\n",
    "PC.plot.fig1.axes1.axes.set_ylabel('$x$', fontsize=16)\n",
    "PC.plot.fig1.axes1.axes.set_title('')\n",
    "# plt.savefig(dir + 'Example1Case2.pdf', bbox_inches='tight')\n",
    "plt.show()"
   ]
  },
  {
   "cell_type": "code",
   "execution_count": 28,
   "metadata": {},
   "outputs": [
    {
     "name": "stdout",
     "output_type": "stream",
     "text": [
      "\n",
      "Checking...\n",
      "  |a| = -0.746381\n",
      "\n",
      "\n",
      "CP Point found \n",
      "========================== \n",
      "0 : \n",
      "y  =  1.37736196558\n",
      "x  =  -0.355951709688\n",
      "mu  =  -0.0583092714415\n",
      "lambda  =  1.32954959335\n",
      "\n",
      "Eigenvalues = \n",
      "\n",
      "     (-0.000000,0.000000)\n",
      "     (-0.681159,0.000000)\n",
      "\n",
      "\n",
      "\n",
      "Checking...\n",
      "  <b,c> = 0.000000\n",
      "\n",
      "\n",
      "BT Point found \n",
      "========================== \n",
      "0 : \n",
      "y  =  1.36914567374\n",
      "x  =  -0.58285001674\n",
      "mu  =  0.0451334658126\n",
      "lambda  =  1.24374166791\n",
      "\n",
      "Eigenvalues = \n",
      "\n",
      "     (0.000011,0.000000)\n",
      "     (-0.000011,0.000000)\n",
      "\n",
      "\n",
      "\n",
      "Checking...\n",
      "  |a| = -1.173862\n",
      "\n",
      "\n",
      "CP Point found \n",
      "========================== \n",
      "0 : \n",
      "y  =  0.672520604858\n",
      "x  =  -1.05245265297\n",
      "mu  =  1.33944522374\n",
      "lambda  =  1.03525531391\n",
      "\n",
      "Eigenvalues = \n",
      "\n",
      "     (2.432799,0.000000)\n",
      "     (0.000000,0.000000)\n",
      "\n",
      "\n",
      "\n",
      "Checking...\n",
      "  <b,c> = -0.000000\n",
      "\n",
      "\n",
      "BT Point found \n",
      "========================== \n",
      "0 : \n",
      "y  =  -0.129280244349\n",
      "x  =  -0.464921021285\n",
      "mu  =  0.148276050365\n",
      "lambda  =  0.114815437664\n",
      "\n",
      "Eigenvalues = \n",
      "\n",
      "     (0.000001,0.000000)\n",
      "     (-0.000001,0.000000)\n",
      "\n",
      "\n",
      "Test function going crazy:  <PyDSTool.PyCont.TestFunc.CP_Fold object at 0x7f0b7e1e8390> \n",
      "\n",
      "\n",
      "Checking...\n",
      "  |a| = -0.662563\n",
      "\n",
      "\n",
      "CP Point found \n",
      "========================== \n",
      "0 : \n",
      "y  =  -0.19971627045\n",
      "x  =  -0.341605837022\n",
      "mu  =  0.0348448126405\n",
      "lambda  =  -0.0597159226769\n",
      "\n",
      "Eigenvalues = \n",
      "\n",
      "     (0.000000,0.000000)\n",
      "     (-0.439697,0.000000)\n",
      "\n",
      "\n",
      "\n",
      "Checking...\n",
      "  |a| = -0.553364\n",
      "\n",
      "\n",
      "CP Point found \n",
      "========================== \n",
      "0 : \n",
      "y  =  -0.20312543576\n",
      "x  =  -0.176758193714\n",
      "mu  =  -0.0119536590133\n",
      "lambda  =  -0.165535635482\n",
      "\n",
      "Eigenvalues = \n",
      "\n",
      "     (0.000000,0.000000)\n",
      "     (-0.859626,0.000000)\n",
      "\n",
      "\n",
      "Detected closed curve.  Stopping continuation...\n",
      "\n"
     ]
    }
   ],
   "source": [
    "# Two-parameter bifurcation\n",
    "namefold1 = 'F01'\n",
    "PCargs = args(name=namefold1)\n",
    "PCargs.type = 'LP-C'\n",
    "PCargs.initpoint = 'EQ1:LP2'\n",
    "PCargs.freepars = ['lambda', 'mu']\n",
    "PCargs.StepSize = 1e-2\n",
    "PCargs.MaxNumPoints = 200\n",
    "PCargs.MaxStepSize = 5e-2\n",
    "PCargs.MinStepSize = 1e-4\n",
    "PCargs.SaveEigen = True\n",
    "PCargs.SaveJacobian = True\n",
    "PCargs.LocBifPoints = 'all'\n",
    "PCargs.StopAtPoints = ['B']\n",
    "PCargs.verbosity = 2\n",
    "PC.newCurve(PCargs)\n",
    "\n",
    "PC.curves[namefold1].forward()"
   ]
  },
  {
   "cell_type": "code",
   "execution_count": 29,
   "metadata": {},
   "outputs": [
    {
     "data": {
      "image/png": "[encoded data removed]",
      "text/plain": [
       "<matplotlib.figure.Figure at 0x7f0b7e6a7c10>"
      ]
     },
     "metadata": {
      "needs_background": "light"
     },
     "output_type": "display_data"
    }
   ],
   "source": [
    "PC[namefold1].display(('mu', 'lambda'), stability=True, linewidth=3)\n",
    "PC.plot.toggleLabels('off')\n",
    "PC.plot.fig1.toggleAll('off', bytype=['P','BT','CP'])\n",
    "PC.plot.fig1.axes1.axes.set_xlim((-0.1, 1.4))\n",
    "PC.plot.fig1.axes1.axes.set_xlabel('$\\mu$', fontsize=16)\n",
    "PC.plot.fig1.axes1.axes.set_ylim((-0.3, 1.5))\n",
    "PC.plot.fig1.axes1.axes.set_ylabel('$\\lambda$', fontsize=16)\n",
    "PC.plot.fig1.axes1.axes.set_title('')\n",
    "plt.axvline(x=0.5, lw=3, color='g')\n",
    "plt.savefig(dir + 'Example3TwoParBif.pdf', bbox_inches='tight')\n",
    "plt.show()"
   ]
  },
  {
   "cell_type": "markdown",
   "metadata": {},
   "source": [
    "**Extended system**"
   ]
  },
  {
   "cell_type": "code",
   "execution_count": 30,
   "metadata": {},
   "outputs": [],
   "source": [
    "xstr = 'mu - x**2 + x*y - x*y**2'\n",
    "ystr = 'lambda -  y - x**2 + y*x**2'\n",
    "mustr = 'mu - 0.5'\n",
    "params = {'lambda':0.5}\n",
    "ics = {'x': 0.1, 'y': 0.1, 'mu': 0.6}\n",
    "DSargs = args(name='EX32')\n",
    "DSargs.pars = params\n",
    "DSargs.tdata = [0, 10]\n",
    "DSargs.pdomain = {'lambda': [0, 1.5]}\n",
    "DSargs.xdomain = {'x': [-1e4, 1e4], 'y': [-1e4, 1e4], 'mu': [-4, 4]}\n",
    "DSargs.varspecs = {'x': xstr, 'y': ystr, 'mu': mustr}\n",
    "DSargs.ics = ics\n",
    "DS = Generator.Vode_ODEsystem(DSargs)"
   ]
  },
  {
   "cell_type": "code",
   "execution_count": 31,
   "metadata": {},
   "outputs": [
    {
     "data": {
      "text/plain": [
       "({'mu': 0.5, 'x': -0.6542548769595159, 'y': 0.12579855937382364},\n",
       " {'mu': 0.5, 'x': 0.70710678118647341, 'y': 5.7000696238307165e-14},\n",
       " {'mu': 0.5, 'x': -0.70710678118654724, 'y': 4.9590562512261009e-16},\n",
       " {'mu': 0.5, 'x': -1.3496175169788096, 'y': 1.6086668495344683})"
      ]
     },
     "execution_count": 31,
     "metadata": {},
     "output_type": "execute_result"
    }
   ],
   "source": [
    "fps = pp.find_fixedpoints(DS, n=4, eps=1e-8)\n",
    "fps"
   ]
  },
  {
   "cell_type": "code",
   "execution_count": 32,
   "metadata": {},
   "outputs": [
    {
     "name": "stdout",
     "output_type": "stream",
     "text": [
      "B Point found \n",
      "========================== \n",
      "0 : \n",
      "mu  =  0.5\n",
      "x  =  -1.15599641532\n",
      "y  =  -0.486645388438\n",
      "lambda  =  1.5000000424\n",
      "\n",
      "\n",
      "Checking...\n",
      "  |q| = 1.000000\n",
      "  <p,q> = 1.000000\n",
      "  |Aq| = 0.000001\n",
      "  |transpose(A)p| = 0.000002\n",
      "\n",
      "LP Point found \n",
      "========================== \n",
      "0 : \n",
      "mu  =  0.5\n",
      "x  =  -0.679284141038\n",
      "y  =  0.0604375599575\n",
      "lambda  =  0.493976985613\n",
      "\n",
      "Eigenvalues = \n",
      "\n",
      "     (-0.000001,0.000000)\n",
      "     (0.876781,0.000000)\n",
      "     (1.000000,0.000000)\n",
      "\n",
      "\n",
      "a = 2.2712126763675275\n",
      "\n",
      "\n",
      "Checking...\n",
      "  |q| = 1.000000\n",
      "  <p,q> = 1.000000\n",
      "  |Aq| = 0.000000\n",
      "  |transpose(A)p| = 0.000000\n",
      "\n",
      "LP Point found \n",
      "========================== \n",
      "0 : \n",
      "mu  =  0.5\n",
      "x  =  -0.842918545643\n",
      "y  =  1.20692391392\n",
      "lambda  =  1.05990205733\n",
      "\n",
      "Eigenvalues = \n",
      "\n",
      "     (0.000000,0.000000)\n",
      "     (1.146607,0.000000)\n",
      "     (1.000000,0.000000)\n",
      "\n",
      "\n",
      "a = 1.7965472532180888\n",
      "\n",
      "B Point found \n",
      "========================== \n",
      "0 : \n",
      "mu  =  0.5\n",
      "x  =  -1.54880632376\n",
      "y  =  1.71489796418\n",
      "lambda  =  -7.58444257289e-09\n",
      "\n"
     ]
    }
   ],
   "source": [
    "PC = ContClass(DS)\n",
    "name1 = 'EQ1'\n",
    "PCargs = args(name=name1)\n",
    "PCargs.type = 'EP-C'\n",
    "PCargs.initpoint = {'x': -0.70710678118647341, 'y': 0.0, 'mu': 0.5}\n",
    "PCargs.freepars = ['lambda']\n",
    "PCargs.StepSize = 1e-3\n",
    "PCargs.MaxNumPoints = 800\n",
    "PCargs.MaxStepSize = 5e-2\n",
    "PCargs.MinStepSize = 1e-6\n",
    "PCargs.MaxTestIters = 40\n",
    "PCargs.LocBifPoints = 'all'\n",
    "PCargs.SaveEigen = True\n",
    "PCargs.StopAtPoints = ['B']\n",
    "PCargs.verbosity = 2\n",
    "\n",
    "PC.newCurve(PCargs)\n",
    "PC.curves[name1].backward()\n",
    "PC.curves[name1].forward()"
   ]
  },
  {
   "cell_type": "code",
   "execution_count": 33,
   "metadata": {},
   "outputs": [
    {
     "data": {
      "image/png": "[encoded data removed]",
      "text/plain": [
       "<matplotlib.figure.Figure at 0x7f0b7dc2be90>"
      ]
     },
     "metadata": {
      "needs_background": "light"
     },
     "output_type": "display_data"
    }
   ],
   "source": [
    "PC['EQ1'].display(('lambda', 'x'), stability=True, linewidth=3)\n",
    "PC.plot.toggleLabels('off')\n",
    "PC.plot.fig1.toggleAll('off', bytype=['P','B'])\n",
    "PC.plot.fig1.axes1.axes.set_xlim((0, 1.5))\n",
    "PC.plot.fig1.axes1.axes.set_xlabel('$\\lambda$', fontsize=16)\n",
    "PC.plot.fig1.axes1.axes.set_ylabel('$x$', fontsize=16)\n",
    "PC.plot.fig1.axes1.axes.set_title('')\n",
    "plt.savefig(dir + 'Example3ExtSysBifX.pdf', bbox_inches='tight')\n",
    "plt.show()"
   ]
  },
  {
   "cell_type": "code",
   "execution_count": 34,
   "metadata": {},
   "outputs": [
    {
     "data": {
      "image/png": "[encoded data removed]",
      "text/plain": [
       "<matplotlib.figure.Figure at 0x7f0b7ed90810>"
      ]
     },
     "metadata": {
      "needs_background": "light"
     },
     "output_type": "display_data"
    }
   ],
   "source": [
    "PC['EQ1'].display(('lambda', 'y'), stability=True, linewidth=3)\n",
    "PC.plot.toggleLabels('off')\n",
    "PC.plot.fig1.toggleAll('off', bytype=['P','B'])\n",
    "PC.plot.fig1.axes1.axes.set_xlim((0, 1.5))\n",
    "PC.plot.fig1.axes1.axes.set_xlabel('$\\lambda$', fontsize=16)\n",
    "PC.plot.fig1.axes1.axes.set_ylabel('$y$', fontsize=16)\n",
    "PC.plot.fig1.axes1.axes.set_title('')\n",
    "plt.savefig(dir + 'Example3ExtSysBifY.pdf', bbox_inches='tight')\n",
    "plt.show()"
   ]
  },
  {
   "cell_type": "code",
   "execution_count": null,
   "metadata": {},
   "outputs": [],
   "source": []
  },
  {
   "cell_type": "code",
   "execution_count": null,
   "metadata": {},
   "outputs": [],
   "source": []
  }
 ],
 "metadata": {
  "@webio": {
   "lastCommId": null,
   "lastKernelId": null
  },
  "kernelspec": {
   "display_name": "Python 3",
   "language": "python",
   "name": "python3"
  },
  "language_info": {
   "codemirror_mode": {
    "name": "ipython",
    "version": 3
   },
   "file_extension": ".py",
   "mimetype": "text/x-python",
   "name": "python",
   "nbconvert_exporter": "python",
   "pygments_lexer": "ipython3",
   "version": "3.8.2"
  }
 },
 "nbformat": 4,
 "nbformat_minor": 2
}
