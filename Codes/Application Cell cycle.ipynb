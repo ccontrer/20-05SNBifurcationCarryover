{
 "cells": [
  {
   "cell_type": "code",
   "execution_count": 1,
   "metadata": {},
   "outputs": [],
   "source": [
    "import numpy as np\n",
    "import PyDSTool as dst\n",
    "from PyDSTool.Toolbox import phaseplane as pp\n",
    "# from scipy.optimize import fsolve"
   ]
  },
  {
   "cell_type": "code",
   "execution_count": 2,
   "metadata": {},
   "outputs": [],
   "source": [
    "import matplotlib as mpl\n",
    "from matplotlib import pyplot as plt\n",
    "from IPython.display import display, Math"
   ]
  },
  {
   "cell_type": "code",
   "execution_count": 3,
   "metadata": {},
   "outputs": [],
   "source": [
    "# from __future__ import print_function\n",
    "# from ipywidgets import interact, interactive, fixed, interact_manual\n",
    "# import ipywidgets as widgets"
   ]
  },
  {
   "cell_type": "code",
   "execution_count": 4,
   "metadata": {},
   "outputs": [],
   "source": [
    "mpl.rcParams['figure.figsize'] = [6, 4]\n",
    "mpl.rcParams['font.size'] = 18\n",
    "mpl.rcParams['lines.linewidth'] = 3\n",
    "mpl.rcParams['lines.markersize'] = 8"
   ]
  },
  {
   "cell_type": "code",
   "execution_count": 5,
   "metadata": {},
   "outputs": [],
   "source": [
    "figdir = './figures/'\n",
    "plt.rc('text', usetex=True)"
   ]
  },
  {
   "cell_type": "markdown",
   "metadata": {},
   "source": [
    "# Carryover of a saddle-node bifurcation\n",
    "# Application: cell cycle"
   ]
  },
  {
   "cell_type": "markdown",
   "metadata": {},
   "source": [
    "The gen activation model is\n",
    "$$\n",
    "\\begin{aligned}\n",
    "    \\frac{dY}{dt} &= k_{1} - (k_{2p} + k_{2pp}P)Y, \\\\\n",
    "    \\frac{dP}{dt} &= \\frac{(k_{3p}+k_{3pp}A)(1-P)}{J_{3}+(1-P)} - k_{4}m\\frac{YP}{J_{4}+P}, \\\\\n",
    "    \\frac{dA}{dt} &= k_{5p} + k_{5pp}\\frac{(mY/J_{5})^{n}}{1+(mY/J_{5})^{n}} - k_{6}A,\n",
    "\\end{aligned}\n",
    "$$\n",
    "where $k_1, k_{2p}, k_{pp},k_{3p}, k_{3pp}, k_{4}, k_{5p}, k_{5pp}, k_{6}, J_{3}, J_{4}0$ are non-negative rate (add references here in markdown syntax: Segel2013, TysonNovak2011).\n"
   ]
  },
  {
   "cell_type": "markdown",
   "metadata": {},
   "source": [
    "## 2. Bifurcation diagram"
   ]
  },
  {
   "cell_type": "markdown",
   "metadata": {},
   "source": [
    "We can construct the bifurcation diagram using continuation and the `PyDSTool` library of python."
   ]
  },
  {
   "cell_type": "code",
   "execution_count": 6,
   "metadata": {},
   "outputs": [],
   "source": [
    "# dynamical system\n",
    "Ystr = 'k1 - (k2p + k2pp*P)*Y'\n",
    "Pstr = '(k3p + k3pp*A)*(1 - P)/(J3 + 1 - P) - k4*m*Y*P/(J4 + P)'\n",
    "Astr = 'k5p + k5pp*(m*Y/J5)**n/(1 + (m*Y/J5)**n) - k6*A'\n",
    "params = {'k1': 0.04,\n",
    "          'k2p':  0.04,\n",
    "          'k2pp':  1.0,\n",
    "          'k3p':  1.0,\n",
    "          'k3pp':  10.0,\n",
    "          'k4':  35.0,\n",
    "          'k5p':  0.005,\n",
    "          'k5pp':  0.2,\n",
    "          'k6':  0.1,\n",
    "          'J3':  0.04,\n",
    "          'J4':  0.04,\n",
    "          'J5':  0.3,\n",
    "          'm': 1.0,\n",
    "          'n': 4}\n",
    "ics = {'Y': 1.0, 'P': 0.5, 'A': 0.1}\n",
    "DSargs = dst.args(name='CellCycle')\n",
    "DSargs.pars = params\n",
    "DSargs.tdata = [0, 2]\n",
    "DSargs.pdomain = {'m': [0, 2.0], 'k3pp': [0, 100.0]}\n",
    "DSargs.xdomain = {'Y': [0, 5.0], 'P': [0, 10.0], 'A': [0, 10.0]}\n",
    "DSargs.varspecs = {'Y': Ystr, 'P': Pstr, 'A': Astr}\n",
    "DSargs.ics = ics\n",
    "DS = dst.Generator.Vode_ODEsystem(DSargs)"
   ]
  },
  {
   "cell_type": "code",
   "execution_count": 7,
   "metadata": {},
   "outputs": [
    {
     "data": {
      "text/plain": [
       "({'A': 0.5420835741849908, 'P': 0.1364100558653051, 'Y': 0.22674444381187284},)"
      ]
     },
     "execution_count": 7,
     "metadata": {},
     "output_type": "execute_result"
    }
   ],
   "source": [
    "fps = pp.find_fixedpoints(DS, n=4, eps=1e-8)\n",
    "fps"
   ]
  },
  {
   "cell_type": "code",
   "execution_count": 8,
   "metadata": {},
   "outputs": [
    {
     "name": "stdout",
     "output_type": "stream",
     "text": [
      "Checking...\n",
      "  |q| = 1.000000\n",
      "  |<p,q> - 1| =  2.2439561642579105e-16\n",
      "  |Aq - iwq| = 0.000000\n",
      "  |A*p + iwp| = 0.000000\n",
      "\n",
      "H Point found \n",
      "========================== \n",
      "0 : \n",
      "A  =  0.3736425900480611\n",
      "P  =  0.07504313742452423\n",
      "Y  =  0.34769566351789216\n",
      "m  =  0.5719350903526165\n",
      "\n",
      "Eigenvalues = \n",
      "\n",
      "     (-21.454000,0.000000)\n",
      "     (-0.000000,0.196742)\n",
      "     (-0.000000,-0.196742)\n",
      "\n",
      "\n",
      "w = 0.19674244175165728\n",
      "l1 = -19.03987569948061\n",
      "\n",
      "\n",
      "Checking...\n",
      "  |q| = 1.000000\n",
      "  <p,q> = 1.000000\n",
      "  |Aq| = 0.000000\n",
      "  |transpose(A)p| = 0.000000\n",
      "\n",
      "LP Point found \n",
      "========================== \n",
      "0 : \n",
      "A  =  0.05877906321238243\n",
      "P  =  0.051553019189486536\n",
      "Y  =  0.43690530748322265\n",
      "m  =  0.1769359636582977\n",
      "\n",
      "Eigenvalues = \n",
      "\n",
      "     (-13.094156,0.000000)\n",
      "     (-0.074183,0.000000)\n",
      "     (0.000000,0.000000)\n",
      "\n",
      "\n",
      "a = 0.38496960525991564\n",
      "\n",
      "Neutral saddle found!\n",
      "\n",
      "Neutral saddle found!\n",
      "\n",
      "\n",
      "Checking...\n",
      "  |q| = 1.000000\n",
      "  <p,q> = 1.000000\n",
      "  |Aq| = 0.000000\n",
      "  |transpose(A)p| = 0.000001\n",
      "\n",
      "LP Point found \n",
      "========================== \n",
      "0 : \n",
      "A  =  0.05044322270606754\n",
      "P  =  0.8268816067902778\n",
      "Y  =  0.04614240247650921\n",
      "m  =  0.7933103435606997\n",
      "\n",
      "Eigenvalues = \n",
      "\n",
      "     (-2.266645,0.000000)\n",
      "     (-0.093355,0.000000)\n",
      "     (-0.000000,0.000000)\n",
      "\n",
      "\n",
      "a = 3.117239101162613\n",
      "\n",
      "B Point found \n",
      "========================== \n",
      "0 : \n",
      "A  =  0.049999999999999996\n",
      "P  =  0.9999999997128489\n",
      "Y  =  0.038461538472157955\n",
      "m  =  8.319177449918097e-09\n",
      "\n",
      "B Point found \n",
      "========================== \n",
      "0 : \n",
      "A  =  0.7127848762879377\n",
      "P  =  0.27781611122189204\n",
      "Y  =  0.1258589435451021\n",
      "m  =  2.000000021300353\n",
      "\n"
     ]
    }
   ],
   "source": [
    "# bifurcation diagram for s\n",
    "# first branch\n",
    "PC = dst.ContClass(DS)\n",
    "name1 = 'EQ1'\n",
    "PCargs = dst.args(name=name1)\n",
    "PCargs.type = 'EP-C'\n",
    "PCargs.initpoint = fps[0]\n",
    "PCargs.freepars = ['m']\n",
    "PCargs.StepSize = 1e-3\n",
    "PCargs.MaxNumPoints = 800\n",
    "PCargs.MaxStepSize = 5e-3\n",
    "PCargs.MinStepSize = 1e-6\n",
    "PCargs.MaxTestIters = 20\n",
    "PCargs.LocBifPoints = 'all'\n",
    "PCargs.SaveEigen = True\n",
    "PCargs.StopAtPoints = ['B']\n",
    "PCargs.verbosity = 2\n",
    "\n",
    "PC.newCurve(PCargs)\n",
    "PC.curves[name1].backward()\n",
    "PC.curves[name1].forward()"
   ]
  },
  {
   "cell_type": "markdown",
   "metadata": {},
   "source": [
    "Indeed there is a bifurcation point (`LP1`) at which a critical transition drives gen activation."
   ]
  },
  {
   "cell_type": "code",
   "execution_count": 9,
   "metadata": {},
   "outputs": [
    {
     "data": {
      "image/png": "[encoded data removed]",
      "text/plain": [
       "<Figure size 432x288 with 1 Axes>"
      ]
     },
     "metadata": {
      "needs_background": "light"
     },
     "output_type": "display_data"
    }
   ],
   "source": [
    "PC[name1].display(('m', 'Y'), stability=True, linewidth=3)\n",
    "PC.plot.fig1.toggleAll('off', bytype=['P','B'])\n",
    "PC.plot.fig1.axes1.axes.set_xlabel('$m$', fontsize=16)\n",
    "PC.plot.fig1.axes1.axes.set_xlim((0.0, 1.2))\n",
    "PC.plot.fig1.axes1.axes.set_ylabel('$Y$', fontsize=16)\n",
    "# PC.plot.fig1.axes1.axes.set_ylim((0.0, 2.6))\n",
    "PC.plot.fig1.axes1.axes.set_title('')\n",
    "plt.savefig(figdir + 'ApplicationCellCycleBifurcation.pdf', bbox_inches='tight')\n",
    "plt.show()"
   ]
  },
  {
   "cell_type": "code",
   "execution_count": null,
   "metadata": {},
   "outputs": [],
   "source": []
  },
  {
   "cell_type": "code",
   "execution_count": 10,
   "metadata": {
    "scrolled": false
   },
   "outputs": [
    {
     "name": "stdout",
     "output_type": "stream",
     "text": [
      "\n",
      "Checking...\n",
      "  <b,c> = 0.000000\n",
      "\n",
      "\n",
      "BT Point found \n",
      "========================== \n",
      "0 : \n",
      "A  =  0.053230657091656385\n",
      "P  =  0.8134649721466989\n",
      "Y  =  0.046867769979345504\n",
      "m  =  1.2837714283140627\n",
      "k3pp  =  27.0065422141586\n",
      "\n",
      "Eigenvalues = \n",
      "\n",
      "     (-2.969081,0.000000)\n",
      "     (-0.000000,0.000004)\n",
      "     (-0.000000,-0.000004)\n",
      "\n",
      "\n",
      "\n",
      "Checking...\n",
      "  |a| = -21.805740\n",
      "\n",
      "\n",
      "CP Point found \n",
      "========================== \n",
      "0 : \n",
      "A  =  0.0639712152647502\n",
      "P  =  0.7204132358497489\n",
      "Y  =  0.05260297705799489\n",
      "m  =  1.651669284376052\n",
      "k3pp  =  35.845896562609376\n",
      "\n",
      "Eigenvalues = \n",
      "\n",
      "     (-2.885281,0.000000)\n",
      "     (-0.000000,0.000000)\n",
      "     (0.524810,0.000000)\n",
      "\n",
      "\n",
      "\n",
      "Checking...\n",
      "  <b,c> = -0.000000\n",
      "\n",
      "\n",
      "BT Point found \n",
      "========================== \n",
      "0 : \n",
      "A  =  0.06449787618270868\n",
      "P  =  0.07573219179246224\n",
      "Y  =  0.345625528908416\n",
      "m  =  0.2537312442006215\n",
      "k3pp  =  16.984032816354794\n",
      "\n",
      "Eigenvalues = \n",
      "\n",
      "     (-9.472290,0.000000)\n",
      "     (-0.000000,0.000000)\n",
      "     (0.000000,0.000000)\n",
      "\n",
      "\n",
      "B Point found \n",
      "========================== \n",
      "0 : \n",
      "A  =  0.05221861840423045\n",
      "P  =  0.04013404097665594\n",
      "Y  =  0.49916364521854717\n",
      "m  =  0.10971397994158875\n",
      "k3pp  =  1.6262633974339452e-08\n",
      "\n",
      "B Point found \n",
      "========================== \n",
      "0 : \n",
      "A  =  0.05008611307113405\n",
      "P  =  0.8279565008859441\n",
      "Y  =  0.0460852588340211\n",
      "m  =  0.5273193028484451\n",
      "k3pp  =  6.2280595060439436e-09\n",
      "\n"
     ]
    }
   ],
   "source": [
    "# Two-parameter bifurcation\n",
    "namefold1 = 'F01'\n",
    "PCargs = dst.args(name=namefold1)\n",
    "PCargs.type = 'LP-C'\n",
    "PCargs.initpoint = 'EQ1:LP1'\n",
    "PCargs.freepars = ['m', 'k3pp']\n",
    "PCargs.StepSize = 1e-2\n",
    "PCargs.MaxNumPoints = 2000\n",
    "PCargs.MaxStepSize = 5e-2\n",
    "PCargs.MinStepSize = 1e-4\n",
    "PCargs.SaveEigen = True\n",
    "PCargs.SaveJacobian = True\n",
    "PCargs.LocBifPoints = 'all'\n",
    "PCargs.StopAtPoints = ['B']\n",
    "PCargs.verbosity = 2\n",
    "PC.newCurve(PCargs)\n",
    "PC.curves[namefold1].forward()\n",
    "PC.curves[namefold1].backward()"
   ]
  },
  {
   "cell_type": "code",
   "execution_count": null,
   "metadata": {},
   "outputs": [],
   "source": []
  },
  {
   "cell_type": "code",
   "execution_count": 11,
   "metadata": {},
   "outputs": [
    {
     "data": {
      "image/png": "[encoded data removed]",
      "text/plain": [
       "<Figure size 432x288 with 1 Axes>"
      ]
     },
     "metadata": {
      "needs_background": "light"
     },
     "output_type": "display_data"
    }
   ],
   "source": [
    "PC[namefold1].display(('m', 'k3pp'), stability=True, linewidth=3)\n",
    "# PC.plot.toggleLabels('off')\n",
    "# PC.plot.fig1.toggleAll('off', bytype=['P', 'BT', 'CP'])\n",
    "PC.plot.fig1.axes1.axes.set_xlim((0.0, 2.0))\n",
    "PC.plot.fig1.axes1.axes.set_xlabel('$m$', fontsize=16)\n",
    "# PC.plot.fig1.axes1.axes.set_ylim((0.0, 0.15))\n",
    "PC.plot.fig1.axes1.axes.set_ylabel('$k_{*}$', fontsize=16)\n",
    "PC.plot.fig1.axes1.axes.set_title('')\n",
    "# plt.savefig(dir + 'ApplicationCellCyleTwoParBifurcation.pdf', bbox_inches='tight')\n",
    "plt.show()"
   ]
  },
  {
   "cell_type": "code",
   "execution_count": null,
   "metadata": {},
   "outputs": [],
   "source": []
  },
  {
   "cell_type": "code",
   "execution_count": null,
   "metadata": {},
   "outputs": [],
   "source": []
  },
  {
   "cell_type": "code",
   "execution_count": null,
   "metadata": {},
   "outputs": [],
   "source": []
  },
  {
   "cell_type": "code",
   "execution_count": null,
   "metadata": {},
   "outputs": [],
   "source": []
  },
  {
   "cell_type": "code",
   "execution_count": null,
   "metadata": {},
   "outputs": [],
   "source": []
  },
  {
   "cell_type": "code",
   "execution_count": null,
   "metadata": {},
   "outputs": [],
   "source": []
  },
  {
   "cell_type": "code",
   "execution_count": null,
   "metadata": {},
   "outputs": [],
   "source": []
  },
  {
   "cell_type": "code",
   "execution_count": null,
   "metadata": {},
   "outputs": [],
   "source": []
  },
  {
   "cell_type": "code",
   "execution_count": null,
   "metadata": {},
   "outputs": [],
   "source": []
  },
  {
   "cell_type": "code",
   "execution_count": null,
   "metadata": {},
   "outputs": [],
   "source": []
  },
  {
   "cell_type": "code",
   "execution_count": null,
   "metadata": {},
   "outputs": [],
   "source": []
  },
  {
   "cell_type": "code",
   "execution_count": null,
   "metadata": {},
   "outputs": [],
   "source": []
  },
  {
   "cell_type": "code",
   "execution_count": null,
   "metadata": {},
   "outputs": [],
   "source": []
  },
  {
   "cell_type": "code",
   "execution_count": null,
   "metadata": {},
   "outputs": [],
   "source": []
  },
  {
   "cell_type": "code",
   "execution_count": null,
   "metadata": {},
   "outputs": [],
   "source": []
  },
  {
   "cell_type": "code",
   "execution_count": null,
   "metadata": {},
   "outputs": [],
   "source": []
  },
  {
   "cell_type": "code",
   "execution_count": null,
   "metadata": {},
   "outputs": [],
   "source": []
  },
  {
   "cell_type": "code",
   "execution_count": null,
   "metadata": {},
   "outputs": [],
   "source": []
  },
  {
   "cell_type": "code",
   "execution_count": null,
   "metadata": {},
   "outputs": [],
   "source": []
  },
  {
   "cell_type": "code",
   "execution_count": null,
   "metadata": {},
   "outputs": [],
   "source": []
  },
  {
   "cell_type": "code",
   "execution_count": null,
   "metadata": {},
   "outputs": [],
   "source": []
  },
  {
   "cell_type": "code",
   "execution_count": null,
   "metadata": {},
   "outputs": [],
   "source": []
  },
  {
   "cell_type": "code",
   "execution_count": null,
   "metadata": {},
   "outputs": [],
   "source": []
  }
 ],
 "metadata": {
  "@webio": {
   "lastCommId": null,
   "lastKernelId": null
  },
  "kernelspec": {
   "display_name": "Python 3",
   "language": "python",
   "name": "python3"
  },
  "language_info": {
   "codemirror_mode": {
    "name": "ipython",
    "version": 3
   },
   "file_extension": ".py",
   "mimetype": "text/x-python",
   "name": "python",
   "nbconvert_exporter": "python",
   "pygments_lexer": "ipython3",
   "version": "3.8.2"
  }
 },
 "nbformat": 4,
 "nbformat_minor": 2
}
